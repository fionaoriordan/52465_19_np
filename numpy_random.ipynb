{
 "cells": [
  {
   "cell_type": "markdown",
   "metadata": {},
   "source": [
    "# Module 52465 numpy.random Assigmnent.\n",
    "## Fiona O'Riordan \n",
    "## Due Date 11th November 2019"
   ]
  },
  {
   "cell_type": "markdown",
   "metadata": {},
   "source": [
    "## 1. Introduction\n",
    "The purpose of this assignment, for Module 52465 Programming for Data Analysis, is to explain the overall purpose of Python numpy package **numpy.random** and the use of the **“Simple random data”** and **“Permutations” functions**, to provide a detailed and comprehensive exploration of five its **distributions** namely: **INSERT NAMES HERE** and lastly, use of **seeds** in generating pseudorandom numbers will be examined.\n",
    "\n",
    "\n",
    "Numpy.random is an often used and important subpackage of the Numpy package in Python as many other packages are dependent on it.  However, interacting with the package directly is rare. Instead, typically the numpy subpackage objects are used via other packages such as Pandas and SciPy. Numpy.random is used to generate random numbers. \n",
    "\n",
    "To begin with Python numpy package will be briefly outlined. Then, an indept look at the numpy subpackage numpy.random will be provided. Next, the use of the “Simple random data\" and “Permutations” functions** will be explored and then the distributions **INSERT NAMES HERE** will be examined. Finally, a summary of the key learnings will be highlighted."
   ]
  },
  {
   "cell_type": "code",
   "execution_count": null,
   "metadata": {},
   "outputs": [],
   "source": []
  },
  {
   "cell_type": "markdown",
   "metadata": {},
   "source": [
    "## 2. NumPy\n",
    "The python package NumPy is the core package for scientifc computing within Python (NumPy,Undateda). The package includes: a N-dimensional array object, an advanced broadcasting functions, the ability to integrate C/C++ and Forstran Code along with capacity for linear algebra, Fourier transform and random number generation (NumPy, Undateda). NumPy can be used not only for scientific uses but also as  an 'efficient multi-dimensional container of generic data' (NumPy, Undateda, Unpaged). Therefore, it can be easily integreated with numberous other databases (NumPy, Undateda).\n",
    "\n",
    "NumPy's primary object is the homogeneous multidimensional array . It is a table, typically containing numbers, of the same data type with a tuple non negative interger index  (NumPy, Undatedb).  In NumPy dimensions are refered to as axes (NumPy, Undatedb). Then, unlike the Standard Python Library Class array.array which can have only one dimension, the NumPy array (full name ndarray) can have multiple dimensions which are called axes. \n"
   ]
  },
  {
   "cell_type": "markdown",
   "metadata": {},
   "source": [
    "## 3. numpy.random : \n",
    "\n",
    "### Random Numbers & Multidimensional"
   ]
  },
  {
   "cell_type": "code",
   "execution_count": 1,
   "metadata": {},
   "outputs": [
    {
     "data": {
      "text/plain": [
       "array([[0.8621297 , 0.65548415],\n",
       "       [0.17042163, 0.64025398],\n",
       "       [0.17815356, 0.2474229 ]])"
      ]
     },
     "execution_count": 1,
     "metadata": {},
     "output_type": "execute_result"
    }
   ],
   "source": [
    "import numpy as np\n",
    "np.random.rand(3,2)"
   ]
  },
  {
   "cell_type": "markdown",
   "metadata": {},
   "source": [
    "Note the output generated is an array within which are 3 arrays with 2 elements in each or put simply, 3 rows and 2 columns.  Lets rerun the script again."
   ]
  },
  {
   "cell_type": "code",
   "execution_count": 2,
   "metadata": {},
   "outputs": [
    {
     "data": {
      "text/plain": [
       "array([[0.56155411, 0.43133455],\n",
       "       [0.46255386, 0.41109762],\n",
       "       [0.90799556, 0.83789971]])"
      ]
     },
     "execution_count": 2,
     "metadata": {},
     "output_type": "execute_result"
    }
   ],
   "source": [
    "#Rerun the function \n",
    "np.random.rand(3,2)"
   ]
  },
  {
   "cell_type": "raw",
   "metadata": {},
   "source": []
  },
  {
   "cell_type": "markdown",
   "metadata": {},
   "source": [
    "Note the same script generates different different random numbers. Therefore, we now know that np.random.rand generates random numbers.  Now lets change the arguments:"
   ]
  },
  {
   "cell_type": "code",
   "execution_count": 3,
   "metadata": {},
   "outputs": [
    {
     "data": {
      "text/plain": [
       "array([[0.79892649, 0.012268  ],\n",
       "       [0.48500655, 0.20054704],\n",
       "       [0.43254752, 0.83435317],\n",
       "       [0.35182082, 0.34736856]])"
      ]
     },
     "execution_count": 3,
     "metadata": {},
     "output_type": "execute_result"
    }
   ],
   "source": [
    "#Rerun the function with different arguments.\n",
    "np.random.rand(4,2)"
   ]
  },
  {
   "cell_type": "markdown",
   "metadata": {},
   "source": [
    "Now the array generated has 4 rows and 2 colums of random numbers. We can also generate an array with say 4 columns & just one row."
   ]
  },
  {
   "cell_type": "code",
   "execution_count": 4,
   "metadata": {},
   "outputs": [
    {
     "data": {
      "text/plain": [
       "array([[0.61748977, 0.16785838],\n",
       "       [0.53295176, 0.04349862],\n",
       "       [0.95751709, 0.3807187 ],\n",
       "       [0.51229641, 0.5594235 ]])"
      ]
     },
     "execution_count": 4,
     "metadata": {},
     "output_type": "execute_result"
    }
   ],
   "source": [
    "np.random.rand(4,2)"
   ]
  },
  {
   "cell_type": "markdown",
   "metadata": {},
   "source": [
    "Now lets generate array without any arguments passed. "
   ]
  },
  {
   "cell_type": "code",
   "execution_count": 5,
   "metadata": {},
   "outputs": [
    {
     "data": {
      "text/plain": [
       "0.833439917138481"
      ]
     },
     "execution_count": 5,
     "metadata": {},
     "output_type": "execute_result"
    }
   ],
   "source": [
    "np.random.rand()"
   ]
  },
  {
   "cell_type": "markdown",
   "metadata": {},
   "source": [
    "Just one array with just one element is now generated.  Therefore the arguments passed are determining the shape of the arrays generated.\n",
    "\n",
    "We can also include more dimensions to create depth for example:"
   ]
  },
  {
   "cell_type": "code",
   "execution_count": 6,
   "metadata": {},
   "outputs": [
    {
     "data": {
      "text/plain": [
       "array([[[0.03259991, 0.18872832, 0.81006578],\n",
       "        [0.50795014, 0.2694704 , 0.64093036]],\n",
       "\n",
       "       [[0.52501212, 0.06537721, 0.12038731],\n",
       "        [0.71976503, 0.26465205, 0.45206775]],\n",
       "\n",
       "       [[0.92388191, 0.64084725, 0.75882833],\n",
       "        [0.79253777, 0.8091255 , 0.02300359]],\n",
       "\n",
       "       [[0.91327052, 0.68956484, 0.39786359],\n",
       "        [0.87147776, 0.3336228 , 0.78937165]]])"
      ]
     },
     "execution_count": 6,
     "metadata": {},
     "output_type": "execute_result"
    }
   ],
   "source": [
    "np.random.rand(4,2,3)"
   ]
  },
  {
   "cell_type": "markdown",
   "metadata": {},
   "source": [
    "Now we have an array with 4 rows, 2 columns and a depth of 3 ie an array with 3 dimensions. We can continue on creating every more complex arrays adding more and more dimensions:"
   ]
  },
  {
   "cell_type": "code",
   "execution_count": 7,
   "metadata": {},
   "outputs": [
    {
     "data": {
      "text/plain": [
       "array([[[[9.35587230e-02, 7.08616027e-01, 6.22641953e-02,\n",
       "          4.23213436e-01, 6.49479719e-01],\n",
       "         [5.98318914e-01, 1.22920747e-01, 8.71270404e-01,\n",
       "          4.96111608e-01, 6.90213875e-01],\n",
       "         [3.27752343e-01, 9.78889949e-01, 4.31851403e-01,\n",
       "          5.60038693e-01, 7.89530310e-01]],\n",
       "\n",
       "        [[2.98356298e-01, 5.59560555e-01, 5.17634333e-03,\n",
       "          5.20675306e-01, 3.11135577e-01],\n",
       "         [4.88823495e-02, 9.35412860e-01, 8.62211926e-01,\n",
       "          7.91402447e-01, 1.44337616e-01],\n",
       "         [1.16863826e-01, 5.67374180e-01, 3.90115696e-01,\n",
       "          5.79739766e-01, 7.54852983e-01]]],\n",
       "\n",
       "\n",
       "       [[[3.21250588e-02, 6.83193089e-02, 7.09762050e-03,\n",
       "          5.50433384e-01, 4.70635062e-01],\n",
       "         [2.67978047e-01, 6.76067219e-01, 5.57433417e-01,\n",
       "          3.98390690e-01, 5.25689598e-01],\n",
       "         [6.06671103e-01, 3.01837049e-01, 9.70478671e-01,\n",
       "          6.15009902e-01, 1.17743321e-01]],\n",
       "\n",
       "        [[5.61312438e-01, 7.61530001e-01, 6.59900979e-01,\n",
       "          8.71243117e-01, 1.06006764e-01],\n",
       "         [9.58484722e-01, 2.88933064e-01, 3.11466678e-01,\n",
       "          4.94132714e-01, 4.95482462e-01],\n",
       "         [7.82167824e-01, 3.36520146e-01, 8.74745993e-01,\n",
       "          9.20118603e-01, 6.11053995e-01]]],\n",
       "\n",
       "\n",
       "       [[[7.32815928e-01, 2.51525244e-01, 4.51372442e-01,\n",
       "          9.26410277e-01, 5.73296229e-01],\n",
       "         [8.86674022e-03, 7.64635351e-01, 4.34226653e-01,\n",
       "          5.17868621e-01, 6.43788326e-01],\n",
       "         [2.20053379e-01, 5.63756381e-01, 3.10024428e-02,\n",
       "          7.46835167e-01, 5.56671997e-01]],\n",
       "\n",
       "        [[5.65987984e-01, 3.86218393e-01, 2.84117907e-01,\n",
       "          1.36388459e-02, 1.64147436e-01],\n",
       "         [8.31393281e-01, 6.53170241e-01, 9.56055159e-01,\n",
       "          6.76072854e-01, 6.99906123e-01],\n",
       "         [2.76944784e-01, 3.77407162e-04, 7.35528868e-01,\n",
       "          9.34861238e-01, 9.67650503e-01]]],\n",
       "\n",
       "\n",
       "       [[[4.88817244e-01, 4.89681898e-02, 3.11321928e-01,\n",
       "          5.80606691e-01, 5.89977699e-01],\n",
       "         [2.01930235e-01, 4.95861020e-01, 3.89985255e-02,\n",
       "          8.33457198e-01, 7.52574146e-02],\n",
       "         [3.13503801e-01, 5.86308655e-01, 6.60510785e-01,\n",
       "          8.57463084e-01, 4.50499101e-01]],\n",
       "\n",
       "        [[5.99974081e-02, 9.11762883e-01, 4.02770206e-01,\n",
       "          7.81372473e-01, 6.70717078e-01],\n",
       "         [1.06980670e-01, 1.99636727e-01, 6.62188284e-01,\n",
       "          5.24153370e-01, 6.24638092e-01],\n",
       "         [4.67209284e-01, 9.88845157e-01, 2.80330423e-01,\n",
       "          4.28105808e-02, 8.72200924e-01]]]])"
      ]
     },
     "execution_count": 7,
     "metadata": {},
     "output_type": "execute_result"
    }
   ],
   "source": [
    "np.random.rand(4,2,3,5)"
   ]
  },
  {
   "cell_type": "markdown",
   "metadata": {},
   "source": [
    "Now lets go back and look at the numbers generated. An array witt the shape 4 rows, 2 colums each with depth of 3 and within that 5 elements has been generated So we can see that ever more complex and multidimensional arrays can be generated with the numpy.random subpackage/function.\n",
    "We can also generate an array with just one generate an array with a specified number of random values (10000 in this case) using the following syntax:"
   ]
  },
  {
   "cell_type": "code",
   "execution_count": 8,
   "metadata": {},
   "outputs": [
    {
     "data": {
      "text/plain": [
       "array([0.7352062 , 0.38750086, 0.52371571, ..., 0.97573358, 0.36947551,\n",
       "       0.47515827])"
      ]
     },
     "execution_count": 8,
     "metadata": {},
     "output_type": "execute_result"
    }
   ],
   "source": [
    "np.random.rand(10000)"
   ]
  },
  {
   "cell_type": "markdown",
   "metadata": {},
   "source": [
    "Using matplotlib.pyplot function we can generate a histogram to show the range of random numbers generated: \n"
   ]
  },
  {
   "cell_type": "code",
   "execution_count": 10,
   "metadata": {},
   "outputs": [
    {
     "data": {
      "image/png": "[encoded data removed]",
      "text/plain": [
       "<Figure size 432x288 with 1 Axes>"
      ]
     },
     "metadata": {
      "needs_background": "light"
     },
     "output_type": "display_data"
    }
   ],
   "source": [
    "# use the matploblib magic command to ensure the histogram is shown.\n",
    "%matplotlib inline\n",
    "# import the matplotlib pyplot libary and give it the alias plt\n",
    "import matplotlib.pyplot as plt\n",
    "\n",
    "x = np.random.rand(10000)\n",
    "plt.hist(x)\n",
    "plt.show()\n",
    "\n"
   ]
  },
  {
   "cell_type": "markdown",
   "metadata": {},
   "source": [
    "The histogram gives a visual representation of the numbers generated by random.rand above. The histogram has a continuous variable on the x axis.  The values are chopped up into a reasonable number of bins in this case 10. We can see from the diagram that the number of values generated between values 0.0 and 0.1 is just as likely as the number of values generated between values 0.7 and 0.8. This holds true for each bin displayed. "
   ]
  },
  {
   "cell_type": "markdown",
   "metadata": {},
   "source": [
    "## **4.“Permutations” functions**"
   ]
  },
  {
   "cell_type": "markdown",
   "metadata": {},
   "source": [
    "## 5. Distributions"
   ]
  },
  {
   "cell_type": "markdown",
   "metadata": {},
   "source": [
    "## 5. Seeds\n",
    "This sections examines the use of seeds in generating random numbers. "
   ]
  },
  {
   "cell_type": "markdown",
   "metadata": {},
   "source": [
    "## References\n",
    "NumPy (Undateda), https://numpy.org/#  \n",
    "NumPy (Undatedb), https://numpy.org/devdocs/user/quickstart.html\n",
    "\n",
    "NumPy (Updatedb), NumPy User Guide, Manual 1.15, Reference https://numpy.org/doc/1.15/reference/routines.random.html\n"
   ]
  },
  {
   "cell_type": "code",
   "execution_count": null,
   "metadata": {},
   "outputs": [],
   "source": []
  }
 ],
 "metadata": {
  "kernelspec": {
   "display_name": "Python 3",
   "language": "python",
   "name": "python3"
  },
  "language_info": {
   "codemirror_mode": {
    "name": "ipython",
    "version": 3
   },
   "file_extension": ".py",
   "mimetype": "text/x-python",
   "name": "python",
   "nbconvert_exporter": "python",
   "pygments_lexer": "ipython3",
   "version": "3.7.2"
  }
 },
 "nbformat": 4,
 "nbformat_minor": 2
}
