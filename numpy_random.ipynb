{
 "cells": [
  {
   "cell_type": "markdown",
   "metadata": {},
   "source": [
    "# Module 52465 numpy.random Assigmnent.\n",
    "## Fiona O'Riordan \n",
    "## Due Date 11th November 2019"
   ]
  },
  {
   "cell_type": "markdown",
   "metadata": {},
   "source": [
    "## 1. Introduction\n",
    "The purpose of this assignment, for Module 52465 Programming for Data Analysis, is to explain the overall purpose of Python numpy package **numpy.random** and the use of the **“Simple random data”** and **“Permutations” functions**, to provide a detailed and comprehensive exploration of five its **distributions** namely: **INSERT NAMES HERE** and lastly, use of **seeds** in generating pseudorandom numbers will be examined.\n",
    "\n",
    "\n",
    "Numpy.random is an often used and important subpackage of the Numpy package in Python as many other packages are dependent on it.  However, interacting with the package directly is rare. Instead, typically the numpy subpackage objects are used via other packages such as Pandas and SciPy. Numpy.random is used to generate random numbers according to different probabilities across different intervals. \n",
    "\n",
    "To begin with Python numpy package will be briefly outlined. Then, an indept look at the numpy subpackage numpy.random will be provided. Next, the use of the “Simple random data\" and “Permutations” functions** will be explored and then the distributions **INSERT NAMES HERE** will be examined. Finally, a summary of the key learnings will be highlighted."
   ]
  },
  {
   "cell_type": "code",
   "execution_count": null,
   "metadata": {},
   "outputs": [],
   "source": []
  },
  {
   "cell_type": "markdown",
   "metadata": {},
   "source": [
    "## 2. NumPy\n",
    "The python package NumPy is the core package for scientifc computing within Python (NumPy,Undateda). The package includes: a N-dimensional array object, an advanced broadcasting functions, the ability to integrate C/C++ and Forstran Code along with capacity for linear algebra, Fourier transform and random number generation (NumPy, Undateda). NumPy can be used not only for scientific uses but also as  an 'efficient multi-dimensional container of generic data' (NumPy, Undateda, Unpaged). Therefore, it can be easily integreated with numberous other databases (NumPy, Undateda).\n",
    "\n",
    "NumPy's primary object is the homogeneous multidimensional array . It is a table, typically containing numbers, of the same data type with a tuple non negative interger index  (NumPy, Undatedb).  In NumPy dimensions are refered to as axes (NumPy, Undatedb). Then, unlike the Standard Python Library Class array.array which can have only one dimension, the NumPy array (full name ndarray) can have multiple dimensions which are called axes. \n"
   ]
  },
  {
   "cell_type": "markdown",
   "metadata": {},
   "source": [
    "## 3. numpy.random : \n",
    "\n",
    "### Random Numbers & Multidimensional"
   ]
  },
  {
   "cell_type": "code",
   "execution_count": 1,
   "metadata": {},
   "outputs": [
    {
     "data": {
      "text/plain": [
       "array([[0.83981705, 0.27728769],\n",
       "       [0.47136503, 0.15920022],\n",
       "       [0.95973551, 0.61366829]])"
      ]
     },
     "execution_count": 1,
     "metadata": {},
     "output_type": "execute_result"
    }
   ],
   "source": [
    "import numpy as np\n",
    "np.random.rand(3,2)"
   ]
  },
  {
   "cell_type": "markdown",
   "metadata": {},
   "source": [
    "Note the output generated is an array within which are 3 arrays with 2 elements in each or put simply, 3 rows and 2 columns.  Lets rerun the script again."
   ]
  },
  {
   "cell_type": "code",
   "execution_count": 2,
   "metadata": {},
   "outputs": [
    {
     "data": {
      "text/plain": [
       "array([[0.91376378, 0.13496881],\n",
       "       [0.95781928, 0.5615338 ],\n",
       "       [0.50145807, 0.25669855]])"
      ]
     },
     "execution_count": 2,
     "metadata": {},
     "output_type": "execute_result"
    }
   ],
   "source": [
    "#Rerun the function \n",
    "np.random.rand(3,2)"
   ]
  },
  {
   "cell_type": "raw",
   "metadata": {},
   "source": []
  },
  {
   "cell_type": "markdown",
   "metadata": {},
   "source": [
    "Note the same script generates different different random numbers. Therefore, we now know that np.random.rand generates random numbers.  Now lets change the arguments:"
   ]
  },
  {
   "cell_type": "code",
   "execution_count": 3,
   "metadata": {},
   "outputs": [
    {
     "data": {
      "text/plain": [
       "array([[0.60686528, 0.39071011],\n",
       "       [0.10280395, 0.29873987],\n",
       "       [0.39450571, 0.99286032],\n",
       "       [0.45098139, 0.43847182]])"
      ]
     },
     "execution_count": 3,
     "metadata": {},
     "output_type": "execute_result"
    }
   ],
   "source": [
    "#Rerun the function with different arguments.\n",
    "np.random.rand(4,2)"
   ]
  },
  {
   "cell_type": "markdown",
   "metadata": {},
   "source": [
    "Now the array generated has 4 rows and 2 colums of random numbers. We can also generate an array with say 4 columns & just one row."
   ]
  },
  {
   "cell_type": "code",
   "execution_count": 4,
   "metadata": {},
   "outputs": [
    {
     "data": {
      "text/plain": [
       "array([[0.38308203, 0.48319065],\n",
       "       [0.13405908, 0.27011712],\n",
       "       [0.25358272, 0.53462639],\n",
       "       [0.14209616, 0.0996262 ]])"
      ]
     },
     "execution_count": 4,
     "metadata": {},
     "output_type": "execute_result"
    }
   ],
   "source": [
    "np.random.rand(4,2)"
   ]
  },
  {
   "cell_type": "markdown",
   "metadata": {},
   "source": [
    "Now lets generate array without any arguments passed. "
   ]
  },
  {
   "cell_type": "code",
   "execution_count": 5,
   "metadata": {},
   "outputs": [
    {
     "data": {
      "text/plain": [
       "0.408116769672363"
      ]
     },
     "execution_count": 5,
     "metadata": {},
     "output_type": "execute_result"
    }
   ],
   "source": [
    "np.random.rand()"
   ]
  },
  {
   "cell_type": "markdown",
   "metadata": {},
   "source": [
    "Just one array with just one element is now generated.  Therefore the arguments passed are determining the shape of the arrays generated.\n",
    "\n",
    "We can also include more dimensions to create depth for example:"
   ]
  },
  {
   "cell_type": "code",
   "execution_count": 6,
   "metadata": {},
   "outputs": [
    {
     "data": {
      "text/plain": [
       "array([[[0.34119981, 0.67987801, 0.81072736],\n",
       "        [0.47788993, 0.95924593, 0.80077404]],\n",
       "\n",
       "       [[0.38596439, 0.33485746, 0.25855494],\n",
       "        [0.2525149 , 0.0496812 , 0.10708197]],\n",
       "\n",
       "       [[0.45866927, 0.33156951, 0.67349921],\n",
       "        [0.91408152, 0.08925541, 0.05841797]],\n",
       "\n",
       "       [[0.31260587, 0.51327407, 0.03124813],\n",
       "        [0.80603888, 0.49303924, 0.60963145]]])"
      ]
     },
     "execution_count": 6,
     "metadata": {},
     "output_type": "execute_result"
    }
   ],
   "source": [
    "np.random.rand(4,2,3)"
   ]
  },
  {
   "cell_type": "markdown",
   "metadata": {},
   "source": [
    "Now we have an array with 4 rows, 2 columns and a depth of 3 ie an array with 3 dimensions. We can continue on creating every more complex arrays adding more and more dimensions:"
   ]
  },
  {
   "cell_type": "code",
   "execution_count": 7,
   "metadata": {},
   "outputs": [
    {
     "data": {
      "text/plain": [
       "array([[[[0.29749199, 0.35730819, 0.94845268, 0.92197249, 0.07115354],\n",
       "         [0.01479217, 0.67781135, 0.59495224, 0.66565576, 0.81561184],\n",
       "         [0.34182612, 0.85042367, 0.84859015, 0.64495875, 0.26377625]],\n",
       "\n",
       "        [[0.86093551, 0.77027194, 0.48942702, 0.81506336, 0.91481702],\n",
       "         [0.27093111, 0.57473369, 0.98478261, 0.12913365, 0.59361791],\n",
       "         [0.89616376, 0.52863704, 0.46139934, 0.40042045, 0.21980149]]],\n",
       "\n",
       "\n",
       "       [[[0.1679447 , 0.54972225, 0.78884662, 0.0179823 , 0.91782571],\n",
       "         [0.93762695, 0.71598195, 0.88951692, 0.23681027, 0.35493075],\n",
       "         [0.24788105, 0.01951823, 0.01157761, 0.47344394, 0.90781173]],\n",
       "\n",
       "        [[0.94944305, 0.88088936, 0.5525556 , 0.49090454, 0.06679323],\n",
       "         [0.82263696, 0.93693373, 0.94999674, 0.73789524, 0.20948272],\n",
       "         [0.20024526, 0.12439235, 0.80867086, 0.35230421, 0.71925072]]],\n",
       "\n",
       "\n",
       "       [[[0.19143782, 0.6292103 , 0.66790197, 0.02435158, 0.23739128],\n",
       "         [0.60665692, 0.13509849, 0.18598937, 0.3028916 , 0.9020208 ],\n",
       "         [0.84476596, 0.73309276, 0.37593317, 0.91514807, 0.23120938]],\n",
       "\n",
       "        [[0.80089665, 0.09474428, 0.4549734 , 0.84401504, 0.19875714],\n",
       "         [0.14625796, 0.20682491, 0.11360109, 0.41022073, 0.34156257],\n",
       "         [0.32159533, 0.16108421, 0.62850127, 0.44296412, 0.76748837]]],\n",
       "\n",
       "\n",
       "       [[[0.27495055, 0.11813217, 0.46405728, 0.21245267, 0.90009592],\n",
       "         [0.38992721, 0.12025037, 0.76617963, 0.44599515, 0.09216791],\n",
       "         [0.48184509, 0.19146663, 0.40096316, 0.76310474, 0.82991479]],\n",
       "\n",
       "        [[0.745601  , 0.89297693, 0.410299  , 0.49433515, 0.34591396],\n",
       "         [0.1115406 , 0.51923232, 0.00914888, 0.54110438, 0.27322647],\n",
       "         [0.90964268, 0.53738311, 0.04225604, 0.30236888, 0.07683543]]]])"
      ]
     },
     "execution_count": 7,
     "metadata": {},
     "output_type": "execute_result"
    }
   ],
   "source": [
    "np.random.rand(4,2,3,5)"
   ]
  },
  {
   "cell_type": "markdown",
   "metadata": {},
   "source": [
    "Now lets go back and look at the numbers generated. An array witt the shape 4 rows, 2 colums each with depth of 3 and within that 5 elements has been generated So we can see that ever more complex and multidimensional arrays can be generated with the numpy.random subpackage/function.\n",
    "We can also generate an array with just one generate an array with a specified number of random values (10000 in this case) using the following syntax:"
   ]
  },
  {
   "cell_type": "code",
   "execution_count": 8,
   "metadata": {},
   "outputs": [
    {
     "data": {
      "text/plain": [
       "array([0.22629282, 0.55510972, 0.84544968, ..., 0.87780934, 0.54242494,\n",
       "       0.95546584])"
      ]
     },
     "execution_count": 8,
     "metadata": {},
     "output_type": "execute_result"
    }
   ],
   "source": [
    "np.random.rand(10000)"
   ]
  },
  {
   "cell_type": "markdown",
   "metadata": {},
   "source": [
    "Using matplotlib.pyplot function we can generate a histogram to show the range of random numbers generated: \n"
   ]
  },
  {
   "cell_type": "code",
   "execution_count": 9,
   "metadata": {},
   "outputs": [
    {
     "data": {
      "image/png": "[encoded data removed]",
      "text/plain": [
       "<Figure size 432x288 with 1 Axes>"
      ]
     },
     "metadata": {
      "needs_background": "light"
     },
     "output_type": "display_data"
    }
   ],
   "source": [
    "# use the matploblib magic command to ensure the histogram is shown.\n",
    "%matplotlib inline\n",
    "# import the matplotlib pyplot libary and give it the alias plt\n",
    "import matplotlib.pyplot as plt\n",
    "\n",
    "x = np.random.rand(10000)\n",
    "plt.hist(x)\n",
    "plt.show()\n",
    "\n"
   ]
  },
  {
   "cell_type": "markdown",
   "metadata": {},
   "source": [
    "The histogram gives a visual representation of the numbers generated by random.rand above. The histogram has a continuous variable on the x axis.  The values are chopped up into a reasonable number of bins in this case 10. We can see from the diagram that the number of values generated between values 0.0 and 0.1 is just as likely as the number of values generated between values 0.7 and 0.8. This holds true for each bin displayed. Therefore the distribution is uniform ( we'll look at this in more detail in sections 5  Distributions below).\n",
    "\n",
    "The other important point to note when using np.random.rand function is that all of the numbers genereated are greater than or equal to 0 and less than 1. Therefore, while this function allows us to control shape of the data generated and the number of values generated, the range of values is limited."
   ]
  },
  {
   "cell_type": "markdown",
   "metadata": {},
   "source": [
    "## **4.“Permutations” functions**\n",
    "\n",
    "### **4.1 Shuffle**    \n",
    "The shuffle function modifies a sequence by shuffling its contents.  First, lets create a range of numbers. "
   ]
  },
  {
   "cell_type": "code",
   "execution_count": 100,
   "metadata": {},
   "outputs": [
    {
     "data": {
      "text/plain": [
       "array([0, 1, 2, 3, 4, 5, 6, 7, 8, 9])"
      ]
     },
     "execution_count": 100,
     "metadata": {},
     "output_type": "execute_result"
    }
   ],
   "source": [
    "arr = np.arange(10)\n",
    "arr\n"
   ]
  },
  {
   "cell_type": "markdown",
   "metadata": {},
   "source": [
    "Now lets use the shuffle function to randomly shuffle the contents of this array."
   ]
  },
  {
   "cell_type": "code",
   "execution_count": 103,
   "metadata": {},
   "outputs": [
    {
     "data": {
      "text/plain": [
       "array([0, 2, 4, 9, 8, 6, 3, 7, 5, 1])"
      ]
     },
     "execution_count": 103,
     "metadata": {},
     "output_type": "execute_result"
    }
   ],
   "source": [
    "np.random.shuffle(arr)\n",
    "arr"
   ]
  },
  {
   "cell_type": "markdown",
   "metadata": {},
   "source": [
    "The contents of the array are now reordered.  It is also possible to shuffle multi-dimensional arrays.  However, multi-dimensional arrays are only shuffled along the first axis. For example create an array with 3 rows and 3 columns from a range of 9."
   ]
  },
  {
   "cell_type": "code",
   "execution_count": 109,
   "metadata": {},
   "outputs": [
    {
     "data": {
      "text/plain": [
       "array([[0, 1, 2],\n",
       "       [3, 4, 5],\n",
       "       [6, 7, 8]])"
      ]
     },
     "execution_count": 109,
     "metadata": {},
     "output_type": "execute_result"
    }
   ],
   "source": [
    "arr1 = np.arange(9).reshape((3, 3))\n",
    "arr1"
   ]
  },
  {
   "cell_type": "markdown",
   "metadata": {},
   "source": [
    "Now lets shuffle the array arr1. "
   ]
  },
  {
   "cell_type": "code",
   "execution_count": 119,
   "metadata": {},
   "outputs": [
    {
     "data": {
      "text/plain": [
       "array([[3, 4, 5],\n",
       "       [0, 1, 2],\n",
       "       [6, 7, 8]])"
      ]
     },
     "execution_count": 119,
     "metadata": {},
     "output_type": "execute_result"
    }
   ],
   "source": [
    "np.random.shuffle(arr1)\n",
    "arr1"
   ]
  },
  {
   "cell_type": "code",
   "execution_count": null,
   "metadata": {},
   "outputs": [],
   "source": [
    "Note, while the rows have been shuffled (ie the first axis/dimension), the columns have not been shuffled."
   ]
  },
  {
   "cell_type": "markdown",
   "metadata": {},
   "source": [
    "### **4.1 Permutation**    \n",
    "\n",
    "\n"
   ]
  },
  {
   "cell_type": "markdown",
   "metadata": {},
   "source": [
    "## 5. Distributions  \n",
    "\n",
    "'Probability distribution is a rule or set of rules that assigns probabilities to values of random variables. \n",
    "\n"
   ]
  },
  {
   "cell_type": "markdown",
   "metadata": {},
   "source": [
    "**5.1 Uniform Distributions**    \n",
    "Uniform distributions are probability distributions where the outcomes are equally likely (Investopedia, undated, unpaged).  There are two types of uniform distributions: discrete and continuous. An example of a discrete uniform distribution is the rolling of a dice. Each number has an equal chance of being rolled but only numbers 1,2,3,4,5 or 6 can be rolled. The number 2.7 or 3.8 cannot be rolled. In a continuous uniform distribution, again all numbers have a equal chance at being selectd but the numbers that can be selected are continuous or even infinite e.g. the numbers generated in an \"idealized random number generator\" (Investopedia, undated, unpaged).\n"
   ]
  },
  {
   "cell_type": "code",
   "execution_count": 10,
   "metadata": {},
   "outputs": [
    {
     "data": {
      "text/plain": [
       "array([-8.89905150e-01, -6.05426124e-01, -4.24217538e-01, -9.39910396e-01,\n",
       "       -6.61786765e-01, -8.80759547e-01, -6.16997025e-01, -9.22918927e-01,\n",
       "       -7.55857463e-01, -7.81861016e-01, -4.12936284e-01, -6.85709880e-01,\n",
       "       -3.54743865e-01, -1.25978024e-01, -2.07696486e-02, -1.87619228e-01,\n",
       "       -8.68791084e-01, -8.99587604e-01, -4.89779909e-01, -8.32194115e-02,\n",
       "       -9.19746150e-01, -3.06467147e-01, -4.58268093e-02, -7.06676861e-01,\n",
       "       -4.33032424e-01, -1.44130469e-01, -3.01723313e-01, -8.35200717e-01,\n",
       "       -1.88797973e-01, -7.69622867e-01, -9.84776615e-01, -7.33528191e-01,\n",
       "       -5.26068606e-03, -4.92382489e-01, -3.92729027e-01, -2.75585757e-02,\n",
       "       -9.67524576e-01, -5.67931347e-02, -9.50291883e-01, -2.12092183e-01,\n",
       "       -7.72514548e-01, -8.08359511e-01, -4.65592268e-01, -5.49147950e-01,\n",
       "       -1.99793386e-01, -3.24009949e-01, -4.58012357e-02, -7.83799432e-01,\n",
       "       -8.91377793e-01, -7.47872376e-01, -3.37870654e-01, -2.58669456e-01,\n",
       "       -5.00650221e-01, -6.50671738e-01, -4.35369616e-01, -5.43461073e-01,\n",
       "       -1.29667861e-01, -3.39325890e-01, -8.52394174e-01, -9.96891480e-02,\n",
       "       -3.10824297e-01, -7.84855427e-01, -5.19833784e-01, -3.41212947e-01,\n",
       "       -3.40394503e-01, -8.56479015e-01, -9.10883458e-01, -1.75797674e-01,\n",
       "       -8.61263215e-01, -2.65130900e-01, -7.90583495e-01, -5.38598692e-01,\n",
       "       -8.99735664e-02, -5.83926230e-01, -3.34830661e-01, -8.93070834e-01,\n",
       "       -2.81276714e-01, -1.58164452e-01, -6.32110216e-01, -7.24180787e-01,\n",
       "       -7.55549323e-01, -7.55271029e-01, -6.54243658e-01, -3.52456119e-01,\n",
       "       -2.99808255e-01, -3.75670621e-01, -8.53355069e-01, -4.54007313e-01,\n",
       "       -3.79977348e-01, -3.56282345e-02, -7.63706976e-01, -7.31220607e-01,\n",
       "       -2.82986394e-01, -2.16497693e-01, -5.66477877e-01, -4.59796494e-01,\n",
       "       -2.37952150e-01, -1.18652042e-01, -6.82441927e-01, -7.43457656e-01,\n",
       "       -7.49427727e-01, -6.36942675e-01, -6.08310327e-01, -7.94949500e-01,\n",
       "       -3.40231322e-01, -1.74121877e-01, -9.11313575e-01, -7.53914157e-01,\n",
       "       -8.47363753e-01, -3.22284186e-01, -4.87309265e-01, -3.97729822e-01,\n",
       "       -4.05936670e-01, -8.91095614e-01, -3.21641624e-01, -5.50314473e-02,\n",
       "       -2.98050634e-01, -3.90015226e-01, -7.96796529e-01, -2.43035533e-01,\n",
       "       -1.90400034e-01, -9.30804174e-01, -3.01729863e-01, -9.95157842e-01,\n",
       "       -4.69764584e-01, -7.55121706e-01, -1.80617559e-01, -7.73897660e-01,\n",
       "       -5.46004944e-01, -8.68300751e-01, -5.17155945e-01, -4.86100569e-01,\n",
       "       -4.04106285e-02, -4.37007213e-01, -9.96341780e-02, -6.32416201e-01,\n",
       "       -1.03330846e-01, -6.60108400e-02, -4.37348333e-01, -2.29034978e-01,\n",
       "       -6.64732392e-01, -3.99557339e-01, -9.62389325e-01, -5.01627892e-02,\n",
       "       -4.91803451e-02, -3.87653372e-01, -3.24396601e-01, -2.62193673e-01,\n",
       "       -2.23383942e-01, -6.04717114e-01, -4.31432049e-02, -3.94224349e-01,\n",
       "       -9.35855351e-01, -7.57059308e-01, -7.21948975e-01, -8.56013848e-01,\n",
       "       -9.88218600e-01, -1.21226211e-01, -5.42379497e-01, -8.67694188e-01,\n",
       "       -9.76147421e-02, -6.21768279e-01, -7.59685897e-01, -5.84537463e-03,\n",
       "       -7.58823161e-01, -2.11940458e-01, -9.65229374e-01, -4.64344049e-01,\n",
       "       -4.60090873e-01, -8.69132105e-02, -6.60079121e-02, -6.99071648e-01,\n",
       "       -2.14131088e-01, -9.75766320e-01, -2.86674493e-01, -9.30959037e-01,\n",
       "       -5.34327044e-01, -3.00344585e-01, -8.54921932e-01, -5.47774582e-01,\n",
       "       -6.92396888e-01, -8.44289882e-01, -3.51302928e-01, -4.89050852e-03,\n",
       "       -8.69633455e-02, -9.59823722e-02, -4.27966413e-01, -5.15350714e-01,\n",
       "       -8.56582339e-01, -2.72168555e-01, -2.16300923e-01, -5.72758271e-01,\n",
       "       -6.13743898e-01, -6.39906844e-01, -6.84520850e-02, -6.20387192e-01,\n",
       "       -1.36219144e-01, -6.38689241e-01, -9.36595513e-01, -6.90997963e-01,\n",
       "       -1.98302433e-01, -5.25870215e-01, -4.54460467e-01, -1.78829365e-01,\n",
       "       -8.85193925e-01, -3.17733279e-01, -9.63212028e-01, -4.95782756e-01,\n",
       "       -1.81173329e-01, -6.17463237e-01, -9.96486431e-01, -1.22927885e-01,\n",
       "       -3.94813114e-01, -1.30343405e-01, -4.03621465e-01, -1.79667324e-01,\n",
       "       -1.78682997e-01, -7.98804672e-01, -6.28115461e-01, -5.19922999e-02,\n",
       "       -4.86718485e-01, -3.33417628e-01, -8.54558338e-01, -5.59520526e-01,\n",
       "       -8.78908164e-01, -1.99852592e-01, -7.16252566e-01, -5.74439058e-01,\n",
       "       -1.09324440e-01, -8.01763502e-01, -6.15891478e-01, -9.14849163e-01,\n",
       "       -1.27320941e-01, -4.58081457e-01, -3.81211007e-01, -6.13464162e-01,\n",
       "       -4.92931797e-01, -4.08166942e-01, -2.77309069e-01, -2.01885109e-01,\n",
       "       -1.11487187e-01, -8.61907151e-01, -8.62686550e-01, -6.54220049e-01,\n",
       "       -7.99678276e-01, -3.12995471e-01, -2.74921650e-01, -4.29834191e-01,\n",
       "       -6.32457832e-01, -9.31682869e-01, -9.35402884e-01, -2.82232733e-01,\n",
       "       -8.97181550e-01, -9.19218904e-02, -7.10638763e-01, -3.47590756e-01,\n",
       "       -4.49393922e-01, -5.49811917e-01, -2.62870482e-01, -7.92240774e-01,\n",
       "       -1.68027342e-01, -5.42173733e-01, -4.74099829e-01, -8.01241972e-01,\n",
       "       -1.78270279e-01, -1.40247230e-01, -9.94997830e-01, -8.00613025e-02,\n",
       "       -4.97706026e-01, -2.49254609e-01, -4.07700953e-01, -6.34801699e-01,\n",
       "       -5.24164748e-03, -9.34546791e-01, -2.57350009e-01, -5.26740621e-01,\n",
       "       -8.61256335e-01, -7.35805690e-01, -1.49217507e-01, -4.30463427e-03,\n",
       "       -6.63158274e-01, -9.50904432e-01, -7.94807463e-01, -8.59195884e-01,\n",
       "       -9.54844329e-01, -4.04589878e-01, -5.89890766e-01, -7.62780356e-01,\n",
       "       -2.51029115e-01, -2.48462109e-02, -2.62424337e-01, -4.79663111e-01,\n",
       "       -2.72041003e-02, -3.50349720e-01, -6.70714498e-01, -8.59479301e-02,\n",
       "       -8.59358008e-03, -8.06943176e-01, -3.49220591e-01, -9.08671138e-01,\n",
       "       -9.73207350e-01, -9.61142706e-01, -6.82351791e-01, -2.89663315e-01,\n",
       "       -5.03547664e-01, -7.54813719e-01, -2.45161398e-01, -9.78579312e-01,\n",
       "       -1.69502179e-01, -6.30252887e-01, -4.80440145e-01, -2.06515330e-01,\n",
       "       -4.31610557e-01, -6.94812937e-01, -5.57506428e-01, -3.65684278e-01,\n",
       "       -9.11737725e-01, -2.35887521e-01, -9.68338208e-01, -7.92211470e-01,\n",
       "       -9.37189366e-01, -8.09903816e-02, -3.69850142e-02, -4.57913056e-02,\n",
       "       -5.73584998e-01, -9.32701198e-01, -1.26772217e-01, -8.73340356e-02,\n",
       "       -7.01901205e-01, -5.84151156e-01, -6.62538420e-01, -4.04938204e-01,\n",
       "       -6.94732946e-01, -5.69570262e-01, -2.74492603e-01, -4.78017724e-01,\n",
       "       -8.32223630e-01, -9.12368534e-01, -5.30808099e-01, -3.59768039e-01,\n",
       "       -4.75864280e-01, -7.87203004e-01, -5.38091913e-01, -8.54507157e-01,\n",
       "       -5.15242319e-01, -6.08825676e-02, -9.67868679e-01, -5.89142615e-01,\n",
       "       -6.44314400e-01, -2.95266169e-01, -3.64782595e-01, -4.91421556e-01,\n",
       "       -8.13765434e-01, -6.92429458e-02, -6.49003909e-01, -4.96392328e-01,\n",
       "       -2.49809524e-01, -6.44168257e-02, -7.03992648e-01, -9.92217017e-01,\n",
       "       -7.91112761e-01, -8.21655797e-01, -3.82432528e-01, -2.25605072e-01,\n",
       "       -7.06844058e-01, -8.52387625e-01, -8.69550790e-01, -1.31864073e-01,\n",
       "       -7.27622244e-01, -9.99097163e-02, -4.21878956e-01, -8.97509555e-01,\n",
       "       -8.22469941e-01, -3.65059975e-01, -1.25744926e-02, -7.71226315e-01,\n",
       "       -8.26491471e-01, -2.52495667e-01, -3.41444438e-01, -2.52196599e-01,\n",
       "       -2.37742459e-01, -4.67597059e-01, -5.26457259e-01, -9.24178984e-02,\n",
       "       -8.13644755e-01, -7.31306846e-01, -8.96000866e-01, -7.78559668e-01,\n",
       "       -7.62256661e-01, -6.07222248e-01, -1.13003399e-01, -4.41743299e-01,\n",
       "       -4.21893245e-01, -6.41730858e-01, -1.38570206e-01, -6.96416459e-01,\n",
       "       -5.80554814e-01, -5.00599518e-02, -5.87007720e-01, -4.86871826e-01,\n",
       "       -3.16404546e-01, -2.20044870e-01, -8.17959744e-01, -8.70296699e-01,\n",
       "       -2.82213446e-01, -9.70830313e-01, -1.39799696e-01, -5.97055707e-01,\n",
       "       -2.99080106e-02, -7.87634748e-01, -9.27498061e-01, -4.99183425e-01,\n",
       "       -8.63585941e-01, -1.22659878e-01, -4.36238354e-01, -8.02231764e-01,\n",
       "       -6.73419841e-02, -2.92125826e-01, -8.42278058e-01, -3.24766696e-02,\n",
       "       -8.18837983e-01, -2.93184374e-01, -6.10723369e-01, -3.06756171e-01,\n",
       "       -9.00332544e-01, -9.72433343e-02, -3.44221695e-01, -3.50821345e-01,\n",
       "       -2.65552763e-01, -9.85083292e-01, -6.64686811e-01, -7.79616779e-01,\n",
       "       -1.14482315e-01, -4.07174410e-01, -7.64098668e-01, -6.96036225e-01,\n",
       "       -1.36338467e-01, -1.46419577e-01, -2.12544553e-01, -8.16285483e-01,\n",
       "       -4.70717816e-02, -7.94527870e-01, -8.83725557e-02, -9.32712821e-01,\n",
       "       -7.62579271e-01, -2.72538419e-02, -1.90677921e-01, -3.27665652e-02,\n",
       "       -7.67640329e-01, -3.76977651e-01, -3.34176943e-03, -6.30095265e-01,\n",
       "       -6.24721629e-01, -5.93160813e-01, -4.33400907e-01, -5.12054419e-01,\n",
       "       -3.13459334e-01, -8.53535272e-01, -2.22915582e-01, -2.28249967e-01,\n",
       "       -9.24447509e-01, -2.88102938e-01, -1.12078197e-03, -7.96589149e-01,\n",
       "       -7.96823412e-01, -9.70862501e-01, -9.09148142e-01, -4.71177696e-04,\n",
       "       -3.55049962e-01, -4.52808903e-01, -1.88646962e-01, -9.49690927e-01,\n",
       "       -7.17461179e-01, -8.49714296e-01, -1.59349628e-01, -1.86913229e-01,\n",
       "       -4.25595759e-02, -3.77306351e-02, -7.95490080e-01, -6.97073194e-01,\n",
       "       -8.96990950e-01, -2.44715984e-01, -1.04683389e-01, -8.34702980e-01,\n",
       "       -8.30650817e-01, -4.64721924e-01, -3.04710107e-01, -4.76286237e-01,\n",
       "       -3.91126671e-01, -3.71646514e-01, -7.20714223e-01, -9.39101787e-01,\n",
       "       -3.24369557e-01, -1.52705498e-01, -4.57896877e-01, -4.96370133e-01,\n",
       "       -7.70544331e-01, -7.10796512e-01, -9.61814528e-01, -1.95437079e-01,\n",
       "       -1.82751105e-01, -4.24318293e-01, -4.62863214e-01, -7.30352883e-01,\n",
       "       -3.70675360e-01, -3.59554434e-01, -7.84746676e-01, -5.45530769e-01,\n",
       "       -8.50264202e-01, -3.76398300e-01, -9.21811169e-01, -6.43525069e-02,\n",
       "       -2.30424606e-01, -3.79496187e-01, -9.69197427e-01, -1.15211863e-02,\n",
       "       -8.20062341e-01, -1.12859937e-01, -6.99899009e-01, -2.17470480e-01,\n",
       "       -3.82161445e-02, -4.34448618e-01, -1.80371220e-01, -2.70536244e-01,\n",
       "       -7.56892717e-01, -7.24748203e-01, -6.33265521e-02, -8.45155070e-01,\n",
       "       -8.43408103e-01, -5.63214016e-02, -9.69524198e-01, -8.63244054e-01,\n",
       "       -7.21115341e-01, -4.16325086e-01, -7.52467589e-01, -3.81912866e-01,\n",
       "       -6.84747340e-01, -4.35653446e-01, -2.60987942e-01, -4.15582976e-01,\n",
       "       -5.42008742e-01, -2.96548112e-01, -6.03091021e-01, -1.85474483e-02,\n",
       "       -6.90350696e-01, -8.05630664e-01, -3.05780428e-01, -1.10198755e-01,\n",
       "       -8.03941862e-01, -7.20508551e-02, -7.00396714e-01, -3.32993934e-01,\n",
       "       -1.34924134e-01, -5.81037290e-01, -2.44489567e-01, -5.66438459e-01,\n",
       "       -5.38178834e-01, -4.83688266e-01, -9.91563904e-01, -1.54316153e-01,\n",
       "       -1.01883449e-01, -2.10319677e-01, -3.23154984e-01, -2.97570907e-01,\n",
       "       -3.38893665e-01, -5.44711706e-01, -3.70051451e-01, -2.36090809e-01,\n",
       "       -7.80335026e-01, -9.56719604e-01, -7.43953991e-01, -3.31276482e-01,\n",
       "       -2.56338551e-01, -3.98082921e-01, -8.42968670e-01, -3.29200242e-01,\n",
       "       -8.44996991e-01, -4.54825153e-01, -5.90106998e-01, -9.19508038e-01,\n",
       "       -7.78904454e-01, -3.28865186e-01, -8.52595186e-01, -7.04657533e-01,\n",
       "       -7.18022013e-01, -4.58671090e-01, -7.20577039e-01, -1.95869188e-01,\n",
       "       -3.88126411e-01, -9.07512245e-01, -7.30978267e-01, -4.10152324e-01,\n",
       "       -9.53845227e-01, -1.34433278e-01, -1.86702022e-02, -4.01968860e-01,\n",
       "       -8.61656807e-01, -7.53785298e-01, -8.59091111e-02, -3.54640703e-01,\n",
       "       -6.91473603e-01, -6.48660999e-01, -2.65465665e-02, -4.89215584e-01,\n",
       "       -6.50707211e-01, -2.01044997e-01, -9.28192903e-01, -1.13176490e-01,\n",
       "       -2.19234394e-01, -6.99884027e-02, -9.35864255e-01, -9.41874440e-01,\n",
       "       -6.75417226e-01, -7.37328123e-01, -7.03142866e-01, -8.98080817e-01,\n",
       "       -2.44262150e-01, -7.57956706e-01, -3.68458418e-01, -8.19004660e-01,\n",
       "       -9.61686520e-01, -8.00493556e-01, -8.32440782e-02, -9.66079178e-01,\n",
       "       -2.31500069e-01, -8.57387379e-01, -4.33257893e-01, -2.35571047e-01,\n",
       "       -5.45807487e-01, -6.38473963e-01, -6.98710469e-01, -2.91232311e-01,\n",
       "       -4.32004264e-01, -8.18481006e-01, -9.63000208e-01, -7.87755673e-01,\n",
       "       -8.09733890e-02, -4.37146754e-01, -7.16153313e-01, -4.27794420e-01,\n",
       "       -1.08922193e-01, -1.96585884e-01, -6.69549726e-01, -8.54138206e-01,\n",
       "       -3.04085318e-01, -5.19720556e-01, -4.12478720e-01, -5.45154443e-01,\n",
       "       -7.92699735e-01, -2.14201055e-01, -3.73513986e-01, -3.10786761e-01,\n",
       "       -4.89544808e-01, -3.89229015e-01, -3.15202762e-01, -4.36917814e-01,\n",
       "       -8.17252173e-01, -4.44612458e-02, -4.58250182e-01, -6.29658393e-01,\n",
       "       -4.30298155e-02, -4.59872267e-01, -2.90436841e-01, -4.32724275e-01,\n",
       "       -6.85959107e-02, -3.92729369e-01, -5.25663404e-02, -3.71772573e-01,\n",
       "       -1.65942757e-01, -1.46546172e-01, -2.35668862e-01, -6.04100690e-01,\n",
       "       -4.76693771e-01, -5.21709390e-01, -2.84551296e-01, -4.51952803e-01,\n",
       "       -5.77251722e-01, -6.13366267e-01, -5.96760205e-01, -4.52533503e-01,\n",
       "       -8.20370338e-01, -2.81155757e-01, -7.51992248e-01, -2.74943377e-01,\n",
       "       -8.07455823e-01, -9.31263027e-02, -9.26032694e-01, -4.35902736e-01,\n",
       "       -6.06382031e-01, -8.90727837e-02, -2.79229910e-01, -7.93195070e-01,\n",
       "       -6.08358583e-01, -5.03314364e-01, -1.77672919e-01, -8.68018925e-01,\n",
       "       -9.39582252e-02, -3.42189792e-01, -4.96101333e-01, -7.34085086e-01,\n",
       "       -9.05133136e-01, -2.59157546e-01, -6.13246821e-01, -3.15770198e-02,\n",
       "       -1.78196954e-01, -6.45500001e-01, -4.30637787e-01, -7.83879104e-01,\n",
       "       -9.46679523e-01, -1.24864920e-01, -1.57709779e-01, -3.30712409e-01,\n",
       "       -4.79409161e-01, -9.98965809e-01, -3.37163076e-01, -3.82156276e-01,\n",
       "       -7.52393908e-01, -5.20541785e-01, -5.61498482e-01, -5.75400295e-01,\n",
       "       -3.56357374e-01, -5.73674108e-01, -6.86410741e-01, -6.90922216e-01,\n",
       "       -1.50771792e-01, -9.01005440e-01, -2.16158480e-01, -4.54721706e-01,\n",
       "       -9.29905506e-01, -4.06904333e-01, -1.49315839e-01, -2.60457371e-01,\n",
       "       -6.23661962e-02, -2.40961472e-01, -4.24977608e-01, -9.93343768e-01,\n",
       "       -2.83393290e-01, -2.78652631e-01, -1.72613346e-01, -4.02301239e-01,\n",
       "       -9.74089876e-01, -4.68172927e-01, -4.35678285e-02, -3.68519322e-01,\n",
       "       -4.36716199e-02, -5.75117336e-01, -9.65459174e-01, -3.20769277e-01,\n",
       "       -4.14078356e-01, -8.88518430e-01, -6.09029648e-01, -6.17423150e-01,\n",
       "       -2.93329481e-01, -4.58729142e-01, -3.00117636e-01, -4.82933153e-01,\n",
       "       -2.97486469e-01, -1.69949079e-01, -9.10926429e-01, -8.55203481e-01,\n",
       "       -2.92115280e-02, -2.90029732e-02, -1.59641103e-01, -1.22705659e-01,\n",
       "       -5.82392183e-01, -2.31966258e-01, -6.54580286e-02, -2.03640117e-01,\n",
       "       -3.86313741e-02, -6.03773730e-01, -9.26561021e-01, -4.06909264e-01,\n",
       "       -8.52154380e-01, -8.50378970e-01, -5.27027132e-01, -3.84211786e-01,\n",
       "       -9.85555405e-02, -3.73432218e-01, -3.72028618e-01, -2.31910233e-01,\n",
       "       -1.93515382e-01, -9.00219662e-01, -1.15327533e-01, -6.14729417e-01,\n",
       "       -8.99287841e-01, -9.59395890e-01, -4.07343254e-01, -3.82212642e-01,\n",
       "       -6.04098984e-01, -6.52226830e-01, -8.64476089e-01, -2.54638205e-01,\n",
       "       -3.43298444e-02, -4.42680326e-01, -8.27207828e-01, -6.02003634e-01,\n",
       "       -8.38536490e-01, -6.74830485e-01, -3.81991248e-01, -3.91809983e-01,\n",
       "       -2.98891753e-01, -5.23436043e-01, -1.30625498e-01, -1.33328028e-01,\n",
       "       -8.38472380e-02, -3.59072193e-02, -5.51132112e-01, -9.39753821e-01,\n",
       "       -7.36760672e-01, -9.75715958e-01, -6.29080026e-02, -3.73633392e-02,\n",
       "       -9.25880958e-01, -1.37320351e-01, -4.41277923e-01, -4.83351879e-01,\n",
       "       -9.86136655e-01, -5.63088306e-01, -4.54577706e-01, -5.30934642e-01,\n",
       "       -1.95507824e-01, -5.46382581e-01, -6.00382832e-01, -2.16468072e-01,\n",
       "       -4.78405440e-01, -2.80530937e-01, -1.71500377e-01, -5.21671880e-01,\n",
       "       -8.69634927e-01, -2.47344658e-01, -8.99567547e-01, -1.95581792e-01,\n",
       "       -2.44595667e-01, -1.97326519e-01, -6.05024977e-01, -4.53629550e-01,\n",
       "       -1.76524877e-01, -9.67367057e-01, -7.00984165e-01, -2.71967283e-01,\n",
       "       -7.82492434e-01, -2.61786215e-01, -2.04885161e-01, -9.61350825e-01,\n",
       "       -3.35934572e-01, -6.65085435e-01, -7.57621769e-01, -6.42970762e-01,\n",
       "       -4.10728772e-01, -3.74958409e-01, -4.35469621e-01, -3.03154362e-01,\n",
       "       -1.66166639e-01, -1.36955175e-02, -6.59738144e-01, -8.71513850e-02,\n",
       "       -2.33585107e-01, -4.02721193e-01, -5.69882968e-01, -2.68723252e-01,\n",
       "       -4.46962043e-01, -8.98257396e-01, -3.86659678e-01, -3.12726642e-01,\n",
       "       -3.66146845e-01, -7.97750894e-01, -2.64491712e-01, -1.23859526e-01,\n",
       "       -7.73119491e-01, -6.37824713e-01, -7.15767467e-01, -1.17531049e-01,\n",
       "       -1.18442720e-01, -3.66152293e-03, -1.16118793e-01, -1.19852140e-01,\n",
       "       -3.81452560e-01, -7.04171195e-01, -9.67362247e-01, -6.64365713e-01,\n",
       "       -8.00439173e-01, -5.12793292e-01, -4.80443696e-02, -1.05935688e-02,\n",
       "       -7.50102817e-01, -4.39654096e-01, -9.06558211e-01, -9.58448386e-03,\n",
       "       -9.97017067e-02, -2.87459097e-01, -4.23271901e-01, -2.22541923e-01,\n",
       "       -2.44577190e-01, -6.05747056e-01, -3.05683865e-01, -3.82281935e-01,\n",
       "       -7.72206217e-01, -7.75813792e-01, -2.23446120e-01, -1.32483832e-01,\n",
       "       -7.80859492e-01, -8.30137027e-01, -6.14683312e-01, -1.38880391e-01,\n",
       "       -8.54037742e-01, -2.11016102e-01, -4.18251857e-01, -9.61511359e-01,\n",
       "       -9.09755564e-03, -9.81669764e-01, -3.55536444e-01, -2.52829573e-01,\n",
       "       -4.45001444e-01, -3.99413547e-01, -8.21301154e-01, -9.28361477e-01,\n",
       "       -3.53122524e-01, -3.42626433e-01, -2.42434100e-01, -9.95831236e-01,\n",
       "       -5.06353759e-01, -7.64981602e-01, -9.40993636e-01, -7.09281652e-01,\n",
       "       -5.40280801e-01, -3.43229854e-02, -2.10076167e-01, -3.36122298e-01,\n",
       "       -7.85426976e-01, -4.38607843e-01, -5.20190107e-01, -8.72551111e-01,\n",
       "       -6.28251685e-01, -1.75764483e-01, -7.14962117e-03, -7.01929766e-01,\n",
       "       -3.31100708e-01, -4.02114536e-01, -3.35349565e-01, -3.67508398e-01,\n",
       "       -7.71169326e-01, -3.07295857e-01, -7.44415006e-01, -7.68316366e-01,\n",
       "       -1.63147307e-01, -3.80725281e-01, -2.38510431e-01, -7.97098421e-01,\n",
       "       -9.00689695e-01, -8.28849352e-01, -9.94251535e-01, -3.01504413e-01,\n",
       "       -2.23215673e-01, -8.52561426e-01, -1.60526667e-01, -8.81625194e-01,\n",
       "       -8.07059402e-01, -5.83729644e-01, -2.23060497e-01, -4.66158352e-01,\n",
       "       -6.72975271e-01, -9.41283140e-03, -6.43776027e-01, -3.67334205e-01,\n",
       "       -1.13153787e-01, -4.74126532e-01, -3.94077329e-02, -6.79702236e-01,\n",
       "       -3.67094415e-01, -1.43984698e-01, -8.70331245e-01, -5.42597653e-01,\n",
       "       -5.17717587e-01, -9.29258748e-01, -9.69247442e-01, -6.87403699e-01,\n",
       "       -7.11150727e-01, -3.40088605e-01, -1.71612530e-01, -1.50523618e-01,\n",
       "       -7.88729902e-01, -3.81474618e-01, -9.47073526e-01, -4.04884319e-02,\n",
       "       -6.24806754e-01, -2.87109130e-01, -7.71141455e-02, -9.40200948e-01,\n",
       "       -2.26727191e-01, -2.29185594e-01, -3.16829339e-01, -1.76852721e-01,\n",
       "       -7.61291531e-01, -4.56648913e-01, -5.50048848e-01, -5.76224081e-01,\n",
       "       -7.05948467e-02, -8.51600369e-01, -5.50971225e-02, -3.84735656e-02])"
      ]
     },
     "execution_count": 10,
     "metadata": {},
     "output_type": "execute_result"
    }
   ],
   "source": [
    "np.random.uniform(-1, 0, 1000)\n"
   ]
  },
  {
   "cell_type": "markdown",
   "metadata": {},
   "source": [
    "Unlike, function np.random_rand, np.random.uniform allows us to pass as arguments the range of values to be included. \n",
    "\n"
   ]
  },
  {
   "cell_type": "code",
   "execution_count": 11,
   "metadata": {},
   "outputs": [
    {
     "data": {
      "text/plain": [
       "array([80.20764934, 28.00305364, 28.56578095, 38.06958991, 60.67107001,\n",
       "       94.80340582, 35.25334576, 34.59948495, 13.87666666, 95.73426307,\n",
       "       75.39263807, 90.02888402, 20.44295781, 22.14557486, 91.01792674,\n",
       "       87.09424047, 29.01116015, 10.82196425, 83.93341499, 12.46152945,\n",
       "       36.71006345, 79.64283316, 98.88506122, 17.94272804, 27.95926381,\n",
       "       16.87833199, 60.87714163, 36.67109854, 56.35213705, 34.34282908,\n",
       "       50.54642956, 55.74958612, 41.77290442, 10.89621955, 19.41652841,\n",
       "       56.57254908, 31.00171651, 67.34485593, 39.44176465, 17.38802109,\n",
       "       66.54906815, 78.87939444, 57.13368259, 91.93573188, 41.17302414,\n",
       "       22.79405507, 40.03717701, 50.87927867, 58.73902399, 96.07262067,\n",
       "       53.82322243, 35.46271667, 97.12322877, 29.45638886, 49.75020526,\n",
       "       14.38918118, 80.55530512, 29.59409152, 34.85737142, 85.10805728,\n",
       "       35.6434153 , 15.10335392, 14.23792632, 48.80842674, 69.25605216,\n",
       "       93.62058839, 83.29210883, 25.74264042, 40.7858932 , 21.67365974,\n",
       "       17.47281351, 50.49524475, 58.1710352 , 58.45963973, 10.17251935,\n",
       "       28.06678514, 80.03763944, 72.45828187, 43.90831795, 48.74358251,\n",
       "       21.55691388, 25.64539056, 47.90746188, 31.45761948, 25.63055614,\n",
       "       83.33264288, 95.55399174, 90.8403554 , 97.23734698, 78.41680907,\n",
       "       76.64089104, 19.9918181 , 19.13955688, 98.56247161, 70.31831343,\n",
       "       26.77415898, 66.81362183, 98.08320087, 49.74793865, 81.95564985,\n",
       "       99.17508047, 49.30743126, 63.71244792, 54.80796208, 33.03654657,\n",
       "       80.17766031, 38.29975674, 31.44515125, 71.02060675, 30.12230369,\n",
       "       93.72332143, 66.92037148, 96.82001043, 93.6075325 , 94.75440718,\n",
       "       57.07287105, 84.93573075, 39.62442934, 90.68605496, 36.0725021 ,\n",
       "       24.80443825, 33.41352357, 81.07800172, 56.33421254, 60.3201295 ,\n",
       "       75.16096041, 59.78139062, 78.45633093, 27.66185143, 86.30775665,\n",
       "       45.23069382, 86.24132835, 75.03296123, 74.46878599, 81.42095817,\n",
       "       90.50490785, 55.48060544, 68.31436766, 35.4666577 , 14.30985557,\n",
       "       41.89752933, 32.09678051, 57.99475494, 29.43643938, 34.85757564,\n",
       "       98.3576751 , 68.75563215, 90.58043555, 99.13201411, 58.48276778,\n",
       "       14.91724141, 11.15683667, 28.60379097, 23.11607302, 95.63726732,\n",
       "       78.69320775, 87.86492379, 71.8368462 , 11.02356735, 89.09893092,\n",
       "       57.30546871, 66.96872057, 19.93992897, 72.34708326, 11.02162071,\n",
       "       12.64574545, 96.07468244, 51.72563664, 66.0555065 , 75.31532387,\n",
       "       92.69407227, 65.40662118, 38.3120025 , 62.85365497, 69.89176978,\n",
       "       47.18568592, 27.69601923, 99.64885236, 78.86729245, 90.29238744,\n",
       "       87.14420422, 60.17607252, 88.36894286, 64.67655414, 53.13809148,\n",
       "       92.35760719, 32.60495391, 64.91071683, 60.74127756, 29.01274062,\n",
       "       58.08924266, 12.96532597, 67.60812684, 45.64368316, 98.93697839,\n",
       "       88.23487047, 64.7309621 , 30.7421848 , 62.35549035, 35.70948868])"
      ]
     },
     "execution_count": 11,
     "metadata": {},
     "output_type": "execute_result"
    }
   ],
   "source": [
    "x = np.random.uniform(10, 100, 200)\n",
    "\n",
    "x"
   ]
  },
  {
   "cell_type": "code",
   "execution_count": 12,
   "metadata": {},
   "outputs": [
    {
     "data": {
      "image/png": "[encoded data removed]",
      "text/plain": [
       "<Figure size 432x288 with 1 Axes>"
      ]
     },
     "metadata": {
      "needs_background": "light"
     },
     "output_type": "display_data"
    }
   ],
   "source": [
    "x = np.random.uniform(-1, 0, 1000)\n",
    "\n",
    "plt.hist(x)\n",
    "plt.show()"
   ]
  },
  {
   "cell_type": "markdown",
   "metadata": {},
   "source": [
    "### **5.2 Normal Distribution**  \n",
    "\n",
    "The NumPy normal distributions draws random samples from a normal (Gaussian) distribution (NumPy, Undatede).  The NumPy random normal function allows creates a NumPy array that contains normally distributed data. Normally distributed data is shaped almost like a bell and is therefore often called the 'bell curve'.\n",
    "\n",
    "There are three parameters in the NumPy normal function: loc, scale and size. \n",
    "- the loc parameters sets the mean of the data. The default is zero.\n",
    "- the scale parameter sets the standard deviation of the data. The default is 1.\n",
    "- the size parameter determines the size and  the shape of the output.\n",
    "\n",
    "So to begin with, lets create an array with 1000 values with a mean of 50 and visualize this information."
   ]
  },
  {
   "cell_type": "code",
   "execution_count": 18,
   "metadata": {},
   "outputs": [
    {
     "data": {
      "image/png": "[encoded data removed]",
      "text/plain": [
       "<Figure size 432x288 with 1 Axes>"
      ]
     },
     "metadata": {
      "needs_background": "light"
     },
     "output_type": "display_data"
    }
   ],
   "source": [
    "x = np.random.normal(size = 1000, loc = 50)\n",
    "plt.hist(x)\n",
    "plt.show()\n"
   ]
  },
  {
   "cell_type": "markdown",
   "metadata": {},
   "source": [
    "We can see from the array created that the values center around 50.  Lets change the mean of the data from 50 to 0 by removing parameter loc = 50. NumPy will then use the fault of zero. "
   ]
  },
  {
   "cell_type": "code",
   "execution_count": 19,
   "metadata": {
    "scrolled": true
   },
   "outputs": [
    {
     "data": {
      "image/png": "[encoded data removed]",
      "text/plain": [
       "<Figure size 432x288 with 1 Axes>"
      ]
     },
     "metadata": {
      "needs_background": "light"
     },
     "output_type": "display_data"
    }
   ],
   "source": [
    "x = np.random.normal(size = 1000)\n",
    "plt.hist(x)\n",
    "plt.show()"
   ]
  },
  {
   "cell_type": "markdown",
   "metadata": {},
   "source": [
    "The data now centers around 0. Now lets change the value of the scale from the default value of 1 to 10 i.e. change the standard deviation from 1 to 10."
   ]
  },
  {
   "cell_type": "code",
   "execution_count": 24,
   "metadata": {},
   "outputs": [
    {
     "data": {
      "image/png": "[encoded data removed]",
      "text/plain": [
       "<Figure size 432x288 with 1 Axes>"
      ]
     },
     "metadata": {
      "needs_background": "light"
     },
     "output_type": "display_data"
    }
   ],
   "source": [
    "x = np.random.normal(size = 1000, scale = 10)\n",
    "plt.hist(x)\n",
    "plt.show()"
   ]
  },
  {
   "cell_type": "markdown",
   "metadata": {},
   "source": [
    "Now the data (the 1000 randomly centered numbers) centres around one with most of the data is within +10 or -10."
   ]
  },
  {
   "cell_type": "markdown",
   "metadata": {},
   "source": [
    " ### **5.3 Binomial Distribution**  \n",
    " \n",
    "Unlike a Normal Distribution, a Binomial distribution is discrete.  It is not possible to find a data value between data values. \n",
    "Samples are drawn from a binomial distribution with specified parameters, n trials and p probability of success where n an integer >= 0 and p is in the interval [0,1]. (n may be input as a float, but it is truncated to an integer in use). In other words N is the number of trials and there are only two possible outcomes in a trial.  P is probability of a sucessful/positive outcome. \n",
    "\n",
    "A Binomial Distribution must answer Yes to all of the following questions. Lets apply these questions to the example of flipping a coin.\n",
    "\n",
    "Is there a set number of trials? Yes. Represented as n below.\n",
    "Are there only two possible outcomes? Yes. Only heads/tails can result. Note the outcomes have equal probability here as they are represented as 0.5. \n",
    "Are the outcomes of one trial independent of all other trials? Yes the result of one trial has no impact on the next trial. The coin remains the same throughout the trails & tests.\n",
    "Does the probability of success remain the same throught the trail?  Yes.   \n",
    "\n",
    " \n"
   ]
  },
  {
   "cell_type": "code",
   "execution_count": 15,
   "metadata": {},
   "outputs": [
    {
     "data": {
      "image/png": "[encoded data removed]",
      "text/plain": [
       "<Figure size 432x288 with 1 Axes>"
      ]
     },
     "metadata": {
      "needs_background": "light"
     },
     "output_type": "display_data"
    }
   ],
   "source": [
    "\n",
    "\n",
    "n, p = 10, 0.5  # number of trials, probability of each trial \n",
    "s = np.random.binomial(n, p, 1000)\n",
    "# result of flipping a coin 10 times, tested 1000 times.\n",
    "plt.hist(s)\n",
    "plt.show()\n",
    "\n"
   ]
  },
  {
   "cell_type": "code",
   "execution_count": 16,
   "metadata": {},
   "outputs": [
    {
     "data": {
      "image/png": "[encoded data removed]",
      "text/plain": [
       "<Figure size 432x288 with 1 Axes>"
      ]
     },
     "metadata": {
      "needs_background": "light"
     },
     "output_type": "display_data"
    }
   ],
   "source": [
    "n, p = 10, 0.5  # number of trials, probability of each trial \n",
    "s = np.random.binomial(n, p, 20)\n",
    "# result of flipping a coin 10 times, tested 1000 times.\n",
    "plt.hist(s)\n",
    "plt.show()"
   ]
  },
  {
   "cell_type": "markdown",
   "metadata": {},
   "source": [
    " ### **5.4 random.chisquare Distribution**  \n",
    " \n",
    "'The chi-square statistical test is used to determine whether there’s a significant difference between an expected distribution and an actual distribution'(Huneycutt, 2018). The python NumPy function np.random.chisquare generates samples from the chi-squared distribution.  In the following example the function generates 10000 sample values. The parameter degree of freedom is set to 0.1 and we can see only  "
   ]
  },
  {
   "cell_type": "code",
   "execution_count": 73,
   "metadata": {},
   "outputs": [
    {
     "data": {
      "text/plain": [
       "(array([7.802e+03, 1.358e+03, 5.100e+02, 1.830e+02, 8.600e+01, 2.800e+01,\n",
       "        2.100e+01, 7.000e+00, 2.000e+00, 3.000e+00]),\n",
       " array([5.70215278e-08, 1.50092153e+00, 3.00184300e+00, 4.50276447e+00,\n",
       "        6.00368594e+00, 7.50460742e+00, 9.00552889e+00, 1.05064504e+01,\n",
       "        1.20073718e+01, 1.35082933e+01, 1.50092148e+01]),\n",
       " <a list of 10 Patch objects>)"
      ]
     },
     "execution_count": 73,
     "metadata": {},
     "output_type": "execute_result"
    },
    {
     "data": {
      "image/png": "[encoded data removed]",
      "text/plain": [
       "<Figure size 432x288 with 1 Axes>"
      ]
     },
     "metadata": {
      "needs_background": "light"
     },
     "output_type": "display_data"
    }
   ],
   "source": [
    "x = np.random.chisquare(1,10000)\n",
    "x\n",
    "plt.hist(x)\n"
   ]
  },
  {
   "cell_type": "code",
   "execution_count": 68,
   "metadata": {},
   "outputs": [
    {
     "data": {
      "text/plain": [
       "(array([5.337e+03, 2.981e+03, 1.141e+03, 3.620e+02, 1.290e+02, 3.500e+01,\n",
       "        8.000e+00, 4.000e+00, 2.000e+00, 1.000e+00]),\n",
       " array([3.08348415e-03, 2.55553953e+00, 5.10799558e+00, 7.66045163e+00,\n",
       "        1.02129077e+01, 1.27653637e+01, 1.53178198e+01, 1.78702758e+01,\n",
       "        2.04227319e+01, 2.29751879e+01, 2.55276440e+01]),\n",
       " <a list of 10 Patch objects>)"
      ]
     },
     "execution_count": 68,
     "metadata": {},
     "output_type": "execute_result"
    },
    {
     "data": {
      "image/png": "[encoded data removed]",
      "text/plain": [
       "<Figure size 432x288 with 1 Axes>"
      ]
     },
     "metadata": {
      "needs_background": "light"
     },
     "output_type": "display_data"
    }
   ],
   "source": [
    "x = np.random.chisquare(3,10000)\n",
    "x\n",
    "plt.hist(x)"
   ]
  },
  {
   "cell_type": "markdown",
   "metadata": {},
   "source": [
    "The greater the value of parameter degree of freedom entered the further away from a chi square curve we move and the closer we move towards a normal distribution."
   ]
  },
  {
   "cell_type": "code",
   "execution_count": 79,
   "metadata": {},
   "outputs": [
    {
     "data": {
      "text/plain": [
       "(array([8.110e+02, 3.107e+03, 3.142e+03, 1.788e+03, 7.830e+02, 2.580e+02,\n",
       "        7.400e+01, 2.900e+01, 6.000e+00, 2.000e+00]),\n",
       " array([ 0.88299756,  4.54018454,  8.19737151, 11.85455849, 15.51174547,\n",
       "        19.16893244, 22.82611942, 26.4833064 , 30.14049337, 33.79768035,\n",
       "        37.45486733]),\n",
       " <a list of 10 Patch objects>)"
      ]
     },
     "execution_count": 79,
     "metadata": {},
     "output_type": "execute_result"
    },
    {
     "data": {
      "image/png": "[encoded data removed]",
      "text/plain": [
       "<Figure size 432x288 with 1 Axes>"
      ]
     },
     "metadata": {
      "needs_background": "light"
     },
     "output_type": "display_data"
    }
   ],
   "source": [
    "x = np.random.chisquare(10,10000)\n",
    "x\n",
    "plt.hist(x)"
   ]
  },
  {
   "cell_type": "markdown",
   "metadata": {},
   "source": [
    "## 6. Seeds\n",
    "This sections examines the use of seeds in generating random numbers. \n"
   ]
  },
  {
   "cell_type": "code",
   "execution_count": null,
   "metadata": {},
   "outputs": [],
   "source": []
  },
  {
   "cell_type": "markdown",
   "metadata": {},
   "source": [
    "## References\n",
    "Huneycutt, J. (2018) Running Chi-Square Tests with Die Roll Data in Python, Towards Data Science https://towardsdatascience.com/running-chi-square-tests-in-python-with-die-roll-data-b9903817c51b\n",
    "NumPy (Undateda), https://numpy.org/#  \n",
    "NumPy (Undatedb), https://numpy.org/devdocs/user/quickstart.html\n",
    "Numpy (Undatedc), https://numpy.org/doc/1.15/reference/generated/numpy.random.rand.html#numpy.random.rand\n",
    "NumPy (Updatedb), NumPy User Guide, Manual 1.15, Reference https://numpy.org/doc/1.15/reference/routines.random.html\n",
    "Investopedia, (Undated) https://www.investopedia.com/terms/u/uniform-distribution.asp\n",
    "Numpy (Undatede), https://numpy.org/doc/1.15/reference/generated/numpy.random.normal.html#numpy.random.normal\n",
    "Stattreck (undated), What is a Probability Distribution? https://stattrek.com/probability/probability-distribution.aspx\n",
    "\n",
    "NumPy (Undatedf) https://numpy.org/doc/1.17/reference/random/generated/numpy.random.Generator.shuffle.html#numpy-random-generator-shuffle\n",
    "\n"
   ]
  },
  {
   "cell_type": "code",
   "execution_count": null,
   "metadata": {},
   "outputs": [],
   "source": []
  }
 ],
 "metadata": {
  "kernelspec": {
   "display_name": "Python 3",
   "language": "python",
   "name": "python3"
  },
  "language_info": {
   "codemirror_mode": {
    "name": "ipython",
    "version": 3
   },
   "file_extension": ".py",
   "mimetype": "text/x-python",
   "name": "python",
   "nbconvert_exporter": "python",
   "pygments_lexer": "ipython3",
   "version": "3.7.2"
  }
 },
 "nbformat": 4,
 "nbformat_minor": 2
}
