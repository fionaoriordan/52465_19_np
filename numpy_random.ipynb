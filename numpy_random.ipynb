{
 "cells": [
  {
   "cell_type": "markdown",
   "metadata": {},
   "source": [
    "# MODULE 52465 NUMPY.RANDOM ASSIGNMENT.\n",
    "## Fiona O'Riordan \n",
    "## Due Date 11th November 2019"
   ]
  },
  {
   "cell_type": "markdown",
   "metadata": {},
   "source": [
    "# INTRODUCTION\n",
    "The purpose of this assignment, for Module 52465 Programming for Data Analysis, is to explain the overall purpose of Python numpy package **numpy.random** and the use of the **“Simple random data”** and **“Permutations” functions**, to provide a detailed and comprehensive exploration of five its distributions namely: **INSERT NAMES HERE** and lastly, use of **seeds** in generating pseudorandom numbers will be examined.\n",
    "\n",
    "\n",
    "Numpy.random is an often used and important subpackage of the Numpy package in Python as many other packages are dependent on it.  However, interacting with the package directly is rare. Instead, typically the numpy subpackage objects are used via other packages such as Pandas and SciPy. Numpy.random is used to generate random numbers according to different probabilities across different intervals. \n",
    "\n",
    "To begin with Python numpy package will be briefly outlined. Then, an indept look at the numpy subpackage numpy.random will be provided. Next, the use of the “Simple random data\" and “Permutations” functions** will be explored and then the distributions **INSERT NAMES HERE** will be examined. Finally, a summary of the key learnings will be highlighted."
   ]
  },
  {
   "cell_type": "markdown",
   "metadata": {},
   "source": [
    "# 1. THE OVERALL PURPOSE OF NUMPY.RANDOM\n",
    "\n",
    "## 1.1 NumPy\n",
    "\n",
    "The python package NumPy is the core package for scientifc computing within Python (NumPy,Undateda). The package includes: a N-dimensional array object, an advanced broadcasting functions, the ability to integrate C/C++ and Forstran Code along with capacity for linear algebra, Fourier transform and random number generation (NumPy, Undateda). NumPy can be used not only for scientific uses but also as  an 'efficient multi-dimensional container of generic data' (NumPy, Undateda, Unpaged). Therefore, it can be easily integreated with numberous other databases (NumPy, Undateda).\n",
    "\n",
    "NumPy's primary object is the homogeneous multidimensional array . It is a table, typically containing numbers, of the same data type with a tuple non negative interger index  (NumPy, Undatedb).  In NumPy dimensions are refered to as axes (NumPy, Undatedb). Then, unlike the Standard Python Library Class array.array which can have only one dimension, the NumPy array (full name ndarray) can have multiple dimensions which are called axes. \n"
   ]
  },
  {
   "cell_type": "markdown",
   "metadata": {},
   "source": [
    "# 1.2 numpy.random : \n",
    "\n",
    "The numpy.random package is concerned with the creation of computer generated random numbers. The numbers generated appear to be random but in fact are pseudo random (Sharpsight, 2019). Actual random numbers are created by a physical process. Computer generated random numbers are pseudo random numbers because while they may appear to be random they are actually pre-determined (Sharpsight, 2019). Alogrithms, called pseudo random number generators, are constructed to create pseudo random numbers (Sharpsight, 2019).  \n",
    "\n",
    "The numpy.random package is therefore concerned with the creation of numbers that appear to be random but are infact deterministic. When we get to the below section on seeds this concept will be enlighted further. For the moment, we work on the assumption that numpy.random creates pseudo random numbers.\n",
    "\n",
    "\n",
    "\n",
    "### Random Numbers & Multidimensional\n",
    "\n"
   ]
  },
  {
   "cell_type": "markdown",
   "metadata": {},
   "source": [
    "# 2. SIMPLE RANDOM DATA & PERMUTATIONS:\n"
   ]
  },
  {
   "cell_type": "markdown",
   "metadata": {},
   "source": [
    "## 2.1 numpy.random.rand"
   ]
  },
  {
   "cell_type": "markdown",
   "metadata": {},
   "source": [
    "Lets begin by using numpy.random.rand function to generate some random numbers (as mentioned above they really are pseudo random numbers but more on that later):"
   ]
  },
  {
   "cell_type": "code",
   "execution_count": 1,
   "metadata": {},
   "outputs": [
    {
     "data": {
      "text/plain": [
       "array([[0.72801908, 0.94030531],\n",
       "       [0.73579603, 0.26941392],\n",
       "       [0.76128746, 0.75541919]])"
      ]
     },
     "execution_count": 1,
     "metadata": {},
     "output_type": "execute_result"
    }
   ],
   "source": [
    "import numpy as np\n",
    "np.random.rand(3,2)"
   ]
  },
  {
   "cell_type": "markdown",
   "metadata": {},
   "source": [
    "Note the output generated is an array within which are 3 arrays with 2 elements in each or put simply, 3 rows and 2 columns. Lets rerun the script again:"
   ]
  },
  {
   "cell_type": "code",
   "execution_count": 2,
   "metadata": {},
   "outputs": [
    {
     "data": {
      "text/plain": [
       "array([[0.78007114, 0.73875007],\n",
       "       [0.68855572, 0.37819895],\n",
       "       [0.66318453, 0.54185875]])"
      ]
     },
     "execution_count": 2,
     "metadata": {},
     "output_type": "execute_result"
    }
   ],
   "source": [
    "#Rerun the function \n",
    "np.random.rand(3,2)"
   ]
  },
  {
   "cell_type": "markdown",
   "metadata": {},
   "source": [
    "Note the same script generates different different random numbers. Therefore, we now know that np.random.rand generates random numbers.  Now lets change the arguments:"
   ]
  },
  {
   "cell_type": "code",
   "execution_count": 3,
   "metadata": {},
   "outputs": [
    {
     "data": {
      "text/plain": [
       "array([[0.10107638, 0.87680201],\n",
       "       [0.90458535, 0.32386931],\n",
       "       [0.81740033, 0.78529865],\n",
       "       [0.55868013, 0.26021161]])"
      ]
     },
     "execution_count": 3,
     "metadata": {},
     "output_type": "execute_result"
    }
   ],
   "source": [
    "#Rerun the function with different arguments.\n",
    "np.random.rand(4,2)"
   ]
  },
  {
   "cell_type": "markdown",
   "metadata": {},
   "source": [
    "Now the array generated has 4 rows and 2 colums of random numbers. We can also generate an array with say 4 columns & just one row."
   ]
  },
  {
   "cell_type": "code",
   "execution_count": 4,
   "metadata": {},
   "outputs": [
    {
     "data": {
      "text/plain": [
       "array([[0.76651259, 0.08257894],\n",
       "       [0.14572359, 0.97317777],\n",
       "       [0.20454477, 0.19045989],\n",
       "       [0.10245698, 0.51743122]])"
      ]
     },
     "execution_count": 4,
     "metadata": {},
     "output_type": "execute_result"
    }
   ],
   "source": [
    "np.random.rand(4,2)"
   ]
  },
  {
   "cell_type": "markdown",
   "metadata": {},
   "source": [
    "Now lets generate array without any arguments passed. "
   ]
  },
  {
   "cell_type": "code",
   "execution_count": 5,
   "metadata": {},
   "outputs": [
    {
     "data": {
      "text/plain": [
       "0.8719066767050188"
      ]
     },
     "execution_count": 5,
     "metadata": {},
     "output_type": "execute_result"
    }
   ],
   "source": [
    "np.random.rand()"
   ]
  },
  {
   "cell_type": "markdown",
   "metadata": {},
   "source": [
    "Just one array with just one element is now generated.  Therefore the arguments passed are determining the shape of the arrays generated.\n",
    "\n",
    "We can also include more dimensions to create depth for example:"
   ]
  },
  {
   "cell_type": "code",
   "execution_count": 6,
   "metadata": {},
   "outputs": [
    {
     "data": {
      "text/plain": [
       "array([[[0.97200859, 0.57914186, 0.0551126 ],\n",
       "        [0.06955181, 0.16533415, 0.4946    ]],\n",
       "\n",
       "       [[0.02588142, 0.22561658, 0.78062438],\n",
       "        [0.2399665 , 0.41784196, 0.75680473]],\n",
       "\n",
       "       [[0.08143338, 0.1673706 , 0.48571426],\n",
       "        [0.36514535, 0.63168135, 0.10398605]],\n",
       "\n",
       "       [[0.66635068, 0.75582718, 0.98557733],\n",
       "        [0.59052582, 0.15516474, 0.34266256]]])"
      ]
     },
     "execution_count": 6,
     "metadata": {},
     "output_type": "execute_result"
    }
   ],
   "source": [
    "np.random.rand(4,2,3)"
   ]
  },
  {
   "cell_type": "markdown",
   "metadata": {},
   "source": [
    "Now we have an array with 4 rows, 2 columns and a depth of 3 ie an array with 3 dimensions. We can continue on creating every more complex arrays adding more and more dimensions:"
   ]
  },
  {
   "cell_type": "code",
   "execution_count": 7,
   "metadata": {},
   "outputs": [
    {
     "data": {
      "text/plain": [
       "array([[[[0.06517312, 0.76908589, 0.26841616, 0.44305685, 0.80621144],\n",
       "         [0.23193112, 0.5246007 , 0.40945858, 0.25469658, 0.16761068],\n",
       "         [0.57256812, 0.02151564, 0.79847644, 0.07535364, 0.41155737]],\n",
       "\n",
       "        [[0.40891359, 0.81865212, 0.6779375 , 0.27841967, 0.37444843],\n",
       "         [0.76052153, 0.46054388, 0.07101078, 0.14634489, 0.76129735],\n",
       "         [0.51093684, 0.93100848, 0.21435871, 0.80791959, 0.83666931]]],\n",
       "\n",
       "\n",
       "       [[[0.20471985, 0.06298987, 0.71704873, 0.56681339, 0.46372096],\n",
       "         [0.02088105, 0.99963986, 0.12916565, 0.46853052, 0.23326926],\n",
       "         [0.03606244, 0.03574025, 0.75763717, 0.89219645, 0.94026113]],\n",
       "\n",
       "        [[0.44172263, 0.11604129, 0.28309517, 0.31181788, 0.87737108],\n",
       "         [0.77909192, 0.13390367, 0.2065085 , 0.9818403 , 0.06357257],\n",
       "         [0.06375195, 0.46690312, 0.9969678 , 0.47979665, 0.84645573]]],\n",
       "\n",
       "\n",
       "       [[[0.40688184, 0.80316336, 0.00915588, 0.08966561, 0.05949387],\n",
       "         [0.91486643, 0.41106236, 0.4563566 , 0.96223011, 0.23260711],\n",
       "         [0.19057219, 0.2491366 , 0.28900719, 0.93017298, 0.04662022]],\n",
       "\n",
       "        [[0.92673758, 0.86818188, 0.5065986 , 0.90046544, 0.30291211],\n",
       "         [0.16474914, 0.18378989, 0.45596726, 0.71103741, 0.5833076 ],\n",
       "         [0.71167021, 0.96373467, 0.52425886, 0.96780693, 0.84391499]]],\n",
       "\n",
       "\n",
       "       [[[0.9158897 , 0.57981835, 0.76176034, 0.49876712, 0.72746448],\n",
       "         [0.3978356 , 0.77199276, 0.68219291, 0.70929602, 0.8437047 ],\n",
       "         [0.79351418, 0.53917042, 0.69479102, 0.65803813, 0.05230165]],\n",
       "\n",
       "        [[0.45013372, 0.66501008, 0.06412302, 0.13471859, 0.65356397],\n",
       "         [0.79898968, 0.04414323, 0.08608517, 0.34974536, 0.44356573],\n",
       "         [0.43908664, 0.799559  , 0.42376985, 0.71176132, 0.93295118]]]])"
      ]
     },
     "execution_count": 7,
     "metadata": {},
     "output_type": "execute_result"
    }
   ],
   "source": [
    "np.random.rand(4,2,3,5)"
   ]
  },
  {
   "cell_type": "markdown",
   "metadata": {},
   "source": [
    "Now lets go back and look at the numbers generated. An array witt the shape 4 rows, 2 colums each with depth of 3 and within that 5 elements has been generated So we can see that ever more complex and multidimensional arrays can be generated with the numpy.random subpackage/function.\n",
    "We can also generate an array with just one array with a specified number of random values (10000 in this case) using the following syntax:"
   ]
  },
  {
   "cell_type": "code",
   "execution_count": 8,
   "metadata": {},
   "outputs": [
    {
     "data": {
      "text/plain": [
       "array([0.91764788, 0.90574344, 0.80308087, ..., 0.06422233, 0.0514619 ,\n",
       "       0.88745889])"
      ]
     },
     "execution_count": 8,
     "metadata": {},
     "output_type": "execute_result"
    }
   ],
   "source": [
    "np.random.rand(10000)"
   ]
  },
  {
   "cell_type": "markdown",
   "metadata": {},
   "source": [
    "Using matplotlib.pyplot function we can generate a histogram to show the range of random numbers generated: \n"
   ]
  },
  {
   "cell_type": "code",
   "execution_count": 9,
   "metadata": {},
   "outputs": [
    {
     "data": {
      "image/png": "[encoded data removed]",
      "text/plain": [
       "<Figure size 432x288 with 1 Axes>"
      ]
     },
     "metadata": {
      "needs_background": "light"
     },
     "output_type": "display_data"
    }
   ],
   "source": [
    "# use the matploblib magic command to ensure the histogram is shown.\n",
    "%matplotlib inline\n",
    "# import the matplotlib pyplot libary and give it the alias plt\n",
    "import matplotlib.pyplot as plt\n",
    "\n",
    "# set x equal to an array of 10,000 random numbers generated by function numpy.random.rand\n",
    "x = np.random.rand(10000)\n",
    "plt.hist(x)\n",
    "plt.show()\n",
    "\n"
   ]
  },
  {
   "cell_type": "markdown",
   "metadata": {},
   "source": [
    "The histogram gives a visual representation of the numbers generated by random.rand above. The histogram has a continuous variable on the x axis.  The values are chopped up into a reasonable number of bins in this case 10. We can see from the diagram that the number of values generated between values 0.0 and 0.1 is just as likely as the number of values generated between values 0.7 and 0.8. This holds true for each bin displayed. Therefore the distribution is uniform ( we'll look at this in more detail in sections 5  Distributions below).\n",
    "\n",
    "The other important point to note when using np.random.rand function is that all of the numbers genereated are greater than or equal to 0 and less than 1. Therefore, while this function allows us to control shape of the data generated and the number of values generated, the range of values is limited."
   ]
  },
  {
   "cell_type": "markdown",
   "metadata": {},
   "source": [
    "## 2.2. numpy.random.randn\n",
    "\n",
    "Now lets take a look at the numpy.random.randn function. At first glance it looks pretty similar to numpy.random.rand.  Again, we can generate an array within which are 3 arrays with 2 elements in each or put simply, 3 rows and 2 columns. However, unlike numpy.random.rand, the numbers generated by numpy.random.randn are not limited to values between 0.0 and 0.1. "
   ]
  },
  {
   "cell_type": "code",
   "execution_count": 10,
   "metadata": {},
   "outputs": [
    {
     "data": {
      "text/plain": [
       "array([[ 0.80391209, -0.70117894, -0.41629766],\n",
       "       [-0.53080085, -0.71366795, -0.10548706]])"
      ]
     },
     "execution_count": 10,
     "metadata": {},
     "output_type": "execute_result"
    }
   ],
   "source": [
    "np.random.randn(2,3)"
   ]
  },
  {
   "cell_type": "markdown",
   "metadata": {},
   "source": [
    "Like numpy.random.rand function we can also continue on creating more complex arrays:"
   ]
  },
  {
   "cell_type": "code",
   "execution_count": 11,
   "metadata": {},
   "outputs": [
    {
     "data": {
      "text/plain": [
       "array([[[ 0.77169378,  1.2015514 , -1.00130637],\n",
       "        [ 0.19406591,  0.95893416,  1.92534944]],\n",
       "\n",
       "       [[ 0.29958922, -1.54620767,  1.02482701],\n",
       "        [-1.09689924, -0.10676614, -0.19697469]],\n",
       "\n",
       "       [[ 0.09197681, -1.10176118, -0.04217324],\n",
       "        [-0.11162206, -0.62458163, -2.29630124]],\n",
       "\n",
       "       [[-0.64617322,  0.34724326,  0.83193939],\n",
       "        [-0.12054292, -0.19138555, -0.20028337]]])"
      ]
     },
     "execution_count": 11,
     "metadata": {},
     "output_type": "execute_result"
    }
   ],
   "source": [
    "np.random.randn(4,2,3)"
   ]
  },
  {
   "cell_type": "markdown",
   "metadata": {},
   "source": [
    "And the function also allows us to generate just one random number when no values are inputed."
   ]
  },
  {
   "cell_type": "code",
   "execution_count": 12,
   "metadata": {},
   "outputs": [
    {
     "data": {
      "text/plain": [
       "-1.6701418742029037"
      ]
     },
     "execution_count": 12,
     "metadata": {},
     "output_type": "execute_result"
    }
   ],
   "source": [
    "np.random.randn()"
   ]
  },
  {
   "cell_type": "markdown",
   "metadata": {},
   "source": [
    "**However**, lets see what happens when we generate an array of 10,000 values using numpy.random.randn(10000) function and lets compare it to the np.random.rand function when 10000 values are also generated.  The histogram produced by np.random.randn has a very different shape than produced by np.random.rand: "
   ]
  },
  {
   "cell_type": "code",
   "execution_count": 13,
   "metadata": {},
   "outputs": [
    {
     "data": {
      "image/png": "[encoded data removed]",
      "text/plain": [
       "<Figure size 432x288 with 1 Axes>"
      ]
     },
     "metadata": {
      "needs_background": "light"
     },
     "output_type": "display_data"
    },
    {
     "data": {
      "image/png": "[encoded data removed]",
      "text/plain": [
       "<Figure size 432x288 with 1 Axes>"
      ]
     },
     "metadata": {
      "needs_background": "light"
     },
     "output_type": "display_data"
    }
   ],
   "source": [
    "# Adapted from https://stackoverflow.com/questions/47240308/differences-between-numpy-random-rand-vs-numpy-random-randn-in-python\n",
    "# np.random.rand is for Uniform distribution (in the half-open interval [0.0, 1.0))\n",
    "# np.random.randn is for Standard Normal (aka. Gaussian) distribution (mean 0 and variance 1)\n",
    "# You can visually explore the differences between these two very easily:\n",
    "\n",
    "\n",
    "sample_size = 100000\n",
    "pdf, bins, patches = plt.hist(np.random.rand(sample_size))\n",
    "plt.title('rand: uniform')\n",
    "plt.show()\n",
    "\n",
    "pdf, bins, patches = plt.hist(np.random.randn(sample_size))\n",
    "plt.title('randn: normal')\n",
    "plt.show()\n"
   ]
  },
  {
   "cell_type": "markdown",
   "metadata": {},
   "source": [
    "Randn is using a normal distribution (Gaussian) with mean equal to 0 and variance 1. Values generated are more likely to fall between  0 and 0.1 than between 0.9 and 1. In contrast, for rand both of these are equally likely. In fact, as the histogram shows, approxiamately 68% of all randn outputs fall between -1 and +1, while 95% fall between -2 and +2, and about 99.7% fall between -3 and +3."
   ]
  },
  {
   "cell_type": "markdown",
   "metadata": {},
   "source": [
    "## 2.3 numpy.random.randint"
   ]
  },
  {
   "cell_type": "markdown",
   "metadata": {},
   "source": [
    "The randint function (numpy.random.randint) allows us to generate random interger(s) between a specified low (-10 in this case) and high (10 in this case):"
   ]
  },
  {
   "cell_type": "code",
   "execution_count": 14,
   "metadata": {},
   "outputs": [
    {
     "data": {
      "text/plain": [
       "-2"
      ]
     },
     "execution_count": 14,
     "metadata": {},
     "output_type": "execute_result"
    }
   ],
   "source": [
    "np.random.randint(-10, 10)"
   ]
  },
  {
   "cell_type": "markdown",
   "metadata": {},
   "source": [
    "Randint also allows us to generate tuples.:"
   ]
  },
  {
   "cell_type": "code",
   "execution_count": 15,
   "metadata": {},
   "outputs": [
    {
     "data": {
      "text/plain": [
       "array([[ -1,  -8],\n",
       "       [  2, -10],\n",
       "       [ -4,   6]])"
      ]
     },
     "execution_count": 15,
     "metadata": {},
     "output_type": "execute_result"
    }
   ],
   "source": [
    "np.random.randint(-10, 10, size = (3,2))"
   ]
  },
  {
   "cell_type": "markdown",
   "metadata": {},
   "source": [
    "Or indeed, we can just generate one integer.  The default low value when unspecified is 0 but the highest value must be specified:"
   ]
  },
  {
   "cell_type": "code",
   "execution_count": 16,
   "metadata": {},
   "outputs": [
    {
     "data": {
      "text/plain": [
       "2"
      ]
     },
     "execution_count": 16,
     "metadata": {},
     "output_type": "execute_result"
    }
   ],
   "source": [
    "np.random.randint(10)"
   ]
  },
  {
   "cell_type": "markdown",
   "metadata": {},
   "source": [
    "We can also use randint to generate a specified number of integers (size = 10000) with the lowest value possible specified (0 is defaulted in the following example)and up to a specified number of values (20000 in this case):"
   ]
  },
  {
   "cell_type": "code",
   "execution_count": 17,
   "metadata": {},
   "outputs": [
    {
     "data": {
      "text/plain": [
       "(array([1009.,  988.,  962., 1007., 1051., 1018.,  991.,  964., 1027.,\n",
       "         983.]),\n",
       " array([1.00000e+00, 2.00080e+03, 4.00060e+03, 6.00040e+03, 8.00020e+03,\n",
       "        1.00000e+04, 1.19998e+04, 1.39996e+04, 1.59994e+04, 1.79992e+04,\n",
       "        1.99990e+04]),\n",
       " <a list of 10 Patch objects>)"
      ]
     },
     "execution_count": 17,
     "metadata": {},
     "output_type": "execute_result"
    },
    {
     "data": {
      "image/png": "[encoded data removed]",
      "text/plain": [
       "<Figure size 432x288 with 1 Axes>"
      ]
     },
     "metadata": {
      "needs_background": "light"
     },
     "output_type": "display_data"
    }
   ],
   "source": [
    "x = np.random.randint(20000, size =(10000))\n",
    "plt.hist(x)"
   ]
  },
  {
   "cell_type": "markdown",
   "metadata": {},
   "source": [
    "Similar to rand function discussed above, the underlying distribution employed by randint function is the uniform distribution. Therefore, a value generated by the randint is just as likely to fall between 0 and 1000 as it is between 19,000 and 20,000. Unlike the rand function only integers (whole numbers) are generated though and our high and low is not limited to 0 and 1. "
   ]
  },
  {
   "cell_type": "markdown",
   "metadata": {},
   "source": [
    "## 3.4 numpy.random.choice\n",
    "\n",
    "NumPy random.choice function allows you to create random samples also. Basically, when given an input array of numbers, numpy.random.choice will randomly select one of those numbers and each number in the array has an equal chance of being selected (when we use the default setting in parameter p, more on this below).\n",
    "\n",
    "So say we have a NumPy array of 10 integers, the numbers 1 to 10 and we apply the numpy.random.choice function one number between 1 and 10 is randomly selected. \n",
    "\n",
    "Parameters:\n",
    "a required  ( the input array. can be newly created or be an existing numpy array)\n",
    "size ( size of the output)\n",
    "replace (when a sample is selected is it replaced and available to be selected again )\n",
    "p (by default all numbers have an equal probability of being selected. This parameter alters that probability.( \n",
    "\n",
    "Lets see an example. First lets create an array with with numbers 0 to 9 inclusive."
   ]
  },
  {
   "cell_type": "code",
   "execution_count": 18,
   "metadata": {},
   "outputs": [
    {
     "data": {
      "text/plain": [
       "array([0, 1, 2, 3, 4, 5, 6, 7, 8, 9])"
      ]
     },
     "execution_count": 18,
     "metadata": {},
     "output_type": "execute_result"
    }
   ],
   "source": [
    "array10 = np.arange(start = 0, stop = 10)\n",
    "array10"
   ]
  },
  {
   "cell_type": "markdown",
   "metadata": {},
   "source": [
    "Now lets use the numpy.random.choice function to randomly select an interger from the array10. But first, before doing so we need to select a seed to use.  We'll explain seeds in more detail in section \"6. Seeds\". For the moment though just bear in mind that we need to set the seed so that the random number generator np.random.choice will select one of the intergers and this choice selection is dependent on the seed set.  For example use seed 8 and then use the random.choice function to select an integer from predefined array10: "
   ]
  },
  {
   "cell_type": "code",
   "execution_count": 19,
   "metadata": {},
   "outputs": [
    {
     "data": {
      "text/plain": [
       "3"
      ]
     },
     "execution_count": 19,
     "metadata": {},
     "output_type": "execute_result"
    }
   ],
   "source": [
    "np.random.seed(8)\n",
    "np.random.choice(a = array10)"
   ]
  },
  {
   "cell_type": "markdown",
   "metadata": {},
   "source": [
    "Integer 3 from array10 is randomly selected.  We can repeat this random selection though by using the same code and the same seed 8:"
   ]
  },
  {
   "cell_type": "code",
   "execution_count": 20,
   "metadata": {},
   "outputs": [
    {
     "data": {
      "text/plain": [
       "3"
      ]
     },
     "execution_count": 20,
     "metadata": {},
     "output_type": "execute_result"
    }
   ],
   "source": [
    "np.random.seed(8)\n",
    "np.random.choice(a = array10)"
   ]
  },
  {
   "cell_type": "markdown",
   "metadata": {},
   "source": [
    "Now rather than using the predefined array10, lets get np.random.choice function to generate a new numpy array  (essentially an array with contents just like array10), use seed 0 again and select one of the intergers randomly again:"
   ]
  },
  {
   "cell_type": "code",
   "execution_count": 21,
   "metadata": {},
   "outputs": [
    {
     "data": {
      "text/plain": [
       "3"
      ]
     },
     "execution_count": 21,
     "metadata": {},
     "output_type": "execute_result"
    }
   ],
   "source": [
    "np.random.seed(8)\n",
    "np.random.choice(10)"
   ]
  },
  {
   "cell_type": "markdown",
   "metadata": {},
   "source": [
    "The same number is selected again. Numpy.random.choice has created a new array using NumPy arange but the new array has the same contents as array10. Since  np.random.choice(a = array10) is identical to np.random.choice(10). Therefore identical inputs and the same seed have been used resulting in the selection output 3.\n",
    "\n",
    "We can also select multiple values from an array. Lets select 5 sample numbers from an array of 100 values (0 to 99) created by random.choice with seed set to 4:  "
   ]
  },
  {
   "cell_type": "code",
   "execution_count": 22,
   "metadata": {},
   "outputs": [
    {
     "data": {
      "text/plain": [
       "array([46, 55, 69,  1, 87])"
      ]
     },
     "execution_count": 22,
     "metadata": {},
     "output_type": "execute_result"
    }
   ],
   "source": [
    "np.random.seed(4)\n",
    "np.random.choice(100, size = 5)"
   ]
  },
  {
   "cell_type": "markdown",
   "metadata": {},
   "source": [
    "Now lets create an array with 5 values (0-4), select 3 values but after each selection replace the sample  back into the possible values to be selected by setting parameter replace = True:"
   ]
  },
  {
   "cell_type": "code",
   "execution_count": 23,
   "metadata": {},
   "outputs": [
    {
     "data": {
      "text/plain": [
       "array([3, 0, 0])"
      ]
     },
     "execution_count": 23,
     "metadata": {},
     "output_type": "execute_result"
    }
   ],
   "source": [
    "np.random.seed(27)\n",
    "np.random.choice(5, size = 3, replace = True)"
   ]
  },
  {
   "cell_type": "markdown",
   "metadata": {},
   "source": [
    "The same sample number can be now be selected multiple times. This is basically like picking a card from a deck and then replacing the card in the pack before the next selection."
   ]
  },
  {
   "cell_type": "markdown",
   "metadata": {},
   "source": [
    "The last parameter  we will look at p, allows the probability of certain outcomes to be altered. Lets use an array with 11 values (0-10inclusive) again and randomly select one value but set the probability of selecting the first value to 50% while setting the probability of selecting the remaining values each at 5%."
   ]
  },
  {
   "cell_type": "code",
   "execution_count": 24,
   "metadata": {},
   "outputs": [
    {
     "data": {
      "text/plain": [
       "0"
      ]
     },
     "execution_count": 24,
     "metadata": {},
     "output_type": "execute_result"
    }
   ],
   "source": [
    "np.random.seed(27)\n",
    "np.random.choice(11, p = [.5, .05, .05, .05, .05, .05, .05, .05, .05, .05, .05] )"
   ]
  },
  {
   "cell_type": "markdown",
   "metadata": {},
   "source": [
    "Now lets increase the selection size to 30 and we can see how often 0 is selected. There is now a 50% chance of 0  being selected."
   ]
  },
  {
   "cell_type": "code",
   "execution_count": 25,
   "metadata": {},
   "outputs": [
    {
     "data": {
      "text/plain": [
       "array([ 0,  7,  5,  8,  0, 10,  8,  0,  5,  4,  8,  8,  5,  8,  0,  0,  0,\n",
       "        6,  0,  0,  0,  0,  6,  0,  0,  5,  0,  2,  0,  1])"
      ]
     },
     "execution_count": 25,
     "metadata": {},
     "output_type": "execute_result"
    }
   ],
   "source": [
    "np.random.seed(27)\n",
    "np.random.choice(11, size = 30, p = [.5, .05, .05, .05, .05, .05, .05, .05, .05, .05, .05] )"
   ]
  },
  {
   "cell_type": "markdown",
   "metadata": {},
   "source": [
    "# **2.5 “Permutations” functions**\n",
    "\n",
    "## **Shuffle**    \n",
    "The shuffle function modifies a sequence by shuffling its contents.  First, lets create a range of numbers. "
   ]
  },
  {
   "cell_type": "code",
   "execution_count": 26,
   "metadata": {},
   "outputs": [
    {
     "data": {
      "text/plain": [
       "array([0, 1, 2, 3, 4, 5, 6, 7, 8, 9])"
      ]
     },
     "execution_count": 26,
     "metadata": {},
     "output_type": "execute_result"
    }
   ],
   "source": [
    "arr = np.arange(10)\n",
    "arr\n"
   ]
  },
  {
   "cell_type": "markdown",
   "metadata": {},
   "source": [
    "Now lets use the shuffle function to randomly shuffle the contents of this array."
   ]
  },
  {
   "cell_type": "code",
   "execution_count": 27,
   "metadata": {},
   "outputs": [
    {
     "data": {
      "text/plain": [
       "array([3, 2, 8, 5, 6, 4, 0, 7, 9, 1])"
      ]
     },
     "execution_count": 27,
     "metadata": {},
     "output_type": "execute_result"
    }
   ],
   "source": [
    "np.random.shuffle(arr)\n",
    "arr"
   ]
  },
  {
   "cell_type": "markdown",
   "metadata": {},
   "source": [
    "The contents of the array are now reordered.  It is also possible to shuffle multi-dimensional arrays.  However, multi-dimensional arrays are only shuffled along the first axis. For example create an array with 3 rows and 3 columns from a range of 9."
   ]
  },
  {
   "cell_type": "code",
   "execution_count": 28,
   "metadata": {},
   "outputs": [
    {
     "data": {
      "text/plain": [
       "array([[0, 1, 2],\n",
       "       [3, 4, 5],\n",
       "       [6, 7, 8]])"
      ]
     },
     "execution_count": 28,
     "metadata": {},
     "output_type": "execute_result"
    }
   ],
   "source": [
    "arr1 = np.arange(9).reshape((3, 3))\n",
    "arr1"
   ]
  },
  {
   "cell_type": "markdown",
   "metadata": {},
   "source": [
    "Now lets shuffle the array arr1. "
   ]
  },
  {
   "cell_type": "code",
   "execution_count": 29,
   "metadata": {},
   "outputs": [
    {
     "data": {
      "text/plain": [
       "array([[3, 4, 5],\n",
       "       [6, 7, 8],\n",
       "       [0, 1, 2]])"
      ]
     },
     "execution_count": 29,
     "metadata": {},
     "output_type": "execute_result"
    }
   ],
   "source": [
    "np.random.shuffle(arr1)\n",
    "arr1"
   ]
  },
  {
   "cell_type": "markdown",
   "metadata": {},
   "source": [
    "Note, while the rows have been shuffled (ie the first axis/dimension), the columns have not been shuffled. Only the first axis is shuffled and the elements within each axis remain in place."
   ]
  },
  {
   "cell_type": "markdown",
   "metadata": {},
   "source": [
    "## **Permutation**    \n",
    "\n",
    "The random.permutation function allows us to create a new array with a single axis and with a specifc number of elements and return the elements in the resulting array in a random order.  The creation of arr2 demonstrates this:\n"
   ]
  },
  {
   "cell_type": "code",
   "execution_count": 30,
   "metadata": {
    "scrolled": true
   },
   "outputs": [
    {
     "data": {
      "text/plain": [
       "array([4, 9, 3, 8, 6, 2, 5, 1, 0, 7])"
      ]
     },
     "execution_count": 30,
     "metadata": {},
     "output_type": "execute_result"
    }
   ],
   "source": [
    "arr2 = np.random.permutation(10)\n",
    "arr2"
   ]
  },
  {
   "cell_type": "markdown",
   "metadata": {},
   "source": [
    "In adddition and similar to function random.shuffle, we can also use this function np.random.permutation() to shuffle the contents of an existing single dimensional array :"
   ]
  },
  {
   "cell_type": "code",
   "execution_count": 31,
   "metadata": {},
   "outputs": [
    {
     "data": {
      "text/plain": [
       "array([4, 8, 3, 5, 1, 0, 6, 7, 2, 9])"
      ]
     },
     "execution_count": 31,
     "metadata": {},
     "output_type": "execute_result"
    }
   ],
   "source": [
    "np.random.permutation(arr2)"
   ]
  },
  {
   "cell_type": "markdown",
   "metadata": {},
   "source": [
    "And again similiar to random.shuffle, the random.permutation function gives us the option to shuffle a multidimensional array :"
   ]
  },
  {
   "cell_type": "code",
   "execution_count": 32,
   "metadata": {},
   "outputs": [
    {
     "data": {
      "text/plain": [
       "array([[0, 1, 2],\n",
       "       [3, 4, 5],\n",
       "       [6, 7, 8]])"
      ]
     },
     "execution_count": 32,
     "metadata": {},
     "output_type": "execute_result"
    }
   ],
   "source": [
    "# first create an array with 9 elements in one axis and \n",
    "#then reshape so that the array has two dimenensions/axes one row and one colum.\n",
    "arr3 = np.arange(9).reshape((3, 3))\n",
    "arr3\n"
   ]
  },
  {
   "cell_type": "markdown",
   "metadata": {},
   "source": [
    "Now apply the random.permutation function: "
   ]
  },
  {
   "cell_type": "code",
   "execution_count": 33,
   "metadata": {},
   "outputs": [
    {
     "data": {
      "text/plain": [
       "array([[3, 4, 5],\n",
       "       [0, 1, 2],\n",
       "       [6, 7, 8]])"
      ]
     },
     "execution_count": 33,
     "metadata": {},
     "output_type": "execute_result"
    }
   ],
   "source": [
    "np.random.permutation(arr3)"
   ]
  },
  {
   "cell_type": "markdown",
   "metadata": {},
   "source": [
    "While the array has been shuffled only the x axis has been shuffled by random.permutation similar to random.shuffle. \n",
    "\n",
    "Therefore in summary both functions random.shuffle and random.permutation shuffle the contents of a single existing dimensional array and while both functions can also shuffle the contents of an existing multidimensional array only the the first axis is shuffled. The function random.permutation also allows us to **create and shuffle** a single dimensional array in one step."
   ]
  },
  {
   "cell_type": "markdown",
   "metadata": {},
   "source": [
    "# 3. DISTRIBUTIONS:  \n",
    "\n",
    "This sections looks at the numpy.random distribution fuctions. Probability distribution is a rule or set of rules that assigns probabilities to values of random variables. \"A probability distribution is a list of all of the possible outcomes of a random variable along with their corresponding probability values\" (Brooks-Bartlett, 2018).\n",
    "\n",
    "We will look at five different distributions available to use in numpy.random: Uniform Distributions, Normal Distributions, Binomial Distribution, Chisquare Distribution and **InSERT Last one here**\n",
    "\n"
   ]
  },
  {
   "cell_type": "markdown",
   "metadata": {},
   "source": [
    "## **3.1 Uniform Distributions**    \n",
    "Uniform distributions are probability distributions where the outcomes are equally likely (Investopedia, undated, unpaged).  \n",
    "\n",
    "The numpy.random.uniform distribution allows us to specify as arguments the range of values to be included from low to high and the number of random values to be returned (size). In the following example, all values generated will be greater than or equal to -1 and less than 0 and 1000 random values will be generated:\n"
   ]
  },
  {
   "cell_type": "code",
   "execution_count": 56,
   "metadata": {},
   "outputs": [
    {
     "data": {
      "text/plain": [
       "array([ 0.41917727, -0.44131517, -0.46959299,  0.45056554,  0.78409499,\n",
       "       -0.63902166,  0.84789909, -0.56355213,  0.5703396 , -0.27126598,\n",
       "       -0.75915031,  0.57935568, -0.74221171, -0.01525467,  0.59288217,\n",
       "        0.63100632, -0.5044073 ,  0.46590906,  0.52226127, -0.4949547 ,\n",
       "        0.83399642,  0.6880247 ,  0.96446595,  0.55121062, -0.59513586,\n",
       "       -0.42889366, -0.36765584,  0.57321157,  0.90677755, -0.33737664,\n",
       "        0.69719464, -0.75942151, -0.92405284,  0.01051223,  0.3867005 ,\n",
       "       -0.55608638,  0.06336216, -0.50029452,  0.92452164,  0.23916488,\n",
       "       -0.83615238,  0.14965005, -0.23735067,  0.35885679,  0.10449497,\n",
       "        0.8594287 , -0.8005108 , -0.68555699, -0.40342347,  0.44292776,\n",
       "        0.17154446, -0.79249044,  0.7092917 , -0.66856189,  0.81255211,\n",
       "       -0.13969423, -0.64672148, -0.62612596,  0.61236278,  0.14846946,\n",
       "       -0.09693776, -0.04379213,  0.93376472,  0.37750509, -0.66930136,\n",
       "        0.86025226,  0.90154777, -0.74478394,  0.01582158, -0.01228951,\n",
       "       -0.79761519,  0.64310282, -0.53174083,  0.65690312,  0.39779131,\n",
       "        0.20611207,  0.35518139,  0.68605326,  0.19838382,  0.36515683,\n",
       "        0.30836589,  0.99449695, -0.64876457, -0.27420063,  0.77201675,\n",
       "       -0.43793767,  0.50381258, -0.04793545, -0.32739049,  0.85846146,\n",
       "        0.01808268, -0.66665793, -0.88173858, -0.49563576, -0.27958726,\n",
       "       -0.89403387, -0.69423874,  0.63156129, -0.40201173, -0.51632458,\n",
       "        0.46455231, -0.25377253,  0.8339935 ,  0.80488229,  0.27300371,\n",
       "       -0.2506077 ,  0.21421642, -0.39002762, -0.42894529, -0.14655202,\n",
       "       -0.42834358,  0.10803374,  0.53448439,  0.80403658,  0.46351238,\n",
       "        0.41059206, -0.15664837,  0.18998484, -0.50546853,  0.48324752,\n",
       "       -0.40044118,  0.34456436, -0.63991312, -0.84188874,  0.39015705,\n",
       "        0.50068738, -0.7348338 ,  0.35835021,  0.09380347,  0.47115959,\n",
       "       -0.20215574, -0.97493482, -0.65123184, -0.5503264 ,  0.74604248,\n",
       "       -0.62784182,  0.56324766,  0.17960753,  0.47483812,  0.05394842,\n",
       "        0.90126263, -0.65863457, -0.12157468, -0.76585906, -0.93639946,\n",
       "       -0.22819845, -0.28918958, -0.32272187,  0.66609285, -0.89767576,\n",
       "        0.03512102, -0.84963616,  0.9317866 , -0.31820294,  0.40722236,\n",
       "        0.37819902,  0.65862385,  0.81902699, -0.20640754,  0.43915093,\n",
       "        0.68960202,  0.91318238,  0.6671338 , -0.44631801,  0.3240958 ,\n",
       "       -0.54082155,  0.48648899, -0.79059698, -0.63718952,  0.14162903,\n",
       "       -0.58398752,  0.80483474,  0.57601248, -0.22254052,  0.26392696,\n",
       "        0.41087577, -0.0634197 , -0.73982146,  0.58197441, -0.27764876,\n",
       "       -0.45619303,  0.6338634 ,  0.99179319,  0.91275249, -0.43576752,\n",
       "        0.33785014, -0.67382428, -0.42303084, -0.61458655, -0.00423402,\n",
       "       -0.42600208, -0.93381866,  0.34584209,  0.99987765, -0.83152265,\n",
       "       -0.20777073,  0.09851993,  0.41493617, -0.83412734,  0.85008092,\n",
       "       -0.71049471,  0.71660261,  0.99778687,  0.47481268,  0.62698869,\n",
       "        0.51799905, -0.63897165, -0.87313796, -0.42656766, -0.35063554,\n",
       "        0.18765659,  0.85635496, -0.71882248, -0.90292249,  0.16913416,\n",
       "        0.94656799,  0.43108855, -0.03093639, -0.11124927,  0.75225666,\n",
       "        0.06951167,  0.7444755 , -0.71272447, -0.40618966, -0.91122264,\n",
       "       -0.41486523, -0.02951633,  0.19070576, -0.46419721, -0.57807848,\n",
       "       -0.76128227,  0.53850855,  0.45049679,  0.89696383,  0.53597254,\n",
       "       -0.33466774, -0.17974376,  0.28004798, -0.24788171,  0.24935934,\n",
       "        0.73875075,  0.93956046, -0.96194427,  0.5418105 , -0.22303801,\n",
       "        0.23321497, -0.87117572, -0.1459668 ,  0.09337844,  0.00177015,\n",
       "       -0.83519893,  0.98686932, -0.56061522, -0.57837208, -0.13894295,\n",
       "       -0.61369664,  0.64063339, -0.12082873,  0.18425634, -0.08408686,\n",
       "        0.0555226 , -0.03186352,  0.41713665,  0.74417939,  0.19140703,\n",
       "       -0.95957281,  0.23060854,  0.48984041,  0.44918363,  0.23005066,\n",
       "       -0.56799349,  0.86206804,  0.83597851,  0.38744831, -0.40028246,\n",
       "       -0.44503057, -0.29439304,  0.30943958, -0.07261322, -0.34698465,\n",
       "       -0.64572212,  0.42569012,  0.87006066,  0.63818053, -0.6778969 ,\n",
       "        0.59643519, -0.93846317,  0.01161215,  0.17294512, -0.56914289,\n",
       "        0.72838936,  0.24893703, -0.40123305,  0.95993122, -0.22812689,\n",
       "        0.01776908, -0.70834028, -0.67975181, -0.44164434,  0.40715203,\n",
       "        0.73986728, -0.85873136,  0.96532455,  0.30852564,  0.78360629,\n",
       "        0.18875082, -0.46297788, -0.77289112,  0.57825665,  0.86346688,\n",
       "       -0.67076076,  0.06265375, -0.93020156,  0.76089904,  0.3059596 ,\n",
       "        0.0013808 , -0.15429492, -0.02001793, -0.43341908, -0.22638337,\n",
       "        0.32539987,  0.84812303,  0.99740356,  0.7723698 , -0.13488705,\n",
       "       -0.21739745,  0.18811894,  0.50914942,  0.22843657, -0.26182967,\n",
       "        0.43437531,  0.19595869, -0.30223796,  0.22775533,  0.69596852,\n",
       "       -0.51857384, -0.16045291,  0.57669046,  0.56316772, -0.84230352,\n",
       "        0.10490572,  0.03554385, -0.06999891, -0.32337933, -0.70250749,\n",
       "       -0.11028609, -0.88813048, -0.84864319,  0.73200702, -0.31737245,\n",
       "        0.38746683, -0.36194096,  0.39444866,  0.94891874,  0.84614817,\n",
       "       -0.20724935, -0.26940718,  0.15160437, -0.309768  , -0.95972029,\n",
       "       -0.26745866, -0.17250558, -0.81095071,  0.29394377, -0.83337139,\n",
       "       -0.87906608, -0.68271953, -0.10427569, -0.68391199, -0.72832156,\n",
       "       -0.71005612,  0.98567934,  0.3690273 ,  0.50704206, -0.59028946,\n",
       "       -0.06589357, -0.48744264,  0.3460361 ,  0.65482418,  0.10396257,\n",
       "       -0.93601762, -0.45706845,  0.11673791,  0.1217624 , -0.32328789,\n",
       "        0.57909179,  0.87365272,  0.05364628,  0.34195033, -0.2153412 ,\n",
       "        0.73795568,  0.13441183, -0.70489848,  0.53560553, -0.63611183,\n",
       "       -0.13049705,  0.2835918 , -0.08248014, -0.59143499, -0.22492531,\n",
       "       -0.95819069, -0.21771221,  0.49527793,  0.35048853, -0.26460324,\n",
       "       -0.09350186,  0.71844836,  0.31598525, -0.55935195, -0.78614536,\n",
       "       -0.99666962,  0.20404289,  0.58978514, -0.58533896,  0.62600469,\n",
       "        0.69726981, -0.38596569,  0.24067543, -0.59447632,  0.52895443,\n",
       "       -0.91322492, -0.69716575,  0.40140644,  0.1658446 , -0.30925304,\n",
       "       -0.90992005, -0.79099055,  0.92544306,  0.94857739, -0.77023026,\n",
       "       -0.45283674,  0.89255659, -0.60572946,  0.2228784 ,  0.81166302,\n",
       "       -0.13644931,  0.74491664, -0.76265143, -0.50337119,  0.95613271,\n",
       "        0.21589895, -0.80823632,  0.16620362, -0.24086663, -0.90610406,\n",
       "       -0.33501503, -0.60952783,  0.02159063, -0.74649933,  0.09236468,\n",
       "        0.26668601, -0.81103243, -0.63840887, -0.43817093, -0.51416656,\n",
       "        0.71864704,  0.84014043,  0.41079822,  0.67205103, -0.97654696,\n",
       "       -0.32163977,  0.75973953, -0.91317778,  0.05217351, -0.01363374,\n",
       "        0.12456144,  0.95897781,  0.71123026,  0.91682394, -0.74503191,\n",
       "       -0.53260286,  0.27617523, -0.84692599, -0.85301441, -0.44640553,\n",
       "       -0.26303633,  0.70427527,  0.90504433,  0.46731376, -0.55016185,\n",
       "        0.63301271, -0.7467895 , -0.62690092,  0.3956713 , -0.99506797,\n",
       "        0.43258037, -0.46207067,  0.2642831 ,  0.57759684, -0.34694609,\n",
       "        0.47719605, -0.61117666,  0.06628121, -0.56710692,  0.10464727,\n",
       "       -0.16532868,  0.33515896, -0.10335423, -0.42633788, -0.00878867,\n",
       "        0.97331471, -0.4945863 ,  0.97794818,  0.57592142,  0.42478284,\n",
       "        0.73882897,  0.17042956,  0.30183148,  0.5545852 ,  0.2995657 ,\n",
       "        0.05078925,  0.33163165,  0.09632707,  0.78721562,  0.49705217,\n",
       "        0.34566916,  0.45680484,  0.09943834,  0.73920513,  0.10677272,\n",
       "       -0.94144309, -0.01897102, -0.04695574, -0.85960275,  0.54532883,\n",
       "       -0.32260064,  0.20504643, -0.83064201,  0.49669962, -0.5236167 ,\n",
       "       -0.35403155,  0.71127808, -0.0978765 ,  0.80487449,  0.04702779,\n",
       "       -0.53717223,  0.3999683 , -0.88352039, -0.97228928, -0.67383234,\n",
       "       -0.37066051,  0.75827595,  0.88504385,  0.14977935, -0.21324413,\n",
       "        0.89990216, -0.4721011 , -0.12548706, -0.32282349,  0.05466504,\n",
       "       -0.2799329 , -0.31107749, -0.35979037, -0.4826216 ,  0.13459658,\n",
       "        0.17614716,  0.61887384,  0.13239608, -0.59732053, -0.28855917,\n",
       "       -0.65239137,  0.30956816,  0.29351272, -0.0900373 , -0.65187629,\n",
       "        0.36625085,  0.07047274,  0.8244901 , -0.53490039, -0.16947825,\n",
       "       -0.10108448,  0.12270458,  0.00710362, -0.22681965,  0.23318179,\n",
       "        0.17850163,  0.51462024,  0.17521574,  0.48159315,  0.64365891,\n",
       "        0.76150013, -0.5431421 , -0.79829898, -0.44416632,  0.75460179,\n",
       "        0.3258489 , -0.51050297, -0.25608293,  0.33056531, -0.33831731,\n",
       "        0.8294652 ,  0.55253983,  0.61584511, -0.56187341,  0.21587286,\n",
       "        0.36645781,  0.06892371, -0.75777603,  0.09289685, -0.72854935,\n",
       "       -0.91054594,  0.72635428,  0.52489996,  0.70592929, -0.41099716,\n",
       "        0.91037246, -0.87107408, -0.59906277,  0.22242009,  0.98835215,\n",
       "       -0.95207671, -0.38619111, -0.47917718, -0.62244143, -0.72355429,\n",
       "       -0.1426592 , -0.74075096,  0.26040384,  0.07813181, -0.28806689,\n",
       "        0.093526  , -0.8725856 , -0.25342426, -0.96316867, -0.71892704,\n",
       "        0.85996981,  0.24758294,  0.31714322, -0.44861149,  0.79397229,\n",
       "        0.59413096, -0.06253675, -0.50982974,  0.78048741, -0.37177674,\n",
       "        0.19220878, -0.11239328, -0.90549392, -0.83254631,  0.92381771,\n",
       "       -0.14845499, -0.44192438,  0.14134009,  0.37416222,  0.35675636,\n",
       "        0.59868364,  0.93956255,  0.06255898, -0.70311434,  0.56093455,\n",
       "       -0.81772198,  0.18805291, -0.29932079, -0.92731493, -0.19476957,\n",
       "       -0.34317081, -0.51134874,  0.14933327,  0.65265085,  0.90610111,\n",
       "        0.50523451, -0.01065817, -0.59786436, -0.63093616,  0.79387364,\n",
       "       -0.63948026,  0.12377327,  0.16395918, -0.36964933,  0.28342013,\n",
       "        0.57271811, -0.53018505, -0.18066945,  0.36834254,  0.39402965,\n",
       "       -0.19547408, -0.4177901 , -0.51720111, -0.54485966, -0.68904671,\n",
       "        0.95157616,  0.02607792, -0.84816724,  0.43081261,  0.97445022,\n",
       "        0.85786225, -0.28294186, -0.32870456,  0.7833745 ,  0.12032797,\n",
       "        0.75271449, -0.5270931 ,  0.70321429,  0.22250347, -0.6879382 ,\n",
       "        0.68460333, -0.87732455,  0.47313335, -0.24335591,  0.52650985,\n",
       "       -0.67864869,  0.55720431,  0.72565983,  0.80380558,  0.20077552,\n",
       "        0.03310843,  0.6033175 , -0.48374519, -0.33254859,  0.03396363,\n",
       "       -0.39702173,  0.92872277, -0.82514522,  0.75733397,  0.51110608,\n",
       "       -0.04460805, -0.59302254,  0.44782289, -0.90822929, -0.57338435,\n",
       "        0.71956329,  0.74848172, -0.30255027,  0.32798436, -0.63501499,\n",
       "        0.16512736, -0.4809999 ,  0.02731968,  0.15204834, -0.22411188,\n",
       "        0.99481021, -0.97302459, -0.33339859, -0.53319287, -0.02094742,\n",
       "        0.7633604 ,  0.071993  , -0.15492418,  0.25373653,  0.38367814,\n",
       "       -0.60024125, -0.68947137,  0.68413935, -0.17889723, -0.33307899,\n",
       "        0.06379936, -0.53670648, -0.81323577,  0.46062804,  0.41006485,\n",
       "       -0.4686645 ,  0.65765833,  0.00215486, -0.75949306, -0.94715708,\n",
       "       -0.01139849, -0.12421353,  0.33256977, -0.73120197, -0.45518183,\n",
       "       -0.11971885,  0.42929252,  0.36776501,  0.15654966, -0.72332178,\n",
       "       -0.93649103,  0.39071299, -0.39870497,  0.29683323,  0.26766864,\n",
       "       -0.46663535, -0.23637301,  0.58651998,  0.39535515, -0.33777323,\n",
       "        0.29774416, -0.22606106,  0.73627357, -0.55220873, -0.80075687,\n",
       "        0.17683293, -0.61682033, -0.36665919,  0.36098101,  0.36193453,\n",
       "        0.5728622 , -0.9413843 ,  0.08500302, -0.75886517,  0.12160038,\n",
       "       -0.63542803,  0.60033677, -0.14514626,  0.00304175, -0.10025122,\n",
       "        0.05432725,  0.59758292,  0.20519415,  0.65012828,  0.79977078,\n",
       "       -0.41730084,  0.7281326 , -0.42066807, -0.23191416,  0.00420358,\n",
       "        0.45684416,  0.43722396,  0.36533825,  0.12431707, -0.11160826,\n",
       "        0.1121123 ,  0.44224888, -0.49255291,  0.08593901, -0.17391141,\n",
       "        0.41344477, -0.79539657,  0.95262199,  0.2817003 ,  0.24988708,\n",
       "        0.00541904, -0.74059294, -0.75427273, -0.79638782, -0.44280196,\n",
       "       -0.42489652,  0.5000304 , -0.60413644, -0.64576862,  0.73078661,\n",
       "        0.74887704, -0.71603746,  0.92216852,  0.66258245,  0.11091735,\n",
       "       -0.39451371, -0.41958003, -0.26565941, -0.59605818, -0.65782528,\n",
       "       -0.17718178, -0.19967226, -0.93255139, -0.8612926 ,  0.29751145,\n",
       "        0.42304086,  0.68439585,  0.16350206,  0.97352149,  0.90349006,\n",
       "        0.5716034 ,  0.65221669, -0.11154305,  0.96074049, -0.87803248,\n",
       "        0.53516259,  0.21328115,  0.68543625,  0.15580115, -0.54178783,\n",
       "        0.2494655 , -0.66554821,  0.94721417, -0.33543263,  0.6374532 ,\n",
       "        0.90446153, -0.49619942,  0.41176121,  0.93178907,  0.22797328,\n",
       "       -0.7659362 , -0.944757  , -0.20822535,  0.18538228,  0.60025089,\n",
       "       -0.42269433,  0.73563437,  0.84432317,  0.84115148, -0.45742024,\n",
       "       -0.04524218,  0.7021717 , -0.42028602, -0.08733264,  0.52862989,\n",
       "       -0.3758839 , -0.71718044, -0.49489931, -0.02201165, -0.09401632,\n",
       "        0.96133735, -0.2550896 ,  0.96389634,  0.84999526, -0.08071176,\n",
       "       -0.05422019, -0.61927738,  0.65518004,  0.73278233, -0.22128773,\n",
       "       -0.67793702, -0.38917252, -0.58927184, -0.59336188, -0.21456767,\n",
       "       -0.65862037,  0.65147402,  0.31335468,  0.91767087,  0.31501004,\n",
       "        0.66710558,  0.82313074, -0.39844403,  0.94561895,  0.7449699 ,\n",
       "        0.70182085, -0.36894627,  0.67021338, -0.26519826, -0.77747033,\n",
       "       -0.77608813,  0.17479955,  0.58121277,  0.13675969,  0.44944583,\n",
       "        0.22067669,  0.2958476 ,  0.39107165,  0.72371125,  0.38435191,\n",
       "       -0.89458948,  0.20267665,  0.72339421,  0.42924461,  0.02102917,\n",
       "       -0.15065698, -0.0748715 ,  0.26769011,  0.47721015,  0.87139295,\n",
       "        0.12510151,  0.26781806,  0.64985088, -0.05098954, -0.00376367,\n",
       "        0.27512226,  0.17509149, -0.94922636, -0.88130152,  0.55615923,\n",
       "       -0.7826496 ,  0.81792832,  0.32116365, -0.91192782,  0.13940875,\n",
       "        0.41591938, -0.8634102 , -0.21674895, -0.53224387,  0.80199003,\n",
       "        0.94769587,  0.89174662,  0.15589906, -0.61987282,  0.3955066 ,\n",
       "        0.5709989 , -0.7013238 ,  0.25636707,  0.17386986, -0.3624458 ,\n",
       "       -0.85809093,  0.20227227,  0.75776706, -0.74096591,  0.64067631,\n",
       "       -0.75754891, -0.87001921,  0.72969215,  0.20121994,  0.23994457,\n",
       "        0.64141526, -0.18656486,  0.84867635,  0.96726991,  0.4344682 ,\n",
       "        0.56638039, -0.58570122, -0.5848059 , -0.93968728, -0.09420294,\n",
       "        0.63140888,  0.09394582, -0.40141823, -0.48947466,  0.43772678,\n",
       "       -0.45960198, -0.66353089, -0.79835378,  0.16027103, -0.9646687 ])"
      ]
     },
     "execution_count": 56,
     "metadata": {},
     "output_type": "execute_result"
    }
   ],
   "source": [
    "# create an array x using the uniform probability distribution\n",
    "np.random.uniform(-1, 0, 1000)\n"
   ]
  },
  {
   "cell_type": "markdown",
   "metadata": {},
   "source": [
    "The below histogram shows us the uniform distribution created. Values are uniformally distributed i.e. as you can see any value is equally likely to be generated between the intervals specified.  Values generated are equally likely to fall between  0 and -0.1 than between -0.9 and 1:"
   ]
  },
  {
   "cell_type": "code",
   "execution_count": 67,
   "metadata": {},
   "outputs": [
    {
     "data": {
      "image/png": "[encoded data removed]",
      "text/plain": [
       "<Figure size 432x288 with 1 Axes>"
      ]
     },
     "metadata": {
      "needs_background": "light"
     },
     "output_type": "display_data"
    }
   ],
   "source": [
    "\n",
    "# create an array x using the uniform probability distribution \n",
    "x = np.random.uniform(-1, 0, 1000)\n",
    "\n",
    "plt.hist(x)\n",
    "plt.show()"
   ]
  },
  {
   "cell_type": "markdown",
   "metadata": {},
   "source": [
    "## **3.2 Normal Distribution**  \n",
    "\n",
    "The NumPy normal distributions draws random samples from a normal (Gaussian) distribution (NumPy, Undatede).  The numpy.random.normal function creates a NumPy array that contains normally distributed data. Normally distributed data is shaped almost like a bell and is therefore often called the 'bell curve'.\n",
    "\n",
    "There are three parameters in the NumPy normal function: loc, scale and size. \n",
    "- the loc parameters sets the mean of the data. The default is zero.\n",
    "- the scale parameter sets the standard deviation of the data. The default is 1.\n",
    "- the size parameter determines the size and  the shape of the output.\n",
    "\n",
    "So to begin with, lets create an array with 1000 values with a mean of the default value 0 and visualize this information. We can see from the array created that the values center around 0. The output of np.random.normal is a lot more likely to fall between 0 and 0.5 than between 2.5 and 3. Most of the values will be more likely to be close to 0:"
   ]
  },
  {
   "cell_type": "code",
   "execution_count": 82,
   "metadata": {},
   "outputs": [
    {
     "data": {
      "image/png": "[encoded data removed]",
      "text/plain": [
       "<Figure size 432x288 with 1 Axes>"
      ]
     },
     "metadata": {
      "needs_background": "light"
     },
     "output_type": "display_data"
    }
   ],
   "source": [
    "# Create an array x using the normal distribution with 1000 generated values (size), \n",
    "# centered (loc) around the default value of zero\n",
    "# with a default standard deviation (scale) equal to 1.\n",
    "x = np.random.normal(size =1000)\n",
    "plt.hist(x)\n",
    "plt.show()"
   ]
  },
  {
   "cell_type": "markdown",
   "metadata": {},
   "source": [
    "Changing the value of the scale from the default value of 1 to 10, sets the standard deviation from the data equal to 10. The data centres still centers around the default 0 but now most of the data is within +10 or -10 of the centre:"
   ]
  },
  {
   "cell_type": "code",
   "execution_count": 85,
   "metadata": {},
   "outputs": [
    {
     "data": {
      "image/png": "[encoded data removed]",
      "text/plain": [
       "<Figure size 432x288 with 1 Axes>"
      ]
     },
     "metadata": {
      "needs_background": "light"
     },
     "output_type": "display_data"
    }
   ],
   "source": [
    "#create an array x with 1000 generated values, centered around the default 0\n",
    "#with the std deviation (scale) = 10.\n",
    "x = np.random.normal(size = 1000, scale = 10)\n",
    "plt.hist(x)\n",
    "plt.show()"
   ]
  },
  {
   "cell_type": "markdown",
   "metadata": {},
   "source": [
    "We can keep increasing the standard deviation (scale) and most of the data generated will still be within the standard deviation in this case -1000000 to 1000000. The bell curve is maintained:"
   ]
  },
  {
   "cell_type": "code",
   "execution_count": 93,
   "metadata": {},
   "outputs": [
    {
     "data": {
      "image/png": "[encoded data removed]",
      "text/plain": [
       "<Figure size 432x288 with 1 Axes>"
      ]
     },
     "metadata": {
      "needs_background": "light"
     },
     "output_type": "display_data"
    }
   ],
   "source": [
    "#create an array x with 1000 generated values, centered around the default 0\n",
    "#with the std deviation (scale) = 10.\n",
    "x = np.random.normal(size = 1000, scale = 1000000)\n",
    "plt.hist(x)\n",
    "plt.show()"
   ]
  },
  {
   "cell_type": "markdown",
   "metadata": {},
   "source": [
    "We can also change the mean of the data from 0 to 50 by adding parameter loc = 50.  The data now centers around 50 and most of the values are closer to 50 than 47 or 53.:"
   ]
  },
  {
   "cell_type": "code",
   "execution_count": 87,
   "metadata": {},
   "outputs": [
    {
     "data": {
      "image/png": "[encoded data removed]",
      "text/plain": [
       "<Figure size 432x288 with 1 Axes>"
      ]
     },
     "metadata": {
      "needs_background": "light"
     },
     "output_type": "display_data"
    }
   ],
   "source": [
    "x = np.random.normal(50, size = 1000)\n",
    "plt.hist(x)\n",
    "plt.show()"
   ]
  },
  {
   "cell_type": "markdown",
   "metadata": {},
   "source": [
    " ## **3.3 Binomial Distribution**  \n",
    " \n",
    "Unlike a Normal Distribution, a Binomial distribution is discrete.  It is not possible to find a data value between data values. \n",
    "\n",
    "Samples are drawn from a binomial distribution with specified parameters, n trials where n an integer >= 0 and p probability of success is in the interval [0,1]. (n may be input as a float, but it is truncated to an integer in use). In other words N is the number of trials and there are only two possible outcomes in a trial.  P is probability of a sucessful/positive outcome. \n",
    "\n",
    "A Binomial Distribution must answer Yes to all of the following questions. Lets apply these questions to the example of flipping a coin.\n",
    "\n",
    "1. Is there a set number of trials? Yes. Represented as n below.\n",
    "2. Are there only two possible outcomes? Yes. Only heads or tails can result. Note the outcomes have equal probability here as they are represented as 0.5. \n",
    "3. Are the outcomes of one trial independent of all other trials? Yes the result of one trial has no impact on the next trial. The coin remains the same throughout the trails & tests.\n",
    "4. Does the probability of success remain the same throught the trail?  Yes.   \n",
    "\n",
    "Here is an  example where the number of trials n = 10, the probability of heads yes in each trial is 0.5 and the number of experiments executed is 10000:\n"
   ]
  },
  {
   "cell_type": "code",
   "execution_count": 109,
   "metadata": {},
   "outputs": [
    {
     "name": "stdout",
     "output_type": "stream",
     "text": [
      "[4 7 6 ... 6 3 8]\n"
     ]
    },
    {
     "data": {
      "image/png": "[encoded data removed]",
      "text/plain": [
       "<Figure size 432x288 with 1 Axes>"
      ]
     },
     "metadata": {
      "needs_background": "light"
     },
     "output_type": "display_data"
    }
   ],
   "source": [
    "\n",
    "# number of trials, probability of each trial \n",
    "n, p = 10, 0.5 \n",
    "#create an array with binomial distribution and execute the experiment 10000 times \n",
    "s = np.random.binomial(n, p, 10000)\n",
    "print(s)\n",
    "# result of flipping a coin 10 times, tested 10000 times \n",
    "# with equal probability (0.5)of the result being heads yes or no.\n",
    "plt.hist(s)\n",
    "plt.show()\n",
    "\n"
   ]
  },
  {
   "cell_type": "markdown",
   "metadata": {},
   "source": [
    "Each of the numbers generated in the array s indicates how many of the (n) 10 flips of the coin resulted in heads e.g. 7/10 were heads, 5/10/ were heads etc.  As we can see most of the experiments resulted in a result equal to or close to 5 since we had set the probability = 0.5\n",
    "\n",
    "Imagine we can influence the coin flip so that now we have a probability of heads yes  = 0.75. In our example, therefore, we change the probability to 0.75.  We can see the shape of the binomial distribution changes. Most of the values generated are now centered around 0.75 and more values are generated to the right of 0.75 than the left as there is a higher probability of heads yes.  "
   ]
  },
  {
   "cell_type": "code",
   "execution_count": 113,
   "metadata": {},
   "outputs": [
    {
     "data": {
      "image/png": "[encoded data removed]",
      "text/plain": [
       "<Figure size 432x288 with 1 Axes>"
      ]
     },
     "metadata": {
      "needs_background": "light"
     },
     "output_type": "display_data"
    }
   ],
   "source": [
    "n, p = 10, 0.75  # number of trials, probability of each trial \n",
    "s = np.random.binomial(n, p, 10000)\n",
    "# result of flipping a coin 10 times, tested 10000 times.\n",
    "plt.hist(s)\n",
    "plt.show()"
   ]
  },
  {
   "cell_type": "markdown",
   "metadata": {},
   "source": [
    " ## **3.4 random.chisquare Distribution**  \n",
    " \n",
    "'The chi-square statistical test is used to determine whether there’s a significant difference between an expected distribution and an actual distribution'(Huneycutt, 2018). \n",
    "The python NumPy function np.random.chisquare generates samples with a chi-squared distribution.  In the following example the function generates 1000 sample values. The parameter degree of freedom is set to 1 and we can see that most the of the 1000 generated values are between 0 and 1 and the rest of the values are greater than 1. Also the futher we move along the x axis the less values:"
   ]
  },
  {
   "cell_type": "code",
   "execution_count": 149,
   "metadata": {},
   "outputs": [
    {
     "data": {
      "text/plain": [
       "(array([676., 145.,  87.,  28.,  23.,  17.,  10.,   8.,   4.,   2.]),\n",
       " array([6.59369139e-06, 9.14953105e-01, 1.82989962e+00, 2.74484613e+00,\n",
       "        3.65979264e+00, 4.57473915e+00, 5.48968566e+00, 6.40463217e+00,\n",
       "        7.31957868e+00, 8.23452519e+00, 9.14947170e+00]),\n",
       " <a list of 10 Patch objects>)"
      ]
     },
     "execution_count": 149,
     "metadata": {},
     "output_type": "execute_result"
    },
    {
     "data": {
      "image/png": "[encoded data removed]",
      "text/plain": [
       "<Figure size 432x288 with 1 Axes>"
      ]
     },
     "metadata": {
      "needs_background": "light"
     },
     "output_type": "display_data"
    }
   ],
   "source": [
    "x = np.random.chisquare(1, 1000)\n",
    "x\n",
    "plt.hist(x)\n"
   ]
  },
  {
   "cell_type": "markdown",
   "metadata": {},
   "source": [
    "Modifying the degree of freedom to 3, results in an array of values where most of the values generated are now between 0 and 3 and the remaining values are greater than 3 and the future we move along the x axis the less values are plotted:"
   ]
  },
  {
   "cell_type": "code",
   "execution_count": 122,
   "metadata": {},
   "outputs": [
    {
     "data": {
      "text/plain": [
       "(array([394., 296., 179.,  76.,  29.,  11.,   9.,   2.,   3.,   1.]),\n",
       " array([ 0.02069183,  1.81690038,  3.61310894,  5.40931749,  7.20552604,\n",
       "         9.0017346 , 10.79794315, 12.5941517 , 14.39036026, 16.18656881,\n",
       "        17.98277736]),\n",
       " <a list of 10 Patch objects>)"
      ]
     },
     "execution_count": 122,
     "metadata": {},
     "output_type": "execute_result"
    },
    {
     "data": {
      "image/png": "[encoded data removed]",
      "text/plain": [
       "<Figure size 432x288 with 1 Axes>"
      ]
     },
     "metadata": {
      "needs_background": "light"
     },
     "output_type": "display_data"
    }
   ],
   "source": [
    "x = np.random.chisquare(3,1000)\n",
    "x\n",
    "plt.hist(x)"
   ]
  },
  {
   "cell_type": "markdown",
   "metadata": {},
   "source": [
    "As we increase the value of the parameter degree of freedom the further away from a chi square curve we move and the closer we move towards a normal distribution."
   ]
  },
  {
   "cell_type": "code",
   "execution_count": 155,
   "metadata": {},
   "outputs": [
    {
     "data": {
      "text/plain": [
       "(array([ 69., 209., 308., 215.,  99.,  64.,  20.,  15.,   0.,   1.]),\n",
       " array([ 1.13730846,  4.2204103 ,  7.30351214, 10.38661398, 13.46971582,\n",
       "        16.55281766, 19.6359195 , 22.71902134, 25.80212318, 28.88522502,\n",
       "        31.96832687]),\n",
       " <a list of 10 Patch objects>)"
      ]
     },
     "execution_count": 155,
     "metadata": {},
     "output_type": "execute_result"
    },
    {
     "data": {
      "image/png": "[encoded data removed]",
      "text/plain": [
       "<Figure size 432x288 with 1 Axes>"
      ]
     },
     "metadata": {
      "needs_background": "light"
     },
     "output_type": "display_data"
    }
   ],
   "source": [
    "x = np.random.chisquare(10,1000)\n",
    "x\n",
    "plt.hist(x)\n",
    "\n",
    "\n"
   ]
  },
  {
   "cell_type": "code",
   "execution_count": 159,
   "metadata": {},
   "outputs": [
    {
     "data": {
      "text/plain": [
       "(array([  1.,   7.,  23.,  92., 200., 261., 215., 139.,  50.,  12.]),\n",
       " array([ 9454.97534243,  9551.39212039,  9647.80889836,  9744.22567633,\n",
       "         9840.64245429,  9937.05923226, 10033.47601022, 10129.89278819,\n",
       "        10226.30956615, 10322.72634412, 10419.14312209]),\n",
       " <a list of 10 Patch objects>)"
      ]
     },
     "execution_count": 159,
     "metadata": {},
     "output_type": "execute_result"
    },
    {
     "data": {
      "image/png": "[encoded data removed]",
      "text/plain": [
       "<Figure size 432x288 with 1 Axes>"
      ]
     },
     "metadata": {
      "needs_background": "light"
     },
     "output_type": "display_data"
    }
   ],
   "source": [
    "x = np.random.chisquare(10000,1000)\n",
    "x\n",
    "plt.hist(x)\n"
   ]
  },
  {
   "cell_type": "markdown",
   "metadata": {},
   "source": [
    " ## **3.4 another Distribution**  \n",
    "    "
   ]
  },
  {
   "cell_type": "code",
   "execution_count": 170,
   "metadata": {},
   "outputs": [
    {
     "data": {
      "image/png": "[encoded data removed]",
      "text/plain": [
       "<Figure size 432x288 with 1 Axes>"
      ]
     },
     "metadata": {
      "needs_background": "light"
     },
     "output_type": "display_data"
    },
    {
     "data": {
      "text/plain": [
       "(array([386., 362., 160.,  65.,  16.,   6.,   2.,   1.,   1.,   1.]),\n",
       " array([ 0.05289064,  2.67179872,  5.29070679,  7.90961487, 10.52852295,\n",
       "        13.14743102, 15.7663391 , 18.38524718, 21.00415525, 23.62306333,\n",
       "        26.2419714 ]),\n",
       " <a list of 10 Patch objects>)"
      ]
     },
     "execution_count": 170,
     "metadata": {},
     "output_type": "execute_result"
    },
    {
     "data": {
      "image/png": "[encoded data removed]",
      "text/plain": [
       "<Figure size 432x288 with 1 Axes>"
      ]
     },
     "metadata": {
      "needs_background": "light"
     },
     "output_type": "display_data"
    }
   ],
   "source": [
    "shape, scale = 2., 2.  # mean=4, std=2*sqrt(2)\n",
    "s = np.random.gamma(shape, scale, 1000)\n",
    "#Display the histogram of the samples, along with the probability density function:\n",
    "\n",
    "\n",
    "import matplotlib.pyplot as plt\n",
    "import scipy.special as sps\n",
    "count, bins, ignored = plt.hist(s, 50, density=True)\n",
    "y = bins**(shape-1)*(np.exp(-bins/scale) / (sps.gamma(shape)*scale**shape))\n",
    "\n",
    "plt.plot(bins, y, linewidth=2, color='r')\n",
    "plt.show()\n",
    "\n",
    "plt.hist(s)\n"
   ]
  },
  {
   "cell_type": "code",
   "execution_count": null,
   "metadata": {},
   "outputs": [],
   "source": []
  },
  {
   "cell_type": "code",
   "execution_count": null,
   "metadata": {},
   "outputs": [],
   "source": []
  },
  {
   "cell_type": "markdown",
   "metadata": {},
   "source": [
    "## 4. SEEDS\n",
    "This sections examines the use of seeds in generating random numbers. In section 1.2 numpy_random, we said pseudo-random number generators are completely deterministic and operate by algorithm. Moreover, numpy_random, through the use of seeds, makes code 'repeatable'(Sharpsight, Undated, Unpaged). \n",
    "\n",
    "If you use the same seed then you get the output. You can generate and use the same pseudo random numbers repeatedly. Thereby, making it possible to perform the same tests and yield the same results repeatedly. \n",
    "\n",
    "## 4.1 numpy.random.seed\n",
    "Lets get started by generating a pseudo random number using the between zero and one using the NumPy random random function (np.random.random) and using seed 0.\n"
   ]
  },
  {
   "cell_type": "code",
   "execution_count": 46,
   "metadata": {},
   "outputs": [
    {
     "data": {
      "text/plain": [
       "0.5488135039273248"
      ]
     },
     "execution_count": 46,
     "metadata": {},
     "output_type": "execute_result"
    }
   ],
   "source": [
    "np.random.seed(0)\n",
    "np.random.random()"
   ]
  },
  {
   "cell_type": "markdown",
   "metadata": {},
   "source": [
    "A float is generated. The random number is a probability. Now lets repeat the process using the same code and the same seed:"
   ]
  },
  {
   "cell_type": "code",
   "execution_count": 47,
   "metadata": {},
   "outputs": [
    {
     "data": {
      "text/plain": [
       "0.5488135039273248"
      ]
     },
     "execution_count": 47,
     "metadata": {},
     "output_type": "execute_result"
    }
   ],
   "source": [
    "np.random.seed(0)\n",
    "np.random.random()"
   ]
  },
  {
   "cell_type": "markdown",
   "metadata": {},
   "source": [
    "Notice exactly the same number is generated. Now lets change the seed to 67 and see what happens:"
   ]
  },
  {
   "cell_type": "code",
   "execution_count": 48,
   "metadata": {},
   "outputs": [
    {
     "data": {
      "text/plain": [
       "0.5458514299349786"
      ]
     },
     "execution_count": 48,
     "metadata": {},
     "output_type": "execute_result"
    }
   ],
   "source": [
    "np.random.seed(67)\n",
    "np.random.random()"
   ]
  },
  {
   "cell_type": "markdown",
   "metadata": {},
   "source": [
    "NumPy random generates a different random float and again we can repeat this output using the same code with the same seed 67 again."
   ]
  },
  {
   "cell_type": "code",
   "execution_count": 49,
   "metadata": {},
   "outputs": [
    {
     "data": {
      "text/plain": [
       "0.5458514299349786"
      ]
     },
     "execution_count": 49,
     "metadata": {},
     "output_type": "execute_result"
    }
   ],
   "source": [
    "np.random.seed(67)\n",
    "np.random.random()\n"
   ]
  },
  {
   "cell_type": "markdown",
   "metadata": {},
   "source": [
    "What happens if we do not deliberately set the seed number? :"
   ]
  },
  {
   "cell_type": "code",
   "execution_count": 50,
   "metadata": {},
   "outputs": [
    {
     "data": {
      "text/plain": [
       "0.858856610591359"
      ]
     },
     "execution_count": 50,
     "metadata": {},
     "output_type": "execute_result"
    }
   ],
   "source": [
    "np.random.random()"
   ]
  },
  {
   "cell_type": "markdown",
   "metadata": {},
   "source": [
    "NumPy random selects its own seed number and then a different float is generated. The code is then not repeatable as we cannot guarentee the same output each time. Therefore, for NumPy random code to be repeatable the seed must be set explicitly each time the code is run."
   ]
  },
  {
   "cell_type": "code",
   "execution_count": 51,
   "metadata": {},
   "outputs": [
    {
     "data": {
      "text/plain": [
       "0.6858925865665791"
      ]
     },
     "execution_count": 51,
     "metadata": {},
     "output_type": "execute_result"
    }
   ],
   "source": [
    "np.random.random()"
   ]
  },
  {
   "cell_type": "markdown",
   "metadata": {},
   "source": [
    "## 4.2 numpy.random.randomstate\n"
   ]
  },
  {
   "cell_type": "code",
   "execution_count": 52,
   "metadata": {},
   "outputs": [
    {
     "name": "stdout",
     "output_type": "stream",
     "text": [
      "('MT19937', array([4134032038, 4192882283, 1341233294, 2467549661, 1936768501,\n",
      "       2900988885, 3266535517,  278787930,  347390316, 1345937838,\n",
      "       1732753686, 1305636892, 3286404694, 3726750149, 2598757498,\n",
      "       4053872477, 4099156708, 1777156324, 2799165261,  257278888,\n",
      "       4225000707, 1690329298, 1701727430, 1921653126, 3166192904,\n",
      "        908234986,  543720576, 2624949186, 3179780581, 2547745503,\n",
      "       2415884732, 1618809235, 2514765401, 1092245127,  609653517,\n",
      "       2714169543, 2577523839,  450854763, 3027457514, 2778793448,\n",
      "        717976822, 1586374339, 1286905175,  792201208, 2125309294,\n",
      "       3634736206, 1121438392, 2412306816, 1706773404, 3322359739,\n",
      "       2400804609, 3692784513,  692139659,   99303778, 4270670017,\n",
      "       3651881875,  578126860,  544777177, 3674273821, 3715437264,\n",
      "        498605533, 2835676374,  315682353, 1756786500, 3708863652,\n",
      "        210004179, 2020940899,  360810528, 3809708048, 3983382620,\n",
      "        728599113, 3826173976, 2798355393,  563159752, 2758733654,\n",
      "        530552219, 1857446082, 1134593461, 1636803454, 1927213946,\n",
      "       2250665478,  878663049,  632636063, 4136620797,  159059698,\n",
      "       3382513689, 1720357966,  633568434,  157833259, 3285413703,\n",
      "        443785368,  878272178, 1362097858, 1231556512, 4158240704,\n",
      "        755518743, 3061302316, 1578655150, 1830408330,  200134652,\n",
      "       1172675216,  643970367, 1912108237, 2674970493, 1348885500,\n",
      "       1998105867, 1214589700, 3583417434,  195861941, 2598792648,\n",
      "       1329850789, 1617843845, 4151787690,  227097733, 1602893315,\n",
      "       2331762676, 2078525784, 3450935657, 2399882889, 1949229419,\n",
      "       4000190980, 2841131215, 3821716818, 3461662567, 2588602251,\n",
      "        506331164, 1040716611, 1604737562, 1767476075,  187723653,\n",
      "       3908521730, 3901941022, 4210158240, 1672455142, 3519212148,\n",
      "        190809494, 2367009469,  120231033, 3172508213, 2983984784,\n",
      "       1153878032, 3854559961, 3359975600, 2618846923, 4170620349,\n",
      "        645056870, 4061747740, 1808776881, 3323664788, 3161533075,\n",
      "        301556309, 3083056277, 1724131603, 3450590143,   75419824,\n",
      "       1584953770, 3153072013, 3842113681,   52124869, 3811714369,\n",
      "       2767158249,  529051911, 3964513547, 4288484787, 2219053244,\n",
      "       3445612469, 2148365990, 2211642204, 2749517898, 1263205072,\n",
      "        483482418, 3123323816, 3904311289, 1613675655, 3018946223,\n",
      "       3885219229, 3795657722, 1326756692, 4225086457, 1399553133,\n",
      "        570232495, 1660798729, 2021651328, 1587746689, 2409424677,\n",
      "       2899523654, 3541627531, 2653303982, 2684547172, 2533565380,\n",
      "       2809811690,  767061593, 3918906101, 3046712487, 3900009985,\n",
      "       2143852656, 3550291934, 3375655697, 1379366953, 2171763077,\n",
      "       2006732679, 2388170904,  140466876, 1184612651, 3052218135,\n",
      "        849387131, 1348624989,  752342124, 2250421314, 1054648422,\n",
      "       2469171028, 3934636288, 1017091865, 3262342598,  966877848,\n",
      "        310367276,  452241805, 3097223337, 1923013657, 1613344543,\n",
      "        185620793, 1358220926, 1092246100,  273769281, 3425549238,\n",
      "       3142651431, 2757250840, 2298149635, 3687272021, 3865125834,\n",
      "       1501339447, 4277166117, 3648838264,  162607745,  164264973,\n",
      "        147343781, 3070045743, 1666955163, 3496801243, 1108343595,\n",
      "       3774726608,  610758353,  548221472,  157358912, 3557693754,\n",
      "       3172772269, 2355017132, 1882569033,  461549377, 3776751927,\n",
      "       2039801808, 2299009892,  439763239, 4067721970, 3855640780,\n",
      "       1626163239, 2907445371, 1525603375, 1830799779, 2196028715,\n",
      "       2785696185,  231509573, 3552220356, 1174608032,  385924700,\n",
      "       2153643986, 2829967544,  993344992, 4052683304,  459367207,\n",
      "       4221463355, 2536649754, 1576851310, 3417492913, 3965238671,\n",
      "       2536402817, 1813650544, 3542920149,  171003594, 3548446803,\n",
      "       4242794327, 2385809029, 3946561927, 2181548023, 3068928708,\n",
      "        395414258, 2726660423, 2900712407,  920195984, 2320630606,\n",
      "        833270157, 3792482939,  661744275, 3671868473, 2944127731,\n",
      "       3346615104, 3769973643, 1114480714, 2475926026,  480473980,\n",
      "       3334140082, 2788022246, 3492033064, 2509146198, 2767215264,\n",
      "       1387435573, 1969560985, 3322699714, 4043109637, 4240893415,\n",
      "       2236235057, 3211801319, 1422984840, 3921216644,  970380843,\n",
      "       2140667581, 3438521144,  788389154, 1945644459, 1071495130,\n",
      "       1031068304,  486743479, 3704032134, 2342661956, 2015629555,\n",
      "       2326390516, 2342860811, 4167133777, 4044645951, 3455043392,\n",
      "        725175901,  336460832, 3963743142, 2937000035,  992480545,\n",
      "       1911754356, 2163487816,  921284651, 1533431527,  763932446,\n",
      "        621842705, 2501802234, 3573298741, 1587366793, 2234492934,\n",
      "       3667562906, 2840458611, 1920853048, 2947747647, 3230025485,\n",
      "       2212316447, 2232442243, 2707436827,  508786090, 1596148299,\n",
      "       1630028492, 2741449167, 3681456510, 3887992140, 2577465043,\n",
      "       2142814752, 3711198119, 4220843974, 2924935324, 1848750192,\n",
      "       1948866171, 3214906639,  321834014, 1637892664, 1283857294,\n",
      "       3759784455, 1881419914,  431517843,  255810674, 3285107710,\n",
      "       2764876389, 2154927639, 3257237602, 3678771400, 2767722608,\n",
      "       2667563453,  878282041, 2071309525, 1490276730, 1010816931,\n",
      "       3711237525, 3700300958,   45103705, 3178211669, 3201943284,\n",
      "        954084501,  893048272, 1069670036, 3382953926,  849481766,\n",
      "       2649236885,  553709279, 4219651858,  388279061, 3589914251,\n",
      "       1426945522, 1826918991, 3572958410, 1382342890, 4107893758,\n",
      "       2606705014,  136430057,   58287951, 1962388950, 2098819656,\n",
      "       2463064388,  569081912, 1340601124, 3844539883, 3597431657,\n",
      "       3827545994, 1914886656, 3949236473, 2754831318, 1474311230,\n",
      "        367578830, 2769867783, 3317805982, 3315291127, 1307057615,\n",
      "       3855393818,  229805227, 2341483104, 1108824340, 2705253419,\n",
      "       3382467275,  641211309, 1693004420,  200625490, 3387517932,\n",
      "       2835635223,  668550256, 3764648890, 2868643801, 1530372877,\n",
      "       2778852126, 4007563371, 1523196541, 1446926307,  718409778,\n",
      "       4019513507, 2125898100, 1531786123, 4230882747,  828784604,\n",
      "       1820083936, 1165544560, 2742009173, 4004648794, 1954014606,\n",
      "       4018333547, 3282213575, 3118668987, 1771797342, 1540959211,\n",
      "       1003816468, 2466352560,  426789601, 3703641614,   32816544,\n",
      "        407214969, 2125195462, 1091634706, 4207617272, 2424826964,\n",
      "       2182448893,  973472072,   39205727, 2881627138,   12410850,\n",
      "       2427409801, 4011714179, 1635983651, 1400351698, 2435895799,\n",
      "       3948146812, 4145043515, 4079843740, 1583642585, 3441131187,\n",
      "       3865160808, 3294998212, 2720701574, 3086071637, 4029854308,\n",
      "       1673902696, 3019835411,  196995275, 1034271904, 1236539432,\n",
      "       1075842917, 2604275306,  289912910, 1067633102,  946497666,\n",
      "       3440641144, 3725693895, 2377252759,  631977343,  589015688,\n",
      "       1887726182, 4081994207,  820537561, 4134084292,   82616233,\n",
      "        717244476, 2415768864,  753417301, 1843172009, 3218461406,\n",
      "        543420703,  330848764, 2338035428,  648989074, 3990797093,\n",
      "       2396626822, 3697390088, 2606668058, 2943388262, 2848944055,\n",
      "       2661874043, 2916765247, 3999509286, 3841422178, 2916426922,\n",
      "       3645655613, 4013372540, 4089208636, 1543407072, 3544379833,\n",
      "       3694878614, 3587266905, 1105132020, 3169144037,  883840437,\n",
      "       2883042537,   76205883, 1537525679, 1522200635,  733958829,\n",
      "        890212284, 3672096442,  682580733, 2453974139, 1401480733,\n",
      "       3529134523, 2145223260, 1276554129, 1445821274, 2219118178,\n",
      "       1132416519, 1502119078, 2899755716,    6815560, 2177130787,\n",
      "       4085194684, 2095979662, 3365870735, 3985175291, 1134091308,\n",
      "       3836403112, 3554786705,  478235581, 3830372842, 1971349493,\n",
      "       2784109733, 3831395742, 3694402387, 2347542047, 2134875990,\n",
      "       3103366841, 1131992876,   91049417, 2914021346, 1621459056,\n",
      "        280177779,  480461072, 2536331190, 4142149399,  239758432,\n",
      "        669814532, 2288874680, 1303323261, 2922440066, 1057861908,\n",
      "       3922508810, 1486546470, 1761840562, 3214531961, 3299163101,\n",
      "       2785061802, 1607609776, 2699287809, 4150195420, 3052982439,\n",
      "       3537243091, 1589574580, 3060846540, 2318080972, 1068798605,\n",
      "       3439146711, 1714186666, 1232365844,  983297864, 1036796852,\n",
      "       3050222516, 1145677345, 2737198081,  716359407, 4030084536,\n",
      "       2335443967, 4131172522,  195833566,  209651119, 2488439112,\n",
      "        347789337, 3138285584, 2698889026, 1513408396], dtype=uint32), 6, 0, 0.0)\n",
      "[9 3 6 9 3 7 8 5 3 6]\n"
     ]
    }
   ],
   "source": [
    "state0 = np.random.get_state()\n",
    "# draw some random numbers\n",
    "print(state0)\n",
    "print(np.random.randint(0, 10, 10))"
   ]
  },
  {
   "cell_type": "code",
   "execution_count": 53,
   "metadata": {},
   "outputs": [
    {
     "name": "stdout",
     "output_type": "stream",
     "text": [
      "[4 7 1 3 7 8 7 2 9 5]\n"
     ]
    }
   ],
   "source": [
    "print(np.random.randint(0, 10, 10))\n"
   ]
  },
  {
   "cell_type": "markdown",
   "metadata": {},
   "source": [
    "# 5. SUMMARY\n",
    "\n",
    "## KEY LEARNINGS:\n",
    "1. \n",
    "2. "
   ]
  },
  {
   "cell_type": "markdown",
   "metadata": {},
   "source": [
    "## References\n",
    "Huneycutt, J. (2018) Running Chi-Square Tests with Die Roll Data in Python, Towards Data Science https://towardsdatascience.com/running-chi-square-tests-in-python-with-die-roll-data-b9903817c51b\n",
    "NumPy (Undateda), https://numpy.org/#  \n",
    "NumPy (Undatedb), https://numpy.org/devdocs/user/quickstart.html\n",
    "Numpy (Undatedc), https://numpy.org/doc/1.15/reference/generated/numpy.random.rand.html#numpy.random.rand\n",
    "NumPy (Updatedb), NumPy User Guide, Manual 1.15, Reference https://numpy.org/doc/1.15/reference/routines.random.html\n",
    "Investopedia, (Undated) https://www.investopedia.com/terms/u/uniform-distribution.asp\n",
    "Numpy (Undatede), https://numpy.org/doc/1.15/reference/generated/numpy.random.normal.html#numpy.random.normal\n",
    "Stattreck (undated), What is a Probability Distribution? https://stattrek.com/probability/probability-distribution.aspx\n",
    "\n",
    "NumPy (Undatedf) https://numpy.org/doc/1.17/reference/random/generated/numpy.random.Generator.shuffle.html#numpy-random-generator-shuffle\n",
    "\n",
    "Sharpsight,(2019) NumPy Random Seed Explained, https://www.sharpsightlabs.com/blog/numpy-random-seed/\n",
    "Stackoverflow (How can I retrieve the current seed of NumPy's random number generator?(https://stackoverflow.com/a/32172816\n",
    "\n",
    "Brooks-Bartlett, J. (2018) Probability concepts explained: probability distributions (introduction part 3), Towards Science https://towardsdatascience.com/probability-concepts-explained-probability-distributions-introduction-part-3-4a5db81858dc\n",
    "\n"
   ]
  },
  {
   "cell_type": "code",
   "execution_count": null,
   "metadata": {},
   "outputs": [],
   "source": []
  }
 ],
 "metadata": {
  "kernelspec": {
   "display_name": "Python 3",
   "language": "python",
   "name": "python3"
  },
  "language_info": {
   "codemirror_mode": {
    "name": "ipython",
    "version": 3
   },
   "file_extension": ".py",
   "mimetype": "text/x-python",
   "name": "python",
   "nbconvert_exporter": "python",
   "pygments_lexer": "ipython3",
   "version": "3.7.2"
  }
 },
 "nbformat": 4,
 "nbformat_minor": 2
}
