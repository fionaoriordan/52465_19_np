{
 "cells": [
  {
   "cell_type": "markdown",
   "metadata": {},
   "source": [
    "# Module 52465 numpy.random Assigmnent.\n",
    "## Fiona O'Riordan \n",
    "## Due Date 11th November 2019"
   ]
  },
  {
   "cell_type": "markdown",
   "metadata": {},
   "source": [
    "## 1. Introduction\n",
    "The purpose of this assignment, for Module 52465 Programming for Data Analysis, is to explain the overall purpose of Python numpy package **numpy.random** and the use of the **“Simple random data”** and **“Permutations” functions**, to provide a detailed and comprehensive exploration of five its **distributions** namely: **INSERT NAMES HERE** and lastly, use of **seeds** in generating pseudorandom numbers will be examined.\n",
    "\n",
    "\n",
    "Numpy.random is an often used and important subpackage of the Numpy package in Python as many other packages are dependent on it.  However, interacting with the package directly is rare. Instead, typically the numpy subpackage objects are used via other packages such as Pandas and SciPy. Numpy.random is used to generate random numbers according to different probabilities across different intervals. \n",
    "\n",
    "To begin with Python numpy package will be briefly outlined. Then, an indept look at the numpy subpackage numpy.random will be provided. Next, the use of the “Simple random data\" and “Permutations” functions** will be explored and then the distributions **INSERT NAMES HERE** will be examined. Finally, a summary of the key learnings will be highlighted."
   ]
  },
  {
   "cell_type": "code",
   "execution_count": null,
   "metadata": {},
   "outputs": [],
   "source": []
  },
  {
   "cell_type": "markdown",
   "metadata": {},
   "source": [
    "## 2. NumPy\n",
    "The python package NumPy is the core package for scientifc computing within Python (NumPy,Undateda). The package includes: a N-dimensional array object, an advanced broadcasting functions, the ability to integrate C/C++ and Forstran Code along with capacity for linear algebra, Fourier transform and random number generation (NumPy, Undateda). NumPy can be used not only for scientific uses but also as  an 'efficient multi-dimensional container of generic data' (NumPy, Undateda, Unpaged). Therefore, it can be easily integreated with numberous other databases (NumPy, Undateda).\n",
    "\n",
    "NumPy's primary object is the homogeneous multidimensional array . It is a table, typically containing numbers, of the same data type with a tuple non negative interger index  (NumPy, Undatedb).  In NumPy dimensions are refered to as axes (NumPy, Undatedb). Then, unlike the Standard Python Library Class array.array which can have only one dimension, the NumPy array (full name ndarray) can have multiple dimensions which are called axes. \n"
   ]
  },
  {
   "cell_type": "markdown",
   "metadata": {},
   "source": [
    "## 3. numpy.random : \n",
    "\n",
    "The numpy.random package is concerned with the creation of computer generated random numbers. The numbers generated appear to be random but in fact are pseudo random (Sharpsight, 2019). Actual random numbers are created by a physical process. Computer generated random numbers are pseudo random numbers because while they may appear to be random they are actually pre-determined (Sharpsight, 2019). Alogrithms, called pseudo random number generators, are constructed to create pseudo random numbers (Sharpsight, 2019).  \n",
    "\n",
    "The numpy.random package is therefore concerned with the creation of numbers that appear to be random but are infact deterministic. When we get to the below section on seeds this concept will be enlighted further. For the moment, we work on the assumption that numpy.random creates pseudo random numbers.\n",
    "\n",
    "\n",
    "\n",
    "### Random Numbers & Multidimensional\n",
    "\n"
   ]
  },
  {
   "cell_type": "markdown",
   "metadata": {},
   "source": [
    "### 3.1 numpy.random.rand \n"
   ]
  },
  {
   "cell_type": "code",
   "execution_count": 1,
   "metadata": {},
   "outputs": [
    {
     "data": {
      "text/plain": [
       "array([[0.60724951, 0.49879957],\n",
       "       [0.92923951, 0.86564369],\n",
       "       [0.01086056, 0.12855472]])"
      ]
     },
     "execution_count": 1,
     "metadata": {},
     "output_type": "execute_result"
    }
   ],
   "source": [
    "import numpy as np\n",
    "np.random.rand(3,2)"
   ]
  },
  {
   "cell_type": "code",
   "execution_count": null,
   "metadata": {},
   "outputs": [],
   "source": []
  },
  {
   "cell_type": "markdown",
   "metadata": {},
   "source": [
    "Note the output generated is an array within which are 3 arrays with 2 elements in each or put simply, 3 rows and 2 columns.  Lets rerun the script again."
   ]
  },
  {
   "cell_type": "code",
   "execution_count": 2,
   "metadata": {},
   "outputs": [
    {
     "data": {
      "text/plain": [
       "array([[0.85974561, 0.61425478],\n",
       "       [0.47365722, 0.48347739],\n",
       "       [0.24986529, 0.44027475]])"
      ]
     },
     "execution_count": 2,
     "metadata": {},
     "output_type": "execute_result"
    }
   ],
   "source": [
    "#Rerun the function \n",
    "np.random.rand(3,2)"
   ]
  },
  {
   "cell_type": "raw",
   "metadata": {},
   "source": []
  },
  {
   "cell_type": "markdown",
   "metadata": {},
   "source": [
    "Note the same script generates different different random numbers. Therefore, we now know that np.random.rand generates random numbers.  Now lets change the arguments:"
   ]
  },
  {
   "cell_type": "code",
   "execution_count": 3,
   "metadata": {},
   "outputs": [
    {
     "data": {
      "text/plain": [
       "array([[0.40500264, 0.28344789],\n",
       "       [0.98217917, 0.1958496 ],\n",
       "       [0.0971819 , 0.6936581 ],\n",
       "       [0.588391  , 0.69324217]])"
      ]
     },
     "execution_count": 3,
     "metadata": {},
     "output_type": "execute_result"
    }
   ],
   "source": [
    "#Rerun the function with different arguments.\n",
    "np.random.rand(4,2)"
   ]
  },
  {
   "cell_type": "markdown",
   "metadata": {},
   "source": [
    "Now the array generated has 4 rows and 2 colums of random numbers. We can also generate an array with say 4 columns & just one row."
   ]
  },
  {
   "cell_type": "code",
   "execution_count": 4,
   "metadata": {},
   "outputs": [
    {
     "data": {
      "text/plain": [
       "array([[0.21554355, 0.05317197],\n",
       "       [0.55072104, 0.74646595],\n",
       "       [0.73178049, 0.70782914],\n",
       "       [0.98020343, 0.99621784]])"
      ]
     },
     "execution_count": 4,
     "metadata": {},
     "output_type": "execute_result"
    }
   ],
   "source": [
    "np.random.rand(4,2)"
   ]
  },
  {
   "cell_type": "markdown",
   "metadata": {},
   "source": [
    "Now lets generate array without any arguments passed. "
   ]
  },
  {
   "cell_type": "code",
   "execution_count": 5,
   "metadata": {},
   "outputs": [
    {
     "data": {
      "text/plain": [
       "0.3158246214368394"
      ]
     },
     "execution_count": 5,
     "metadata": {},
     "output_type": "execute_result"
    }
   ],
   "source": [
    "np.random.rand()"
   ]
  },
  {
   "cell_type": "markdown",
   "metadata": {},
   "source": [
    "Just one array with just one element is now generated.  Therefore the arguments passed are determining the shape of the arrays generated.\n",
    "\n",
    "We can also include more dimensions to create depth for example:"
   ]
  },
  {
   "cell_type": "code",
   "execution_count": 6,
   "metadata": {},
   "outputs": [
    {
     "data": {
      "text/plain": [
       "array([[[0.04832552, 0.38206121, 0.52291383],\n",
       "        [0.54732961, 0.73013251, 0.36899892]],\n",
       "\n",
       "       [[0.21740669, 0.73825282, 0.84585346],\n",
       "        [0.65177476, 0.30240068, 0.55356415]],\n",
       "\n",
       "       [[0.93638535, 0.05071686, 0.92001872],\n",
       "        [0.64066941, 0.23105876, 0.29420152]],\n",
       "\n",
       "       [[0.46341244, 0.22793778, 0.84752487],\n",
       "        [0.01936033, 0.69541347, 0.69102591]]])"
      ]
     },
     "execution_count": 6,
     "metadata": {},
     "output_type": "execute_result"
    }
   ],
   "source": [
    "np.random.rand(4,2,3)"
   ]
  },
  {
   "cell_type": "markdown",
   "metadata": {},
   "source": [
    "Now we have an array with 4 rows, 2 columns and a depth of 3 ie an array with 3 dimensions. We can continue on creating every more complex arrays adding more and more dimensions:"
   ]
  },
  {
   "cell_type": "code",
   "execution_count": 7,
   "metadata": {},
   "outputs": [
    {
     "data": {
      "text/plain": [
       "array([[[[0.05122832, 0.20355324, 0.31957601, 0.88864605, 0.1440788 ],\n",
       "         [0.30932629, 0.01073504, 0.39107538, 0.85512716, 0.15832949],\n",
       "         [0.67515492, 0.39291629, 0.20957204, 0.29444218, 0.19859171]],\n",
       "\n",
       "        [[0.67215393, 0.64116228, 0.28647292, 0.52873451, 0.82334774],\n",
       "         [0.29188651, 0.81123654, 0.1945004 , 0.88840341, 0.31263785],\n",
       "         [0.72309878, 0.5110582 , 0.81637154, 0.508943  , 0.90137412]]],\n",
       "\n",
       "\n",
       "       [[[0.53300536, 0.26010537, 0.66920825, 0.81297205, 0.08405876],\n",
       "         [0.79980142, 0.94931911, 0.28768258, 0.62351982, 0.31582347],\n",
       "         [0.40750587, 0.29779703, 0.17152355, 0.44857043, 0.09599695]],\n",
       "\n",
       "        [[0.56527546, 0.02315822, 0.16186725, 0.33392055, 0.65167239],\n",
       "         [0.14698668, 0.30364569, 0.04031465, 0.08655408, 0.28110384],\n",
       "         [0.76686434, 0.10815651, 0.3301536 , 0.14246206, 0.82705357]]],\n",
       "\n",
       "\n",
       "       [[[0.52387816, 0.53273395, 0.22550912, 0.98476826, 0.75257579],\n",
       "         [0.4960038 , 0.9749937 , 0.6433763 , 0.97478295, 0.97937243],\n",
       "         [0.17122897, 0.61966332, 0.09512897, 0.89595779, 0.38022012]],\n",
       "\n",
       "        [[0.98149611, 0.60384654, 0.93360592, 0.8023641 , 0.17945827],\n",
       "         [0.61008747, 0.73791185, 0.25437894, 0.85689754, 0.68844807],\n",
       "         [0.38798924, 0.98815378, 0.53855982, 0.81819101, 0.15446768]]],\n",
       "\n",
       "\n",
       "       [[[0.35587952, 0.55819338, 0.78921015, 0.07051064, 0.93365296],\n",
       "         [0.23618843, 0.96963661, 0.52090993, 0.84964147, 0.25686682],\n",
       "         [0.78919301, 0.58564961, 0.35485642, 0.02308006, 0.05382903]],\n",
       "\n",
       "        [[0.52753895, 0.82151397, 0.63990699, 0.08674681, 0.65388871],\n",
       "         [0.73106043, 0.31049009, 0.0257841 , 0.57202636, 0.27906582],\n",
       "         [0.62857208, 0.77287143, 0.85812153, 0.32031953, 0.90703729]]]])"
      ]
     },
     "execution_count": 7,
     "metadata": {},
     "output_type": "execute_result"
    }
   ],
   "source": [
    "np.random.rand(4,2,3,5)"
   ]
  },
  {
   "cell_type": "markdown",
   "metadata": {},
   "source": [
    "Now lets go back and look at the numbers generated. An array witt the shape 4 rows, 2 colums each with depth of 3 and within that 5 elements has been generated So we can see that ever more complex and multidimensional arrays can be generated with the numpy.random subpackage/function.\n",
    "We can also generate an array with just one generate an array with a specified number of random values (10000 in this case) using the following syntax:"
   ]
  },
  {
   "cell_type": "code",
   "execution_count": 8,
   "metadata": {},
   "outputs": [
    {
     "data": {
      "text/plain": [
       "array([0.08572697, 0.63125582, 0.55935857, ..., 0.50466119, 0.84058657,\n",
       "       0.79958416])"
      ]
     },
     "execution_count": 8,
     "metadata": {},
     "output_type": "execute_result"
    }
   ],
   "source": [
    "np.random.rand(10000)"
   ]
  },
  {
   "cell_type": "markdown",
   "metadata": {},
   "source": [
    "Using matplotlib.pyplot function we can generate a histogram to show the range of random numbers generated: \n"
   ]
  },
  {
   "cell_type": "code",
   "execution_count": 9,
   "metadata": {},
   "outputs": [
    {
     "data": {
      "image/png": "[encoded data removed]",
      "text/plain": [
       "<Figure size 432x288 with 1 Axes>"
      ]
     },
     "metadata": {
      "needs_background": "light"
     },
     "output_type": "display_data"
    }
   ],
   "source": [
    "# use the matploblib magic command to ensure the histogram is shown.\n",
    "%matplotlib inline\n",
    "# import the matplotlib pyplot libary and give it the alias plt\n",
    "import matplotlib.pyplot as plt\n",
    "\n",
    "x = np.random.rand(10000)\n",
    "plt.hist(x)\n",
    "plt.show()\n",
    "\n"
   ]
  },
  {
   "cell_type": "markdown",
   "metadata": {},
   "source": [
    "The histogram gives a visual representation of the numbers generated by random.rand above. The histogram has a continuous variable on the x axis.  The values are chopped up into a reasonable number of bins in this case 10. We can see from the diagram that the number of values generated between values 0.0 and 0.1 is just as likely as the number of values generated between values 0.7 and 0.8. This holds true for each bin displayed. Therefore the distribution is uniform ( we'll look at this in more detail in sections 5  Distributions below).\n",
    "\n",
    "The other important point to note when using np.random.rand function is that all of the numbers genereated are greater than or equal to 0 and less than 1. Therefore, while this function allows us to control shape of the data generated and the number of values generated, the range of values is limited."
   ]
  },
  {
   "cell_type": "markdown",
   "metadata": {},
   "source": [
    "## 3.2 numpy.random.choice\n",
    "\n",
    "NumPy random.choice function allows you to create random samples. Basically, when given an input array of numbers, numpy.random.choice will randomly select one of those numbers and each number in the array has an equal chance of being selected (when we use the default setting in parameter p, more on this below).\n",
    "\n",
    "So say we have a NumPy array of 10 integers, the numbers 1 to 10 and we apply the numpy.random.choice function one number between 1 and 10 is randomly selected. \n",
    "\n",
    "Parameters:\n",
    "a required  ( the input array. can be newly created or be an existing numpy array)\n",
    "size ( size of the output)\n",
    "replace (when a sample is selected is it replaced and available to be selected again )\n",
    "p (by default all numbers have an equal probability of being selected. This parameter alters that probability.( \n",
    "\n",
    "Lets see an example. First lets create an array with with numbers 0 to 9 inclusive."
   ]
  },
  {
   "cell_type": "code",
   "execution_count": 43,
   "metadata": {},
   "outputs": [
    {
     "data": {
      "text/plain": [
       "array([0, 1, 2, 3, 4, 5, 6, 7, 8, 9])"
      ]
     },
     "execution_count": 43,
     "metadata": {},
     "output_type": "execute_result"
    }
   ],
   "source": [
    "array10 = np.arange(start = 0, stop = 10)\n",
    "array10"
   ]
  },
  {
   "cell_type": "markdown",
   "metadata": {},
   "source": [
    "Now lets use the numpy.random.choice function to randomly select an interger from the array10. But first, before doing so we need to select a seed to use.  We'll explain seeds in more detail in section \"6. Seeds\". For the moment though just bear in mind that we need to set the seed so that the random number generator np.random.choice will select one of the intergers and this choice selection is dependent on the seed set.  For example use seed 8 and then use the random.choice function to select an integer from predefined array10: "
   ]
  },
  {
   "cell_type": "code",
   "execution_count": 48,
   "metadata": {},
   "outputs": [
    {
     "data": {
      "text/plain": [
       "3"
      ]
     },
     "execution_count": 48,
     "metadata": {},
     "output_type": "execute_result"
    }
   ],
   "source": [
    "np.random.seed(8)\n",
    "np.random.choice(a = array10)"
   ]
  },
  {
   "cell_type": "markdown",
   "metadata": {},
   "source": [
    "Integer 3 from array10 is randomly selected.  We can repeat this random selection though by using the same code and the same seed 8:"
   ]
  },
  {
   "cell_type": "code",
   "execution_count": 49,
   "metadata": {},
   "outputs": [
    {
     "data": {
      "text/plain": [
       "3"
      ]
     },
     "execution_count": 49,
     "metadata": {},
     "output_type": "execute_result"
    }
   ],
   "source": [
    "np.random.seed(8)\n",
    "np.random.choice(a = array10)"
   ]
  },
  {
   "cell_type": "markdown",
   "metadata": {},
   "source": [
    "Now rather than using the predefined array10, lets get np.random.choice function to generate a new numpy array  (essentially an array with contents just like array10), use seed 0 again and select one of the intergers randomly again:"
   ]
  },
  {
   "cell_type": "code",
   "execution_count": 50,
   "metadata": {},
   "outputs": [
    {
     "data": {
      "text/plain": [
       "3"
      ]
     },
     "execution_count": 50,
     "metadata": {},
     "output_type": "execute_result"
    }
   ],
   "source": [
    "np.random.seed(8)\n",
    "np.random.choice(10)"
   ]
  },
  {
   "cell_type": "markdown",
   "metadata": {},
   "source": [
    "The same number is selected again. Numpy.random.choice has created a new array using NumPy arange but the new array has the same contents as array10. Since  np.random.choice(a = array10) is identical to np.random.choice(10). Therefore identical inputs and the same seed have been used resulting in the selection output 3.\n",
    "\n",
    "We can also select multiple values from an array. Lets select 5 sample numbers from an array of 100 values (0 to 99) created by random.choice with seed set to 4:  "
   ]
  },
  {
   "cell_type": "code",
   "execution_count": 51,
   "metadata": {},
   "outputs": [
    {
     "data": {
      "text/plain": [
       "array([46, 55, 69,  1, 87])"
      ]
     },
     "execution_count": 51,
     "metadata": {},
     "output_type": "execute_result"
    }
   ],
   "source": [
    "np.random.seed(4)\n",
    "np.random.choice(100, size = 5)"
   ]
  },
  {
   "cell_type": "markdown",
   "metadata": {},
   "source": [
    "Now lets create an array with 5 values (0-4), select 3 values but after each selection replace the sample  back into the possible values to be selected by setting parameter replace = True:"
   ]
  },
  {
   "cell_type": "code",
   "execution_count": 79,
   "metadata": {},
   "outputs": [
    {
     "data": {
      "text/plain": [
       "array([3, 0, 0])"
      ]
     },
     "execution_count": 79,
     "metadata": {},
     "output_type": "execute_result"
    }
   ],
   "source": [
    "np.random.seed(27)\n",
    "np.random.choice(5, size = 3, replace = True)"
   ]
  },
  {
   "cell_type": "markdown",
   "metadata": {},
   "source": [
    "The same sample number can be now be selected multiple times. This is basically like picking a card from a deck and then replacing the card in the pack before the next selection."
   ]
  },
  {
   "cell_type": "markdown",
   "metadata": {},
   "source": [
    "The last parameter  we will look at p, allows the probability of certain outcomes to be altered. Lets use an array with 11 values (0-10inclusive) again and randomly select one value but set the probability of selecting the first value to 50% while setting the probability of selecting the remaining values each at 5%."
   ]
  },
  {
   "cell_type": "code",
   "execution_count": 80,
   "metadata": {},
   "outputs": [
    {
     "data": {
      "text/plain": [
       "0"
      ]
     },
     "execution_count": 80,
     "metadata": {},
     "output_type": "execute_result"
    }
   ],
   "source": [
    "np.random.seed(27)\n",
    "np.random.choice(11, p = [.5, .05, .05, .05, .05, .05, .05, .05, .05, .05, .05] )"
   ]
  },
  {
   "cell_type": "markdown",
   "metadata": {},
   "source": [
    "Now lets increase the selection size to 30 and we can see how often 0 is selected. There is now a 50% chance of 0  being selected."
   ]
  },
  {
   "cell_type": "code",
   "execution_count": 81,
   "metadata": {},
   "outputs": [
    {
     "data": {
      "text/plain": [
       "array([ 0,  7,  5,  8,  0, 10,  8,  0,  5,  4,  8,  8,  5,  8,  0,  0,  0,\n",
       "        6,  0,  0,  0,  0,  6,  0,  0,  5,  0,  2,  0,  1])"
      ]
     },
     "execution_count": 81,
     "metadata": {},
     "output_type": "execute_result"
    }
   ],
   "source": [
    "np.random.seed(27)\n",
    "np.random.choice(11, size = 30, p = [.5, .05, .05, .05, .05, .05, .05, .05, .05, .05, .05] )"
   ]
  },
  {
   "cell_type": "code",
   "execution_count": null,
   "metadata": {},
   "outputs": [],
   "source": []
  },
  {
   "cell_type": "markdown",
   "metadata": {},
   "source": [
    "## **4.“Permutations” functions**\n",
    "\n",
    "### **4.1 Shuffle**    \n",
    "The shuffle function modifies a sequence by shuffling its contents.  First, lets create a range of numbers. "
   ]
  },
  {
   "cell_type": "code",
   "execution_count": 11,
   "metadata": {},
   "outputs": [
    {
     "data": {
      "text/plain": [
       "array([0, 1, 2, 3, 4, 5, 6, 7, 8, 9])"
      ]
     },
     "execution_count": 11,
     "metadata": {},
     "output_type": "execute_result"
    }
   ],
   "source": [
    "arr = np.arange(10)\n",
    "arr\n"
   ]
  },
  {
   "cell_type": "markdown",
   "metadata": {},
   "source": [
    "Now lets use the shuffle function to randomly shuffle the contents of this array."
   ]
  },
  {
   "cell_type": "code",
   "execution_count": 12,
   "metadata": {},
   "outputs": [
    {
     "data": {
      "text/plain": [
       "array([2, 8, 1, 9, 5, 3, 4, 7, 6, 0])"
      ]
     },
     "execution_count": 12,
     "metadata": {},
     "output_type": "execute_result"
    }
   ],
   "source": [
    "np.random.shuffle(arr)\n",
    "arr"
   ]
  },
  {
   "cell_type": "markdown",
   "metadata": {},
   "source": [
    "The contents of the array are now reordered.  It is also possible to shuffle multi-dimensional arrays.  However, multi-dimensional arrays are only shuffled along the first axis. For example create an array with 3 rows and 3 columns from a range of 9."
   ]
  },
  {
   "cell_type": "code",
   "execution_count": 13,
   "metadata": {},
   "outputs": [
    {
     "data": {
      "text/plain": [
       "array([[0, 1, 2],\n",
       "       [3, 4, 5],\n",
       "       [6, 7, 8]])"
      ]
     },
     "execution_count": 13,
     "metadata": {},
     "output_type": "execute_result"
    }
   ],
   "source": [
    "arr1 = np.arange(9).reshape((3, 3))\n",
    "arr1"
   ]
  },
  {
   "cell_type": "markdown",
   "metadata": {},
   "source": [
    "Now lets shuffle the array arr1. "
   ]
  },
  {
   "cell_type": "code",
   "execution_count": 14,
   "metadata": {},
   "outputs": [
    {
     "data": {
      "text/plain": [
       "array([[6, 7, 8],\n",
       "       [3, 4, 5],\n",
       "       [0, 1, 2]])"
      ]
     },
     "execution_count": 14,
     "metadata": {},
     "output_type": "execute_result"
    }
   ],
   "source": [
    "np.random.shuffle(arr1)\n",
    "arr1"
   ]
  },
  {
   "cell_type": "markdown",
   "metadata": {},
   "source": [
    "Note, while the rows have been shuffled (ie the first axis/dimension), the columns have not been shuffled. Only the first axis is shuffled and the elements within each axis remain in place."
   ]
  },
  {
   "cell_type": "markdown",
   "metadata": {},
   "source": [
    "## **4.2 Permutation**    \n",
    "\n",
    "The random.permutation function allows us to create a new array with a single axis and with a specifc number of elements and return the elements in the resulting array in a random order.  The creation of arr2 demonstrates this:\n"
   ]
  },
  {
   "cell_type": "code",
   "execution_count": 15,
   "metadata": {
    "scrolled": true
   },
   "outputs": [
    {
     "data": {
      "text/plain": [
       "array([5, 0, 3, 8, 9, 7, 4, 6, 1, 2])"
      ]
     },
     "execution_count": 15,
     "metadata": {},
     "output_type": "execute_result"
    }
   ],
   "source": [
    "arr2 = np.random.permutation(10)\n",
    "arr2"
   ]
  },
  {
   "cell_type": "markdown",
   "metadata": {},
   "source": [
    "In adddition and similar to function random.shuffle, we can also use this function np.random.permutation() to shuffle the contents of an existing single dimensional array :"
   ]
  },
  {
   "cell_type": "code",
   "execution_count": 16,
   "metadata": {},
   "outputs": [
    {
     "data": {
      "text/plain": [
       "array([4, 1, 5, 9, 6, 0, 8, 7, 3, 2])"
      ]
     },
     "execution_count": 16,
     "metadata": {},
     "output_type": "execute_result"
    }
   ],
   "source": [
    "np.random.permutation(arr2)"
   ]
  },
  {
   "cell_type": "markdown",
   "metadata": {},
   "source": [
    "And again similiar to random.shuffle, the random.permutation function gives us the option to shuffle a multidimensional array :"
   ]
  },
  {
   "cell_type": "code",
   "execution_count": 17,
   "metadata": {},
   "outputs": [
    {
     "data": {
      "text/plain": [
       "array([[0, 1, 2],\n",
       "       [3, 4, 5],\n",
       "       [6, 7, 8]])"
      ]
     },
     "execution_count": 17,
     "metadata": {},
     "output_type": "execute_result"
    }
   ],
   "source": [
    "# first create an array with 9 elements in one axis and \n",
    "#then reshape so that the array has two dimenensions/axes one row and one colum.\n",
    "arr3 = np.arange(9).reshape((3, 3))\n",
    "arr3\n"
   ]
  },
  {
   "cell_type": "markdown",
   "metadata": {},
   "source": [
    "Now apply the random.permutation function: "
   ]
  },
  {
   "cell_type": "code",
   "execution_count": 18,
   "metadata": {},
   "outputs": [
    {
     "data": {
      "text/plain": [
       "array([[6, 7, 8],\n",
       "       [3, 4, 5],\n",
       "       [0, 1, 2]])"
      ]
     },
     "execution_count": 18,
     "metadata": {},
     "output_type": "execute_result"
    }
   ],
   "source": [
    "np.random.permutation(arr3)"
   ]
  },
  {
   "cell_type": "markdown",
   "metadata": {},
   "source": [
    "While the array has been shuffled only the x axis has been shuffled by random.permutation similar to random.shuffle. \n",
    "\n",
    "Therefore in summary both functions random.shuffle and random.permutation shuffle the contents of a single existing dimensional array and while both functions can also shuffle the contents of an existing multidimensional array only the the first axis is shuffled. The function random.permutation also allows us to **create and shuffle** a single dimensional array in one step."
   ]
  },
  {
   "cell_type": "markdown",
   "metadata": {},
   "source": [
    "## 5. Distributions  \n",
    "\n",
    "'Probability distribution is a rule or set of rules that assigns probabilities to values of random variables. \n",
    "\n"
   ]
  },
  {
   "cell_type": "markdown",
   "metadata": {},
   "source": [
    "### **5.1 Uniform Distributions**    \n",
    "Uniform distributions are probability distributions where the outcomes are equally likely (Investopedia, undated, unpaged).  There are two types of uniform distributions: discrete and continuous. An example of a discrete uniform distribution is the rolling of a dice. Each number has an equal chance of being rolled but only numbers 1,2,3,4,5 or 6 can be rolled. The number 2.7 or 3.8 cannot be rolled. In a continuous uniform distribution, again all numbers have a equal chance at being selectd but the numbers that can be selected are continuous or even infinite e.g. the numbers generated in an \"idealized random number generator\" (Investopedia, undated, unpaged).\n"
   ]
  },
  {
   "cell_type": "code",
   "execution_count": 19,
   "metadata": {},
   "outputs": [
    {
     "data": {
      "text/plain": [
       "array([-0.05707205, -0.13190518, -0.69042131, -0.56760187, -0.26860966,\n",
       "       -0.80337272, -0.10354637, -0.3763592 , -0.07998134, -0.21069305,\n",
       "       -0.64274911, -0.53265685, -0.4641261 , -0.06945962, -0.64729899,\n",
       "       -0.3830054 , -0.17142485, -0.37091577, -0.78951312, -0.24284333,\n",
       "       -0.01328447, -0.91356382, -0.58805621, -0.95558675, -0.83020802,\n",
       "       -0.06623024, -0.18380281, -0.75333666, -0.84581353, -0.87357386,\n",
       "       -0.05512334, -0.15413257, -0.88661469, -0.42890682, -0.47074208,\n",
       "       -0.11981495, -0.53114895, -0.13818431, -0.86917311, -0.11534866,\n",
       "       -0.1419757 , -0.77825242, -0.94626108, -0.89202448, -0.10446892,\n",
       "       -0.75585871, -0.46665684, -0.65021693, -0.46228471, -0.65935932,\n",
       "       -0.75280632, -0.0020422 , -0.08999499, -0.75534876, -0.77794026,\n",
       "       -0.38096775, -0.23282614, -0.06108725, -0.29935718, -0.46186583,\n",
       "       -0.90721645, -0.94363107, -0.12398171, -0.82346715, -0.21663819,\n",
       "       -0.75967841, -0.23204704, -0.92029856, -0.73592385, -0.3890725 ,\n",
       "       -0.72313506, -0.69464832, -0.2440361 , -0.22884455, -0.03974065,\n",
       "       -0.7860035 , -0.44733277, -0.0261085 , -0.49475064, -0.77904184,\n",
       "       -0.72085236, -0.992105  , -0.95511646, -0.83315974, -0.20948474,\n",
       "       -0.19837612, -0.64296335, -0.83572283, -0.11235352, -0.05507697,\n",
       "       -0.23193635, -0.74900892, -0.95168172, -0.41949556, -0.69985693,\n",
       "       -0.26483996, -0.87475066, -0.38700167, -0.38358338, -0.65388805,\n",
       "       -0.19857679, -0.34778426, -0.99762622, -0.94858535, -0.71230235,\n",
       "       -0.86593729, -0.76152524, -0.6335286 , -0.75241734, -0.23219272,\n",
       "       -0.03019796, -0.80341416, -0.31446805, -0.95522472, -0.80951198,\n",
       "       -0.46377664, -0.5054462 , -0.34754998, -0.77871519, -0.34888992,\n",
       "       -0.90220441, -0.15217144, -0.28978987, -0.10563784, -0.27515448,\n",
       "       -0.29361111, -0.10300584, -0.26320979, -0.23843105, -0.41842991,\n",
       "       -0.44781102, -0.76267669, -0.665959  , -0.82941821, -0.6628769 ,\n",
       "       -0.800049  , -0.05700957, -0.33625897, -0.42933622, -0.74492094,\n",
       "       -0.96165782, -0.77574156, -0.67647151, -0.12454667, -0.57554346,\n",
       "       -0.85547227, -0.05596163, -0.72475294, -0.55496095, -0.39777833,\n",
       "       -0.9345846 , -0.228933  , -0.41359978, -0.42502043, -0.20111299,\n",
       "       -0.20644209, -0.22071096, -0.05783787, -0.40463151, -0.72610765,\n",
       "       -0.60751862, -0.66280702, -0.51439716, -0.81990357, -0.27633138,\n",
       "       -0.07592705, -0.41540713, -0.8595665 , -0.37683625, -0.46494652,\n",
       "       -0.29832156, -0.91264559, -0.50801332, -0.43827282, -0.18302342,\n",
       "       -0.20782311, -0.52550061, -0.44146265, -0.72005506, -0.06721745,\n",
       "       -0.85224577, -0.17349794, -0.05347037, -0.76851004, -0.3618381 ,\n",
       "       -0.24227386, -0.46164291, -0.82112968, -0.47130115, -0.02988917,\n",
       "       -0.33861614, -0.78739715, -0.13637565, -0.84209017, -0.85626178,\n",
       "       -0.62776299, -0.46440087, -0.67402077, -0.80977971, -0.70751083,\n",
       "       -0.49806112, -0.97971324, -0.10330282, -0.8584689 , -0.67496932,\n",
       "       -0.12022003, -0.13418731, -0.6907512 , -0.35281402, -0.66011226,\n",
       "       -0.46363898, -0.6433796 , -0.02273687, -0.34758382, -0.01934314,\n",
       "       -0.96585694, -0.96707005, -0.27561205, -0.39497261, -0.83536109,\n",
       "       -0.03944285, -0.40782995, -0.46030403, -0.35014661, -0.91502717,\n",
       "       -0.71712019, -0.84566219, -0.88034135, -0.24604596, -0.72682492,\n",
       "       -0.18143897, -0.12895959, -0.77412822, -0.3411066 , -0.04872565,\n",
       "       -0.63255745, -0.70410608, -0.99659022, -0.88093024, -0.69754707,\n",
       "       -0.56031812, -0.12785055, -0.26306865, -0.62623889, -0.22124266,\n",
       "       -0.52290625, -0.29377841, -0.21381465, -0.14789778, -0.84642071,\n",
       "       -0.63046896, -0.06540397, -0.53929212, -0.98137317, -0.42031085,\n",
       "       -0.33435274, -0.87242121, -0.70753475, -0.21466337, -0.38165124,\n",
       "       -0.91656999, -0.82313265, -0.45622824, -0.13494632, -0.41224113,\n",
       "       -0.8526656 , -0.85843285, -0.68763889, -0.47082389, -0.32990424,\n",
       "       -0.88471962, -0.23519277, -0.89931296, -0.49716434, -0.75045605,\n",
       "       -0.69160966, -0.16061792, -0.11869676, -0.53599953, -0.3157508 ,\n",
       "       -0.20964814, -0.20809467, -0.64060251, -0.19028283, -0.49541268,\n",
       "       -0.83895986, -0.08655222, -0.41603586, -0.63249854, -0.77888131,\n",
       "       -0.45660892, -0.48514407, -0.62150564, -0.68302571, -0.07706816,\n",
       "       -0.56824184, -0.55730758, -0.36890025, -0.61559576, -0.86800197,\n",
       "       -0.30500821, -0.6648901 , -0.37988359, -0.33316753, -0.61025293,\n",
       "       -0.34985372, -0.03425419, -0.03865432, -0.01485321, -0.90052953,\n",
       "       -0.49998044, -0.98342075, -0.94209446, -0.05145446, -0.52959773,\n",
       "       -0.94369126, -0.45153382, -0.19378892, -0.12872979, -0.4561153 ,\n",
       "       -0.41535272, -0.85545318, -0.69776499, -0.98855534, -0.02741996,\n",
       "       -0.18021583, -0.10011884, -0.95377123, -0.63146149, -0.39099914,\n",
       "       -0.71697653, -0.79026772, -0.83332926, -0.32084013, -0.95876262,\n",
       "       -0.15462197, -0.97468873, -0.00908885, -0.56989223, -0.77668496,\n",
       "       -0.16033389, -0.32796027, -0.54787662, -0.16368038, -0.47329561,\n",
       "       -0.88830961, -0.63523302, -0.8638443 , -0.36137307, -0.55098137,\n",
       "       -0.98513861, -0.29239608, -0.68535203, -0.87791343, -0.20477756,\n",
       "       -0.07128586, -0.30055898, -0.31442469, -0.99508353, -0.97561626,\n",
       "       -0.12641837, -0.82124131, -0.58601573, -0.62014307, -0.46499248,\n",
       "       -0.04673235, -0.80676624, -0.24239532, -0.52857384, -0.60811184,\n",
       "       -0.31934747, -0.17989685, -0.43881273, -0.16060921, -0.71020837,\n",
       "       -0.87937715, -0.61611894, -0.7068324 , -0.51884941, -0.19640612,\n",
       "       -0.70346473, -0.82417969, -0.90019373, -0.19842576, -0.29619982,\n",
       "       -0.28493291, -0.39973668, -0.51419157, -0.67487139, -0.34727954,\n",
       "       -0.10737937, -0.58301764, -0.86134515, -0.90124664, -0.19764487,\n",
       "       -0.10978513, -0.84346756, -0.99205903, -0.28253019, -0.26602807,\n",
       "       -0.74071254, -0.85104335, -0.12416252, -0.78618039, -0.26789078,\n",
       "       -0.33623433, -0.4301124 , -0.41915566, -0.83536617, -0.52430326,\n",
       "       -0.21748484, -0.19286896, -0.11993399, -0.28448128, -0.26489457,\n",
       "       -0.2023824 , -0.65642704, -0.8356396 , -0.2610446 , -0.9206151 ,\n",
       "       -0.90981888, -0.13285581, -0.77136383, -0.28788255, -0.91195775,\n",
       "       -0.70815858, -0.72567486, -0.87169692, -0.44939588, -0.55932997,\n",
       "       -0.83624772, -0.84028706, -0.05839358, -0.23861213, -0.58065705,\n",
       "       -0.08236663, -0.78328937, -0.32097234, -0.71689446, -0.05229603,\n",
       "       -0.38144492, -0.20787568, -0.98197617, -0.64349653, -0.80342071,\n",
       "       -0.3447263 , -0.92878018, -0.65413754, -0.14387335, -0.50981844,\n",
       "       -0.42449176, -0.9124571 , -0.11598347, -0.93707567, -0.57737873,\n",
       "       -0.33574825, -0.6047932 , -0.90375395, -0.47536519, -0.40539055,\n",
       "       -0.25073086, -0.01212849, -0.30674653, -0.49710989, -0.78263954,\n",
       "       -0.42447111, -0.49631442, -0.40688146, -0.78574117, -0.62899776,\n",
       "       -0.04400019, -0.74276035, -0.06038325, -0.42749742, -0.21289866,\n",
       "       -0.91464562, -0.12177718, -0.91105994, -0.3210359 , -0.36418064,\n",
       "       -0.94888397, -0.81900305, -0.97047876, -0.43208877, -0.64380045,\n",
       "       -0.28081006, -0.45554026, -0.71960179, -0.48527247, -0.68057651,\n",
       "       -0.11083858, -0.43005395, -0.23417705, -0.23975771, -0.70909636,\n",
       "       -0.50965477, -0.49384416, -0.53632703, -0.53722638, -0.68836621,\n",
       "       -0.19188787, -0.76090306, -0.91201092, -0.63119796, -0.8806387 ,\n",
       "       -0.49306316, -0.04791605, -0.48254433, -0.92208726, -0.57835186,\n",
       "       -0.45992794, -0.52983399, -0.26003726, -0.33146777, -0.89571823,\n",
       "       -0.01221786, -0.03431387, -0.0527596 , -0.408916  , -0.19847129,\n",
       "       -0.26983286, -0.57744896, -0.43823276, -0.81633844, -0.42429021,\n",
       "       -0.16614629, -0.269116  , -0.29736645, -0.50907795, -0.35599153,\n",
       "       -0.86527245, -0.82418735, -0.30486787, -0.27191895, -0.81764607,\n",
       "       -0.47809244, -0.26360526, -0.88287826, -0.24823533, -0.19818321,\n",
       "       -0.851658  , -0.01787288, -0.25303185, -0.20134528, -0.4651677 ,\n",
       "       -0.65832006, -0.98939113, -0.93538213, -0.23307342, -0.48706221,\n",
       "       -0.98992552, -0.18505425, -0.98857546, -0.24992211, -0.59387603,\n",
       "       -0.31881241, -0.7758065 , -0.97864401, -0.46472684, -0.17196657,\n",
       "       -0.01644404, -0.6757062 , -0.33473396, -0.31287567, -0.58582955,\n",
       "       -0.69664601, -0.59577695, -0.06155057, -0.96504908, -0.21102793,\n",
       "       -0.40576637, -0.71950457, -0.3809233 , -0.4603713 , -0.98291665,\n",
       "       -0.72149557, -0.55501409, -0.61311354, -0.32505512, -0.63551859,\n",
       "       -0.48708024, -0.96649711, -0.73333239, -0.52234398, -0.60527498,\n",
       "       -0.77341398, -0.84014427, -0.28309654, -0.09659365, -0.64822342,\n",
       "       -0.70422276, -0.51602266, -0.69319899, -0.15204977, -0.2498333 ,\n",
       "       -0.52128583, -0.18344385, -0.3938569 , -0.49677259, -0.58299911,\n",
       "       -0.50166962, -0.04192458, -0.34963608, -0.59228906, -0.1059617 ,\n",
       "       -0.06828089, -0.25172247, -0.66266021, -0.15201964, -0.73805771,\n",
       "       -0.56003917, -0.07859722, -0.02914385, -0.93577665, -0.74791856,\n",
       "       -0.84161715, -0.71917098, -0.85451171, -0.95298895, -0.38806651,\n",
       "       -0.6485029 , -0.21054483, -0.20673686, -0.43794223, -0.44307935,\n",
       "       -0.07721025, -0.65806184, -0.63266007, -0.96118512, -0.55352898,\n",
       "       -0.9219809 , -0.12567823, -0.23397641, -0.60629378, -0.86022984,\n",
       "       -0.82457908, -0.99933322, -0.39308899, -0.7699125 , -0.19876948,\n",
       "       -0.57018036, -0.61801205, -0.20965959, -0.53299515, -0.54663908,\n",
       "       -0.69532743, -0.41033038, -0.46115575, -0.01051318, -0.71975032,\n",
       "       -0.85162354, -0.24224947, -0.25426569, -0.13043786, -0.98343894,\n",
       "       -0.71485192, -0.01231066, -0.62670941, -0.7760374 , -0.56115616,\n",
       "       -0.52118182, -0.95981709, -0.83648672, -0.40833766, -0.70532611,\n",
       "       -0.4701139 , -0.99277402, -0.08277406, -0.3838884 , -0.76160105,\n",
       "       -0.26150636, -0.08873285, -0.58959723, -0.80804485, -0.34185677,\n",
       "       -0.30063934, -0.19753331, -0.90757587, -0.33271489, -0.25881155,\n",
       "       -0.17173232, -0.38276173, -0.12067146, -0.07032638, -0.32418486,\n",
       "       -0.51116324, -0.345362  , -0.2352468 , -0.32668965, -0.75030471,\n",
       "       -0.90067136, -0.56858175, -0.69086061, -0.79710272, -0.02977543,\n",
       "       -0.89630342, -0.16772467, -0.61843279, -0.18857785, -0.64569215,\n",
       "       -0.0741884 , -0.87233325, -0.69064491, -0.28106844, -0.87340895,\n",
       "       -0.14129866, -0.72279076, -0.71439163, -0.10194838, -0.8200414 ,\n",
       "       -0.44117158, -0.43852278, -0.23407963, -0.69469191, -0.05354106,\n",
       "       -0.0837282 , -0.51369717, -0.93737868, -0.00575654, -0.24805094,\n",
       "       -0.13817657, -0.84103799, -0.86188946, -0.25870292, -0.42470898,\n",
       "       -0.72715   , -0.87423563, -0.85742641, -0.44217469, -0.16907257,\n",
       "       -0.02086038, -0.17366895, -0.10091226, -0.70321945, -0.39214739,\n",
       "       -0.78696697, -0.43487824, -0.0956646 , -0.34006075, -0.95918602,\n",
       "       -0.76089946, -0.71080153, -0.39928769, -0.46363095, -0.2994498 ,\n",
       "       -0.34555738, -0.37536582, -0.97655365, -0.68762652, -0.00649771,\n",
       "       -0.93640972, -0.88637814, -0.47627173, -0.26678533, -0.81089933,\n",
       "       -0.47631346, -0.18858852, -0.387958  , -0.54718538, -0.18437885,\n",
       "       -0.66545742, -0.24180593, -0.94561844, -0.97517695, -0.77289009,\n",
       "       -0.47038117, -0.99842818, -0.95283604, -0.12146355, -0.91956361,\n",
       "       -0.95912636, -0.42419723, -0.90693958, -0.18674541, -0.07910743,\n",
       "       -0.80485716, -0.63974482, -0.02857382, -0.99637591, -0.09252895,\n",
       "       -0.63085072, -0.31778254, -0.0032482 , -0.61180459, -0.4116936 ,\n",
       "       -0.06996924, -0.10474323, -0.81933662, -0.6763077 , -0.4224782 ,\n",
       "       -0.12604242, -0.97176367, -0.04981422, -0.50444487, -0.66763434,\n",
       "       -0.76793094, -0.6863633 , -0.12389164, -0.05124686, -0.67260247,\n",
       "       -0.94862473, -0.19480196, -0.0514591 , -0.49767323, -0.85531132,\n",
       "       -0.00551928, -0.53249233, -0.96996366, -0.17867213, -0.89019572,\n",
       "       -0.60088367, -0.31899052, -0.49260433, -0.68580827, -0.92210211,\n",
       "       -0.61664481, -0.27605295, -0.25527706, -0.76984297, -0.43672316,\n",
       "       -0.16291678, -0.71765795, -0.68992418, -0.45856026, -0.34080333,\n",
       "       -0.34291498, -0.04864669, -0.01228333, -0.11234346, -0.46866976,\n",
       "       -0.44016307, -0.57539386, -0.19234737, -0.96481676, -0.19087091,\n",
       "       -0.9666603 , -0.57202351, -0.85228559, -0.445591  , -0.49661186,\n",
       "       -0.39308877, -0.10042061, -0.4277228 , -0.60510272, -0.61086807,\n",
       "       -0.81474204, -0.14666183, -0.06415953, -0.27748006, -0.67537642,\n",
       "       -0.35210933, -0.11606953, -0.95969521, -0.4696627 , -0.57848563,\n",
       "       -0.79537363, -0.36835819, -0.04873195, -0.28313468, -0.52972406,\n",
       "       -0.82618443, -0.65480814, -0.78628531, -0.37071649, -0.85525952,\n",
       "       -0.75157934, -0.54041443, -0.27629277, -0.43181679, -0.89684061,\n",
       "       -0.65600245, -0.38293076, -0.6884006 , -0.12527869, -0.1530939 ,\n",
       "       -0.40002548, -0.73101313, -0.42547721, -0.11702924, -0.31856974,\n",
       "       -0.96244466, -0.98688676, -0.16351665, -0.61175966, -0.43755608,\n",
       "       -0.37502144, -0.47318809, -0.70818989, -0.51923308, -0.08283825,\n",
       "       -0.69138871, -0.25661066, -0.48306581, -0.00231674, -0.06336043,\n",
       "       -0.78394321, -0.97904101, -0.49692983, -0.773749  , -0.49990226,\n",
       "       -0.41281886, -0.99618415, -0.26350587, -0.27228279, -0.71146736,\n",
       "       -0.21962362, -0.90811132, -0.39078306, -0.09151632, -0.72195555,\n",
       "       -0.30694312, -0.52033662, -0.87284238, -0.38707396, -0.21697001,\n",
       "       -0.4307006 , -0.16414672, -0.54968995, -0.20534164, -0.60100484,\n",
       "       -0.08753093, -0.28202549, -0.06898867, -0.61984408, -0.27994964,\n",
       "       -0.39271692, -0.13071095, -0.2169964 , -0.12694915, -0.69607599,\n",
       "       -0.44007799, -0.22335045, -0.39707306, -0.26413302, -0.2888796 ,\n",
       "       -0.40917548, -0.02031637, -0.40597227, -0.87914237, -0.61040953,\n",
       "       -0.54838502, -0.49295668, -0.82148897, -0.98222314, -0.77429372,\n",
       "       -0.30087467, -0.5469511 , -0.298615  , -0.98953034, -0.93550431,\n",
       "       -0.97332826, -0.36459834, -0.77370629, -0.26978725, -0.5329592 ,\n",
       "       -0.85484014, -0.82344017, -0.94272662, -0.22842293, -0.17866587,\n",
       "       -0.68714094, -0.99965347, -0.04019264, -0.97697618, -0.81583769,\n",
       "       -0.465091  , -0.8015552 , -0.20571888, -0.77389765, -0.34025027,\n",
       "       -0.79235426, -0.99057845, -0.83249625, -0.57349281, -0.80391778,\n",
       "       -0.19645808, -0.12766728, -0.76860287, -0.82457303, -0.52798727,\n",
       "       -0.34962307, -0.79467856, -0.5932281 , -0.71203208, -0.70610865,\n",
       "       -0.57658712, -0.32566725, -0.01728139, -0.49460815, -0.21097197,\n",
       "       -0.22268835, -0.3351889 , -0.70668314, -0.4007091 , -0.12137958,\n",
       "       -0.89115841, -0.0764538 , -0.30366158, -0.94887954, -0.24511044])"
      ]
     },
     "execution_count": 19,
     "metadata": {},
     "output_type": "execute_result"
    }
   ],
   "source": [
    "np.random.uniform(-1, 0, 1000)\n"
   ]
  },
  {
   "cell_type": "markdown",
   "metadata": {},
   "source": [
    "Unlike, function np.random_rand, np.random.uniform allows us to pass as arguments the range of values to be included. \n",
    "\n"
   ]
  },
  {
   "cell_type": "code",
   "execution_count": 20,
   "metadata": {},
   "outputs": [
    {
     "data": {
      "text/plain": [
       "array([92.58303866, 57.57972009, 23.22328255, 15.82118635, 18.98882277,\n",
       "       50.22837092, 75.17040176, 76.82287408, 31.34165249, 57.91700582,\n",
       "       55.21359792, 71.67696035, 69.39111967, 35.13066336, 66.08079925,\n",
       "       96.55012937, 74.33507467, 20.80861242, 34.00332756, 19.07670354,\n",
       "       12.24391288, 96.45255673, 35.78089719, 61.46093288, 47.97973672,\n",
       "       24.77137827, 66.95875654, 79.09011435, 81.1321054 , 68.34363446,\n",
       "       83.37615974, 39.34419588, 61.17778837, 97.48631051, 53.08799353,\n",
       "       88.27694102, 16.45263988, 75.44505176, 95.34287347, 71.28376289,\n",
       "       42.74267622, 39.41659343, 94.23540743, 12.68751032, 93.1197154 ,\n",
       "       11.37115271, 36.98037426, 28.01906348, 39.51066179, 55.61355032,\n",
       "       58.97238201, 98.06683537, 23.92673351, 11.60871184, 41.95601215,\n",
       "       45.69634557, 54.3880867 , 23.60804812, 12.9026631 , 66.88152772,\n",
       "       41.79923389, 38.64975577, 90.6420514 , 50.27612247, 30.80431629,\n",
       "       82.3946928 , 99.75538382, 56.57494995, 38.04151153, 66.95603855,\n",
       "       47.98411804, 12.0550669 , 97.66274141, 70.54588977, 41.93294888,\n",
       "       38.37441417, 17.37524933, 31.13758661, 71.4981195 , 55.02683168,\n",
       "       16.82235056, 75.21511267, 88.46991662, 91.98492789, 35.20938213,\n",
       "       67.82813937, 60.36985319, 29.59531102, 87.51843722, 52.9873419 ,\n",
       "       71.5743774 , 16.4435385 , 98.61931851, 41.65741587, 90.02397613,\n",
       "       75.25265207, 57.5329605 , 13.58181596, 49.26970755, 94.74346237,\n",
       "       44.62738247, 44.78238077, 69.33875129, 74.01805184, 27.58767043,\n",
       "       54.82188993, 99.15622144, 93.84558889, 58.99820059, 70.72576785,\n",
       "       79.96590018, 83.48833772, 83.71030919, 25.5787031 , 23.77135815,\n",
       "       32.05635167, 92.75697333, 30.49198619, 99.01482098, 92.3216104 ,\n",
       "       48.87969414, 97.03338297, 15.26961058, 62.15372356, 83.41611685,\n",
       "       51.61114684, 68.94864694, 12.80763476, 64.46484669, 36.31587777,\n",
       "       97.95051663, 80.81988076, 61.97664033, 16.59218922, 84.13107006,\n",
       "       16.66608944, 72.6982027 , 71.41933318, 60.21062874, 96.35016116,\n",
       "       81.14152665, 90.28928912, 90.32884113, 29.26742525, 20.5132772 ,\n",
       "       44.4825773 , 81.7398917 , 89.32702159, 19.39539704, 30.01145678,\n",
       "       31.1176092 , 14.39557056, 75.1294477 , 13.76334284, 98.07414405,\n",
       "       49.23695542, 44.86518765, 29.594594  , 61.39745609, 84.25410835,\n",
       "       93.59565568, 53.75500189, 46.08023923, 49.6524396 , 21.33028254,\n",
       "       60.92671597, 24.1669599 , 18.43118826, 91.52695172, 63.73488658,\n",
       "       89.72242141, 66.32256613, 76.59722139, 38.15743922, 53.39751734,\n",
       "       45.83500353, 95.30358316, 96.13401596, 74.59707623, 31.43068604,\n",
       "       73.45101047, 49.36275323, 17.21266772, 83.5887814 , 58.35391291,\n",
       "       31.31420237, 69.2151229 , 29.04863652, 85.56757742, 71.28717582,\n",
       "       17.93383234, 61.66293337, 40.71590286, 89.25481834, 27.32998459,\n",
       "       19.23427312, 17.86262597, 81.57333906, 48.00706518, 29.34814635])"
      ]
     },
     "execution_count": 20,
     "metadata": {},
     "output_type": "execute_result"
    }
   ],
   "source": [
    "x = np.random.uniform(10, 100, 200)\n",
    "\n",
    "x"
   ]
  },
  {
   "cell_type": "code",
   "execution_count": 21,
   "metadata": {},
   "outputs": [
    {
     "data": {
      "image/png": "[encoded data removed]",
      "text/plain": [
       "<Figure size 432x288 with 1 Axes>"
      ]
     },
     "metadata": {
      "needs_background": "light"
     },
     "output_type": "display_data"
    }
   ],
   "source": [
    "x = np.random.uniform(-1, 0, 1000)\n",
    "\n",
    "plt.hist(x)\n",
    "plt.show()"
   ]
  },
  {
   "cell_type": "markdown",
   "metadata": {},
   "source": [
    "### **5.2 Normal Distribution**  \n",
    "\n",
    "The NumPy normal distributions draws random samples from a normal (Gaussian) distribution (NumPy, Undatede).  The numpy.random.normal function creates a NumPy array that contains normally distributed data. Normally distributed data is shaped almost like a bell and is therefore often called the 'bell curve'.\n",
    "\n",
    "There are three parameters in the NumPy normal function: loc, scale and size. \n",
    "- the loc parameters sets the mean of the data. The default is zero.\n",
    "- the scale parameter sets the standard deviation of the data. The default is 1.\n",
    "- the size parameter determines the size and  the shape of the output.\n",
    "\n",
    "So to begin with, lets create an array with 1000 values with a mean of 50 and visualize this information."
   ]
  },
  {
   "cell_type": "code",
   "execution_count": 22,
   "metadata": {},
   "outputs": [
    {
     "data": {
      "image/png": "[encoded data removed]",
      "text/plain": [
       "<Figure size 432x288 with 1 Axes>"
      ]
     },
     "metadata": {
      "needs_background": "light"
     },
     "output_type": "display_data"
    }
   ],
   "source": [
    "x = np.random.normal(size = 1000, loc = 50)\n",
    "plt.hist(x)\n",
    "plt.show()\n"
   ]
  },
  {
   "cell_type": "markdown",
   "metadata": {},
   "source": [
    "We can see from the array created that the values center around 50.  Lets change the mean of the data from 50 to 0 by removing parameter loc = 50. NumPy will then use the fault of zero. "
   ]
  },
  {
   "cell_type": "code",
   "execution_count": 23,
   "metadata": {
    "scrolled": true
   },
   "outputs": [
    {
     "data": {
      "image/png": "[encoded data removed]",
      "text/plain": [
       "<Figure size 432x288 with 1 Axes>"
      ]
     },
     "metadata": {
      "needs_background": "light"
     },
     "output_type": "display_data"
    }
   ],
   "source": [
    "x = np.random.normal(size = 1000)\n",
    "plt.hist(x)\n",
    "plt.show()"
   ]
  },
  {
   "cell_type": "markdown",
   "metadata": {},
   "source": [
    "The data now centers around 0. Now lets change the value of the scale from the default value of 1 to 10 i.e. change the standard deviation from 1 to 10."
   ]
  },
  {
   "cell_type": "code",
   "execution_count": 24,
   "metadata": {},
   "outputs": [
    {
     "data": {
      "image/png": "[encoded data removed]",
      "text/plain": [
       "<Figure size 432x288 with 1 Axes>"
      ]
     },
     "metadata": {
      "needs_background": "light"
     },
     "output_type": "display_data"
    }
   ],
   "source": [
    "x = np.random.normal(size = 1000, scale = 10)\n",
    "plt.hist(x)\n",
    "plt.show()"
   ]
  },
  {
   "cell_type": "markdown",
   "metadata": {},
   "source": [
    "Now the data (the 1000 randomly centered numbers) centres around one with most of the data is within +10 or -10."
   ]
  },
  {
   "cell_type": "markdown",
   "metadata": {},
   "source": [
    " ### **5.3 Binomial Distribution**  \n",
    " \n",
    "Unlike a Normal Distribution, a Binomial distribution is discrete.  It is not possible to find a data value between data values. \n",
    "Samples are drawn from a binomial distribution with specified parameters, n trials and p probability of success where n an integer >= 0 and p is in the interval [0,1]. (n may be input as a float, but it is truncated to an integer in use). In other words N is the number of trials and there are only two possible outcomes in a trial.  P is probability of a sucessful/positive outcome. \n",
    "\n",
    "A Binomial Distribution must answer Yes to all of the following questions. Lets apply these questions to the example of flipping a coin.\n",
    "\n",
    "Is there a set number of trials? Yes. Represented as n below.\n",
    "Are there only two possible outcomes? Yes. Only heads/tails can result. Note the outcomes have equal probability here as they are represented as 0.5. \n",
    "Are the outcomes of one trial independent of all other trials? Yes the result of one trial has no impact on the next trial. The coin remains the same throughout the trails & tests.\n",
    "Does the probability of success remain the same throught the trail?  Yes.   \n",
    "\n",
    " \n"
   ]
  },
  {
   "cell_type": "code",
   "execution_count": 25,
   "metadata": {},
   "outputs": [
    {
     "data": {
      "image/png": "[encoded data removed]",
      "text/plain": [
       "<Figure size 432x288 with 1 Axes>"
      ]
     },
     "metadata": {
      "needs_background": "light"
     },
     "output_type": "display_data"
    }
   ],
   "source": [
    "\n",
    "\n",
    "n, p = 10, 0.5  # number of trials, probability of each trial \n",
    "s = np.random.binomial(n, p, 1000)\n",
    "# result of flipping a coin 10 times, tested 1000 times.\n",
    "plt.hist(s)\n",
    "plt.show()\n",
    "\n"
   ]
  },
  {
   "cell_type": "code",
   "execution_count": 26,
   "metadata": {},
   "outputs": [
    {
     "data": {
      "image/png": "[encoded data removed]",
      "text/plain": [
       "<Figure size 432x288 with 1 Axes>"
      ]
     },
     "metadata": {
      "needs_background": "light"
     },
     "output_type": "display_data"
    }
   ],
   "source": [
    "n, p = 10, 0.5  # number of trials, probability of each trial \n",
    "s = np.random.binomial(n, p, 20)\n",
    "# result of flipping a coin 10 times, tested 1000 times.\n",
    "plt.hist(s)\n",
    "plt.show()"
   ]
  },
  {
   "cell_type": "markdown",
   "metadata": {},
   "source": [
    " ### **5.4 random.chisquare Distribution**  \n",
    " \n",
    "'The chi-square statistical test is used to determine whether there’s a significant difference between an expected distribution and an actual distribution'(Huneycutt, 2018). The python NumPy function np.random.chisquare generates samples from the chi-squared distribution.  In the following example the function generates 10000 sample values. The parameter degree of freedom is set to 0.1 and we can see only  "
   ]
  },
  {
   "cell_type": "code",
   "execution_count": 27,
   "metadata": {},
   "outputs": [
    {
     "data": {
      "text/plain": [
       "(array([8.156e+03, 1.240e+03, 3.650e+02, 1.640e+02, 4.100e+01, 2.300e+01,\n",
       "        7.000e+00, 3.000e+00, 0.000e+00, 1.000e+00]),\n",
       " array([5.34718306e-08, 1.72730727e+00, 3.45461450e+00, 5.18192172e+00,\n",
       "        6.90922894e+00, 8.63653616e+00, 1.03638434e+01, 1.20911506e+01,\n",
       "        1.38184578e+01, 1.55457650e+01, 1.72730723e+01]),\n",
       " <a list of 10 Patch objects>)"
      ]
     },
     "execution_count": 27,
     "metadata": {},
     "output_type": "execute_result"
    },
    {
     "data": {
      "image/png": "[encoded data removed]",
      "text/plain": [
       "<Figure size 432x288 with 1 Axes>"
      ]
     },
     "metadata": {
      "needs_background": "light"
     },
     "output_type": "display_data"
    }
   ],
   "source": [
    "x = np.random.chisquare(1,10000)\n",
    "x\n",
    "plt.hist(x)\n"
   ]
  },
  {
   "cell_type": "code",
   "execution_count": 28,
   "metadata": {},
   "outputs": [
    {
     "data": {
      "text/plain": [
       "(array([5.009e+03, 3.006e+03, 1.239e+03, 4.790e+02, 1.750e+02, 5.600e+01,\n",
       "        2.100e+01, 8.000e+00, 6.000e+00, 1.000e+00]),\n",
       " array([3.80575731e-03, 2.29260060e+00, 4.58139544e+00, 6.87019028e+00,\n",
       "        9.15898512e+00, 1.14477800e+01, 1.37365748e+01, 1.60253697e+01,\n",
       "        1.83141645e+01, 2.06029593e+01, 2.28917542e+01]),\n",
       " <a list of 10 Patch objects>)"
      ]
     },
     "execution_count": 28,
     "metadata": {},
     "output_type": "execute_result"
    },
    {
     "data": {
      "image/png": "[encoded data removed]",
      "text/plain": [
       "<Figure size 432x288 with 1 Axes>"
      ]
     },
     "metadata": {
      "needs_background": "light"
     },
     "output_type": "display_data"
    }
   ],
   "source": [
    "x = np.random.chisquare(3,10000)\n",
    "x\n",
    "plt.hist(x)"
   ]
  },
  {
   "cell_type": "markdown",
   "metadata": {},
   "source": [
    "The greater the value of parameter degree of freedom entered the further away from a chi square curve we move and the closer we move towards a normal distribution."
   ]
  },
  {
   "cell_type": "code",
   "execution_count": 29,
   "metadata": {},
   "outputs": [
    {
     "data": {
      "text/plain": [
       "(array([6.500e+02, 3.169e+03, 3.261e+03, 1.882e+03, 7.130e+02, 2.330e+02,\n",
       "        7.100e+01, 1.700e+01, 3.000e+00, 1.000e+00]),\n",
       " array([ 0.42086512,  4.27902486,  8.1371846 , 11.99534435, 15.85350409,\n",
       "        19.71166384, 23.56982358, 27.42798333, 31.28614307, 35.14430281,\n",
       "        39.00246256]),\n",
       " <a list of 10 Patch objects>)"
      ]
     },
     "execution_count": 29,
     "metadata": {},
     "output_type": "execute_result"
    },
    {
     "data": {
      "image/png": "[encoded data removed]",
      "text/plain": [
       "<Figure size 432x288 with 1 Axes>"
      ]
     },
     "metadata": {
      "needs_background": "light"
     },
     "output_type": "display_data"
    }
   ],
   "source": [
    "x = np.random.chisquare(10,10000)\n",
    "x\n",
    "plt.hist(x)"
   ]
  },
  {
   "cell_type": "markdown",
   "metadata": {},
   "source": [
    " ### **5.4 another Distribution**  \n",
    "    "
   ]
  },
  {
   "cell_type": "code",
   "execution_count": null,
   "metadata": {},
   "outputs": [],
   "source": []
  },
  {
   "cell_type": "code",
   "execution_count": null,
   "metadata": {},
   "outputs": [],
   "source": []
  },
  {
   "cell_type": "code",
   "execution_count": null,
   "metadata": {},
   "outputs": [],
   "source": []
  },
  {
   "cell_type": "markdown",
   "metadata": {},
   "source": [
    "## 6. Seeds\n",
    "This sections examines the use of seeds in generating random numbers. In section 3 numpy_random, we said pseudo-random number generators are completely deterministic and operate by algorithm. Moreover, numpy_random, through the use of seeds, makes code 'repeatable'(Sharpsight, Undated, Unpaged). \n",
    "\n",
    "If you use the same seed then you get the output. You can generate and use the same pseudo random numbers repeatedly. Thereby, making it possible to perform the same tests and yield the same results repeatedly. \n",
    "\n",
    "### 6.1\n",
    "### numpy.random.seed\n",
    "Lets get started by generating a pseudo random number using the between zero and one using the NumPy random random function (np.random.random) and using seed 0.\n"
   ]
  },
  {
   "cell_type": "code",
   "execution_count": 30,
   "metadata": {},
   "outputs": [
    {
     "data": {
      "text/plain": [
       "0.5488135039273248"
      ]
     },
     "execution_count": 30,
     "metadata": {},
     "output_type": "execute_result"
    }
   ],
   "source": [
    "np.random.seed(0)\n",
    "np.random.random()"
   ]
  },
  {
   "cell_type": "markdown",
   "metadata": {},
   "source": [
    "A float is generated. The random number is a probability. Now lets repeat the process using the same code and the same seed:"
   ]
  },
  {
   "cell_type": "code",
   "execution_count": 31,
   "metadata": {},
   "outputs": [
    {
     "data": {
      "text/plain": [
       "0.5488135039273248"
      ]
     },
     "execution_count": 31,
     "metadata": {},
     "output_type": "execute_result"
    }
   ],
   "source": [
    "np.random.seed(0)\n",
    "np.random.random()"
   ]
  },
  {
   "cell_type": "markdown",
   "metadata": {},
   "source": [
    "Notice exactly the same number is generated. Now lets change the seed to 67 and see what happens:"
   ]
  },
  {
   "cell_type": "code",
   "execution_count": 32,
   "metadata": {},
   "outputs": [
    {
     "data": {
      "text/plain": [
       "0.5458514299349786"
      ]
     },
     "execution_count": 32,
     "metadata": {},
     "output_type": "execute_result"
    }
   ],
   "source": [
    "np.random.seed(67)\n",
    "np.random.random()"
   ]
  },
  {
   "cell_type": "markdown",
   "metadata": {},
   "source": [
    "NumPy random generates a different random float and again we can repeat this output using the same code with the same seed 67 again."
   ]
  },
  {
   "cell_type": "code",
   "execution_count": 33,
   "metadata": {},
   "outputs": [
    {
     "data": {
      "text/plain": [
       "0.5458514299349786"
      ]
     },
     "execution_count": 33,
     "metadata": {},
     "output_type": "execute_result"
    }
   ],
   "source": [
    "np.random.seed(67)\n",
    "np.random.random()\n"
   ]
  },
  {
   "cell_type": "markdown",
   "metadata": {},
   "source": [
    "What happens if we do not deliberately set the seed number? :"
   ]
  },
  {
   "cell_type": "code",
   "execution_count": 34,
   "metadata": {},
   "outputs": [
    {
     "data": {
      "text/plain": [
       "0.858856610591359"
      ]
     },
     "execution_count": 34,
     "metadata": {},
     "output_type": "execute_result"
    }
   ],
   "source": [
    "np.random.random()"
   ]
  },
  {
   "cell_type": "markdown",
   "metadata": {},
   "source": [
    "NumPy random selects its own seed number and then a different float is generated. The code is then not repeatable as we cannot guarentee the same output each time. Therefore, for NumPy random code to be repeatable the seed must be set explicitly each time the code is run."
   ]
  },
  {
   "cell_type": "code",
   "execution_count": 35,
   "metadata": {},
   "outputs": [
    {
     "data": {
      "text/plain": [
       "0.6858925865665791"
      ]
     },
     "execution_count": 35,
     "metadata": {},
     "output_type": "execute_result"
    }
   ],
   "source": [
    "np.random.random()"
   ]
  },
  {
   "cell_type": "markdown",
   "metadata": {},
   "source": [
    "### 6.2\n",
    "### numpy.random.randomstate\n"
   ]
  },
  {
   "cell_type": "code",
   "execution_count": null,
   "metadata": {},
   "outputs": [],
   "source": []
  },
  {
   "cell_type": "code",
   "execution_count": null,
   "metadata": {},
   "outputs": [],
   "source": []
  },
  {
   "cell_type": "markdown",
   "metadata": {},
   "source": [
    "## References\n",
    "Huneycutt, J. (2018) Running Chi-Square Tests with Die Roll Data in Python, Towards Data Science https://towardsdatascience.com/running-chi-square-tests-in-python-with-die-roll-data-b9903817c51b\n",
    "NumPy (Undateda), https://numpy.org/#  \n",
    "NumPy (Undatedb), https://numpy.org/devdocs/user/quickstart.html\n",
    "Numpy (Undatedc), https://numpy.org/doc/1.15/reference/generated/numpy.random.rand.html#numpy.random.rand\n",
    "NumPy (Updatedb), NumPy User Guide, Manual 1.15, Reference https://numpy.org/doc/1.15/reference/routines.random.html\n",
    "Investopedia, (Undated) https://www.investopedia.com/terms/u/uniform-distribution.asp\n",
    "Numpy (Undatede), https://numpy.org/doc/1.15/reference/generated/numpy.random.normal.html#numpy.random.normal\n",
    "Stattreck (undated), What is a Probability Distribution? https://stattrek.com/probability/probability-distribution.aspx\n",
    "\n",
    "NumPy (Undatedf) https://numpy.org/doc/1.17/reference/random/generated/numpy.random.Generator.shuffle.html#numpy-random-generator-shuffle\n",
    "\n",
    "Sharpsight,(2019) NumPy Random Seed Explained, https://www.sharpsightlabs.com/blog/numpy-random-seed/\n",
    "\n"
   ]
  },
  {
   "cell_type": "code",
   "execution_count": null,
   "metadata": {},
   "outputs": [],
   "source": []
  }
 ],
 "metadata": {
  "kernelspec": {
   "display_name": "Python 3",
   "language": "python",
   "name": "python3"
  },
  "language_info": {
   "codemirror_mode": {
    "name": "ipython",
    "version": 3
   },
   "file_extension": ".py",
   "mimetype": "text/x-python",
   "name": "python",
   "nbconvert_exporter": "python",
   "pygments_lexer": "ipython3",
   "version": "3.7.2"
  }
 },
 "nbformat": 4,
 "nbformat_minor": 2
}
