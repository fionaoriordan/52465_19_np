{
 "cells": [
  {
   "cell_type": "markdown",
   "metadata": {},
   "source": [
    "# MODULE 52465 NUMPY.RANDOM ASSIGNMENT.\n",
    "## Fiona O'Riordan \n",
    "## Due Date 11th November 2019"
   ]
  },
  {
   "cell_type": "markdown",
   "metadata": {},
   "source": [
    "# INTRODUCTION\n",
    "The objective of this assignment, for Module 52465 Programming for Data Analysis, is to: explain the overall purpose of Python numpy package **numpy.random**; explore the use of the **“Simple random data”** and **“Permutations” functions**; to provide a detailed and comprehensive exploration of five its **distributions**; look at the use of **seeds** in generating pseudorandom numbers.\n",
    "\n",
    "Numpy.random is an often used and important subpackage of the Numpy package in Python as many other packages are dependent on it (Numpy, Undatedg).  However, interacting with the package directly is rare. Instead, typically the numpy subpackage objects are used via other packages such as Pandas and SciPy. Numpy.random is used to generate random numbers according to different probabilities across different intervals. \n",
    "\n",
    "To begin with Python numpy package will be briefly outlined. Then an overview of the  numpy subpackage numpy.random will be provided. Next, the use of the “Simple random data\" will be looked at with functions rand, randn,randint and choice used as examples and an exploration of the “Permutations” functions will be included.  The distributions Uniform, Normal, Binomial, Chisquare and Multinomial will be examined. Lastly, using seeds to generate pseudo-random numbers will be addressed."
   ]
  },
  {
   "cell_type": "markdown",
   "metadata": {},
   "source": [
    "# 1. THE OVERALL PURPOSE OF NUMPY.RANDOM\n",
    "\n",
    "## 1.1 NumPy\n",
    "\n",
    "The python package NumPy is the core package for scientifc computing within Python (NumPy,Undateda). The package includes: a N-dimensional array object, an advanced broadcasting functions, the ability to integrate C/C++ and Forstran Code along with capacity for linear algebra, Fourier transform and random number generation (NumPy, Undateda). NumPy can be used not only for scientific uses but also as  an 'efficient multi-dimensional container of generic data' (NumPy, Undateda, Unpaged). Therefore, it can be easily integreated with numberous other databases (NumPy, Undateda).\n",
    "\n",
    "NumPy's primary object is the homogeneous multidimensional array . It is a table, typically containing numbers, of the same data type with a tuple non negative interger index  (NumPy, Undatedb).  In NumPy dimensions are refered to as axes (NumPy, Undatedb). Then, unlike the Standard Python Library Class array.array which can have only one dimension, the NumPy array (full name ndarray) can have multiple dimensions which are called axes. \n"
   ]
  },
  {
   "cell_type": "markdown",
   "metadata": {},
   "source": [
    "# 1.2 numpy.random : \n",
    "\n",
    "The numpy.random package is concerned with the creation of computer generated random numbers according to different probabilities across different intervals (Numpy, Undatedg).  The numbers generated appear to be random but in fact are pseudo random (Sharpsight, 2019). Actual random numbers are created by a physical process. Computer generated random numbers are pseudo random numbers because while they may appear to be random they are actually pre-determined (Sharpsight, 2019). Alogrithms, called pseudo random number generators, are constructed to create pseudo random numbers (Sharpsight, 2019).  \n",
    "\n",
    "The numpy.random package is therefore concerned with the creation of numbers that appear to be random but are infact deterministic (Numpy, Undatedg). Not only are these numbers generated accroding to difference probabilities across different intervals they are also determined by seeds (see below seeds section for a more detailed explanation). For the moment, we work on the understanding that numpy.random creates pseudo random numbers.  \n",
    "\n"
   ]
  },
  {
   "cell_type": "markdown",
   "metadata": {},
   "source": [
    "# 2. SIMPLE RANDOM DATA & PERMUTATIONS:\n"
   ]
  },
  {
   "cell_type": "markdown",
   "metadata": {},
   "source": [
    "## 2.1 numpy.random.rand"
   ]
  },
  {
   "cell_type": "markdown",
   "metadata": {},
   "source": [
    "Lets begin by using numpy.random.rand function to generate some random numbers (as mentioned above they really are pseudo random numbers but more on that later):"
   ]
  },
  {
   "cell_type": "code",
   "execution_count": 1,
   "metadata": {},
   "outputs": [
    {
     "data": {
      "text/plain": [
       "array([[0.71581634, 0.09802349],\n",
       "       [0.28152774, 0.46836492],\n",
       "       [0.4248137 , 0.92670341]])"
      ]
     },
     "execution_count": 1,
     "metadata": {},
     "output_type": "execute_result"
    }
   ],
   "source": [
    "#import the NumPy library and name it np\n",
    "import numpy as np\n",
    "#create a array 3 rows x 2 columns\n",
    "np.random.rand(3,2)"
   ]
  },
  {
   "cell_type": "markdown",
   "metadata": {},
   "source": [
    "Note the output generated is an array within which are 3 arrays with 2 elements in each or put simply, 3 rows and 2 columns. Lets rerun the script again:"
   ]
  },
  {
   "cell_type": "code",
   "execution_count": 2,
   "metadata": {},
   "outputs": [
    {
     "data": {
      "text/plain": [
       "array([[0.66647185, 0.34749127],\n",
       "       [0.14930842, 0.53162055],\n",
       "       [0.32955837, 0.27518349]])"
      ]
     },
     "execution_count": 2,
     "metadata": {},
     "output_type": "execute_result"
    }
   ],
   "source": [
    "#Rerun the function with the same arguments\n",
    "np.random.rand(3,2)"
   ]
  },
  {
   "cell_type": "markdown",
   "metadata": {},
   "source": [
    "Note the same script generates different different random numbers. Therefore, we now know that np.random.rand generates random numbers.  Now lets change the arguments:"
   ]
  },
  {
   "cell_type": "code",
   "execution_count": 3,
   "metadata": {},
   "outputs": [
    {
     "data": {
      "text/plain": [
       "array([[0.05563839, 0.10949408],\n",
       "       [0.69195119, 0.20463635],\n",
       "       [0.54460409, 0.10148251],\n",
       "       [0.59024437, 0.18130202]])"
      ]
     },
     "execution_count": 3,
     "metadata": {},
     "output_type": "execute_result"
    }
   ],
   "source": [
    "#Rerun the function with different arguments.\n",
    "np.random.rand(4,2)"
   ]
  },
  {
   "cell_type": "markdown",
   "metadata": {},
   "source": [
    "Now the array generated has 4 rows and 2 colums of random numbers. We can also generate an array with say 4 columns & just one row."
   ]
  },
  {
   "cell_type": "markdown",
   "metadata": {},
   "source": [
    "Now lets generate array without any arguments passed. "
   ]
  },
  {
   "cell_type": "code",
   "execution_count": 4,
   "metadata": {},
   "outputs": [
    {
     "data": {
      "text/plain": [
       "0.5628461375938326"
      ]
     },
     "execution_count": 4,
     "metadata": {},
     "output_type": "execute_result"
    }
   ],
   "source": [
    "# use the default to generate just one random number \n",
    "np.random.rand()"
   ]
  },
  {
   "cell_type": "markdown",
   "metadata": {},
   "source": [
    "Just one array with just one element is now generated.  Therefore the arguments passed are determining the shape of the arrays generated.\n",
    "\n",
    "We can also include more dimensions to create depth for example:"
   ]
  },
  {
   "cell_type": "code",
   "execution_count": 5,
   "metadata": {},
   "outputs": [
    {
     "data": {
      "text/plain": [
       "array([[[0.44849923, 0.24182836, 0.87134833],\n",
       "        [0.06815141, 0.05943988, 0.12780896]],\n",
       "\n",
       "       [[0.30070355, 0.68712109, 0.37669394],\n",
       "        [0.03658719, 0.36139596, 0.95183569]],\n",
       "\n",
       "       [[0.16497783, 0.08114555, 0.2918051 ],\n",
       "        [0.65441854, 0.18043822, 0.77632334]],\n",
       "\n",
       "       [[0.4360523 , 0.90420095, 0.90921178],\n",
       "        [0.73083389, 0.18204247, 0.41846691]]])"
      ]
     },
     "execution_count": 5,
     "metadata": {},
     "output_type": "execute_result"
    }
   ],
   "source": [
    "# create an arrray of randomly generated numbers with 4 rows, 2 colums \n",
    "# and 3 elements within each.\n",
    "np.random.rand(4,2,3)"
   ]
  },
  {
   "cell_type": "markdown",
   "metadata": {},
   "source": [
    "Now we have an array with 4 rows, 2 columns and a depth of 3 ie an array with 3 dimensions. We can continue on creating every more complex arrays adding more and more dimensions:"
   ]
  },
  {
   "cell_type": "code",
   "execution_count": 6,
   "metadata": {},
   "outputs": [
    {
     "data": {
      "text/plain": [
       "array([[[[0.56324761, 0.69942606, 0.97117809, 0.64691017, 0.80791298],\n",
       "         [0.03842901, 0.96317498, 0.85081199, 0.93348476, 0.31914332],\n",
       "         [0.02961188, 0.77887419, 0.92191844, 0.46124995, 0.39555874]],\n",
       "\n",
       "        [[0.86982213, 0.23657165, 0.59273222, 0.32005982, 0.34157951],\n",
       "         [0.59529675, 0.28694434, 0.05454165, 0.70154371, 0.06873377],\n",
       "         [0.2158838 , 0.39809244, 0.28645126, 0.75808522, 0.92216048]]],\n",
       "\n",
       "\n",
       "       [[[0.58613449, 0.60102523, 0.46261423, 0.97401104, 0.72456207],\n",
       "         [0.98504143, 0.49052663, 0.96780734, 0.53225809, 0.8082774 ],\n",
       "         [0.43906782, 0.0114999 , 0.12038387, 0.47877151, 0.2337483 ]],\n",
       "\n",
       "        [[0.68428619, 0.46374767, 0.08684216, 0.34612694, 0.34722373],\n",
       "         [0.25056458, 0.42563546, 0.55692782, 0.84239688, 0.70672374],\n",
       "         [0.30088585, 0.37892533, 0.36484593, 0.29753164, 0.82279556]]],\n",
       "\n",
       "\n",
       "       [[[0.30242355, 0.96475172, 0.20397308, 0.99776937, 0.29804369],\n",
       "         [0.78595327, 0.10698863, 0.16211787, 0.39723111, 0.07631743],\n",
       "         [0.67203115, 0.73878689, 0.18189079, 0.89355012, 0.58846873]],\n",
       "\n",
       "        [[0.82138137, 0.81842574, 0.25117728, 0.36058471, 0.51796959],\n",
       "         [0.90813486, 0.08741588, 0.4812454 , 0.52764654, 0.20461984],\n",
       "         [0.7329005 , 0.5817341 , 0.59922847, 0.02992793, 0.87652395]]],\n",
       "\n",
       "\n",
       "       [[[0.29178426, 0.10833938, 0.12323302, 0.18586794, 0.68042788],\n",
       "         [0.17568966, 0.29718918, 0.74611215, 0.55277919, 0.61818788],\n",
       "         [0.09575334, 0.89390193, 0.46762318, 0.00298664, 0.33635818]],\n",
       "\n",
       "        [[0.24876641, 0.7891015 , 0.74965045, 0.0305073 , 0.68182355],\n",
       "         [0.460189  , 0.24205338, 0.76200746, 0.22813095, 0.56103363],\n",
       "         [0.42857364, 0.69258672, 0.76452894, 0.71972896, 0.38563677]]]])"
      ]
     },
     "execution_count": 6,
     "metadata": {},
     "output_type": "execute_result"
    }
   ],
   "source": [
    "np.random.rand(4,2,3,5)"
   ]
  },
  {
   "cell_type": "markdown",
   "metadata": {},
   "source": [
    "An array with the shape 4 rows, 2 colums each with depth of 3 and within that 5 elements has been generated So we can see that ever more complex and multidimensional arrays can be generated with the numpy.random subpackage/function.\n",
    "\n",
    "Now lets look at the numbers generated. We can generate an array with just one array with a specified number of random values (10000 in this case) using the following syntax:"
   ]
  },
  {
   "cell_type": "code",
   "execution_count": 7,
   "metadata": {},
   "outputs": [
    {
     "data": {
      "text/plain": [
       "array([0.37292072, 0.39633283, 0.11529987, ..., 0.19335639, 0.39002411,\n",
       "       0.60192324])"
      ]
     },
     "execution_count": 7,
     "metadata": {},
     "output_type": "execute_result"
    }
   ],
   "source": [
    "# generate 10000 random numbers using function rand\n",
    "np.random.rand(10000)"
   ]
  },
  {
   "cell_type": "markdown",
   "metadata": {},
   "source": [
    "Using matplotlib.pyplot function we can generate a histogram to show the range of random numbers generated: \n"
   ]
  },
  {
   "cell_type": "code",
   "execution_count": 8,
   "metadata": {},
   "outputs": [
    {
     "data": {
      "image/png": "[encoded data removed]",
      "text/plain": [
       "<Figure size 720x576 with 1 Axes>"
      ]
     },
     "metadata": {
      "needs_background": "light"
     },
     "output_type": "display_data"
    }
   ],
   "source": [
    "#Using %matplotlib notebook so that plt.rcParams['figure.figsize'] = (10.0, 8.0) works for all cells\n",
    "#as per https://github.com/jupyter/notebook/issues/3385#issuecomment-528665546\n",
    "%matplotlib notebook\n",
    "# use matplotlib magic to render the figures created in this notebook.\n",
    "%matplotlib inline\n",
    "#import matplotlib pypot and assign alias plt\n",
    "import matplotlib.pyplot as plt\n",
    "# set figure size for all plots in this notebook\n",
    "plt.rcParams['figure.figsize'] = (10.0, 8.0)\n",
    "\n",
    "\n",
    "# Set the sample size equal to 100000\n",
    "sample_size = 10000\n",
    "# set x equal to an array of sample_size random numbers generated by function numpy.random.rand\n",
    "x = np.random.rand(sample_size)\n",
    "\n",
    "# Plot using matplotlib's object-oriented API instead:\n",
    "# we figure and axis object: `fig` and `ax`\n",
    "fig, ax = plt.subplots()\n",
    "# we then use these objects to draw-on and manipulate our plot\n",
    "# generate a histogram to plot x\n",
    "ax.hist(x)\n",
    "# label the x axis\n",
    "ax.set_xlabel('Range of values generated')\n",
    "# label the y axis\n",
    "ax.set_ylabel('Frequency')\n",
    "# set the title of the histogram\n",
    "ax.set_title('Histogram of np.random.rand')\n",
    "\n",
    "plt.show()\n",
    "\n",
    "\n",
    "\n"
   ]
  },
  {
   "cell_type": "markdown",
   "metadata": {},
   "source": [
    "The histogram gives a visual representation of the numbers generated by random.rand above. The histogram has a continuous variable on the x axis.  The values are chopped up into a reasonable number of bins in this case 10. We can see from the diagram that the number of values generated between values 0.0 and 0.1 is just as likely as the number of values generated between values 0.7 and 0.8. This holds true for each bin displayed. Therefore the distribution is uniform ( we'll look at this in more detail in sections 5  Distributions below).\n",
    "\n",
    "The other important point to note when using np.random.rand function is that all of the numbers genereated are greater than or equal to 0 and less than 1. Therefore, while this function allows us to control shape of the data generated and the number of values generated, the range of values is limited."
   ]
  },
  {
   "cell_type": "markdown",
   "metadata": {},
   "source": [
    "## 2.2. numpy.random.randn\n",
    "\n",
    "Now lets take a look at the numpy.random.randn function. At first glance it looks pretty similar to numpy.random.rand.  Again, we can generate an array within which are 3 arrays with 2 elements in each or put simply, 3 rows and 2 columns. However, unlike numpy.random.rand, the numbers generated by numpy.random.randn are not limited to values between 0.0 and 0.1. "
   ]
  },
  {
   "cell_type": "code",
   "execution_count": 9,
   "metadata": {},
   "outputs": [
    {
     "data": {
      "text/plain": [
       "array([[ 0.2537646 , -1.1623888 , -1.07389886],\n",
       "       [ 0.30410435,  0.38580174,  0.06257235]])"
      ]
     },
     "execution_count": 9,
     "metadata": {},
     "output_type": "execute_result"
    }
   ],
   "source": [
    "#create a array 2 rows x 3 columns\n",
    "np.random.randn(2,3)"
   ]
  },
  {
   "cell_type": "markdown",
   "metadata": {},
   "source": [
    "Like numpy.random.rand function we can also continue on creating more complex arrays:"
   ]
  },
  {
   "cell_type": "code",
   "execution_count": 10,
   "metadata": {},
   "outputs": [
    {
     "data": {
      "text/plain": [
       "array([[[-0.53293559, -0.18552108, -0.22226446],\n",
       "        [-0.84670659, -0.37140345, -2.40442689]],\n",
       "\n",
       "       [[ 0.60197662,  1.08014779,  0.56576071],\n",
       "        [ 0.34651575, -0.88261386, -1.81514546]],\n",
       "\n",
       "       [[ 0.73070091,  0.41470714, -0.54044724],\n",
       "        [ 0.29451113, -0.72196985,  0.28653331]],\n",
       "\n",
       "       [[-1.99480983,  0.56297166,  0.61939903],\n",
       "        [ 0.87484264,  0.99578723, -0.2297228 ]]])"
      ]
     },
     "execution_count": 10,
     "metadata": {},
     "output_type": "execute_result"
    }
   ],
   "source": [
    "#create a array 3 rows x 2 columns with 3 elements in each\n",
    "np.random.randn(4,2,3)"
   ]
  },
  {
   "cell_type": "markdown",
   "metadata": {},
   "source": [
    "And the function also allows us to generate just one random number when no values are inputed."
   ]
  },
  {
   "cell_type": "code",
   "execution_count": 11,
   "metadata": {},
   "outputs": [
    {
     "data": {
      "text/plain": [
       "0.005254454660885364"
      ]
     },
     "execution_count": 11,
     "metadata": {},
     "output_type": "execute_result"
    }
   ],
   "source": [
    "# create an array with just one random number\n",
    "np.random.randn()"
   ]
  },
  {
   "cell_type": "markdown",
   "metadata": {},
   "source": [
    "**However**, lets see what happens when we generate an array of 10,000 values using numpy.random.randn(10000) function and lets compare it to the np.random.rand function when 10000 values are also generated.  The histogram produced by np.random.randn has a very different shape than produced by np.random.rand: "
   ]
  },
  {
   "cell_type": "code",
   "execution_count": 12,
   "metadata": {},
   "outputs": [
    {
     "data": {
      "image/png": "[encoded data removed]",
      "text/plain": [
       "<Figure size 720x576 with 2 Axes>"
      ]
     },
     "metadata": {
      "needs_background": "light"
     },
     "output_type": "display_data"
    }
   ],
   "source": [
    "# Adapted from https://stackoverflow.com/questions/47240308/differences-between-numpy-random-rand-vs-numpy-random-randn-in-python\n",
    "# np.random.rand is for Uniform distribution (in the half-open interval [0.0, 1.0))\n",
    "# np.random.randn is for Standard Normal (aka. Gaussian) distribution (mean 0 and variance 1)\n",
    "\n",
    "\n",
    "# Set the sample size equal to 100000\n",
    "sample_size = 100000\n",
    "\n",
    "\n",
    "\n",
    "# Plot using matplotlib's object-oriented API instead:\n",
    "# we figure and axis object: `fig` and `ax1` and ax2\n",
    "fig, (axs1, axs2) = plt.subplots(2,1, gridspec_kw={'hspace': 0.5})\n",
    "# Adapted from https://stackoverflow.com/a/12444777\n",
    "# Setting the position to place the text, the labels and font size\n",
    "fig.text(0.5, 0.04, 'Range of Values generated', ha='center', fontsize = 18)\n",
    "fig.text(0.04, 0.5, 'Frequency', rotation='vertical', fontsize = 18)\n",
    "\n",
    "\n",
    "# using the objects to draw-on and manipulate our plot\n",
    "# generating a histogram using the random rand function with sample_size size & colour green\n",
    "axs1.hist(np.random.rand(sample_size), color= 'green')\n",
    "# setting the title of rand histogram.\n",
    "axs1.set_title('Histogram of np.random.rand: Uniform Distribution', fontsize = 20)\n",
    "\n",
    "# using the objects to draw-on and manipulate our plot\n",
    "# generating a histogram using the random rand function with sample_size size \n",
    "# & default colour blue\n",
    "axs2.hist(np.random.randn(sample_size))\n",
    "# setting the title of randn histogram.\n",
    "axs2.set_title('Histogram of np.random.randn: Normal Distribution', fontsize = 20)\n",
    "\n",
    "\n",
    "plt.show()\n"
   ]
  },
  {
   "cell_type": "markdown",
   "metadata": {},
   "source": [
    "Randn is using a normal distribution (Gaussian) with mean equal to 0 and variance 1. Values generated are more likely to fall between  0 and 0.1 than between 0.9 and 1. In fact, as the histogram shows, approxiamately 68% of all randn outputs fall between -1 and +1, while 95% fall between -2 and +2, and about 99.7% fall between -3 and +3.\n",
    "\n",
    "In contrast the numbers generated by the rand function are equally likely to be in each of the bins created."
   ]
  },
  {
   "cell_type": "markdown",
   "metadata": {},
   "source": [
    "## 2.3 numpy.random.randint"
   ]
  },
  {
   "cell_type": "markdown",
   "metadata": {},
   "source": [
    "The randint function (numpy.random.randint) allows us to generate random interger(s) between a specified low (-10 in this case) and high (10 in this case):"
   ]
  },
  {
   "cell_type": "code",
   "execution_count": 13,
   "metadata": {},
   "outputs": [
    {
     "data": {
      "text/plain": [
       "-2"
      ]
     },
     "execution_count": 13,
     "metadata": {},
     "output_type": "execute_result"
    }
   ],
   "source": [
    "# create an array of randomly generated intergers between -10 and 10\n",
    "np.random.randint(-10, 10)"
   ]
  },
  {
   "cell_type": "markdown",
   "metadata": {},
   "source": [
    "Randint also allows us to generate tuples.:"
   ]
  },
  {
   "cell_type": "code",
   "execution_count": 14,
   "metadata": {},
   "outputs": [
    {
     "data": {
      "text/plain": [
       "array([[ 0, -3],\n",
       "       [-9, -2],\n",
       "       [ 4, -8]])"
      ]
     },
     "execution_count": 14,
     "metadata": {},
     "output_type": "execute_result"
    }
   ],
   "source": [
    "# create tuple with numbers between -10 and 10\n",
    "np.random.randint(-10, 10, size = (3,2))"
   ]
  },
  {
   "cell_type": "markdown",
   "metadata": {},
   "source": [
    "Or indeed, we can just generate one integer.  The default low value when unspecified is 0 but the highest value must be specified:"
   ]
  },
  {
   "cell_type": "code",
   "execution_count": 15,
   "metadata": {},
   "outputs": [
    {
     "data": {
      "text/plain": [
       "9"
      ]
     },
     "execution_count": 15,
     "metadata": {},
     "output_type": "execute_result"
    }
   ],
   "source": [
    "# randomly generate one integer.\n",
    "np.random.randint(10)"
   ]
  },
  {
   "cell_type": "markdown",
   "metadata": {},
   "source": [
    "We can also use randint to generate a specified number of integers (size = 10000) with the lowest value possible specified (0 is defaulted in the following example)and up to a specified number of values (20000 in this case):"
   ]
  },
  {
   "cell_type": "code",
   "execution_count": 16,
   "metadata": {},
   "outputs": [
    {
     "data": {
      "image/png": "[encoded data removed]",
      "text/plain": [
       "<Figure size 720x576 with 1 Axes>"
      ]
     },
     "metadata": {
      "needs_background": "light"
     },
     "output_type": "display_data"
    }
   ],
   "source": [
    "\n",
    "# Plot using matplotlib's object-oriented API instead:\n",
    "# we figure and axis object: `fig` and `ax1` and ax2\n",
    "fig1, (axs1) = plt.subplots()\n",
    "\n",
    "# Create axis1 array with 100000 randomly generated integers between 0 and 20000 \n",
    "# and create a histogram to visualize this axis1 array\n",
    "axs1.hist(np.random.randint(20000, size =10000), color= 'orange')\n",
    "# set the title of the histogram.\n",
    "axs1.set_title('Histogram of np.random.randint: Unifom Distribution\\n', fontsize=\"15\", color=\"blue\")\n",
    "\n",
    "plt.show()\n"
   ]
  },
  {
   "cell_type": "markdown",
   "metadata": {},
   "source": [
    "Similar to rand function discussed above, the underlying distribution employed by randint function is the uniform distribution. Therefore, a value generated by the randint is just as likely to fall between 0 and 1000 as it is between 19,000 and 20,000. Unlike the rand function only integers (whole numbers) are generated though and our high and low is not limited to 0 and 1. "
   ]
  },
  {
   "cell_type": "markdown",
   "metadata": {},
   "source": [
    "## 2.4 numpy.random.choice\n",
    "\n",
    "NumPy random.choice function allows you to create random samples also. Basically, when given an input array of numbers, numpy.random.choice will randomly select one of those numbers and each number in the array has an equal chance of being selected (when we use the default setting in parameter p, more on this below).\n",
    "\n",
    "So say we have a NumPy array of 10 integers, the numbers 1 to 10 and we apply the numpy.random.choice function one number between 1 and 10 is randomly selected. \n",
    "\n",
    "Parameters:\n",
    "a required  ( the input array. can be newly created or be an existing numpy array)\n",
    "size ( size of the output)\n",
    "replace (when a sample is selected is it replaced and available to be selected again )\n",
    "p (by default all numbers have an equal probability of being selected. This parameter alters that probability.( \n",
    "\n",
    "Lets see an example. First lets create an array with with numbers 0 to 9 inclusive."
   ]
  },
  {
   "cell_type": "code",
   "execution_count": 17,
   "metadata": {},
   "outputs": [
    {
     "data": {
      "text/plain": [
       "array([0, 1, 2, 3, 4, 5, 6, 7, 8, 9])"
      ]
     },
     "execution_count": 17,
     "metadata": {},
     "output_type": "execute_result"
    }
   ],
   "source": [
    "#Create an ndarray array10 using function arange \n",
    "# with numbers starting at 0 and up to but not including 10.\n",
    "array10 = np.arange(start = 0, stop = 10)\n",
    "array10"
   ]
  },
  {
   "cell_type": "markdown",
   "metadata": {},
   "source": [
    "Now lets use the numpy.random.choice function to randomly select an interger from the array10. But first, before doing so we need to select a seed to use.  We'll explain seeds in more detail in section \"6. Seeds\". For the moment though just bear in mind that we need to set the seed so that the random number generator np.random.choice will select one of the intergers and this choice selection is dependent on the seed set.  For example use seed 8 and then use the random.choice function to select an integer from predefined array10: "
   ]
  },
  {
   "cell_type": "code",
   "execution_count": 18,
   "metadata": {},
   "outputs": [
    {
     "data": {
      "text/plain": [
       "3"
      ]
     },
     "execution_count": 18,
     "metadata": {},
     "output_type": "execute_result"
    }
   ],
   "source": [
    "# Use set 8 so that we can repeat this test and yield the same result repeatedly.\n",
    "np.random.seed(8)\n",
    "# select a random number a from array10\n",
    "np.random.choice(a = array10)"
   ]
  },
  {
   "cell_type": "markdown",
   "metadata": {},
   "source": [
    "Integer 3 from array10 is randomly selected.  We can repeat this random selection though by using the same code and the same seed 8:"
   ]
  },
  {
   "cell_type": "code",
   "execution_count": 19,
   "metadata": {},
   "outputs": [
    {
     "data": {
      "text/plain": [
       "3"
      ]
     },
     "execution_count": 19,
     "metadata": {},
     "output_type": "execute_result"
    }
   ],
   "source": [
    "# Use set 8 again so that we can repeat this test and yield the same result\n",
    "np.random.seed(8)\n",
    "# select a random number a from array10\n",
    "np.random.choice(a = array10)"
   ]
  },
  {
   "cell_type": "markdown",
   "metadata": {},
   "source": [
    "Now rather than using the predefined array10, lets get np.random.choice function to generate a new numpy array  (essentially an array with contents just like array10), use seed 0 again and select one of the intergers randomly again:"
   ]
  },
  {
   "cell_type": "code",
   "execution_count": 20,
   "metadata": {},
   "outputs": [
    {
     "data": {
      "text/plain": [
       "3"
      ]
     },
     "execution_count": 20,
     "metadata": {},
     "output_type": "execute_result"
    }
   ],
   "source": [
    "# Use seed 8 again so that we can repeat this test and yield the same result\n",
    "np.random.seed(8)\n",
    "# select a random number using choice function from a new array created by choice function\n",
    "np.random.choice(10)"
   ]
  },
  {
   "cell_type": "markdown",
   "metadata": {},
   "source": [
    "The same number is selected again. Numpy.random.choice has created a new array using NumPy arange but the new array has the same contents as array10. Since  np.random.choice(a = array10) is identical to np.random.choice(10). Therefore identical inputs and the same seed have been used resulting in the selection output 3.\n",
    "\n",
    "Note, changing the seed will result in a new random selection when function choice is used again:\n"
   ]
  },
  {
   "cell_type": "code",
   "execution_count": 21,
   "metadata": {},
   "outputs": [
    {
     "data": {
      "text/plain": [
       "8"
      ]
     },
     "execution_count": 21,
     "metadata": {},
     "output_type": "execute_result"
    }
   ],
   "source": [
    "# Use seed 72 again so that we can repeat this test and yield the same result\n",
    "np.random.seed(72)\n",
    "# select a random number using choice function from a new array created by choice function\n",
    "np.random.choice(10)"
   ]
  },
  {
   "cell_type": "markdown",
   "metadata": {},
   "source": [
    "We can also select multiple values from an array. Lets select 5 sample numbers from an array of 10 values (0 to 9) created by random.choice with seed set to 4:"
   ]
  },
  {
   "cell_type": "code",
   "execution_count": 22,
   "metadata": {},
   "outputs": [
    {
     "data": {
      "text/plain": [
       "array([7, 5, 1, 8, 7])"
      ]
     },
     "execution_count": 22,
     "metadata": {},
     "output_type": "execute_result"
    }
   ],
   "source": [
    "# Set the seed so that we can repeat this test and yield the same result later if required.\n",
    "np.random.seed(4)\n",
    "# Use function choice to randomly generate 5 values from 0 to 99 inclusive.\n",
    "np.random.choice(10, size = 5)"
   ]
  },
  {
   "cell_type": "markdown",
   "metadata": {},
   "source": [
    "Note the same numbers can be generated multiple times.  The parameter replace defaults to True and this results the values selected being placed back into into the possible values to be selected after each selection.\n",
    "\n",
    "By changing the parameter replace = False, values selected are no longer available to be selected.  "
   ]
  },
  {
   "cell_type": "code",
   "execution_count": 23,
   "metadata": {},
   "outputs": [
    {
     "data": {
      "text/plain": [
       "array([3, 8, 4, 9, 2])"
      ]
     },
     "execution_count": 23,
     "metadata": {},
     "output_type": "execute_result"
    }
   ],
   "source": [
    "# Use the same seed again.\n",
    "np.random.seed(4)\n",
    "# Use function choice to randomly generate 5 values again from 0 to 99 inclusive\n",
    "# But this time set parameter replace to false \n",
    "# so that the same values can not be reselected /generated again\n",
    "np.random.choice(10, size = 5, replace = False)"
   ]
  },
  {
   "cell_type": "markdown",
   "metadata": {},
   "source": [
    "The same sample number can be now be selected multiple times. This is basically like picking a card from a deck and then replacing the card in the pack before the next selection"
   ]
  },
  {
   "cell_type": "markdown",
   "metadata": {},
   "source": [
    "The last parameter  we will look at p, allows the probability of certain outcomes to be altered. Lets use an array with 11 values (0-10inclusive) again and randomly select one value but set the probability of selecting the first value to 50% while setting the probability of selecting the remaining values each at 5%.  The value 0 is more likely to be selected than any other (although not guarenteed)."
   ]
  },
  {
   "cell_type": "code",
   "execution_count": 24,
   "metadata": {},
   "outputs": [
    {
     "data": {
      "text/plain": [
       "0"
      ]
     },
     "execution_count": 24,
     "metadata": {},
     "output_type": "execute_result"
    }
   ],
   "source": [
    "#use the same seed so that we can repeate the selection later if required.\n",
    "np.random.seed(27)\n",
    "# set x equal to an array of 1 random number \n",
    "# generated by function choice between 0 and 10 inclusively \n",
    "# and the with probability of 0 being selected = 50% \n",
    "#and all other values in the array with proability 5%\n",
    "np.random.choice(11, p = [.5, .05, .05, .05, .05, .05, .05, .05, .05, .05, .05] )\n"
   ]
  },
  {
   "cell_type": "code",
   "execution_count": null,
   "metadata": {},
   "outputs": [],
   "source": []
  },
  {
   "cell_type": "markdown",
   "metadata": {},
   "source": [
    "Now lets increase the selection size to 1000 and we can see how often 0 is selected versus the other values in the array:"
   ]
  },
  {
   "cell_type": "code",
   "execution_count": 25,
   "metadata": {},
   "outputs": [
    {
     "data": {
      "image/png": "[encoded data removed]",
      "text/plain": [
       "<Figure size 720x576 with 1 Axes>"
      ]
     },
     "metadata": {
      "needs_background": "light"
     },
     "output_type": "display_data"
    }
   ],
   "source": [
    "#use the same seed so that we can repeate the selection later if required.\n",
    "np.random.seed(27)\n",
    "# set x equal to an array of 1000 random numbers \n",
    "# generated by function choice between 0 and 10 inclusively \n",
    "# and the with probability of 0 being selected = 50% \n",
    "#and all other values in the array with proability 5%\n",
    "x = np.random.choice(11, size = 1000, p = \n",
    "                 [.5, .05, .05, .05, .05, .05, .05, .05, .05, .05, .05])\n",
    "\n",
    "# plot a histogram of array x \n",
    "plt.hist(x)\n",
    "# display the histogram \n",
    "plt.show()\n"
   ]
  },
  {
   "cell_type": "markdown",
   "metadata": {},
   "source": [
    "# **2.5 “Permutations” functions**\n",
    "\n",
    "## **Shuffle**    \n",
    "The shuffle function modifies a sequence by shuffling its contents.  First, lets create a range of numbers. "
   ]
  },
  {
   "cell_type": "code",
   "execution_count": 26,
   "metadata": {},
   "outputs": [
    {
     "data": {
      "text/plain": [
       "array([0, 1, 2, 3, 4, 5, 6, 7, 8, 9])"
      ]
     },
     "execution_count": 26,
     "metadata": {},
     "output_type": "execute_result"
    }
   ],
   "source": [
    "# create an arrary arr with 10 elements\n",
    "arr = np.arange(10)\n",
    "arr\n"
   ]
  },
  {
   "cell_type": "markdown",
   "metadata": {},
   "source": [
    "Now lets use the shuffle function to randomly shuffle the contents of this array."
   ]
  },
  {
   "cell_type": "code",
   "execution_count": 27,
   "metadata": {},
   "outputs": [
    {
     "data": {
      "text/plain": [
       "array([1, 9, 6, 8, 2, 7, 3, 5, 0, 4])"
      ]
     },
     "execution_count": 27,
     "metadata": {},
     "output_type": "execute_result"
    }
   ],
   "source": [
    "# shuffle the arrary arr\n",
    "np.random.shuffle(arr)\n",
    "arr"
   ]
  },
  {
   "cell_type": "markdown",
   "metadata": {},
   "source": [
    "The contents of the array are now reordered.  It is also possible to shuffle multi-dimensional arrays.  However, multi-dimensional arrays are only shuffled along the first axis. For example create an array with 3 rows and 3 columns from a range of 9."
   ]
  },
  {
   "cell_type": "code",
   "execution_count": 28,
   "metadata": {},
   "outputs": [
    {
     "data": {
      "text/plain": [
       "array([[0, 1, 2],\n",
       "       [3, 4, 5],\n",
       "       [6, 7, 8]])"
      ]
     },
     "execution_count": 28,
     "metadata": {},
     "output_type": "execute_result"
    }
   ],
   "source": [
    "# create an arrary arr with 9 elements and reshape into a 3 x 3 multidimensional array.\n",
    "arr1 = np.arange(9).reshape((3, 3))\n",
    "arr1"
   ]
  },
  {
   "cell_type": "markdown",
   "metadata": {},
   "source": [
    "Now lets shuffle the array arr1. "
   ]
  },
  {
   "cell_type": "code",
   "execution_count": 29,
   "metadata": {},
   "outputs": [
    {
     "data": {
      "text/plain": [
       "array([[3, 4, 5],\n",
       "       [6, 7, 8],\n",
       "       [0, 1, 2]])"
      ]
     },
     "execution_count": 29,
     "metadata": {},
     "output_type": "execute_result"
    }
   ],
   "source": [
    "#user the shuffe function to shuffe!\n",
    "np.random.shuffle(arr1)\n",
    "arr1"
   ]
  },
  {
   "cell_type": "markdown",
   "metadata": {},
   "source": [
    "Note, while the rows have been shuffled (ie the first axis/dimension), the columns have not been shuffled. Only the first axis is shuffled and the elements within each axis remain in place."
   ]
  },
  {
   "cell_type": "markdown",
   "metadata": {},
   "source": [
    "## **Permutation**    \n",
    "\n",
    "The random.permutation function allows us to create a new array with a single axis and with a specifc number of elements and return the elements in the resulting array in a random order.  The creation of arr2 demonstrates this:\n"
   ]
  },
  {
   "cell_type": "code",
   "execution_count": 30,
   "metadata": {
    "scrolled": true
   },
   "outputs": [
    {
     "data": {
      "text/plain": [
       "array([4, 6, 8, 9, 2, 3, 5, 1, 0, 7])"
      ]
     },
     "execution_count": 30,
     "metadata": {},
     "output_type": "execute_result"
    }
   ],
   "source": [
    "# create array arr2 with elements and place in random order\n",
    "arr2 = np.random.permutation(10)\n",
    "arr2"
   ]
  },
  {
   "cell_type": "markdown",
   "metadata": {},
   "source": [
    "In adddition and similar to function random.shuffle, we can also use this function np.random.permutation() to shuffle the contents of an existing single dimensional array :"
   ]
  },
  {
   "cell_type": "code",
   "execution_count": 31,
   "metadata": {},
   "outputs": [
    {
     "data": {
      "text/plain": [
       "array([0, 2, 8, 5, 1, 6, 4, 3, 9, 7])"
      ]
     },
     "execution_count": 31,
     "metadata": {},
     "output_type": "execute_result"
    }
   ],
   "source": [
    "# shuffle the the order of the elements of the pre-existing array arr2\n",
    "np.random.permutation(arr2)"
   ]
  },
  {
   "cell_type": "markdown",
   "metadata": {},
   "source": [
    "And again similiar to random.shuffle, the random.permutation function gives us the option to shuffle a multidimensional array :"
   ]
  },
  {
   "cell_type": "code",
   "execution_count": 32,
   "metadata": {},
   "outputs": [
    {
     "data": {
      "text/plain": [
       "array([[0, 1, 2],\n",
       "       [3, 4, 5],\n",
       "       [6, 7, 8]])"
      ]
     },
     "execution_count": 32,
     "metadata": {},
     "output_type": "execute_result"
    }
   ],
   "source": [
    "# first create an array with 9 elements in one axis and \n",
    "#then reshape so that the array has two dimenensions/axes one row and one colum.\n",
    "arr3 = np.arange(9).reshape((3, 3))\n",
    "arr3\n"
   ]
  },
  {
   "cell_type": "markdown",
   "metadata": {},
   "source": [
    "Now apply the random.permutation function: "
   ]
  },
  {
   "cell_type": "code",
   "execution_count": 33,
   "metadata": {},
   "outputs": [
    {
     "data": {
      "text/plain": [
       "array([[3, 4, 5],\n",
       "       [6, 7, 8],\n",
       "       [0, 1, 2]])"
      ]
     },
     "execution_count": 33,
     "metadata": {},
     "output_type": "execute_result"
    }
   ],
   "source": [
    "# use the permutation function to shuffle the pre-existing mutlidimensional array\n",
    "np.random.permutation(arr3)"
   ]
  },
  {
   "cell_type": "markdown",
   "metadata": {},
   "source": [
    "While the array has been shuffled only the x axis has been shuffled by random.permutation similar to random.shuffle. \n",
    "\n",
    "Therefore in summary both functions random.shuffle and random.permutation shuffle the contents of a single existing dimensional array and while both functions can also shuffle the contents of an existing multidimensional array only the the first axis is shuffled. The function random.permutation also allows us to **create and shuffle** a single dimensional array in one step."
   ]
  },
  {
   "cell_type": "markdown",
   "metadata": {},
   "source": [
    "# 3. DISTRIBUTIONS:  \n",
    "\n",
    "This sections looks at the numpy.random distribution fuctions. Probability distribution is a rule or set of rules that assigns probabilities to values of random variables. \"A probability distribution is a list of all of the possible outcomes of a random variable along with their corresponding probability values\" (Brooks-Bartlett, 2018).\n",
    "\n",
    "We will look at five different distributions available to use in numpy.random: Uniform,  Normal, Binomial, Chisquare and Multinomial.\n"
   ]
  },
  {
   "cell_type": "markdown",
   "metadata": {},
   "source": [
    "## **3.1 Uniform Distributions**    \n",
    "Uniform distributions are probability distributions where the outcomes are equally likely (Investopedia, undated, unpaged).  \n",
    "\n",
    "The numpy.random.uniform distribution allows us to specify as arguments the range of values to be included from low to high and the number of random values to be returned (size). In the following example, all values generated will be greater than or equal to -1 and less than 0 and 1000 random values will be generated:\n"
   ]
  },
  {
   "cell_type": "code",
   "execution_count": 34,
   "metadata": {},
   "outputs": [
    {
     "data": {
      "text/plain": [
       "array([-2.52833426e-02, -3.50951956e-01, -6.67849824e-01, -1.50179683e-02,\n",
       "       -8.48849526e-01, -3.44570476e-01, -2.27375772e-02, -1.87367437e-01,\n",
       "       -9.73317834e-01, -7.76319813e-01, -4.35002264e-01, -5.53616228e-01,\n",
       "       -4.83341348e-01, -6.79044228e-01, -2.65005088e-01, -8.63069111e-01,\n",
       "       -3.80451611e-01, -5.02439246e-01, -8.20229938e-01, -5.71659226e-01,\n",
       "       -3.08692948e-01, -8.39340014e-01, -7.67566836e-02, -6.15105399e-01,\n",
       "       -6.65343605e-01, -1.04153147e-02, -8.23092040e-01, -2.66373492e-01,\n",
       "       -4.34596959e-01, -5.96495791e-01, -2.62531605e-01, -7.09898514e-01,\n",
       "       -5.28232184e-01, -5.17237101e-01, -7.71905510e-01, -4.96529851e-01,\n",
       "       -6.17609259e-01, -1.14667524e-01, -9.62179586e-01, -6.86588278e-01,\n",
       "       -4.33118756e-01, -4.34812854e-02, -6.04035433e-01, -4.24101044e-01,\n",
       "       -8.95292132e-01, -4.51817573e-03, -3.02223006e-01, -3.05646239e-01,\n",
       "       -4.88787650e-01, -9.04046819e-01, -5.31693606e-01, -3.17043362e-01,\n",
       "       -1.68793748e-01, -4.35381040e-01, -9.11646732e-01, -5.24934178e-01,\n",
       "       -6.40265776e-01, -2.49350605e-01, -8.65393645e-01, -3.18311244e-01,\n",
       "       -6.83414346e-01, -6.11343074e-01, -5.84605873e-01, -5.15547915e-01,\n",
       "       -8.93773233e-01, -6.39212047e-01, -4.43939247e-01, -8.56399637e-01,\n",
       "       -6.31652832e-01, -8.97974759e-01, -5.20112846e-01, -4.16185783e-01,\n",
       "       -7.47947989e-01, -4.12805337e-01, -6.53393573e-01, -1.23254946e-01,\n",
       "       -7.75952633e-01, -8.95063151e-01, -9.28023147e-01, -1.76097909e-01,\n",
       "       -5.83657382e-01, -8.49192411e-01, -9.17417651e-01, -2.57211635e-02,\n",
       "       -7.36021015e-02, -7.63685679e-01, -2.10790784e-01, -6.50280441e-01,\n",
       "       -2.63434731e-01, -4.31190493e-04, -9.16209652e-01, -9.60009358e-01,\n",
       "       -6.95561861e-01, -5.91789138e-01, -8.85426251e-01, -4.29581605e-02,\n",
       "       -6.12171647e-01, -2.63043911e-01, -5.09011150e-01, -1.15644930e-01,\n",
       "       -1.41715828e-01, -7.35773108e-01, -1.93335317e-01, -7.63775243e-01,\n",
       "       -6.74375363e-01, -6.80040918e-01, -3.56791240e-01, -5.40952835e-01,\n",
       "       -9.10546785e-01, -3.62757460e-01, -1.51685444e-01, -8.40421603e-01,\n",
       "       -4.50610690e-01, -8.30902920e-01, -6.15670226e-01, -4.32499106e-01,\n",
       "       -7.81126944e-01, -4.62459513e-01, -9.95970877e-01, -3.69570727e-01,\n",
       "       -2.49736770e-01, -7.40502076e-01, -2.97947089e-03, -3.57718418e-01,\n",
       "       -1.42837865e-01, -1.99923712e-02, -6.89699339e-01, -1.52059232e-01,\n",
       "       -9.84191072e-01, -8.38692963e-01, -4.07971406e-01, -1.48595094e-03,\n",
       "       -3.73615948e-01, -6.81017943e-01, -7.08833831e-01, -7.68618442e-02,\n",
       "       -6.70602382e-01, -5.45199288e-01, -3.30359574e-01, -6.84608440e-01,\n",
       "       -6.42178345e-01, -6.03252864e-01, -5.68545184e-01, -1.47516705e-01,\n",
       "       -5.51367955e-01, -3.58574081e-02, -3.47170881e-01, -1.23485649e-01,\n",
       "       -7.78189773e-01, -3.40780261e-01, -5.53254920e-01, -8.54875926e-02,\n",
       "       -6.68901916e-01, -4.24657071e-01, -3.89176057e-01, -3.88659772e-01,\n",
       "       -4.37465307e-01, -2.68711297e-01, -7.50666876e-01, -2.42595481e-01,\n",
       "       -5.80385155e-01, -9.66760002e-01, -5.91508939e-01, -7.61087869e-01,\n",
       "       -4.91383070e-01, -9.16778189e-01, -1.26099857e-01, -4.92798717e-01,\n",
       "       -9.29078733e-01, -3.63114036e-01, -7.86054090e-01, -4.02511787e-01,\n",
       "       -2.64658012e-01, -5.31868148e-01, -5.09798167e-01, -7.95417276e-01,\n",
       "       -5.11290930e-01, -1.15822967e-01, -1.02808708e-01, -9.56105732e-01,\n",
       "       -5.88743382e-01, -7.97049130e-01, -2.17900794e-01, -7.13057552e-01,\n",
       "       -6.38393711e-01, -2.09559192e-02, -3.79544426e-01, -2.33979042e-01,\n",
       "       -5.07425174e-01, -3.86465029e-01, -4.15299173e-01, -6.13621584e-01,\n",
       "       -6.75074110e-01, -9.53502852e-01, -4.24687564e-01, -8.07837738e-01,\n",
       "       -8.10203433e-01, -1.48570032e-01, -6.86895009e-01, -8.09581100e-01,\n",
       "       -5.99508391e-02, -1.73661119e-01, -4.35997455e-01, -8.91560281e-01,\n",
       "       -3.57196595e-01, -7.78312262e-01, -5.10621614e-01, -2.23216723e-01,\n",
       "       -6.12084713e-01, -2.34216245e-02, -5.00651406e-01, -5.10219265e-01,\n",
       "       -1.75526675e-01, -8.08001499e-02, -7.64026468e-01, -7.95118494e-01,\n",
       "       -1.39685818e-01, -1.39796380e-01, -8.05437386e-01, -9.53444214e-02,\n",
       "       -4.44025485e-01, -4.97140092e-01, -9.34039725e-01, -8.28746783e-01,\n",
       "       -8.80106259e-01, -9.73437191e-01, -8.93337950e-01, -9.44425499e-01,\n",
       "       -5.63087726e-01, -5.54523626e-01, -3.20428534e-01, -4.63289911e-01,\n",
       "       -1.64382119e-01, -2.70137897e-01, -6.42299379e-01, -8.69046890e-01,\n",
       "       -2.31474034e-01, -1.73484909e-01, -2.85540121e-01, -3.67605971e-02,\n",
       "       -1.33913320e-01, -3.72319434e-01, -2.27654514e-01, -9.63938256e-01,\n",
       "       -5.32786580e-01, -1.03630625e-01, -8.20788812e-01, -1.47138021e-01,\n",
       "       -7.95458567e-02, -3.86724576e-01, -1.75987084e-01, -6.88907484e-01,\n",
       "       -8.32134327e-01, -5.07210642e-01, -3.44886595e-01, -5.09701265e-01,\n",
       "       -8.68957494e-01, -2.70330522e-01, -4.51639728e-01, -7.05538477e-01,\n",
       "       -2.94530033e-01, -2.44104208e-01, -6.88336601e-02, -8.71865042e-01,\n",
       "       -7.11662862e-01, -4.72062273e-01, -2.74113910e-01, -1.29444657e-01,\n",
       "       -4.18748378e-01, -7.39009453e-01, -4.35209250e-01, -3.18260484e-01,\n",
       "       -7.01096126e-01, -7.64775550e-01, -4.70511543e-01, -8.41881102e-02,\n",
       "       -5.91992966e-01, -7.82505453e-01, -7.47653423e-01, -4.71151512e-01,\n",
       "       -9.97216271e-01, -2.20852822e-01, -1.63972916e-01, -3.66433022e-01,\n",
       "       -4.10119307e-01, -3.40224909e-01, -8.09173286e-01, -5.60056677e-01,\n",
       "       -3.55359900e-01, -2.84610214e-02, -3.25933721e-01, -7.57421347e-01,\n",
       "       -3.12941052e-01, -4.54196309e-01, -6.87188386e-01, -8.39555044e-01,\n",
       "       -5.20963497e-01, -9.54036929e-01, -3.02793663e-01, -6.65793749e-01,\n",
       "       -3.47741115e-01, -4.02444072e-01, -2.06436625e-01, -3.79511717e-01,\n",
       "       -4.67760893e-01, -7.94507542e-01, -8.34324551e-01, -4.08964760e-01,\n",
       "       -9.21870390e-01, -8.17904264e-01, -5.95667963e-02, -6.03575244e-01,\n",
       "       -7.99542846e-01, -1.70018766e-01, -8.22806314e-01, -8.48902236e-01,\n",
       "       -3.17768377e-01, -5.50143032e-01, -1.42444626e-01, -9.40695108e-01,\n",
       "       -8.65739879e-01, -8.36839125e-01, -9.27165148e-01, -8.91408841e-02,\n",
       "       -8.85161279e-01, -3.52654996e-01, -1.83406879e-01, -6.64410599e-01,\n",
       "       -4.53402508e-01, -2.25538660e-01, -2.28803756e-01, -3.40296048e-01,\n",
       "       -8.81261283e-01, -2.62030595e-02, -4.70374078e-01, -5.81566859e-01,\n",
       "       -5.05589761e-01, -8.79271066e-02, -8.89471140e-02, -3.25549798e-01,\n",
       "       -5.60208909e-01, -3.28468713e-01, -3.31225676e-01, -5.51043272e-01,\n",
       "       -2.02918520e-01, -4.80417013e-01, -7.29553358e-01, -4.35190310e-01,\n",
       "       -4.15436556e-01, -1.55617281e-01, -8.07006114e-01, -5.36723602e-01,\n",
       "       -1.37203043e-01, -8.22773446e-01, -3.11853918e-01, -2.86240709e-01,\n",
       "       -3.13258156e-01, -1.78876423e-01, -2.61142513e-01, -5.49466195e-01,\n",
       "       -4.91898210e-01, -9.35322207e-02, -5.55480139e-01, -9.57388589e-01,\n",
       "       -5.88596844e-01, -5.72940615e-02, -1.64111463e-01, -5.34369029e-01,\n",
       "       -9.51531961e-02, -7.55291865e-01, -1.53084938e-01, -3.14395128e-02,\n",
       "       -5.00054761e-01, -3.18084726e-01, -5.50778419e-01, -3.00377033e-01,\n",
       "       -1.71990582e-01, -8.47906347e-01, -4.35506983e-01, -9.28067007e-01,\n",
       "       -4.87641857e-01, -9.53949133e-01, -8.51775479e-01, -8.32356871e-02,\n",
       "       -7.53152213e-01, -3.06920509e-01, -5.75960507e-01, -6.08296523e-01,\n",
       "       -4.31993304e-01, -6.71680953e-01, -1.38737707e-01, -5.28669558e-01,\n",
       "       -7.25801238e-01, -9.14375572e-01, -2.64409946e-01, -3.56133491e-01,\n",
       "       -1.93845866e-01, -3.87090223e-01, -7.62730849e-01, -1.33735799e-01,\n",
       "       -8.84601542e-01, -6.31407547e-01, -5.63572096e-01, -6.73171211e-01,\n",
       "       -9.11944008e-02, -7.68893022e-01, -5.02060036e-01, -1.26675137e-01,\n",
       "       -5.83155196e-01, -9.76158308e-01, -8.58136516e-01, -5.54904265e-01,\n",
       "       -9.78722395e-01, -2.45426394e-01, -7.76290035e-01, -5.81466214e-03,\n",
       "       -8.40588174e-01, -1.22164960e-01, -5.60343863e-01, -3.12128804e-01,\n",
       "       -1.71927291e-01, -3.28370518e-01, -6.10511543e-01, -6.16144721e-01,\n",
       "       -4.64874199e-01, -3.29384723e-02, -8.89059820e-01, -7.83426856e-01,\n",
       "       -5.86017473e-01, -9.20909552e-01, -4.34683579e-01, -9.86099095e-01,\n",
       "       -3.91878610e-01, -2.40533884e-01, -7.34739816e-02, -5.22696820e-01,\n",
       "       -8.98221443e-01, -1.77255432e-01, -6.03362392e-01, -2.83385859e-01,\n",
       "       -9.65277293e-01, -3.63156479e-01, -1.76302251e-01, -5.10614091e-01,\n",
       "       -6.42478540e-02, -8.59310964e-01, -9.43983260e-01, -6.38581785e-01,\n",
       "       -6.47113473e-01, -5.66099341e-01, -9.59691933e-01, -3.22983404e-01,\n",
       "       -8.48355716e-01, -9.18622139e-02, -5.98837271e-01, -2.12647235e-01,\n",
       "       -9.34577095e-01, -9.56007135e-01, -3.34336940e-02, -9.47327879e-01,\n",
       "       -6.81636949e-01, -6.56195577e-01, -6.41213251e-01, -6.56077825e-01,\n",
       "       -1.59687237e-01, -9.63767596e-01, -5.29876120e-01, -1.60434176e-01,\n",
       "       -8.65752400e-01, -4.08198555e-02, -7.67517991e-01, -1.40679693e-01,\n",
       "       -2.13116219e-01, -9.21230309e-01, -7.00267501e-01, -1.36244970e-01,\n",
       "       -9.30726956e-01, -4.55709742e-01, -3.67064566e-01, -2.05143487e-01,\n",
       "       -4.95572455e-01, -9.01236638e-01, -1.92629498e-01, -3.82309804e-02,\n",
       "       -7.87499902e-01, -1.69974561e-01, -6.16167780e-01, -8.63160014e-01,\n",
       "       -2.28386851e-01, -6.45287462e-01, -4.78243979e-01, -5.89140487e-01,\n",
       "       -1.78478381e-01, -8.89779521e-01, -7.57771396e-01, -2.65488716e-02,\n",
       "       -1.13352414e-01, -1.89033108e-01, -8.14527497e-01, -1.96178807e-01,\n",
       "       -4.97105479e-01, -9.81774612e-01, -1.48550841e-01, -3.98778118e-01,\n",
       "       -9.82307490e-01, -7.61716316e-01, -3.03689856e-01, -2.17676188e-01,\n",
       "       -6.82052154e-01, -7.87859903e-01, -2.59367882e-02, -1.76134364e-01,\n",
       "       -9.86315720e-01, -9.81339998e-02, -3.12881382e-01, -2.22344793e-01,\n",
       "       -9.17364120e-01, -3.18229868e-01, -6.32647842e-01, -8.48912742e-01,\n",
       "       -1.19384899e-01, -4.91241771e-01, -6.06958734e-01, -1.99878733e-01,\n",
       "       -5.93738377e-01, -5.34345121e-01, -1.12205472e-01, -3.69332626e-01,\n",
       "       -9.11128586e-01, -9.59028232e-01, -2.63020992e-01, -9.14104239e-01,\n",
       "       -8.57957599e-02, -7.11245076e-01, -6.65816753e-01, -8.84415549e-01,\n",
       "       -1.12083965e-01, -6.67869057e-01, -8.96252527e-01, -7.12606442e-01,\n",
       "       -4.45812922e-01, -1.08331680e-01, -8.98778211e-01, -5.76347521e-01,\n",
       "       -2.63723551e-01, -2.27382703e-01, -1.91980826e-01, -1.06401514e-01,\n",
       "       -4.57341601e-01, -3.88752745e-01, -2.40553531e-01, -7.02993273e-01,\n",
       "       -4.22463247e-03, -7.78280431e-01, -8.44348597e-01, -4.29804464e-01,\n",
       "       -5.59309984e-01, -1.28485020e-01, -9.04112801e-01, -3.96649868e-03,\n",
       "       -7.28783845e-01, -2.21947666e-01, -3.19845288e-01, -2.39691134e-01,\n",
       "       -1.63737320e-01, -6.16937998e-02, -8.33550304e-01, -2.81281693e-01,\n",
       "       -1.87772787e-01, -8.54793867e-01, -5.64583768e-01, -8.13251168e-01,\n",
       "       -7.00156465e-01, -6.64730264e-01, -8.10930787e-01, -9.43008652e-01,\n",
       "       -1.87026703e-01, -5.10071981e-01, -5.03116830e-01, -7.41332358e-01,\n",
       "       -2.83902397e-02, -8.51269045e-01, -8.57492828e-01, -2.56601108e-01,\n",
       "       -4.26234509e-02, -8.46234756e-01, -8.16280431e-01, -7.27860783e-01,\n",
       "       -8.01214067e-02, -4.31520499e-01, -1.62930159e-01, -3.57220233e-01,\n",
       "       -8.21882564e-01, -9.09195737e-01, -9.57066656e-01, -9.70405040e-01,\n",
       "       -4.56973082e-01, -6.33136644e-01, -4.74645674e-02, -3.42659849e-01,\n",
       "       -5.97305061e-02, -9.21464758e-01, -5.12329020e-02, -4.75000890e-01,\n",
       "       -4.83031883e-01, -2.96014777e-01, -6.08693913e-01, -4.73726144e-01,\n",
       "       -9.54562810e-01, -7.04354177e-01, -2.72120325e-01, -4.47511777e-01,\n",
       "       -2.62172927e-01, -6.50355261e-01, -2.91452555e-01, -2.33105450e-01,\n",
       "       -1.02226417e-02, -6.04024882e-01, -7.30734830e-01, -4.08009161e-01,\n",
       "       -6.81091779e-01, -3.13703633e-01, -3.27868525e-01, -6.38378750e-01,\n",
       "       -7.79346101e-01, -5.11908071e-01, -3.85904375e-01, -9.42509391e-01,\n",
       "       -6.23580037e-01, -1.06662921e-01, -2.98808221e-01, -8.75432110e-01,\n",
       "       -6.84496911e-01, -2.93374573e-01, -1.67008222e-01, -8.67444091e-01,\n",
       "       -2.45806422e-01, -2.92814227e-01, -5.61379728e-01, -7.18650395e-01,\n",
       "       -1.81648719e-01, -3.75726426e-01, -3.37412686e-01, -9.04031528e-01,\n",
       "       -7.51957261e-01, -6.97738668e-01, -7.89016868e-01, -8.47890379e-02,\n",
       "       -5.43413185e-01, -4.42045451e-01, -5.78102429e-01, -1.56993036e-01,\n",
       "       -5.79594071e-01, -9.91170263e-01, -2.93179743e-01, -7.51021741e-02,\n",
       "       -7.45460390e-01, -7.02294658e-01, -3.31245684e-01, -9.83769434e-01,\n",
       "       -7.60136595e-01, -2.54955399e-01, -2.99320761e-02, -3.02336277e-01,\n",
       "       -4.62152487e-02, -5.23805252e-01, -4.02617685e-01, -8.91928321e-02,\n",
       "       -8.38238251e-01, -7.22044495e-01, -6.53420532e-01, -5.51940931e-01,\n",
       "       -9.98401893e-01, -1.05662573e-01, -4.97320752e-01, -2.65734982e-01,\n",
       "       -6.09272624e-02, -9.74866839e-01, -8.38662110e-01, -1.01765466e-01,\n",
       "       -3.07867413e-02, -9.79259787e-01, -5.32118031e-01, -9.08440719e-01,\n",
       "       -9.97877455e-01, -5.94165218e-01, -9.65771012e-01, -6.49016124e-01,\n",
       "       -6.42694087e-02, -6.92600154e-01, -9.62549203e-01, -9.69421561e-01,\n",
       "       -4.73152166e-01, -1.80229715e-02, -5.88436064e-01, -5.73726039e-01,\n",
       "       -1.31560377e-01, -6.98571632e-01, -7.35590425e-01, -1.37070168e-01,\n",
       "       -2.53102004e-01, -7.65258504e-01, -9.28048434e-01, -1.93502639e-01,\n",
       "       -6.14353508e-01, -3.18568197e-01, -2.37848103e-01, -4.67183389e-01,\n",
       "       -3.22969159e-01, -5.56189794e-01, -8.98757114e-01, -1.17215370e-01,\n",
       "       -7.61453958e-01, -7.93269621e-01, -1.51066521e-01, -2.93906246e-01,\n",
       "       -3.67122809e-01, -3.98347201e-01, -7.14482890e-01, -6.30657753e-01,\n",
       "       -8.85583448e-01, -1.19914434e-01, -1.08428809e-01, -2.02066127e-01,\n",
       "       -8.78553306e-01, -2.22936272e-01, -7.69624833e-01, -6.48310613e-01,\n",
       "       -6.86926482e-01, -5.57653396e-02, -1.64818030e-01, -8.36555838e-03,\n",
       "       -9.78490721e-01, -9.34232195e-02, -2.86890048e-01, -5.74861255e-01,\n",
       "       -9.01893675e-02, -5.10237648e-01, -2.70707614e-01, -8.91547813e-01,\n",
       "       -1.44242985e-01, -3.53075696e-01, -3.02599855e-01, -5.09426866e-01,\n",
       "       -6.98706472e-01, -3.87373603e-01, -6.62120186e-02, -9.05450358e-01,\n",
       "       -2.48911531e-01, -9.75754553e-01, -1.54040854e-01, -7.31002213e-01,\n",
       "       -8.96020536e-01, -8.42933871e-01, -7.24568368e-01, -7.01080835e-01,\n",
       "       -5.74808450e-01, -6.27695019e-01, -8.96683684e-01, -9.16430194e-02,\n",
       "       -2.26991864e-01, -1.93208835e-01, -5.63692987e-01, -2.32765613e-01,\n",
       "       -4.32694936e-01, -2.07219286e-01, -5.65019990e-01, -3.73171538e-01,\n",
       "       -4.63747167e-01, -3.32193001e-01, -8.32623400e-02, -7.30483082e-01,\n",
       "       -3.57516952e-01, -5.71119922e-01, -6.00841907e-02, -7.40418715e-01,\n",
       "       -2.69225136e-01, -1.29463422e-01, -5.81008367e-01, -2.51744182e-01,\n",
       "       -4.97069403e-01, -3.66076635e-02, -4.22525547e-01, -5.71477825e-01,\n",
       "       -8.82377688e-01, -1.61974003e-01, -6.31782634e-01, -2.32700517e-01,\n",
       "       -4.93588458e-01, -7.16422658e-01, -9.75050699e-01, -3.68671632e-01,\n",
       "       -5.75464985e-02, -8.03253882e-02, -6.96175570e-01, -9.90502785e-01,\n",
       "       -5.71808164e-02, -9.96775198e-01, -8.55374953e-01, -9.87079091e-01,\n",
       "       -9.94522987e-01, -7.50559852e-02, -4.42623824e-01, -9.08638555e-01,\n",
       "       -5.05919412e-01, -3.33134684e-01, -3.15274406e-01, -1.42232597e-01,\n",
       "       -9.38078313e-01, -1.90296854e-01, -4.71377339e-01, -4.56261679e-01,\n",
       "       -9.39918430e-01, -2.53266010e-01, -1.16313977e-01, -5.51079377e-02,\n",
       "       -7.03847445e-01, -1.78965687e-01, -7.20787700e-01, -4.71396716e-01,\n",
       "       -7.50870115e-01, -3.06955275e-01, -2.00364583e-01, -8.58171022e-01,\n",
       "       -9.84501700e-01, -9.22390721e-01, -2.24195514e-01, -6.34889252e-02,\n",
       "       -4.01528583e-01, -9.63262133e-01, -2.19194895e-01, -2.09132764e-01,\n",
       "       -9.02400285e-01, -5.09182576e-02, -8.55464312e-02, -2.91216546e-01,\n",
       "       -6.01535537e-01, -1.79832807e-01, -8.09415802e-01, -2.54781856e-01,\n",
       "       -6.29694314e-01, -8.72202987e-01, -8.90336635e-01, -7.54780355e-01,\n",
       "       -7.75795924e-01, -4.37681496e-01, -5.57158867e-01, -3.26947028e-02,\n",
       "       -6.14604842e-01, -8.06549825e-01, -7.08210566e-01, -7.20892631e-01,\n",
       "       -6.99635793e-01, -8.68671330e-02, -8.71874097e-01, -6.02085024e-01,\n",
       "       -1.35262167e-01, -4.51209976e-01, -5.73914247e-02, -5.26466226e-01,\n",
       "       -1.45253224e-01, -8.10349164e-01, -6.01661142e-01, -5.46569650e-01,\n",
       "       -7.59763583e-01, -9.48903174e-01, -9.34614378e-01, -9.03907158e-01,\n",
       "       -5.85313834e-01, -2.00135258e-01, -5.43933986e-01, -4.42680933e-01,\n",
       "       -8.32378116e-01, -5.72824703e-01, -5.00407780e-01, -2.31575028e-01,\n",
       "       -2.58589487e-01, -9.56133776e-01, -8.12905337e-01, -5.86373335e-01,\n",
       "       -3.73349265e-02, -3.51227809e-01, -8.64454643e-01, -7.31595089e-01,\n",
       "       -4.98411857e-01, -5.29588467e-01, -4.62790426e-01, -7.09722364e-01,\n",
       "       -8.60616009e-01, -9.76783628e-01, -7.74225680e-01, -9.22783197e-01,\n",
       "       -4.70155609e-02, -7.89185896e-01, -2.31294411e-01, -7.23635408e-01,\n",
       "       -4.99727545e-01, -1.04317441e-01, -3.84289467e-01, -3.33884529e-01,\n",
       "       -5.12796540e-01, -2.80956546e-01, -8.09073308e-01, -9.52797215e-01,\n",
       "       -8.73784386e-01, -1.14968482e-01, -3.59849142e-01, -1.13153694e-01,\n",
       "       -8.99277003e-01, -2.81877320e-01, -8.95675938e-01, -6.55596466e-01,\n",
       "       -4.32087658e-02, -4.14872876e-01, -1.54555883e-01, -3.92134349e-01,\n",
       "       -5.12731407e-01, -3.81353807e-01, -1.52379701e-01, -8.64952902e-02,\n",
       "       -6.72597332e-01, -2.98069247e-01, -7.13771853e-01, -8.18306741e-01,\n",
       "       -9.44807256e-02, -9.12190847e-01, -1.25378980e-01, -8.52398433e-01,\n",
       "       -8.60099284e-01, -4.99023846e-01, -3.46613717e-01, -8.50171825e-01,\n",
       "       -2.25708029e-01, -8.07389855e-02, -7.84174027e-01, -7.08773629e-01,\n",
       "       -4.40363648e-01, -2.93428804e-01, -8.84851505e-01, -8.71121563e-01,\n",
       "       -9.10333271e-01, -2.19823179e-02, -5.26178882e-02, -4.64324867e-01,\n",
       "       -8.43376248e-01, -4.56629676e-01, -8.77670574e-01, -9.04133819e-01,\n",
       "       -2.41850702e-01, -1.78043948e-03, -6.61810189e-01, -5.30795628e-01,\n",
       "       -3.42972267e-01, -2.09977143e-01, -7.07685599e-01, -1.00005458e-01,\n",
       "       -5.95595170e-02, -8.88295246e-01, -1.39616975e-01, -9.57903247e-01,\n",
       "       -9.44725626e-01, -3.05241609e-01, -5.05792978e-01, -7.35115057e-01,\n",
       "       -7.98811462e-01, -1.21211668e-01, -3.95659648e-01, -9.08982279e-01,\n",
       "       -5.63953844e-01, -2.80785345e-01, -4.36983574e-01, -4.29430165e-01,\n",
       "       -7.51129733e-01, -8.15024700e-01, -6.87225827e-01, -3.90086405e-02,\n",
       "       -7.23013576e-01, -7.66484327e-01, -6.80009247e-01, -4.16137634e-01,\n",
       "       -3.15963526e-01, -2.94457222e-01, -2.53076734e-01, -5.09979422e-01,\n",
       "       -6.50922379e-01, -9.84433106e-01, -8.46706327e-01, -8.63450882e-03,\n",
       "       -5.75859943e-01, -5.92919454e-01, -1.50256601e-01, -8.93758860e-01,\n",
       "       -9.75141628e-01, -6.61871539e-01, -4.03556860e-01, -8.75535364e-01,\n",
       "       -8.65429677e-01, -6.95263443e-02, -7.26927454e-01, -8.17227336e-01])"
      ]
     },
     "execution_count": 34,
     "metadata": {},
     "output_type": "execute_result"
    }
   ],
   "source": [
    "# create an array x using the uniform probability distribution\n",
    "np.random.uniform(-1, 0, 1000)\n"
   ]
  },
  {
   "cell_type": "markdown",
   "metadata": {},
   "source": [
    "The below histogram shows us the uniform distribution created. Values are uniformally distributed i.e. as you can see any value is equally likely to be generated between the intervals specified.  Values generated are equally likely to fall between  0 and -0.1 than between -0.9 and 1:"
   ]
  },
  {
   "cell_type": "code",
   "execution_count": 35,
   "metadata": {},
   "outputs": [
    {
     "data": {
      "image/png": "[encoded data removed]",
      "text/plain": [
       "<Figure size 720x576 with 1 Axes>"
      ]
     },
     "metadata": {
      "needs_background": "light"
     },
     "output_type": "display_data"
    }
   ],
   "source": [
    "\n",
    "# create an array x using the uniform probability distribution \n",
    "x = np.random.uniform(-1, 0, 1000)\n",
    "\n",
    "# plot a histogram of array x \n",
    "plt.hist(x)\n",
    "# display the histogram \n",
    "plt.show()\n"
   ]
  },
  {
   "cell_type": "markdown",
   "metadata": {},
   "source": [
    "## **3.2 Normal Distribution**  \n",
    "\n",
    "The NumPy normal distributions draws random samples from a normal (Gaussian) distribution (NumPy, Undatede).  The numpy.random.normal function creates a NumPy array that contains normally distributed data. Normally distributed data is shaped almost like a bell and is therefore often called the 'bell curve'.\n",
    "\n",
    "There are three parameters in the NumPy normal function: loc, scale and size. \n",
    "- the loc parameters sets the mean of the data. The default is zero.\n",
    "- the scale parameter sets the standard deviation of the data. The default is 1.\n",
    "- the size parameter determines the size and  the shape of the output.\n",
    "\n",
    "So to begin with, lets create an array with 1000 values with a mean of the default value 0 and visualize this information. We can see from the array created that the values center around 0. The output of np.random.normal is a lot more likely to fall between 0 and 0.5 than between 2.5 and 3. Most of the values will be more likely to be close to 0:"
   ]
  },
  {
   "cell_type": "code",
   "execution_count": 36,
   "metadata": {},
   "outputs": [
    {
     "data": {
      "image/png": "[encoded data removed]",
      "text/plain": [
       "<Figure size 720x576 with 1 Axes>"
      ]
     },
     "metadata": {
      "needs_background": "light"
     },
     "output_type": "display_data"
    }
   ],
   "source": [
    "# Create an array x using the normal distribution with 1000 generated values (size), \n",
    "# centered (loc) around the default value of zero\n",
    "# with a default standard deviation (scale) equal to 1.\n",
    "x = np.random.normal(size =1000)\n",
    "\n",
    "\n",
    "# plot a histogram of array x \n",
    "plt.hist(x)\n",
    "# display the histogram \n",
    "plt.show()"
   ]
  },
  {
   "cell_type": "markdown",
   "metadata": {},
   "source": [
    "Changing the value of the scale from the default value of 1 to 10, sets the standard deviation from the data equal to 10. The data centres still centers around the default 0 but now most of the data is within +10 or -10 of the centre:"
   ]
  },
  {
   "cell_type": "code",
   "execution_count": 37,
   "metadata": {},
   "outputs": [
    {
     "data": {
      "image/png": "[encoded data removed]",
      "text/plain": [
       "<Figure size 720x576 with 1 Axes>"
      ]
     },
     "metadata": {
      "needs_background": "light"
     },
     "output_type": "display_data"
    }
   ],
   "source": [
    "#create an array x with 1000 generated values, centered around the default 0\n",
    "#with the std deviation (scale) = 10.\n",
    "x = np.random.normal(size = 1000, scale = 10)\n",
    "\n",
    "# plot a histogram of array x \n",
    "plt.hist(x)\n",
    "# display the histogram \n",
    "plt.show()"
   ]
  },
  {
   "cell_type": "markdown",
   "metadata": {},
   "source": [
    "We can keep increasing the standard deviation (scale) and most of the data generated will still be within the standard deviation in this case -1000000 to 1000000. The bell curve is maintained:"
   ]
  },
  {
   "cell_type": "code",
   "execution_count": 38,
   "metadata": {},
   "outputs": [
    {
     "data": {
      "image/png": "[encoded data removed]",
      "text/plain": [
       "<Figure size 720x576 with 1 Axes>"
      ]
     },
     "metadata": {
      "needs_background": "light"
     },
     "output_type": "display_data"
    }
   ],
   "source": [
    "#create an array x with 1000 generated values, centered around the default 0\n",
    "#with the std deviation (scale) = 10.\n",
    "x = np.random.normal(size = 1000, scale = 1000000)\n",
    "\n",
    "# plot a histogram of array x \n",
    "plt.hist(x)\n",
    "# display the histogram \n",
    "plt.show()"
   ]
  },
  {
   "cell_type": "markdown",
   "metadata": {},
   "source": [
    "We can also change the mean of the data from 0 to 50 by adding parameter loc = 50.  The data now centers around 50 and most of the values are closer to 50 than 47 or 53.:"
   ]
  },
  {
   "cell_type": "code",
   "execution_count": 39,
   "metadata": {},
   "outputs": [
    {
     "data": {
      "image/png": "[encoded data removed]",
      "text/plain": [
       "<Figure size 720x576 with 1 Axes>"
      ]
     },
     "metadata": {
      "needs_background": "light"
     },
     "output_type": "display_data"
    }
   ],
   "source": [
    "#create an array x with 1000 generated values, \n",
    "#centered around the default 50 (mean of the array = 50)\n",
    "#with the std deviation (scale) = 10.\n",
    "x = np.random.normal(50, size = 1000)\n",
    "\n",
    "# plot a histogram of array x \n",
    "plt.hist(x)\n",
    "# display the histogram \n",
    "plt.show()"
   ]
  },
  {
   "cell_type": "markdown",
   "metadata": {},
   "source": [
    " ## **3.3 Binomial Distribution**  \n",
    " \n",
    "Unlike a Normal Distribution, a Binomial distribution is discrete.  It is not possible to find a data value between data values. \n",
    "\n",
    "Samples are drawn from a binomial distribution with specified parameters, n trials where n an integer >= 0 and p probability of success is in the interval [0,1]. (n may be input as a float, but it is truncated to an integer in use). In other words N is the number of trials and there are only two possible outcomes in a trial.  P is probability of a sucessful/positive outcome. \n",
    "\n",
    "A Binomial Distribution must answer Yes to all of the following questions (CMDLINETIPS.com, 2018). Lets apply these questions to the example of flipping a coin:\n",
    "\n",
    "1. Is there a definitive number of trials? Yes. Represented as n below.\n",
    "2. Are there only two possible outcomes? Yes. Only heads or tails can result. \n",
    "3. Are the outcomes of one trial independent of all other trials? Yes the result of one trial has no impact on the next trial. The coin remains the same throughout the trails & tests.\n",
    "4. Does the probability of success remain the same throught the trail?  Yes.\n",
    "    \n",
    "\n",
    "Here is an  example where the number of trials n = 10, the probability of heads yes in each trial is 0.5 and the number of experiments executed is 10000:\n"
   ]
  },
  {
   "cell_type": "code",
   "execution_count": 40,
   "metadata": {},
   "outputs": [
    {
     "name": "stdout",
     "output_type": "stream",
     "text": [
      "[3 4 5 ... 6 3 4]\n"
     ]
    },
    {
     "data": {
      "image/png": "[encoded data removed]",
      "text/plain": [
       "<Figure size 720x576 with 1 Axes>"
      ]
     },
     "metadata": {
      "needs_background": "light"
     },
     "output_type": "display_data"
    }
   ],
   "source": [
    "# Adapted from https://cmdlinetips.com/2018/12/simulating-coin-toss-experiment-with-binomial-random-numbers-using-numpy/.\n",
    "# number of trials, probability of each trial \n",
    "n, p = 10, 0.5 \n",
    "#create an array with binomial distribution and execute the experiment 10000 times \n",
    "s = np.random.binomial(n, p, 10000)\n",
    "print(s)\n",
    "# result of flipping a coin 10 times, tested 10000 times \n",
    "# with equal probability (0.5)of the result being heads yes or no.\n",
    "plt.hist(s)\n",
    "plt.show()\n",
    "\n"
   ]
  },
  {
   "cell_type": "markdown",
   "metadata": {},
   "source": [
    "Each of the numbers generated in the array s indicates how many of the (n) 10 flips of the coin resulted in heads e.g. 7/10 were heads, 5/10 were heads etc.  As we can see most of the experiments resulted in a result equal to or close to 5 since we had set the probability = 0.5 (Cmdlinetips.com, 2018)\n",
    "\n",
    "Imagine we can influence the coin flip so that now we have a probability of heads yes  = 0.75. In our example, therefore, we change the probability to 0.75.  We can see the shape of the binomial distribution changes. Most of the values generated are now centered around 0.75 and more values are generated to the right of 0.75 than the left as there is a higher probability of heads yes (Cmdlinetips.com, 2018).  "
   ]
  },
  {
   "cell_type": "code",
   "execution_count": 41,
   "metadata": {},
   "outputs": [
    {
     "data": {
      "image/png": "[encoded data removed]",
      "text/plain": [
       "<Figure size 720x576 with 1 Axes>"
      ]
     },
     "metadata": {
      "needs_background": "light"
     },
     "output_type": "display_data"
    }
   ],
   "source": [
    "# Adapted from https://cmdlinetips.com/2018/12/simulating-coin-toss-experiment-with-binomial-random-numbers-using-numpy/.\n",
    "\n",
    "# number of trials, probability of each trial resulting in heads\n",
    "n, p = 10, 0.75\n",
    "#create an array with binomial distribution and execute the experiment 10000 times \n",
    "s = np.random.binomial(n, p, 10000)\n",
    "# result of flipping a coin 10 times, tested 10000 times.\n",
    "plt.hist(s)\n",
    "plt.show()"
   ]
  },
  {
   "cell_type": "markdown",
   "metadata": {},
   "source": [
    "**Using the Binominal Distribution to calcuate the probability of getting 0 heads, 1 head, 2 heads etc when tossing a coin 10 times:**\n",
    "\n",
    "Lets go back and set the number of coin tosses in each experiement to 10, the probability of heads yes to be 0.5 and execute the experiment 100 times:"
   ]
  },
  {
   "cell_type": "code",
   "execution_count": 42,
   "metadata": {},
   "outputs": [
    {
     "data": {
      "text/plain": [
       "array([10,  9,  6,  6,  8,  7,  6,  7,  8,  8,  9,  6,  7,  7,  9,  7,  7,\n",
       "       10,  6, 10,  8,  7,  5,  6,  8,  6,  7,  7,  9,  9,  8,  4,  9, 10,\n",
       "        6,  9,  6,  8,  8,  8,  8,  6,  8,  7,  5,  6,  9,  7,  6,  8,  9,\n",
       "        8,  7,  6,  8,  7, 10,  9,  5,  5,  8,  7,  8,  5, 10,  6,  6,  6,\n",
       "        8,  7,  9,  8, 10,  7,  8,  7,  8,  8,  8,  9,  8,  7,  8,  7,  7,\n",
       "        7,  6,  7,  5,  6,  8,  8,  6,  6,  8,  8,  7,  6,  8,  7])"
      ]
     },
     "execution_count": 42,
     "metadata": {},
     "output_type": "execute_result"
    }
   ],
   "source": [
    "# Adapted from https://cmdlinetips.com/2018/12/simulating-coin-toss-experiment-with-binomial-random-numbers-using-numpy/.\n",
    "# number of trials, probability of each trial resulting in heads\n",
    "n, p = 10, 0.75\n",
    "#create an array with binomial distribution and execute the experiment 1000 times \n",
    "# let us repeat our experiment for 100 times\n",
    "size=100\n",
    "x=np.random.binomial(n=n, p=p, size=size)\n",
    "x\n"
   ]
  },
  {
   "cell_type": "markdown",
   "metadata": {},
   "source": [
    "We can use the number of successes (heads) observed to  count how many times we see 0 heads, 1 head, 2 heads, etc:"
   ]
  },
  {
   "cell_type": "code",
   "execution_count": 43,
   "metadata": {},
   "outputs": [
    {
     "data": {
      "text/plain": [
       "[0, 0, 0, 0, 1, 6, 21, 24, 29, 12]"
      ]
     },
     "execution_count": 43,
     "metadata": {},
     "output_type": "execute_result"
    }
   ],
   "source": [
    "[np.equal(x,i).sum() for i in range(n)]"
   ]
  },
  {
   "cell_type": "markdown",
   "metadata": {},
   "source": [
    " We can also calulate the probability of each outcome eg. the probability of 0 heads, the probability of 1 head etc.  Do to this we will need to find the mean of each outcome.  The resulting array shows the probability of each outcome (Cmdlinetips.com, 2018):"
   ]
  },
  {
   "cell_type": "code",
   "execution_count": 44,
   "metadata": {},
   "outputs": [
    {
     "data": {
      "text/plain": [
       "[0.0, 0.0, 0.0, 0.0, 0.01, 0.06, 0.21, 0.24, 0.29, 0.12]"
      ]
     },
     "execution_count": 44,
     "metadata": {},
     "output_type": "execute_result"
    }
   ],
   "source": [
    "probs_100 = [np.equal(x,i).mean() for i in range(n)]\n",
    "probs_100"
   ]
  },
  {
   "cell_type": "markdown",
   "metadata": {},
   "source": [
    "Now lets visualise the probabilities of each outcome:"
   ]
  },
  {
   "cell_type": "code",
   "execution_count": 45,
   "metadata": {},
   "outputs": [
    {
     "data": {
      "image/png": "[encoded data removed]",
      "text/plain": [
       "<Figure size 720x576 with 1 Axes>"
      ]
     },
     "metadata": {
      "needs_background": "light"
     },
     "output_type": "display_data"
    }
   ],
   "source": [
    "#Adapted from https://cmdlinetips.com/2018/12/simulating-coin-toss-experiment-with-binomial-random-numbers-using-numpy/.\n",
    "\n",
    "# Set the x axis ticks equal to the range n.\n",
    "plt.xticks(range(n))\n",
    "# Create a plot with x axis = outcomes (e.g. 0 heads, 1 head etc) and y axis probility of each outcome\n",
    "# with colour blue and marker o\n",
    "plt.plot(list(range(n)), probs_100, color='blue', marker='o')\n",
    "#set the plot title\n",
    "plt.title(\"Probability of Heads in Trials of 10\")\n",
    "#label the x axis\n",
    "plt.xlabel('Number of Heads in each trial of 10',fontsize=14)\n",
    "#label the y axis\n",
    "plt.ylabel('Probability',fontsize=14)\n",
    "\n",
    "plt.show()\n",
    "\n"
   ]
  },
  {
   "cell_type": "markdown",
   "metadata": {},
   "source": [
    " ## **3.4 Chisquare Distribution**  \n",
    " \n",
    "'The chi-square statistical test is used to determine whether there’s a significant difference between an expected distribution and an actual distribution'(Huneycutt, 2018). The chi-square distribution is the sum of the squared normal standard deviants (Huneycutt, 2018).\n",
    "\n",
    "The python NumPy function np.random.chisquare generates samples with a chi-squared distribution.  In the following example the function generates 1000 sample values. The parameter degree of freedom is set to 1 and we can see that most the of the 1000 generated values are between 0 and 1 and the rest of the values are greater than 1. Also the futher we move along the x axis the less values:"
   ]
  },
  {
   "cell_type": "code",
   "execution_count": 46,
   "metadata": {},
   "outputs": [
    {
     "data": {
      "image/png": "[encoded data removed]",
      "text/plain": [
       "<Figure size 720x576 with 1 Axes>"
      ]
     },
     "metadata": {
      "needs_background": "light"
     },
     "output_type": "display_data"
    }
   ],
   "source": [
    "# Adapted from: https://towardsdatascience.com/running-chi-square-tests-in-python-with-die-roll-data-b9903817c51b\n",
    "# set the degree of freedom\n",
    "dof = 1\n",
    "# set the sample size\n",
    "size = 1000\n",
    "# create an array with the chisquare function with degree of freedom equal to 1 \n",
    "# and generate 1000 samples\n",
    "x = np.random.chisquare(dof, size)\n",
    "x\n",
    "plt.hist(x)\n",
    "#set the plot title\n",
    "plt.title(f\"Chisquare Distribution with degree of freedom = {dof}\", fontsize = 20)\n",
    "plt.show()\n"
   ]
  },
  {
   "cell_type": "markdown",
   "metadata": {},
   "source": [
    "Modifying the degree of freedom to 3, results in an array of values where most of the values generated are now between 0 and 3 and the remaining values are greater than 3 and the future we move along the x axis the less values are plotted:"
   ]
  },
  {
   "cell_type": "code",
   "execution_count": 47,
   "metadata": {},
   "outputs": [
    {
     "data": {
      "image/png": "[encoded data removed]",
      "text/plain": [
       "<Figure size 720x576 with 1 Axes>"
      ]
     },
     "metadata": {
      "needs_background": "light"
     },
     "output_type": "display_data"
    }
   ],
   "source": [
    "# Adapted from : https://towardsdatascience.com/running-chi-square-tests-in-python-with-die-roll-data-b9903817c51b\n",
    "\n",
    "# set the degree of freedom\n",
    "dof = 3\n",
    "# set the sample size\n",
    "size = 1000\n",
    "# create an array with the chisquare function with degree of freedom equal to 1 \n",
    "# and generate 1000 samples\n",
    "x = np.random.chisquare(dof, size)\n",
    "\n",
    "plt.hist(x)\n",
    "#set the plot title\n",
    "plt.title(f\"Chisquare Distribution with degree of freedom = {dof}\", fontsize = 20)\n",
    "\n",
    "plt.show()"
   ]
  },
  {
   "cell_type": "markdown",
   "metadata": {},
   "source": [
    "As we increase the value of the parameter degree of freedom the further away from a chi square curve we move and the closer we move towards a normal distribution."
   ]
  },
  {
   "cell_type": "code",
   "execution_count": 48,
   "metadata": {},
   "outputs": [
    {
     "data": {
      "image/png": "[encoded data removed]",
      "text/plain": [
       "<Figure size 720x576 with 1 Axes>"
      ]
     },
     "metadata": {
      "needs_background": "light"
     },
     "output_type": "display_data"
    }
   ],
   "source": [
    "# Adapted from: https://towardsdatascience.com/running-chi-square-tests-in-python-with-die-roll-data-b9903817c51b\n",
    "\n",
    "# create an array x using chisquare function \n",
    "# with degree of freedom equal to 10 and a distribution of 1000 generated numbers\n",
    "x = np.random.chisquare(10,1000)\n",
    "x\n",
    "# create a histogram of the array.\n",
    "plt.hist(x)\n",
    "\n",
    "# set the title\n",
    "plt.title(f\"Chisquare Distribution with degree of freedom = {dof}\", fontsize = 20)\n",
    "plt.show()\n",
    "\n",
    "\n"
   ]
  },
  {
   "cell_type": "markdown",
   "metadata": {},
   "source": [
    "We can plot together all three of the arrays produced with degrees of freedom 1, 3, and 10 respectively so that we can see that as we increase of the degree of freedom value we move closer to a normal distribution:"
   ]
  },
  {
   "cell_type": "code",
   "execution_count": 49,
   "metadata": {},
   "outputs": [
    {
     "data": {
      "image/png": "[encoded data removed]",
      "text/plain": [
       "<Figure size 720x576 with 1 Axes>"
      ]
     },
     "metadata": {
      "needs_background": "light"
     },
     "output_type": "display_data"
    }
   ],
   "source": [
    "\n",
    "# Taken from : https://stackoverflow.com/a/55582834\n",
    "# create a figure with subplot ax\n",
    "fig, ax = plt.subplots()\n",
    "\n",
    "#create an array with a chisquare distribution with degree of freedom 1 and generate 1000 numbers\n",
    "dof1 = np.random.chisquare(1, 1000)\n",
    "#create an array with a chisquare distribution with degree of freedom 3 and generate 1000 numbers\n",
    "dof3 = np.random.chisquare(3, 1000)\n",
    "#create an array with a chisquare distribution with degree of freedom 10 and generate 1000 numbers\n",
    "dof10 = np.random.chisquare(10, 1000)\n",
    "\n",
    "#Calculate the bins and counts for each array dof1, dof2, dof3\n",
    "chisq1_counts, chisq1_bins = np.histogram(dof1, 50)\n",
    "chisq3_counts, chisq3_bins = np.histogram(dof3, 50)\n",
    "chisq10_counts, chisq10_bins = np.histogram(dof10, 50)\n",
    "\n",
    "\n",
    "#set the dimension for each plot \n",
    "ax.plot(chisq1_bins[:-1], chisq1_counts, 'r-')\n",
    "ax.plot(chisq3_bins[:-1], chisq3_counts, 'b-')\n",
    "ax.plot(chisq10_bins[:-1], chisq10_counts,'y-')\n",
    "\n",
    "\n",
    "plt.show()\n"
   ]
  },
  {
   "cell_type": "markdown",
   "metadata": {},
   "source": [
    "## **3.5  Multinomial Distribution**  \n",
    "\n",
    "This distribution is a multivariate version of the binomial distribution. So while the binomial distribution can only have two possible outcomes, the multivariate distribution can have multiple outcomes. The rolling of a dice is a good example with 6 possible outcomes.  \n",
    "\n",
    "First, role the dice 20 times with each side having the same probability of being selected and conduct this experiment once. The array produced shows the number of times each outcome was selected: \n",
    "\n",
    "    "
   ]
  },
  {
   "cell_type": "code",
   "execution_count": 50,
   "metadata": {},
   "outputs": [
    {
     "data": {
      "text/plain": [
       "array([[3, 4, 4, 3, 3, 3]])"
      ]
     },
     "execution_count": 50,
     "metadata": {},
     "output_type": "execute_result"
    }
   ],
   "source": [
    "np.random.seed(0) \n",
    "# role the dice 20 times, \n",
    "n = 20\n",
    "# [1/6.]*6 probability of each of the outcomes totaling 1 \n",
    "# and in this case all outcomes have equal probability\n",
    "p = [1/6.]*6\n",
    "# the experience is conducted once\n",
    "size = 1\n",
    "\n",
    "#create an array using the multinomal function with n roles of the dice, p probability,\n",
    "#and sample size = size.\n",
    "np.random.multinomial(n, p, size)\n"
   ]
  },
  {
   "cell_type": "markdown",
   "metadata": {},
   "source": [
    "If we modify the script to increase size to 10.  We will produce an array with 10 rows each representing one experiment with 20 rolls:"
   ]
  },
  {
   "cell_type": "code",
   "execution_count": 51,
   "metadata": {},
   "outputs": [
    {
     "data": {
      "text/plain": [
       "array([[3, 4, 4, 3, 3, 3],\n",
       "       [4, 3, 5, 5, 1, 2],\n",
       "       [5, 3, 3, 5, 1, 3],\n",
       "       [1, 1, 6, 5, 5, 2],\n",
       "       [7, 4, 2, 3, 1, 3],\n",
       "       [4, 2, 6, 3, 2, 3],\n",
       "       [2, 5, 3, 4, 1, 5],\n",
       "       [4, 4, 3, 5, 2, 2],\n",
       "       [3, 3, 4, 1, 5, 4],\n",
       "       [4, 2, 2, 3, 4, 5],\n",
       "       [4, 3, 7, 1, 2, 3],\n",
       "       [2, 4, 2, 4, 3, 5],\n",
       "       [2, 2, 5, 2, 3, 6],\n",
       "       [3, 5, 1, 5, 1, 5],\n",
       "       [7, 2, 6, 2, 2, 1],\n",
       "       [1, 3, 2, 4, 3, 7],\n",
       "       [2, 3, 1, 6, 4, 4],\n",
       "       [2, 4, 1, 5, 6, 2],\n",
       "       [2, 4, 2, 5, 3, 4],\n",
       "       [2, 4, 1, 6, 0, 7]])"
      ]
     },
     "execution_count": 51,
     "metadata": {},
     "output_type": "execute_result"
    }
   ],
   "source": [
    "np.random.seed(0)\n",
    "# the experiment is now conducted 20 times.\n",
    "size = 20\n",
    "m = np.random.multinomial(n, p, size)\n",
    "m"
   ]
  },
  {
   "cell_type": "markdown",
   "metadata": {},
   "source": [
    "Now lets visualise this data. Firstly, looking at the outcome when we perform the test 20 times we can see the outcomes are not evenly spread even though we set the probability for each outcome to be equal 1/6:"
   ]
  },
  {
   "cell_type": "code",
   "execution_count": 52,
   "metadata": {},
   "outputs": [
    {
     "data": {
      "image/png": "[encoded data removed]",
      "text/plain": [
       "<Figure size 720x576 with 1 Axes>"
      ]
     },
     "metadata": {
      "needs_background": "light"
     },
     "output_type": "display_data"
    }
   ],
   "source": [
    "#Adapted from CMDLINE (2018), Python and R Tips, Simulating Coin Toss Experiment in Python with NumPy\n",
    "# Adapted from https://cmdlinetips.com/2018/12/simulating-coin-toss-experiment-with-binomial-random-numbers-using-numpy/\n",
    "\n",
    "# role the dice 20 times, \n",
    "n = 20\n",
    "# [1/6.]*6 probability of each of the outcomes totaling 1 \n",
    "# and in this case all outcomes have equal probability\n",
    "p = [1/6.]*6\n",
    "# the experience is conducted once\n",
    "size = 20\n",
    "\n",
    "x_data = list(range(1,7))\n",
    "\n",
    "\n",
    "def f1(n,p,size):\n",
    "    # create an array a with a multinomial distribution with n =20, p = [1/6.]*6 and size = 20 \n",
    "    a = np.random.multinomial(n, p, size)\n",
    "    # set x to be a list of the the six faces of the dice.\n",
    "    # set y to be a sum of  the outcomes by dice face \n",
    "    y_data = np.sum(a, axis =0)\n",
    "    # return y_data\n",
    "    return y_data\n",
    "\n",
    "\n",
    "# Create a plot to visualise the data\n",
    "# plot the dice face values (x axis) against the the sum of the outcomes (y axis)\n",
    "# colour of line plotted set to red\n",
    "#label set to the number of tests (size) conducted \n",
    "plt.plot(x_data, f1(n,p,size), c='r', label=f\"Number of tests:{size}\")\n",
    "# set the limits of the plot to low zero and high to number of experiements by 5\n",
    "plt.ylim(0, size*5)\n",
    "# label the x axis\n",
    "plt.xlabel('number rolled on the dice')\n",
    "# label the y axis\n",
    "plt.ylabel('sum of the outcomes')\n",
    " # set the plot title\n",
    "plt.title(\"Multinomial Distribution of Dice Rolls tested\")\n",
    "# use the legend set by label above.\n",
    "plt.legend()\n",
    "# display the output.\n",
    "plt.show()\n",
    "\n",
    "\n"
   ]
  },
  {
   "cell_type": "markdown",
   "metadata": {},
   "source": [
    "So lets increase the experience size to 1000. As we can see as we increase the number of tests performed the data is spread more evenly:"
   ]
  },
  {
   "cell_type": "code",
   "execution_count": 53,
   "metadata": {},
   "outputs": [
    {
     "data": {
      "image/png": "[encoded data removed]",
      "text/plain": [
       "<Figure size 720x576 with 1 Axes>"
      ]
     },
     "metadata": {
      "needs_background": "light"
     },
     "output_type": "display_data"
    }
   ],
   "source": [
    "#Adapted from CMDLINE (2018), Python and R Tips, Simulating Coin Toss Experiment in Python with NumPy\n",
    "#Adapted from : https://cmdlinetips.com/2018/12/simulating-coin-toss-experiment-with-binomial-random-numbers-using-numpy/\n",
    "\n",
    "\n",
    "# Rerun the script but set size = 1000 in order to run the test 1000 times.\n",
    "size = 1000\n",
    "\n",
    "\n",
    "# Create a plot to visualise the data\n",
    "# plot the dice face values (x axis) against the the sum of the outcomes (y axis)\n",
    "# colour of line plotted set to red  \n",
    "# label set to the number of tests (size) conducted\n",
    "plt.plot(x_data, f1(n,p,size), c='r', label=f\"Number of tests:{size}\")\n",
    "# set the limits of the plot to low zero and high to number of experiements by 5\n",
    "plt.ylim(0, size*5)\n",
    "# label the x axis\n",
    "plt.xlabel('number rolled on the dice')\n",
    "# label the y axis\n",
    "plt.ylabel('sum of the outcomes')\n",
    " # set the plot title\n",
    "plt.title(\"Multinomial Distribution of Dice Rolls\")   \n",
    "# use the legend set by label above.\n",
    "plt.legend()\n",
    "# display the output.\n",
    "plt.show()\n"
   ]
  },
  {
   "cell_type": "markdown",
   "metadata": {},
   "source": [
    "Finally, imagine someone has influenced the dice roll so that dice face 6 now has a higher probability:"
   ]
  },
  {
   "cell_type": "code",
   "execution_count": 54,
   "metadata": {},
   "outputs": [
    {
     "data": {
      "image/png": "[encoded data removed]",
      "text/plain": [
       "<Figure size 720x576 with 1 Axes>"
      ]
     },
     "metadata": {
      "needs_background": "light"
     },
     "output_type": "display_data"
    }
   ],
   "source": [
    "#Adapted from: CMDLINE (2018), Python and R Tips, Simulating Coin Toss Experiment in Python with NumPy\n",
    "#Adapted from: https://cmdlinetips.com/2018/12/simulating-coin-toss-experiment-with-binomial-random-numbers-using-numpy/\n",
    "\n",
    "\n",
    "# alter the probability so that dice face 6 has a greater probability.\n",
    "p = [1/10,1/10,1/10,1/10,1/10,5/10]\n",
    "\n",
    "# Rerun the script but set size = 1000 in order to run the test 1000 times.\n",
    "size = 1000\n",
    "\n",
    "\n",
    "# Create a plot to visualise the data\n",
    "# plot the dice face values (x axis) against the the sum of the outcomes (y axis)\n",
    "# colour of line plotted set to red  \n",
    "# label set to the number of tests (size) conducted\n",
    "plt.plot(x_data, f1(n,p,size), c='r', label=f\"Number of tests:{size}\")\n",
    "# set the limits of the plot to low zero and high to number of experiements by 5\n",
    "plt.ylim(0, size*15)\n",
    "# label the x axis\n",
    "plt.xlabel('number rolled on the dice', fontsize = 18)\n",
    "# label the y axis\n",
    "plt.ylabel('sum of the outcomes', fontsize = 18)\n",
    " # set the plot title\n",
    "plt.title(f\"Multinomial Distribution of Dice Rolls with face 6 having a higher probability \", fontsize = 20)   \n",
    "# use the legend set by label above.\n",
    "plt.legend()\n",
    "# display the output.\n",
    "plt.show()\n",
    "\n"
   ]
  },
  {
   "cell_type": "markdown",
   "metadata": {},
   "source": [
    "# 4. GENERATING PSEUDO-RANDOM NUMBERS USING SEEDS:\n",
    "This sections examines the use of seeds in generating random numbers. In section 1.2 numpy_random, we said pseudo-random number generators are completely deterministic and operate by algorithm. Moreover, numpy_random, through the use of seeds, makes code 'repeatable'(Sharpsight, Undated, Unpaged). \n",
    "\n",
    "Typically a seed is set using the computers clock. When numpy.random library is imported into a notebook, the seed is decided upon and from then on the numbers generated on based on that seed selected.\n",
    "\n",
    "If you use the same seed then you get the same output. You can generate and use the same pseudo random numbers repeatedly. Thereby, making it possible to perform the same tests and yield the same results repeatedly. \n",
    "\n",
    "## 4.1 seed\n",
    "Lets get started by generating a pseudo random number between zero and one using the NumPy random random function (np.random.random) and using seed 0.\n"
   ]
  },
  {
   "cell_type": "code",
   "execution_count": 55,
   "metadata": {},
   "outputs": [
    {
     "data": {
      "text/plain": [
       "0.5488135039273248"
      ]
     },
     "execution_count": 55,
     "metadata": {},
     "output_type": "execute_result"
    }
   ],
   "source": [
    "#use seed 0\n",
    "np.random.seed(0)\n",
    "#generate a single random number using random function\n",
    "np.random.random()"
   ]
  },
  {
   "cell_type": "markdown",
   "metadata": {},
   "source": [
    "A float is generated. The random number is a probability. Now lets repeat the process using the same code and the same seed:"
   ]
  },
  {
   "cell_type": "code",
   "execution_count": 56,
   "metadata": {},
   "outputs": [
    {
     "data": {
      "text/plain": [
       "0.5488135039273248"
      ]
     },
     "execution_count": 56,
     "metadata": {},
     "output_type": "execute_result"
    }
   ],
   "source": [
    "#use seed 0 again\n",
    "np.random.seed(0)\n",
    "#generate the same single random number using random function\n",
    "np.random.random()"
   ]
  },
  {
   "cell_type": "markdown",
   "metadata": {},
   "source": [
    "Notice exactly the same number is generated. Now lets change the seed to 67 and see what happens:"
   ]
  },
  {
   "cell_type": "code",
   "execution_count": 57,
   "metadata": {},
   "outputs": [
    {
     "data": {
      "text/plain": [
       "0.5458514299349786"
      ]
     },
     "execution_count": 57,
     "metadata": {},
     "output_type": "execute_result"
    }
   ],
   "source": [
    "#use seed 67\n",
    "np.random.seed(67)\n",
    "#generate a random number using random function\n",
    "np.random.random()"
   ]
  },
  {
   "cell_type": "markdown",
   "metadata": {},
   "source": [
    "NumPy random generates a different random float and again we can repeat this output using the same code with the same seed 67 again."
   ]
  },
  {
   "cell_type": "code",
   "execution_count": 58,
   "metadata": {},
   "outputs": [
    {
     "data": {
      "text/plain": [
       "0.5458514299349786"
      ]
     },
     "execution_count": 58,
     "metadata": {},
     "output_type": "execute_result"
    }
   ],
   "source": [
    "#use seed 67\n",
    "np.random.seed(67)\n",
    "#generate the same single random number using random function\n",
    "np.random.random()\n"
   ]
  },
  {
   "cell_type": "markdown",
   "metadata": {},
   "source": [
    "What happens if we do not deliberately set the seed number? :"
   ]
  },
  {
   "cell_type": "code",
   "execution_count": 59,
   "metadata": {},
   "outputs": [
    {
     "data": {
      "text/plain": [
       "0.858856610591359"
      ]
     },
     "execution_count": 59,
     "metadata": {},
     "output_type": "execute_result"
    }
   ],
   "source": [
    "# do not set the seed number \n",
    "# generate a random number\n",
    "np.random.random()"
   ]
  },
  {
   "cell_type": "markdown",
   "metadata": {},
   "source": [
    "NumPy random selects its own seed number and then a different float is generated. The code is then not repeatable as we cannot guarentee the same output each time. Therefore, for NumPy random code to be repeatable the seed must be set explicitly each time the code is run."
   ]
  },
  {
   "cell_type": "code",
   "execution_count": 60,
   "metadata": {},
   "outputs": [
    {
     "data": {
      "text/plain": [
       "0.6858925865665791"
      ]
     },
     "execution_count": 60,
     "metadata": {},
     "output_type": "execute_result"
    }
   ],
   "source": [
    "# do not set the seed number \n",
    "# generate a random number\n",
    "np.random.random()"
   ]
  },
  {
   "cell_type": "markdown",
   "metadata": {},
   "source": [
    "## 4.2 randomstate\n",
    "\n",
    "np.random.RandomState is a container for the Mersenne Twister pseudo-random number generator (Stackoverflow.com, undatedc).  \n",
    "\n",
    "In contrast to np.random.random, np.random.RandomState constructs a random number generator and not have any effect on the functions in np.random unless we choose to exlicity call the class created. In this example we are explicitly calling & using the random state seed (Stackoverflow.com, undatedc):\n"
   ]
  },
  {
   "cell_type": "code",
   "execution_count": 61,
   "metadata": {},
   "outputs": [
    {
     "name": "stdout",
     "output_type": "stream",
     "text": [
      "[-0.09194992 -1.46335065  1.08179168 -0.23932517]\n"
     ]
    }
   ],
   "source": [
    "#Adapted from Stackoverflow.com, undatedc, \n",
    "#https://stackoverflow.com/questions/22994423/difference-between-np-random-seed-and-np-random-randomstate\n",
    "#Creating a class with seed set by np.random.RandomState(42)\n",
    "rng = np.random.RandomState(22)\n",
    "#Using the class set by np.random.RandomState(42) to generate 4 pseudo random numbers:\n",
    "print(rng.randn(4))\n"
   ]
  },
  {
   "cell_type": "markdown",
   "metadata": {},
   "source": [
    "Executing rng.rand(4) again will generate the same 4 random pseudo-numbers as we are using the seed associated with the class. However, if we do not use rng and instead use np.random.randn(4), we are not calling the rng seed explicitly and then the global seed is used thus generating 4 different numbers:"
   ]
  },
  {
   "cell_type": "code",
   "execution_count": 62,
   "metadata": {},
   "outputs": [
    {
     "name": "stdout",
     "output_type": "stream",
     "text": [
      "[-0.49112914 -1.00227201  0.9188215  -1.1036321 ]\n",
      "[-0.4555235  -0.17434891 -1.29166632 -0.51208328]\n"
     ]
    }
   ],
   "source": [
    "#Adapted from Stackoverflow.com, undatedc, \n",
    "#https://stackoverflow.com/questions/22994423/difference-between-np-random-seed-and-np-random-randomstate\n",
    "#Using the SAME class AGAIN set by np.random.RandomState(42) to generate the SAME 4 pseudo random numbers:\n",
    "print(rng.randn(4))\n",
    "# generate 4 pseudo random numbers but do NOT call rng class.\n",
    "print(np.random.randn(4))\n"
   ]
  },
  {
   "cell_type": "markdown",
   "metadata": {},
   "source": [
    "## 4.3 get_state \n",
    "\n",
    "get_state returns a tuple representing the internal state of the generator.\n"
   ]
  },
  {
   "cell_type": "code",
   "execution_count": 63,
   "metadata": {},
   "outputs": [
    {
     "data": {
      "text/plain": [
       "('MT19937', array([4134032038, 4192882283, 1341233294, 2467549661, 1936768501,\n",
       "        2900988885, 3266535517,  278787930,  347390316, 1345937838,\n",
       "        1732753686, 1305636892, 3286404694, 3726750149, 2598757498,\n",
       "        4053872477, 4099156708, 1777156324, 2799165261,  257278888,\n",
       "        4225000707, 1690329298, 1701727430, 1921653126, 3166192904,\n",
       "         908234986,  543720576, 2624949186, 3179780581, 2547745503,\n",
       "        2415884732, 1618809235, 2514765401, 1092245127,  609653517,\n",
       "        2714169543, 2577523839,  450854763, 3027457514, 2778793448,\n",
       "         717976822, 1586374339, 1286905175,  792201208, 2125309294,\n",
       "        3634736206, 1121438392, 2412306816, 1706773404, 3322359739,\n",
       "        2400804609, 3692784513,  692139659,   99303778, 4270670017,\n",
       "        3651881875,  578126860,  544777177, 3674273821, 3715437264,\n",
       "         498605533, 2835676374,  315682353, 1756786500, 3708863652,\n",
       "         210004179, 2020940899,  360810528, 3809708048, 3983382620,\n",
       "         728599113, 3826173976, 2798355393,  563159752, 2758733654,\n",
       "         530552219, 1857446082, 1134593461, 1636803454, 1927213946,\n",
       "        2250665478,  878663049,  632636063, 4136620797,  159059698,\n",
       "        3382513689, 1720357966,  633568434,  157833259, 3285413703,\n",
       "         443785368,  878272178, 1362097858, 1231556512, 4158240704,\n",
       "         755518743, 3061302316, 1578655150, 1830408330,  200134652,\n",
       "        1172675216,  643970367, 1912108237, 2674970493, 1348885500,\n",
       "        1998105867, 1214589700, 3583417434,  195861941, 2598792648,\n",
       "        1329850789, 1617843845, 4151787690,  227097733, 1602893315,\n",
       "        2331762676, 2078525784, 3450935657, 2399882889, 1949229419,\n",
       "        4000190980, 2841131215, 3821716818, 3461662567, 2588602251,\n",
       "         506331164, 1040716611, 1604737562, 1767476075,  187723653,\n",
       "        3908521730, 3901941022, 4210158240, 1672455142, 3519212148,\n",
       "         190809494, 2367009469,  120231033, 3172508213, 2983984784,\n",
       "        1153878032, 3854559961, 3359975600, 2618846923, 4170620349,\n",
       "         645056870, 4061747740, 1808776881, 3323664788, 3161533075,\n",
       "         301556309, 3083056277, 1724131603, 3450590143,   75419824,\n",
       "        1584953770, 3153072013, 3842113681,   52124869, 3811714369,\n",
       "        2767158249,  529051911, 3964513547, 4288484787, 2219053244,\n",
       "        3445612469, 2148365990, 2211642204, 2749517898, 1263205072,\n",
       "         483482418, 3123323816, 3904311289, 1613675655, 3018946223,\n",
       "        3885219229, 3795657722, 1326756692, 4225086457, 1399553133,\n",
       "         570232495, 1660798729, 2021651328, 1587746689, 2409424677,\n",
       "        2899523654, 3541627531, 2653303982, 2684547172, 2533565380,\n",
       "        2809811690,  767061593, 3918906101, 3046712487, 3900009985,\n",
       "        2143852656, 3550291934, 3375655697, 1379366953, 2171763077,\n",
       "        2006732679, 2388170904,  140466876, 1184612651, 3052218135,\n",
       "         849387131, 1348624989,  752342124, 2250421314, 1054648422,\n",
       "        2469171028, 3934636288, 1017091865, 3262342598,  966877848,\n",
       "         310367276,  452241805, 3097223337, 1923013657, 1613344543,\n",
       "         185620793, 1358220926, 1092246100,  273769281, 3425549238,\n",
       "        3142651431, 2757250840, 2298149635, 3687272021, 3865125834,\n",
       "        1501339447, 4277166117, 3648838264,  162607745,  164264973,\n",
       "         147343781, 3070045743, 1666955163, 3496801243, 1108343595,\n",
       "        3774726608,  610758353,  548221472,  157358912, 3557693754,\n",
       "        3172772269, 2355017132, 1882569033,  461549377, 3776751927,\n",
       "        2039801808, 2299009892,  439763239, 4067721970, 3855640780,\n",
       "        1626163239, 2907445371, 1525603375, 1830799779, 2196028715,\n",
       "        2785696185,  231509573, 3552220356, 1174608032,  385924700,\n",
       "        2153643986, 2829967544,  993344992, 4052683304,  459367207,\n",
       "        4221463355, 2536649754, 1576851310, 3417492913, 3965238671,\n",
       "        2536402817, 1813650544, 3542920149,  171003594, 3548446803,\n",
       "        4242794327, 2385809029, 3946561927, 2181548023, 3068928708,\n",
       "         395414258, 2726660423, 2900712407,  920195984, 2320630606,\n",
       "         833270157, 3792482939,  661744275, 3671868473, 2944127731,\n",
       "        3346615104, 3769973643, 1114480714, 2475926026,  480473980,\n",
       "        3334140082, 2788022246, 3492033064, 2509146198, 2767215264,\n",
       "        1387435573, 1969560985, 3322699714, 4043109637, 4240893415,\n",
       "        2236235057, 3211801319, 1422984840, 3921216644,  970380843,\n",
       "        2140667581, 3438521144,  788389154, 1945644459, 1071495130,\n",
       "        1031068304,  486743479, 3704032134, 2342661956, 2015629555,\n",
       "        2326390516, 2342860811, 4167133777, 4044645951, 3455043392,\n",
       "         725175901,  336460832, 3963743142, 2937000035,  992480545,\n",
       "        1911754356, 2163487816,  921284651, 1533431527,  763932446,\n",
       "         621842705, 2501802234, 3573298741, 1587366793, 2234492934,\n",
       "        3667562906, 2840458611, 1920853048, 2947747647, 3230025485,\n",
       "        2212316447, 2232442243, 2707436827,  508786090, 1596148299,\n",
       "        1630028492, 2741449167, 3681456510, 3887992140, 2577465043,\n",
       "        2142814752, 3711198119, 4220843974, 2924935324, 1848750192,\n",
       "        1948866171, 3214906639,  321834014, 1637892664, 1283857294,\n",
       "        3759784455, 1881419914,  431517843,  255810674, 3285107710,\n",
       "        2764876389, 2154927639, 3257237602, 3678771400, 2767722608,\n",
       "        2667563453,  878282041, 2071309525, 1490276730, 1010816931,\n",
       "        3711237525, 3700300958,   45103705, 3178211669, 3201943284,\n",
       "         954084501,  893048272, 1069670036, 3382953926,  849481766,\n",
       "        2649236885,  553709279, 4219651858,  388279061, 3589914251,\n",
       "        1426945522, 1826918991, 3572958410, 1382342890, 4107893758,\n",
       "        2606705014,  136430057,   58287951, 1962388950, 2098819656,\n",
       "        2463064388,  569081912, 1340601124, 3844539883, 3597431657,\n",
       "        3827545994, 1914886656, 3949236473, 2754831318, 1474311230,\n",
       "         367578830, 2769867783, 3317805982, 3315291127, 1307057615,\n",
       "        3855393818,  229805227, 2341483104, 1108824340, 2705253419,\n",
       "        3382467275,  641211309, 1693004420,  200625490, 3387517932,\n",
       "        2835635223,  668550256, 3764648890, 2868643801, 1530372877,\n",
       "        2778852126, 4007563371, 1523196541, 1446926307,  718409778,\n",
       "        4019513507, 2125898100, 1531786123, 4230882747,  828784604,\n",
       "        1820083936, 1165544560, 2742009173, 4004648794, 1954014606,\n",
       "        4018333547, 3282213575, 3118668987, 1771797342, 1540959211,\n",
       "        1003816468, 2466352560,  426789601, 3703641614,   32816544,\n",
       "         407214969, 2125195462, 1091634706, 4207617272, 2424826964,\n",
       "        2182448893,  973472072,   39205727, 2881627138,   12410850,\n",
       "        2427409801, 4011714179, 1635983651, 1400351698, 2435895799,\n",
       "        3948146812, 4145043515, 4079843740, 1583642585, 3441131187,\n",
       "        3865160808, 3294998212, 2720701574, 3086071637, 4029854308,\n",
       "        1673902696, 3019835411,  196995275, 1034271904, 1236539432,\n",
       "        1075842917, 2604275306,  289912910, 1067633102,  946497666,\n",
       "        3440641144, 3725693895, 2377252759,  631977343,  589015688,\n",
       "        1887726182, 4081994207,  820537561, 4134084292,   82616233,\n",
       "         717244476, 2415768864,  753417301, 1843172009, 3218461406,\n",
       "         543420703,  330848764, 2338035428,  648989074, 3990797093,\n",
       "        2396626822, 3697390088, 2606668058, 2943388262, 2848944055,\n",
       "        2661874043, 2916765247, 3999509286, 3841422178, 2916426922,\n",
       "        3645655613, 4013372540, 4089208636, 1543407072, 3544379833,\n",
       "        3694878614, 3587266905, 1105132020, 3169144037,  883840437,\n",
       "        2883042537,   76205883, 1537525679, 1522200635,  733958829,\n",
       "         890212284, 3672096442,  682580733, 2453974139, 1401480733,\n",
       "        3529134523, 2145223260, 1276554129, 1445821274, 2219118178,\n",
       "        1132416519, 1502119078, 2899755716,    6815560, 2177130787,\n",
       "        4085194684, 2095979662, 3365870735, 3985175291, 1134091308,\n",
       "        3836403112, 3554786705,  478235581, 3830372842, 1971349493,\n",
       "        2784109733, 3831395742, 3694402387, 2347542047, 2134875990,\n",
       "        3103366841, 1131992876,   91049417, 2914021346, 1621459056,\n",
       "         280177779,  480461072, 2536331190, 4142149399,  239758432,\n",
       "         669814532, 2288874680, 1303323261, 2922440066, 1057861908,\n",
       "        3922508810, 1486546470, 1761840562, 3214531961, 3299163101,\n",
       "        2785061802, 1607609776, 2699287809, 4150195420, 3052982439,\n",
       "        3537243091, 1589574580, 3060846540, 2318080972, 1068798605,\n",
       "        3439146711, 1714186666, 1232365844,  983297864, 1036796852,\n",
       "        3050222516, 1145677345, 2737198081,  716359407, 4030084536,\n",
       "        2335443967, 4131172522,  195833566,  209651119, 2488439112,\n",
       "         347789337, 3138285584, 2698889026, 1513408396], dtype=uint32), 14, 0, 0.0)"
      ]
     },
     "execution_count": 63,
     "metadata": {},
     "output_type": "execute_result"
    }
   ],
   "source": [
    "np.random.get_state()"
   ]
  },
  {
   "cell_type": "markdown",
   "metadata": {},
   "source": [
    "## 4.4 set_state **WARNING**\n",
    "\n",
    "set_state allows the user to 'set the internal state of the generator from a tuple'.\n",
    "\n",
    "The tuple has the following items:\n",
    "1. the string ‘MT19937’, specifying the Mersenne Twister algorithm.\n",
    "2. a 1-D array of 624 unsigned integers keys.\n",
    "3. an integer pos.\n",
    "4. an integer has_gauss.\n",
    "5. a float cached_gaussian.\n",
    "\n",
    "According to to the NumPy V1.15 Manual the \"set_state and get_state are not needed to work with any of the random distributions in NumPy. If the internal state is manually altered, **the user should know exactly what he/she is doing**\"(NumPy, Unpdatedh). I will not then executing set_state for fear of messing up greatly! "
   ]
  },
  {
   "cell_type": "markdown",
   "metadata": {},
   "source": [
    "## References\n",
    "Brooks-Bartlett, J. (2018) Probability concepts explained: probability distributions (introduction part 3), **Towards Science** https://towardsdatascience.com/probability-concepts-explained-probability-distributions-introduction-part-3-4a5db81858dc\n",
    "\n",
    "CMDLINE (2018), Python and R Tips, Simulating Coin Toss Experiment in Python with NumPy, **CMDLINETIPS.COM**\n",
    "https://cmdlinetips.com/2018/12/simulating-coin-toss-experiment-with-binomial-random-numbers-using-numpy/\n",
    "\n",
    "Herther, C. (Undated) Dice, Polls & Dirichlet Multinomials, **Towardsscience.com**\n",
    "https://towardsdatascience.com/calogica-com-dice-polls-dirichlet-multinomials-eca987e6ec3f\n",
    "\n",
    "Huneycutt, J. (2018) Running Chi-Square Tests with Die Roll Data in Python, **Towards Data Science** https://towardsdatascience.com/running-chi-square-tests-in-python-with-die-roll-data-b9903817c51b  \n",
    "\n",
    "Kakila, (Undated) matplotlib rcParams are not picked up from if \"%matplolib inline\" is in the same cell #3385, **Github.com**\n",
    "https://github.com/jupyter/notebook/issues/3385#issuecomment-528665546\n",
    "\n",
    "NumPy(Undateda),NumPy,**Numpy.com** https://numpy.org/#  \n",
    "\n",
    "NumPy(Undatedb),Numpy Quickstart,**Numpy.com** https://numpy.org/devdocs/user/quickstart.html\n",
    "\n",
    "Numpy(Undatedc),numpy.random.rand,**Numpy.com** \n",
    "https://numpy.org/doc/1.15/reference/generated/numpy.random.rand.html#numpy.random.rand\n",
    "\n",
    "NumPy(Updatedb),NumPy User Guide, Manual 1.15, Reference, Routines Random, **Numpy.com**\n",
    "https://numpy.org/doc/1.15/reference/routines.random.html\n",
    "\n",
    "Numpy(Undatede),numpy.random.normal,**Numpy.com** https://numpy.org/doc/1.15/reference/generated/numpy.random.normal.html#numpy.random.normal\n",
    "\n",
    "NumPy(Undatedf)numpy.random.Generator.shuffle,**Numpy.com** \n",
    "https://numpy.org/doc/1.17/reference/random/generated/numpy.random.Generator.shuffle.html#numpy-random-generator-shuffle\n",
    "\n",
    "NumPy(Undatedg)Random sampling (numpy.random),**Numpy.com** \n",
    "https://numpy.org/doc/1.17/reference/random/index.html\n",
    "\n",
    "NumPy(Undatedh) numpy.random.set_state,**Numpy.com** \n",
    "https://numpy.org/doc/1.15/reference/generated/numpy.random.set_state.html#numpy.random.set_state\n",
    "\n",
    "Stattreck (undated), What is a Probability Distribution?,**Stattreck** https://stattrek.com/probability/probability-distribution.aspx\n",
    "\n",
    "Sharpsight,(2019) NumPy Random Seed Explained, **Sharpsightlabs.com** https://www.sharpsightlabs.com/blog/numpy-random-seed/\n",
    "\n",
    "Stackoverflow (How can I retrieve the current seed of NumPy's random number generator? **Stackoverflow.com** (https://stackoverflow.com/a/32172816\n",
    "\n",
    "Stackoverflow.com setting y-axis limit in matplotlib, **Stackoverflow.com**\n",
    "https://stackoverflow.com/questions/3777861/setting-y-axis-limit-in-matplotlib\n",
    "\n",
    "Stackoverflow.com, (undatedc) **Stackoverflow.com** Difference between np.random.seed() and np.random.RandomState() https://stackoverflow.com/questions/22994423/difference-between-np-random-seed-and-np-random-randomstate\n",
    "\n",
    "\n",
    "\n",
    "\n",
    "\n",
    "\n",
    "\n"
   ]
  },
  {
   "cell_type": "code",
   "execution_count": null,
   "metadata": {},
   "outputs": [],
   "source": []
  }
 ],
 "metadata": {
  "kernelspec": {
   "display_name": "Python 3",
   "language": "python",
   "name": "python3"
  },
  "language_info": {
   "codemirror_mode": {
    "name": "ipython",
    "version": 3
   },
   "file_extension": ".py",
   "mimetype": "text/x-python",
   "name": "python",
   "nbconvert_exporter": "python",
   "pygments_lexer": "ipython3",
   "version": "3.7.2"
  }
 },
 "nbformat": 4,
 "nbformat_minor": 2
}
