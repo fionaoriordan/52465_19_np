{
 "cells": [
  {
   "cell_type": "markdown",
   "metadata": {},
   "source": [
    "# MODULE 52465 NUMPY.RANDOM ASSIGNMENT.\n",
    "## Fiona O'Riordan \n",
    "## Due Date 11th November 2019"
   ]
  },
  {
   "cell_type": "markdown",
   "metadata": {},
   "source": [
    "# INTRODUCTION\n",
    "The purpose of this assignment, for Module 52465 Programming for Data Analysis, is to explain the overall purpose of Python numpy package **numpy.random** and the use of the **“Simple random data”** and **“Permutations” functions**, to provide a detailed and comprehensive exploration of five its distributions namely: **INSERT NAMES HERE** and lastly, use of **seeds** in generating pseudorandom numbers will be examined.\n",
    "\n",
    "\n",
    "Numpy.random is an often used and important subpackage of the Numpy package in Python as many other packages are dependent on it.  However, interacting with the package directly is rare. Instead, typically the numpy subpackage objects are used via other packages such as Pandas and SciPy. Numpy.random is used to generate random numbers according to different probabilities across different intervals. \n",
    "\n",
    "To begin with Python numpy package will be briefly outlined. Then, an indept look at the numpy subpackage numpy.random will be provided. Next, the use of the “Simple random data\" and “Permutations” functions** will be explored and then the distributions **INSERT NAMES HERE** will be examined. Finally, a summary of the key learnings will be highlighted."
   ]
  },
  {
   "cell_type": "markdown",
   "metadata": {},
   "source": [
    "# 1. THE OVERALL PURPOSE OF NUMPY.RANDOM\n",
    "\n",
    "## 1.1 NumPy\n",
    "\n",
    "The python package NumPy is the core package for scientifc computing within Python (NumPy,Undateda). The package includes: a N-dimensional array object, an advanced broadcasting functions, the ability to integrate C/C++ and Forstran Code along with capacity for linear algebra, Fourier transform and random number generation (NumPy, Undateda). NumPy can be used not only for scientific uses but also as  an 'efficient multi-dimensional container of generic data' (NumPy, Undateda, Unpaged). Therefore, it can be easily integreated with numberous other databases (NumPy, Undateda).\n",
    "\n",
    "NumPy's primary object is the homogeneous multidimensional array . It is a table, typically containing numbers, of the same data type with a tuple non negative interger index  (NumPy, Undatedb).  In NumPy dimensions are refered to as axes (NumPy, Undatedb). Then, unlike the Standard Python Library Class array.array which can have only one dimension, the NumPy array (full name ndarray) can have multiple dimensions which are called axes. \n"
   ]
  },
  {
   "cell_type": "markdown",
   "metadata": {},
   "source": [
    "# 1.2 numpy.random : \n",
    "\n",
    "The numpy.random package is concerned with the creation of computer generated random numbers. The numbers generated appear to be random but in fact are pseudo random (Sharpsight, 2019). Actual random numbers are created by a physical process. Computer generated random numbers are pseudo random numbers because while they may appear to be random they are actually pre-determined (Sharpsight, 2019). Alogrithms, called pseudo random number generators, are constructed to create pseudo random numbers (Sharpsight, 2019).  \n",
    "\n",
    "The numpy.random package is therefore concerned with the creation of numbers that appear to be random but are infact deterministic. When we get to the below section on seeds this concept will be enlighted further. For the moment, we work on the assumption that numpy.random creates pseudo random numbers.\n",
    "\n",
    "\n",
    "\n",
    "### Random Numbers & Multidimensional\n",
    "\n"
   ]
  },
  {
   "cell_type": "markdown",
   "metadata": {},
   "source": [
    "# 2. SIMPLE RANDOM DATA & PERMUTATIONS:\n"
   ]
  },
  {
   "cell_type": "markdown",
   "metadata": {},
   "source": [
    "## 2.1 numpy.random.rand"
   ]
  },
  {
   "cell_type": "markdown",
   "metadata": {},
   "source": [
    "Lets begin by using numpy.random.rand function to generate some random numbers (as mentioned above they really are pseudo random numbers but more on that later):"
   ]
  },
  {
   "cell_type": "code",
   "execution_count": 1,
   "metadata": {},
   "outputs": [
    {
     "data": {
      "text/plain": [
       "array([[0.72801908, 0.94030531],\n",
       "       [0.73579603, 0.26941392],\n",
       "       [0.76128746, 0.75541919]])"
      ]
     },
     "execution_count": 1,
     "metadata": {},
     "output_type": "execute_result"
    }
   ],
   "source": [
    "import numpy as np\n",
    "np.random.rand(3,2)"
   ]
  },
  {
   "cell_type": "markdown",
   "metadata": {},
   "source": [
    "Note the output generated is an array within which are 3 arrays with 2 elements in each or put simply, 3 rows and 2 columns. Lets rerun the script again:"
   ]
  },
  {
   "cell_type": "code",
   "execution_count": 2,
   "metadata": {},
   "outputs": [
    {
     "data": {
      "text/plain": [
       "array([[0.78007114, 0.73875007],\n",
       "       [0.68855572, 0.37819895],\n",
       "       [0.66318453, 0.54185875]])"
      ]
     },
     "execution_count": 2,
     "metadata": {},
     "output_type": "execute_result"
    }
   ],
   "source": [
    "#Rerun the function \n",
    "np.random.rand(3,2)"
   ]
  },
  {
   "cell_type": "markdown",
   "metadata": {},
   "source": [
    "Note the same script generates different different random numbers. Therefore, we now know that np.random.rand generates random numbers.  Now lets change the arguments:"
   ]
  },
  {
   "cell_type": "code",
   "execution_count": 3,
   "metadata": {},
   "outputs": [
    {
     "data": {
      "text/plain": [
       "array([[0.10107638, 0.87680201],\n",
       "       [0.90458535, 0.32386931],\n",
       "       [0.81740033, 0.78529865],\n",
       "       [0.55868013, 0.26021161]])"
      ]
     },
     "execution_count": 3,
     "metadata": {},
     "output_type": "execute_result"
    }
   ],
   "source": [
    "#Rerun the function with different arguments.\n",
    "np.random.rand(4,2)"
   ]
  },
  {
   "cell_type": "markdown",
   "metadata": {},
   "source": [
    "Now the array generated has 4 rows and 2 colums of random numbers. We can also generate an array with say 4 columns & just one row."
   ]
  },
  {
   "cell_type": "code",
   "execution_count": 4,
   "metadata": {},
   "outputs": [
    {
     "data": {
      "text/plain": [
       "array([[0.76651259, 0.08257894],\n",
       "       [0.14572359, 0.97317777],\n",
       "       [0.20454477, 0.19045989],\n",
       "       [0.10245698, 0.51743122]])"
      ]
     },
     "execution_count": 4,
     "metadata": {},
     "output_type": "execute_result"
    }
   ],
   "source": [
    "np.random.rand(4,2)"
   ]
  },
  {
   "cell_type": "markdown",
   "metadata": {},
   "source": [
    "Now lets generate array without any arguments passed. "
   ]
  },
  {
   "cell_type": "code",
   "execution_count": 5,
   "metadata": {},
   "outputs": [
    {
     "data": {
      "text/plain": [
       "0.8719066767050188"
      ]
     },
     "execution_count": 5,
     "metadata": {},
     "output_type": "execute_result"
    }
   ],
   "source": [
    "np.random.rand()"
   ]
  },
  {
   "cell_type": "markdown",
   "metadata": {},
   "source": [
    "Just one array with just one element is now generated.  Therefore the arguments passed are determining the shape of the arrays generated.\n",
    "\n",
    "We can also include more dimensions to create depth for example:"
   ]
  },
  {
   "cell_type": "code",
   "execution_count": 6,
   "metadata": {},
   "outputs": [
    {
     "data": {
      "text/plain": [
       "array([[[0.97200859, 0.57914186, 0.0551126 ],\n",
       "        [0.06955181, 0.16533415, 0.4946    ]],\n",
       "\n",
       "       [[0.02588142, 0.22561658, 0.78062438],\n",
       "        [0.2399665 , 0.41784196, 0.75680473]],\n",
       "\n",
       "       [[0.08143338, 0.1673706 , 0.48571426],\n",
       "        [0.36514535, 0.63168135, 0.10398605]],\n",
       "\n",
       "       [[0.66635068, 0.75582718, 0.98557733],\n",
       "        [0.59052582, 0.15516474, 0.34266256]]])"
      ]
     },
     "execution_count": 6,
     "metadata": {},
     "output_type": "execute_result"
    }
   ],
   "source": [
    "np.random.rand(4,2,3)"
   ]
  },
  {
   "cell_type": "markdown",
   "metadata": {},
   "source": [
    "Now we have an array with 4 rows, 2 columns and a depth of 3 ie an array with 3 dimensions. We can continue on creating every more complex arrays adding more and more dimensions:"
   ]
  },
  {
   "cell_type": "code",
   "execution_count": 7,
   "metadata": {},
   "outputs": [
    {
     "data": {
      "text/plain": [
       "array([[[[0.06517312, 0.76908589, 0.26841616, 0.44305685, 0.80621144],\n",
       "         [0.23193112, 0.5246007 , 0.40945858, 0.25469658, 0.16761068],\n",
       "         [0.57256812, 0.02151564, 0.79847644, 0.07535364, 0.41155737]],\n",
       "\n",
       "        [[0.40891359, 0.81865212, 0.6779375 , 0.27841967, 0.37444843],\n",
       "         [0.76052153, 0.46054388, 0.07101078, 0.14634489, 0.76129735],\n",
       "         [0.51093684, 0.93100848, 0.21435871, 0.80791959, 0.83666931]]],\n",
       "\n",
       "\n",
       "       [[[0.20471985, 0.06298987, 0.71704873, 0.56681339, 0.46372096],\n",
       "         [0.02088105, 0.99963986, 0.12916565, 0.46853052, 0.23326926],\n",
       "         [0.03606244, 0.03574025, 0.75763717, 0.89219645, 0.94026113]],\n",
       "\n",
       "        [[0.44172263, 0.11604129, 0.28309517, 0.31181788, 0.87737108],\n",
       "         [0.77909192, 0.13390367, 0.2065085 , 0.9818403 , 0.06357257],\n",
       "         [0.06375195, 0.46690312, 0.9969678 , 0.47979665, 0.84645573]]],\n",
       "\n",
       "\n",
       "       [[[0.40688184, 0.80316336, 0.00915588, 0.08966561, 0.05949387],\n",
       "         [0.91486643, 0.41106236, 0.4563566 , 0.96223011, 0.23260711],\n",
       "         [0.19057219, 0.2491366 , 0.28900719, 0.93017298, 0.04662022]],\n",
       "\n",
       "        [[0.92673758, 0.86818188, 0.5065986 , 0.90046544, 0.30291211],\n",
       "         [0.16474914, 0.18378989, 0.45596726, 0.71103741, 0.5833076 ],\n",
       "         [0.71167021, 0.96373467, 0.52425886, 0.96780693, 0.84391499]]],\n",
       "\n",
       "\n",
       "       [[[0.9158897 , 0.57981835, 0.76176034, 0.49876712, 0.72746448],\n",
       "         [0.3978356 , 0.77199276, 0.68219291, 0.70929602, 0.8437047 ],\n",
       "         [0.79351418, 0.53917042, 0.69479102, 0.65803813, 0.05230165]],\n",
       "\n",
       "        [[0.45013372, 0.66501008, 0.06412302, 0.13471859, 0.65356397],\n",
       "         [0.79898968, 0.04414323, 0.08608517, 0.34974536, 0.44356573],\n",
       "         [0.43908664, 0.799559  , 0.42376985, 0.71176132, 0.93295118]]]])"
      ]
     },
     "execution_count": 7,
     "metadata": {},
     "output_type": "execute_result"
    }
   ],
   "source": [
    "np.random.rand(4,2,3,5)"
   ]
  },
  {
   "cell_type": "markdown",
   "metadata": {},
   "source": [
    "Now lets go back and look at the numbers generated. An array witt the shape 4 rows, 2 colums each with depth of 3 and within that 5 elements has been generated So we can see that ever more complex and multidimensional arrays can be generated with the numpy.random subpackage/function.\n",
    "We can also generate an array with just one array with a specified number of random values (10000 in this case) using the following syntax:"
   ]
  },
  {
   "cell_type": "code",
   "execution_count": 8,
   "metadata": {},
   "outputs": [
    {
     "data": {
      "text/plain": [
       "array([0.91764788, 0.90574344, 0.80308087, ..., 0.06422233, 0.0514619 ,\n",
       "       0.88745889])"
      ]
     },
     "execution_count": 8,
     "metadata": {},
     "output_type": "execute_result"
    }
   ],
   "source": [
    "np.random.rand(10000)"
   ]
  },
  {
   "cell_type": "markdown",
   "metadata": {},
   "source": [
    "Using matplotlib.pyplot function we can generate a histogram to show the range of random numbers generated: \n"
   ]
  },
  {
   "cell_type": "code",
   "execution_count": 9,
   "metadata": {},
   "outputs": [
    {
     "data": {
      "image/png": "[encoded data removed]",
      "text/plain": [
       "<Figure size 432x288 with 1 Axes>"
      ]
     },
     "metadata": {
      "needs_background": "light"
     },
     "output_type": "display_data"
    }
   ],
   "source": [
    "# use the matploblib magic command to ensure the histogram is shown.\n",
    "%matplotlib inline\n",
    "# import the matplotlib pyplot libary and give it the alias plt\n",
    "import matplotlib.pyplot as plt\n",
    "\n",
    "# set x equal to an array of 10,000 random numbers generated by function numpy.random.rand\n",
    "x = np.random.rand(10000)\n",
    "plt.hist(x)\n",
    "plt.show()\n",
    "\n"
   ]
  },
  {
   "cell_type": "markdown",
   "metadata": {},
   "source": [
    "The histogram gives a visual representation of the numbers generated by random.rand above. The histogram has a continuous variable on the x axis.  The values are chopped up into a reasonable number of bins in this case 10. We can see from the diagram that the number of values generated between values 0.0 and 0.1 is just as likely as the number of values generated between values 0.7 and 0.8. This holds true for each bin displayed. Therefore the distribution is uniform ( we'll look at this in more detail in sections 5  Distributions below).\n",
    "\n",
    "The other important point to note when using np.random.rand function is that all of the numbers genereated are greater than or equal to 0 and less than 1. Therefore, while this function allows us to control shape of the data generated and the number of values generated, the range of values is limited."
   ]
  },
  {
   "cell_type": "markdown",
   "metadata": {},
   "source": [
    "## 2.2. numpy.random.randn\n",
    "\n",
    "Now lets take a look at the numpy.random.randn function. At first glance it looks pretty similar to numpy.random.rand.  Again, we can generate an array within which are 3 arrays with 2 elements in each or put simply, 3 rows and 2 columns. However, unlike numpy.random.rand, the numbers generated by numpy.random.randn are not limited to values between 0.0 and 0.1. "
   ]
  },
  {
   "cell_type": "code",
   "execution_count": 10,
   "metadata": {},
   "outputs": [
    {
     "data": {
      "text/plain": [
       "array([[ 0.80391209, -0.70117894, -0.41629766],\n",
       "       [-0.53080085, -0.71366795, -0.10548706]])"
      ]
     },
     "execution_count": 10,
     "metadata": {},
     "output_type": "execute_result"
    }
   ],
   "source": [
    "np.random.randn(2,3)"
   ]
  },
  {
   "cell_type": "markdown",
   "metadata": {},
   "source": [
    "Like numpy.random.rand function we can also continue on creating more complex arrays:"
   ]
  },
  {
   "cell_type": "code",
   "execution_count": 11,
   "metadata": {},
   "outputs": [
    {
     "data": {
      "text/plain": [
       "array([[[ 0.77169378,  1.2015514 , -1.00130637],\n",
       "        [ 0.19406591,  0.95893416,  1.92534944]],\n",
       "\n",
       "       [[ 0.29958922, -1.54620767,  1.02482701],\n",
       "        [-1.09689924, -0.10676614, -0.19697469]],\n",
       "\n",
       "       [[ 0.09197681, -1.10176118, -0.04217324],\n",
       "        [-0.11162206, -0.62458163, -2.29630124]],\n",
       "\n",
       "       [[-0.64617322,  0.34724326,  0.83193939],\n",
       "        [-0.12054292, -0.19138555, -0.20028337]]])"
      ]
     },
     "execution_count": 11,
     "metadata": {},
     "output_type": "execute_result"
    }
   ],
   "source": [
    "np.random.randn(4,2,3)"
   ]
  },
  {
   "cell_type": "markdown",
   "metadata": {},
   "source": [
    "And the function also allows us to generate just one random number when no values are inputed."
   ]
  },
  {
   "cell_type": "code",
   "execution_count": 12,
   "metadata": {},
   "outputs": [
    {
     "data": {
      "text/plain": [
       "-1.6701418742029037"
      ]
     },
     "execution_count": 12,
     "metadata": {},
     "output_type": "execute_result"
    }
   ],
   "source": [
    "np.random.randn()"
   ]
  },
  {
   "cell_type": "markdown",
   "metadata": {},
   "source": [
    "**However**, lets see what happens when we generate an array of 10,000 values using numpy.random.randn(10000) function and lets compare it to the np.random.rand function when 10000 values are also generated.  The histogram produced by np.random.randn has a very different shape than produced by np.random.rand: "
   ]
  },
  {
   "cell_type": "code",
   "execution_count": 13,
   "metadata": {},
   "outputs": [
    {
     "data": {
      "image/png": "[encoded data removed]",
      "text/plain": [
       "<Figure size 432x288 with 1 Axes>"
      ]
     },
     "metadata": {
      "needs_background": "light"
     },
     "output_type": "display_data"
    },
    {
     "data": {
      "image/png": "[encoded data removed]",
      "text/plain": [
       "<Figure size 432x288 with 1 Axes>"
      ]
     },
     "metadata": {
      "needs_background": "light"
     },
     "output_type": "display_data"
    }
   ],
   "source": [
    "# Adapted from https://stackoverflow.com/questions/47240308/differences-between-numpy-random-rand-vs-numpy-random-randn-in-python\n",
    "# np.random.rand is for Uniform distribution (in the half-open interval [0.0, 1.0))\n",
    "# np.random.randn is for Standard Normal (aka. Gaussian) distribution (mean 0 and variance 1)\n",
    "# You can visually explore the differences between these two very easily:\n",
    "\n",
    "\n",
    "sample_size = 100000\n",
    "pdf, bins, patches = plt.hist(np.random.rand(sample_size))\n",
    "plt.title('rand: uniform')\n",
    "plt.show()\n",
    "\n",
    "pdf, bins, patches = plt.hist(np.random.randn(sample_size))\n",
    "plt.title('randn: normal')\n",
    "plt.show()\n"
   ]
  },
  {
   "cell_type": "markdown",
   "metadata": {},
   "source": [
    "Randn is using a normal distribution (Gaussian) with mean equal to 0 and variance 1. Values generated are more likely to fall between  0 and 0.1 than between 0.9 and 1. In contrast, for rand both of these are equally likely. In fact, as the histogram shows, approxiamately 68% of all randn outputs fall between -1 and +1, while 95% fall between -2 and +2, and about 99.7% fall between -3 and +3."
   ]
  },
  {
   "cell_type": "markdown",
   "metadata": {},
   "source": [
    "## 2.3 numpy.random.randint"
   ]
  },
  {
   "cell_type": "markdown",
   "metadata": {},
   "source": [
    "The randint function (numpy.random.randint) allows us to generate random interger(s) between a specified low (-10 in this case) and high (10 in this case):"
   ]
  },
  {
   "cell_type": "code",
   "execution_count": 14,
   "metadata": {},
   "outputs": [
    {
     "data": {
      "text/plain": [
       "-2"
      ]
     },
     "execution_count": 14,
     "metadata": {},
     "output_type": "execute_result"
    }
   ],
   "source": [
    "np.random.randint(-10, 10)"
   ]
  },
  {
   "cell_type": "markdown",
   "metadata": {},
   "source": [
    "Randint also allows us to generate tuples.:"
   ]
  },
  {
   "cell_type": "code",
   "execution_count": 15,
   "metadata": {},
   "outputs": [
    {
     "data": {
      "text/plain": [
       "array([[ -1,  -8],\n",
       "       [  2, -10],\n",
       "       [ -4,   6]])"
      ]
     },
     "execution_count": 15,
     "metadata": {},
     "output_type": "execute_result"
    }
   ],
   "source": [
    "np.random.randint(-10, 10, size = (3,2))"
   ]
  },
  {
   "cell_type": "markdown",
   "metadata": {},
   "source": [
    "Or indeed, we can just generate one integer.  The default low value when unspecified is 0 but the highest value must be specified:"
   ]
  },
  {
   "cell_type": "code",
   "execution_count": 16,
   "metadata": {},
   "outputs": [
    {
     "data": {
      "text/plain": [
       "2"
      ]
     },
     "execution_count": 16,
     "metadata": {},
     "output_type": "execute_result"
    }
   ],
   "source": [
    "np.random.randint(10)"
   ]
  },
  {
   "cell_type": "markdown",
   "metadata": {},
   "source": [
    "We can also use randint to generate a specified number of integers (size = 10000) with the lowest value possible specified (0 is defaulted in the following example)and up to a specified number of values (20000 in this case):"
   ]
  },
  {
   "cell_type": "code",
   "execution_count": 17,
   "metadata": {},
   "outputs": [
    {
     "data": {
      "text/plain": [
       "(array([1009.,  988.,  962., 1007., 1051., 1018.,  991.,  964., 1027.,\n",
       "         983.]),\n",
       " array([1.00000e+00, 2.00080e+03, 4.00060e+03, 6.00040e+03, 8.00020e+03,\n",
       "        1.00000e+04, 1.19998e+04, 1.39996e+04, 1.59994e+04, 1.79992e+04,\n",
       "        1.99990e+04]),\n",
       " <a list of 10 Patch objects>)"
      ]
     },
     "execution_count": 17,
     "metadata": {},
     "output_type": "execute_result"
    },
    {
     "data": {
      "image/png": "[encoded data removed]",
      "text/plain": [
       "<Figure size 432x288 with 1 Axes>"
      ]
     },
     "metadata": {
      "needs_background": "light"
     },
     "output_type": "display_data"
    }
   ],
   "source": [
    "x = np.random.randint(20000, size =(10000))\n",
    "plt.hist(x)"
   ]
  },
  {
   "cell_type": "markdown",
   "metadata": {},
   "source": [
    "Similar to rand function discussed above, the underlying distribution employed by randint function is the uniform distribution. Therefore, a value generated by the randint is just as likely to fall between 0 and 1000 as it is between 19,000 and 20,000. Unlike the rand function only integers (whole numbers) are generated though and our high and low is not limited to 0 and 1. "
   ]
  },
  {
   "cell_type": "markdown",
   "metadata": {},
   "source": [
    "## 3.4 numpy.random.choice\n",
    "\n",
    "NumPy random.choice function allows you to create random samples also. Basically, when given an input array of numbers, numpy.random.choice will randomly select one of those numbers and each number in the array has an equal chance of being selected (when we use the default setting in parameter p, more on this below).\n",
    "\n",
    "So say we have a NumPy array of 10 integers, the numbers 1 to 10 and we apply the numpy.random.choice function one number between 1 and 10 is randomly selected. \n",
    "\n",
    "Parameters:\n",
    "a required  ( the input array. can be newly created or be an existing numpy array)\n",
    "size ( size of the output)\n",
    "replace (when a sample is selected is it replaced and available to be selected again )\n",
    "p (by default all numbers have an equal probability of being selected. This parameter alters that probability.( \n",
    "\n",
    "Lets see an example. First lets create an array with with numbers 0 to 9 inclusive."
   ]
  },
  {
   "cell_type": "code",
   "execution_count": 18,
   "metadata": {},
   "outputs": [
    {
     "data": {
      "text/plain": [
       "array([0, 1, 2, 3, 4, 5, 6, 7, 8, 9])"
      ]
     },
     "execution_count": 18,
     "metadata": {},
     "output_type": "execute_result"
    }
   ],
   "source": [
    "array10 = np.arange(start = 0, stop = 10)\n",
    "array10"
   ]
  },
  {
   "cell_type": "markdown",
   "metadata": {},
   "source": [
    "Now lets use the numpy.random.choice function to randomly select an interger from the array10. But first, before doing so we need to select a seed to use.  We'll explain seeds in more detail in section \"6. Seeds\". For the moment though just bear in mind that we need to set the seed so that the random number generator np.random.choice will select one of the intergers and this choice selection is dependent on the seed set.  For example use seed 8 and then use the random.choice function to select an integer from predefined array10: "
   ]
  },
  {
   "cell_type": "code",
   "execution_count": 19,
   "metadata": {},
   "outputs": [
    {
     "data": {
      "text/plain": [
       "3"
      ]
     },
     "execution_count": 19,
     "metadata": {},
     "output_type": "execute_result"
    }
   ],
   "source": [
    "np.random.seed(8)\n",
    "np.random.choice(a = array10)"
   ]
  },
  {
   "cell_type": "markdown",
   "metadata": {},
   "source": [
    "Integer 3 from array10 is randomly selected.  We can repeat this random selection though by using the same code and the same seed 8:"
   ]
  },
  {
   "cell_type": "code",
   "execution_count": 20,
   "metadata": {},
   "outputs": [
    {
     "data": {
      "text/plain": [
       "3"
      ]
     },
     "execution_count": 20,
     "metadata": {},
     "output_type": "execute_result"
    }
   ],
   "source": [
    "np.random.seed(8)\n",
    "np.random.choice(a = array10)"
   ]
  },
  {
   "cell_type": "markdown",
   "metadata": {},
   "source": [
    "Now rather than using the predefined array10, lets get np.random.choice function to generate a new numpy array  (essentially an array with contents just like array10), use seed 0 again and select one of the intergers randomly again:"
   ]
  },
  {
   "cell_type": "code",
   "execution_count": 21,
   "metadata": {},
   "outputs": [
    {
     "data": {
      "text/plain": [
       "3"
      ]
     },
     "execution_count": 21,
     "metadata": {},
     "output_type": "execute_result"
    }
   ],
   "source": [
    "np.random.seed(8)\n",
    "np.random.choice(10)"
   ]
  },
  {
   "cell_type": "markdown",
   "metadata": {},
   "source": [
    "The same number is selected again. Numpy.random.choice has created a new array using NumPy arange but the new array has the same contents as array10. Since  np.random.choice(a = array10) is identical to np.random.choice(10). Therefore identical inputs and the same seed have been used resulting in the selection output 3.\n",
    "\n",
    "We can also select multiple values from an array. Lets select 5 sample numbers from an array of 100 values (0 to 99) created by random.choice with seed set to 4:  "
   ]
  },
  {
   "cell_type": "code",
   "execution_count": 22,
   "metadata": {},
   "outputs": [
    {
     "data": {
      "text/plain": [
       "array([46, 55, 69,  1, 87])"
      ]
     },
     "execution_count": 22,
     "metadata": {},
     "output_type": "execute_result"
    }
   ],
   "source": [
    "np.random.seed(4)\n",
    "np.random.choice(100, size = 5)"
   ]
  },
  {
   "cell_type": "markdown",
   "metadata": {},
   "source": [
    "Now lets create an array with 5 values (0-4), select 3 values but after each selection replace the sample  back into the possible values to be selected by setting parameter replace = True:"
   ]
  },
  {
   "cell_type": "code",
   "execution_count": 23,
   "metadata": {},
   "outputs": [
    {
     "data": {
      "text/plain": [
       "array([3, 0, 0])"
      ]
     },
     "execution_count": 23,
     "metadata": {},
     "output_type": "execute_result"
    }
   ],
   "source": [
    "np.random.seed(27)\n",
    "np.random.choice(5, size = 3, replace = True)"
   ]
  },
  {
   "cell_type": "markdown",
   "metadata": {},
   "source": [
    "The same sample number can be now be selected multiple times. This is basically like picking a card from a deck and then replacing the card in the pack before the next selection."
   ]
  },
  {
   "cell_type": "markdown",
   "metadata": {},
   "source": [
    "The last parameter  we will look at p, allows the probability of certain outcomes to be altered. Lets use an array with 11 values (0-10inclusive) again and randomly select one value but set the probability of selecting the first value to 50% while setting the probability of selecting the remaining values each at 5%."
   ]
  },
  {
   "cell_type": "code",
   "execution_count": 24,
   "metadata": {},
   "outputs": [
    {
     "data": {
      "text/plain": [
       "0"
      ]
     },
     "execution_count": 24,
     "metadata": {},
     "output_type": "execute_result"
    }
   ],
   "source": [
    "np.random.seed(27)\n",
    "np.random.choice(11, p = [.5, .05, .05, .05, .05, .05, .05, .05, .05, .05, .05] )"
   ]
  },
  {
   "cell_type": "markdown",
   "metadata": {},
   "source": [
    "Now lets increase the selection size to 30 and we can see how often 0 is selected. There is now a 50% chance of 0  being selected."
   ]
  },
  {
   "cell_type": "code",
   "execution_count": 25,
   "metadata": {},
   "outputs": [
    {
     "data": {
      "text/plain": [
       "array([ 0,  7,  5,  8,  0, 10,  8,  0,  5,  4,  8,  8,  5,  8,  0,  0,  0,\n",
       "        6,  0,  0,  0,  0,  6,  0,  0,  5,  0,  2,  0,  1])"
      ]
     },
     "execution_count": 25,
     "metadata": {},
     "output_type": "execute_result"
    }
   ],
   "source": [
    "np.random.seed(27)\n",
    "np.random.choice(11, size = 30, p = [.5, .05, .05, .05, .05, .05, .05, .05, .05, .05, .05] )"
   ]
  },
  {
   "cell_type": "markdown",
   "metadata": {},
   "source": [
    "# **2.5 “Permutations” functions**\n",
    "\n",
    "## **Shuffle**    \n",
    "The shuffle function modifies a sequence by shuffling its contents.  First, lets create a range of numbers. "
   ]
  },
  {
   "cell_type": "code",
   "execution_count": 26,
   "metadata": {},
   "outputs": [
    {
     "data": {
      "text/plain": [
       "array([0, 1, 2, 3, 4, 5, 6, 7, 8, 9])"
      ]
     },
     "execution_count": 26,
     "metadata": {},
     "output_type": "execute_result"
    }
   ],
   "source": [
    "arr = np.arange(10)\n",
    "arr\n"
   ]
  },
  {
   "cell_type": "markdown",
   "metadata": {},
   "source": [
    "Now lets use the shuffle function to randomly shuffle the contents of this array."
   ]
  },
  {
   "cell_type": "code",
   "execution_count": 27,
   "metadata": {},
   "outputs": [
    {
     "data": {
      "text/plain": [
       "array([3, 2, 8, 5, 6, 4, 0, 7, 9, 1])"
      ]
     },
     "execution_count": 27,
     "metadata": {},
     "output_type": "execute_result"
    }
   ],
   "source": [
    "np.random.shuffle(arr)\n",
    "arr"
   ]
  },
  {
   "cell_type": "markdown",
   "metadata": {},
   "source": [
    "The contents of the array are now reordered.  It is also possible to shuffle multi-dimensional arrays.  However, multi-dimensional arrays are only shuffled along the first axis. For example create an array with 3 rows and 3 columns from a range of 9."
   ]
  },
  {
   "cell_type": "code",
   "execution_count": 28,
   "metadata": {},
   "outputs": [
    {
     "data": {
      "text/plain": [
       "array([[0, 1, 2],\n",
       "       [3, 4, 5],\n",
       "       [6, 7, 8]])"
      ]
     },
     "execution_count": 28,
     "metadata": {},
     "output_type": "execute_result"
    }
   ],
   "source": [
    "arr1 = np.arange(9).reshape((3, 3))\n",
    "arr1"
   ]
  },
  {
   "cell_type": "markdown",
   "metadata": {},
   "source": [
    "Now lets shuffle the array arr1. "
   ]
  },
  {
   "cell_type": "code",
   "execution_count": 29,
   "metadata": {},
   "outputs": [
    {
     "data": {
      "text/plain": [
       "array([[3, 4, 5],\n",
       "       [6, 7, 8],\n",
       "       [0, 1, 2]])"
      ]
     },
     "execution_count": 29,
     "metadata": {},
     "output_type": "execute_result"
    }
   ],
   "source": [
    "np.random.shuffle(arr1)\n",
    "arr1"
   ]
  },
  {
   "cell_type": "markdown",
   "metadata": {},
   "source": [
    "Note, while the rows have been shuffled (ie the first axis/dimension), the columns have not been shuffled. Only the first axis is shuffled and the elements within each axis remain in place."
   ]
  },
  {
   "cell_type": "markdown",
   "metadata": {},
   "source": [
    "## **Permutation**    \n",
    "\n",
    "The random.permutation function allows us to create a new array with a single axis and with a specifc number of elements and return the elements in the resulting array in a random order.  The creation of arr2 demonstrates this:\n"
   ]
  },
  {
   "cell_type": "code",
   "execution_count": 30,
   "metadata": {
    "scrolled": true
   },
   "outputs": [
    {
     "data": {
      "text/plain": [
       "array([4, 9, 3, 8, 6, 2, 5, 1, 0, 7])"
      ]
     },
     "execution_count": 30,
     "metadata": {},
     "output_type": "execute_result"
    }
   ],
   "source": [
    "arr2 = np.random.permutation(10)\n",
    "arr2"
   ]
  },
  {
   "cell_type": "markdown",
   "metadata": {},
   "source": [
    "In adddition and similar to function random.shuffle, we can also use this function np.random.permutation() to shuffle the contents of an existing single dimensional array :"
   ]
  },
  {
   "cell_type": "code",
   "execution_count": 31,
   "metadata": {},
   "outputs": [
    {
     "data": {
      "text/plain": [
       "array([4, 8, 3, 5, 1, 0, 6, 7, 2, 9])"
      ]
     },
     "execution_count": 31,
     "metadata": {},
     "output_type": "execute_result"
    }
   ],
   "source": [
    "np.random.permutation(arr2)"
   ]
  },
  {
   "cell_type": "markdown",
   "metadata": {},
   "source": [
    "And again similiar to random.shuffle, the random.permutation function gives us the option to shuffle a multidimensional array :"
   ]
  },
  {
   "cell_type": "code",
   "execution_count": 32,
   "metadata": {},
   "outputs": [
    {
     "data": {
      "text/plain": [
       "array([[0, 1, 2],\n",
       "       [3, 4, 5],\n",
       "       [6, 7, 8]])"
      ]
     },
     "execution_count": 32,
     "metadata": {},
     "output_type": "execute_result"
    }
   ],
   "source": [
    "# first create an array with 9 elements in one axis and \n",
    "#then reshape so that the array has two dimenensions/axes one row and one colum.\n",
    "arr3 = np.arange(9).reshape((3, 3))\n",
    "arr3\n"
   ]
  },
  {
   "cell_type": "markdown",
   "metadata": {},
   "source": [
    "Now apply the random.permutation function: "
   ]
  },
  {
   "cell_type": "code",
   "execution_count": 33,
   "metadata": {},
   "outputs": [
    {
     "data": {
      "text/plain": [
       "array([[3, 4, 5],\n",
       "       [0, 1, 2],\n",
       "       [6, 7, 8]])"
      ]
     },
     "execution_count": 33,
     "metadata": {},
     "output_type": "execute_result"
    }
   ],
   "source": [
    "np.random.permutation(arr3)"
   ]
  },
  {
   "cell_type": "markdown",
   "metadata": {},
   "source": [
    "While the array has been shuffled only the x axis has been shuffled by random.permutation similar to random.shuffle. \n",
    "\n",
    "Therefore in summary both functions random.shuffle and random.permutation shuffle the contents of a single existing dimensional array and while both functions can also shuffle the contents of an existing multidimensional array only the the first axis is shuffled. The function random.permutation also allows us to **create and shuffle** a single dimensional array in one step."
   ]
  },
  {
   "cell_type": "markdown",
   "metadata": {},
   "source": [
    "# 3. DISTRIBUTIONS:  \n",
    "\n",
    "'Probability distribution is a rule or set of rules that assigns probabilities to values of random variables. \n",
    "\n"
   ]
  },
  {
   "cell_type": "markdown",
   "metadata": {},
   "source": [
    "## **3.1 Uniform Distributions**    \n",
    "Uniform distributions are probability distributions where the outcomes are equally likely (Investopedia, undated, unpaged).  There are two types of uniform distributions: discrete and continuous. An example of a discrete uniform distribution is the rolling of a dice. Each number has an equal chance of being rolled but only numbers 1,2,3,4,5 or 6 can be rolled. The number 2.7 or 3.8 cannot be rolled. In a continuous uniform distribution, again all numbers have a equal chance at being selectd but the numbers that can be selected are continuous or even infinite e.g. the numbers generated in an \"idealized random number generator\" (Investopedia, undated, unpaged).\n"
   ]
  },
  {
   "cell_type": "code",
   "execution_count": 34,
   "metadata": {},
   "outputs": [
    {
     "data": {
      "text/plain": [
       "array([-4.11101923e-01, -3.31805562e-01, -1.77127528e-01, -3.93722799e-01,\n",
       "       -7.85443583e-01, -2.11799150e-02, -7.41588164e-01, -9.21358320e-01,\n",
       "       -5.15917105e-01, -1.27164275e-01, -5.90198933e-01, -3.78175344e-01,\n",
       "       -8.53253108e-02, -8.61750887e-01, -8.94718765e-01, -9.30214915e-03,\n",
       "       -5.84871242e-01, -1.47986733e-01, -3.94284686e-01, -1.57922514e-01,\n",
       "       -1.46751036e-01, -4.00364839e-01, -9.35612939e-01, -9.24662272e-01,\n",
       "       -5.70164287e-01, -3.10426492e-01, -2.39441362e-01, -6.88150226e-02,\n",
       "       -4.53493071e-01, -1.86834550e-01, -3.91616447e-01, -8.08997442e-01,\n",
       "       -8.00845169e-01, -6.52474506e-01, -6.46657230e-01, -3.83363191e-01,\n",
       "       -7.23069204e-01, -7.23539269e-01, -4.63494037e-01, -7.85733303e-01,\n",
       "       -2.84726358e-02, -9.93411506e-01, -4.10942726e-01, -9.36279312e-01,\n",
       "       -9.56779629e-01, -2.48273494e-01, -1.90229206e-01, -2.91315616e-01,\n",
       "       -1.61646325e-01, -8.58216273e-01, -2.72678839e-01, -8.49969253e-01,\n",
       "       -6.99772251e-01, -2.39348636e-01, -4.41635963e-01, -2.98899621e-01,\n",
       "       -7.46449599e-01, -9.61265159e-01, -6.62442542e-01, -1.70939934e-01,\n",
       "       -9.28122256e-01, -6.95826705e-01, -8.45987631e-01, -5.63557767e-01,\n",
       "       -7.99792710e-01, -6.83321121e-01, -9.23970985e-01, -3.81220229e-01,\n",
       "       -5.80092689e-01, -4.96394998e-01, -7.53088506e-01, -3.67009809e-01,\n",
       "       -1.50637498e-01, -8.00174728e-01, -7.59252296e-02, -1.28387293e-01,\n",
       "       -7.89441228e-01, -9.02489613e-01, -4.12083922e-02, -9.32372319e-01,\n",
       "       -6.27029183e-01, -4.32656186e-01, -7.28301120e-02, -5.95072529e-01,\n",
       "       -5.32045997e-01, -8.42704631e-01, -9.80478219e-02, -8.08747176e-01,\n",
       "       -3.20148379e-01, -9.22902667e-01, -6.85499818e-01, -2.59951175e-01,\n",
       "       -3.95932643e-01, -5.85079909e-01, -9.88932700e-01, -7.29712990e-01,\n",
       "       -4.51643427e-02, -2.92775098e-01, -4.13562684e-01, -2.47766610e-01,\n",
       "       -2.02676580e-01, -9.28585127e-01, -8.03264125e-01, -1.97461171e-02,\n",
       "       -6.85633166e-01, -6.74846950e-01, -9.85488525e-01, -8.68030028e-01,\n",
       "       -2.83297462e-01, -2.06959481e-01, -3.22250137e-01, -4.19201362e-01,\n",
       "       -3.89509697e-01, -1.38171601e-01, -8.67802683e-01, -9.55289917e-01,\n",
       "       -5.16261131e-01, -6.52916693e-01, -3.50445110e-01, -6.24771833e-01,\n",
       "       -2.22890618e-01, -2.84538077e-01, -5.97164207e-01, -2.24849685e-01,\n",
       "       -1.23173625e-03, -1.35415923e-01, -3.03306198e-02, -6.51038337e-01,\n",
       "       -4.48791776e-01, -3.32780973e-01, -2.64924276e-01, -1.94184620e-01,\n",
       "       -6.64243643e-03, -9.05060890e-01, -5.48566358e-01, -1.46580888e-01,\n",
       "       -4.37880081e-02, -4.42850339e-01, -3.02233770e-01, -9.00298283e-01,\n",
       "       -4.11181328e-02, -1.31618608e-01, -5.28685168e-02, -7.74843157e-01,\n",
       "       -1.54201204e-01, -9.41991605e-01, -6.43665039e-01, -2.21265067e-01,\n",
       "       -2.64304100e-01, -8.52244302e-01, -3.84825944e-01, -2.54617628e-01,\n",
       "       -6.41736120e-01, -3.91743729e-01, -3.73894264e-01, -6.12712860e-01,\n",
       "       -5.90885968e-01, -2.22569693e-01, -4.82037601e-01, -9.23678124e-01,\n",
       "       -8.64163605e-01, -9.30940867e-01, -3.15954160e-02, -1.61919682e-01,\n",
       "       -6.72265698e-02, -4.43421169e-01, -1.82461693e-01, -2.86050607e-01,\n",
       "       -3.51399820e-01, -6.47762295e-01, -1.26859666e-01, -7.09486522e-01,\n",
       "       -4.14596858e-02, -4.37797158e-01, -9.99291319e-01, -9.77012456e-01,\n",
       "       -2.47430658e-01, -4.66311105e-01, -6.54812440e-01, -6.40686170e-01,\n",
       "       -9.99059873e-01, -8.05410136e-03, -2.03814131e-01, -1.20722474e-01,\n",
       "       -9.22774160e-01, -3.04883528e-01, -1.43315517e-01, -5.13084808e-02,\n",
       "       -5.37638996e-01, -4.53636668e-01, -9.19986398e-01, -3.82228356e-01,\n",
       "       -7.92560179e-01, -9.83582421e-01, -7.05162102e-01, -4.21158713e-01,\n",
       "       -1.82862631e-02, -7.27122654e-01, -4.48843018e-01, -7.14367114e-01,\n",
       "       -7.52342701e-02, -6.76002879e-01, -6.57625696e-01, -7.10580859e-01,\n",
       "       -9.05870276e-01, -2.99376756e-02, -4.92486501e-01, -5.27277499e-01,\n",
       "       -4.84972110e-01, -3.23104247e-01, -2.81470037e-02, -8.64371633e-02,\n",
       "       -5.75313152e-01, -3.30449934e-02, -4.10335071e-01, -5.57877226e-02,\n",
       "       -4.14854785e-01, -4.19443743e-01, -6.40942941e-01, -3.82361755e-01,\n",
       "       -5.58726905e-01, -5.30632474e-02, -8.11645556e-01, -3.99433960e-01,\n",
       "       -9.97378331e-01, -3.25157370e-01, -2.52638887e-01, -8.42721091e-01,\n",
       "       -8.67108165e-02, -3.52905950e-01, -1.06568572e-01, -9.49677493e-01,\n",
       "       -9.02186834e-02, -3.29087734e-01, -3.11538325e-03, -5.48780287e-01,\n",
       "       -7.15297763e-02, -9.99068786e-01, -6.01368890e-01, -9.46373869e-01,\n",
       "       -7.55851925e-01, -1.95897170e-01, -1.20238718e-01, -6.61919939e-01,\n",
       "       -5.64981601e-01, -4.09472746e-01, -4.95869901e-01, -1.06308723e-01,\n",
       "       -1.43682764e-01, -9.06455328e-01, -2.21968218e-01, -1.01200919e-01,\n",
       "       -7.27783249e-01, -8.91390273e-01, -8.58831128e-01, -2.97127895e-01,\n",
       "       -9.21795514e-01, -4.92291658e-01, -1.99650633e-01, -2.86866680e-01,\n",
       "       -7.34427686e-01, -8.32281901e-01, -2.54848770e-01, -5.96907735e-01,\n",
       "       -3.53754750e-01, -7.34169255e-01, -1.06535327e-01, -5.66588784e-01,\n",
       "       -9.25661706e-01, -7.91512954e-01, -3.40738579e-01, -6.91900990e-01,\n",
       "       -3.92058075e-01, -7.99942577e-01, -1.67143471e-01, -3.29965509e-01,\n",
       "       -6.29850424e-01, -2.12672679e-01, -8.60521887e-01, -7.26452882e-01,\n",
       "       -3.25298325e-01, -7.95692507e-01, -7.88685755e-01, -7.34508472e-01,\n",
       "       -4.60050688e-01, -5.43333226e-01, -9.08788325e-03, -2.57627756e-01,\n",
       "       -4.26242360e-01, -9.38610936e-01, -8.77428063e-01, -2.37720984e-01,\n",
       "       -7.92141959e-01, -2.03323003e-01, -4.50798752e-03, -6.46590858e-01,\n",
       "       -2.46559285e-01, -6.44855913e-01, -4.25923334e-03, -8.01688215e-01,\n",
       "       -3.51241606e-01, -8.82358233e-01, -5.87546363e-01, -1.16120399e-01,\n",
       "       -3.71203545e-01, -6.05568570e-01, -3.56281142e-01, -2.79843899e-01,\n",
       "       -1.59501048e-01, -3.75301755e-01, -8.79223388e-01, -3.17825391e-01,\n",
       "       -5.31514216e-01, -4.62329304e-01, -8.52880248e-01, -3.70351149e-01,\n",
       "       -6.38532572e-01, -9.97276676e-01, -3.32986588e-01, -8.90786786e-01,\n",
       "       -7.98135069e-01, -2.62995150e-01, -6.82935936e-01, -5.14463248e-01,\n",
       "       -7.04296585e-01, -8.92505780e-01, -5.66133523e-01, -4.90368507e-01,\n",
       "       -6.78060911e-01, -4.23022918e-01, -2.51596709e-01, -2.27591695e-01,\n",
       "       -4.98400022e-01, -6.85639107e-01, -6.15421061e-01, -5.71891641e-02,\n",
       "       -5.17362783e-01, -6.03618338e-01, -5.43447544e-02, -7.28108274e-01,\n",
       "       -4.32384273e-01, -3.92491216e-01, -7.08466983e-01, -6.33110103e-01,\n",
       "       -6.39986700e-01, -6.07964818e-01, -8.09040961e-01, -1.64669874e-01,\n",
       "       -3.34203452e-01, -1.76758145e-01, -6.85069804e-01, -8.31298316e-02,\n",
       "       -4.47628505e-01, -9.44238912e-02, -3.34678977e-02, -4.25134493e-01,\n",
       "       -8.55598386e-01, -7.72375581e-01, -6.54673926e-01, -3.83484320e-02,\n",
       "       -2.21331920e-01, -7.42969109e-01, -4.72078642e-01, -1.65033310e-01,\n",
       "       -7.02669625e-01, -1.15653943e-01, -8.78682666e-01, -9.29764385e-01,\n",
       "       -1.98240327e-01, -1.05224860e-01, -5.26630046e-01, -4.32608017e-01,\n",
       "       -5.63384638e-02, -8.88630176e-01, -6.56537718e-01, -9.75783768e-01,\n",
       "       -6.05869193e-01, -7.18878877e-01, -7.59147750e-01, -8.10956642e-01,\n",
       "       -8.18086473e-01, -7.08220866e-01, -2.15653896e-01, -4.64954423e-01,\n",
       "       -1.23086830e-02, -5.55644030e-01, -1.53715364e-01, -9.39451439e-01,\n",
       "       -7.44161753e-01, -6.17514357e-01, -6.40920759e-01, -7.46106810e-01,\n",
       "       -8.01569703e-03, -9.97163113e-01, -3.23066217e-01, -3.27985949e-02,\n",
       "       -9.42096284e-02, -5.66894641e-01, -1.29854181e-01, -3.58925312e-01,\n",
       "       -6.04643427e-01, -2.14362091e-01, -5.89049883e-01, -1.49901463e-01,\n",
       "       -3.31899428e-01, -8.58294454e-02, -1.87295481e-01, -9.36432063e-01,\n",
       "       -8.96575086e-01, -5.25078087e-01, -6.08985695e-02, -5.15754188e-01,\n",
       "       -6.86265822e-01, -6.91662067e-01, -5.54446883e-01, -6.76556267e-01,\n",
       "       -3.09945338e-01, -4.03294504e-01, -6.56078069e-01, -2.69587849e-01,\n",
       "       -8.17970885e-01, -9.79432150e-01, -9.64821363e-01, -9.38205364e-01,\n",
       "       -9.48750806e-01, -1.66628185e-01, -2.26842676e-01, -8.08236849e-01,\n",
       "       -7.17992266e-01, -2.43698543e-01, -3.23196720e-01, -3.43547529e-01,\n",
       "       -6.87690757e-01, -7.49645217e-01, -3.95803767e-01, -5.28756169e-01,\n",
       "       -9.33532549e-01, -2.23718014e-01, -8.15768520e-01, -4.65677361e-02,\n",
       "       -5.07854993e-01, -2.62502443e-01, -2.93093280e-01, -3.12550771e-01,\n",
       "       -5.58054565e-01, -2.35412235e-01, -1.60312333e-01, -6.16578293e-01,\n",
       "       -7.13043633e-01, -9.30428378e-01, -2.58527581e-01, -5.45844690e-01,\n",
       "       -6.87130372e-01, -1.68196431e-01, -5.23711752e-01, -4.87660115e-01,\n",
       "       -2.49557498e-01, -5.29401201e-01, -1.93080932e-01, -2.96025403e-01,\n",
       "       -4.15904889e-01, -1.54217572e-01, -5.99188318e-01, -7.76069387e-01,\n",
       "       -3.51025724e-01, -5.40031473e-02, -5.66957356e-01, -8.43780510e-01,\n",
       "       -1.58103919e-01, -4.20815187e-01, -2.02903168e-01, -7.16543005e-02,\n",
       "       -6.01193748e-02, -8.72552906e-01, -3.20404473e-03, -6.87558355e-02,\n",
       "       -4.48660798e-01, -4.44630426e-01, -9.77383528e-01, -2.35109362e-01,\n",
       "       -3.42399273e-01, -5.76799415e-01, -2.55478588e-01, -6.29766263e-01,\n",
       "       -7.46607821e-01, -1.15089889e-01, -5.09435685e-01, -5.72706723e-01,\n",
       "       -8.94541452e-02, -3.94938209e-01, -5.63649580e-01, -3.51912828e-01,\n",
       "       -7.36754146e-01, -2.44836421e-01, -9.31986861e-01, -9.62964890e-01,\n",
       "       -8.58786654e-01, -3.46976664e-02, -1.83484696e-01, -7.63619268e-01,\n",
       "       -4.20541053e-01, -1.17888514e-01, -7.25469196e-01, -4.33259979e-01,\n",
       "       -3.93135387e-01, -9.57730363e-01, -1.84622355e-01, -6.95885781e-01,\n",
       "       -9.76940908e-01, -9.16109055e-01, -8.93050522e-01, -1.58019995e-01,\n",
       "       -6.38789295e-01, -5.75954244e-01, -8.28478463e-01, -4.92071281e-01,\n",
       "       -7.55338837e-01, -9.58221738e-01, -7.66374013e-01, -6.26365820e-01,\n",
       "       -4.57790826e-01, -2.92313605e-01, -2.21233744e-01, -4.23894134e-01,\n",
       "       -4.27739801e-01, -5.76037391e-01, -8.55864303e-01, -7.43768010e-02,\n",
       "       -3.18112473e-01, -6.91430052e-01, -3.78827223e-02, -3.93506559e-02,\n",
       "       -4.53965283e-01, -8.83204313e-01, -1.50776281e-02, -8.16401929e-01,\n",
       "       -2.64803892e-02, -2.91992794e-01, -1.51926065e-01, -9.23261596e-01,\n",
       "       -2.25446765e-01, -7.98999253e-01, -2.39007081e-01, -6.07973785e-01,\n",
       "       -6.74777617e-01, -5.77798037e-01, -8.74591950e-01, -8.49787771e-01,\n",
       "       -2.72069571e-01, -2.40322615e-01, -5.18650220e-01, -1.73579935e-01,\n",
       "       -7.57151493e-01, -8.89058520e-01, -3.74760661e-01, -8.25501671e-01,\n",
       "       -7.09211764e-01, -8.72709460e-01, -4.98234398e-01, -6.98362554e-01,\n",
       "       -4.62581259e-01, -6.39529171e-01, -3.15980396e-01, -8.12516262e-01,\n",
       "       -2.96005236e-02, -7.60046199e-01, -7.61522971e-01, -5.90942857e-01,\n",
       "       -5.66444643e-01, -9.11315912e-01, -9.09326631e-03, -2.66921046e-02,\n",
       "       -4.86263857e-02, -3.38209290e-01, -5.18199118e-01, -1.55712102e-01,\n",
       "       -9.71926867e-01, -6.22458041e-01, -7.06883072e-01, -4.67139430e-01,\n",
       "       -8.00329284e-01, -4.41297694e-01, -8.70623932e-02, -4.38191717e-01,\n",
       "       -1.09358360e-01, -4.42379722e-01, -2.53912122e-01, -1.81181154e-01,\n",
       "       -5.04404284e-01, -1.31872045e-02, -3.94589070e-01, -6.86682746e-01,\n",
       "       -2.12714209e-01, -6.72202748e-01, -9.75920484e-02, -4.50800804e-01,\n",
       "       -9.97409877e-01, -4.07094186e-02, -1.24020141e-01, -6.27596145e-01,\n",
       "       -4.46290992e-01, -9.58273972e-01, -4.69386729e-01, -6.38773002e-01,\n",
       "       -4.63548295e-01, -3.77964303e-01, -6.51041551e-01, -5.41217195e-02,\n",
       "       -3.45737276e-01, -7.82759988e-01, -6.96260749e-01, -3.98056596e-01,\n",
       "       -5.60618891e-01, -5.02558221e-01, -3.21180382e-02, -2.60402481e-01,\n",
       "       -6.87289624e-01, -2.66985868e-01, -1.32813586e-01, -7.90000606e-02,\n",
       "       -8.93104963e-01, -2.26120441e-01, -5.55405239e-01, -9.00619403e-01,\n",
       "       -9.74162492e-01, -5.74689521e-01, -9.83902025e-01, -5.09319134e-01,\n",
       "       -2.46822703e-01, -2.43507799e-01, -5.09597155e-01, -1.31885459e-01,\n",
       "       -4.94178470e-01, -2.13298417e-01, -1.73782483e-01, -1.17700443e-01,\n",
       "       -7.33613608e-01, -9.16261319e-01, -2.45186766e-01, -3.03041158e-01,\n",
       "       -4.45134932e-01, -5.54607018e-01, -8.45145392e-02, -3.43405989e-01,\n",
       "       -3.25514553e-01, -1.42562113e-01, -1.83402336e-01, -9.32704417e-01,\n",
       "       -7.08334441e-01, -3.79379539e-01, -9.06215304e-01, -3.67031892e-01,\n",
       "       -4.15858606e-02, -1.10291571e-01, -9.78346362e-01, -1.08604444e-01,\n",
       "       -9.07867002e-01, -5.63889420e-01, -6.53300181e-01, -8.22271880e-01,\n",
       "       -3.92475663e-01, -3.34191640e-02, -2.69674958e-01, -9.74637989e-01,\n",
       "       -3.34300841e-01, -3.68370812e-01, -9.56528809e-01, -3.95244217e-01,\n",
       "       -3.52169591e-01, -6.88424273e-01, -3.72392922e-02, -4.69982931e-01,\n",
       "       -7.80814517e-01, -6.37778355e-01, -8.81222607e-01, -6.14691865e-01,\n",
       "       -1.06764373e-01, -2.15082939e-01, -3.79696261e-01, -7.00999624e-02,\n",
       "       -5.88740519e-01, -6.11910226e-01, -2.22573328e-01, -9.18618267e-01,\n",
       "       -5.83210702e-01, -1.27697948e-01, -1.60444767e-01, -2.30495547e-01,\n",
       "       -5.08564054e-01, -6.44516877e-01, -5.50643308e-01, -6.15947713e-01,\n",
       "       -2.02253686e-01, -7.72384097e-01, -2.38707004e-01, -9.70190462e-01,\n",
       "       -2.48360148e-02, -1.65346904e-01, -9.55410037e-01, -9.58078117e-01,\n",
       "       -8.31286509e-01, -3.92813941e-01, -3.52629208e-01, -6.94130881e-01,\n",
       "       -5.56392481e-01, -8.17150549e-01, -4.31753697e-01, -5.45528207e-01,\n",
       "       -9.79543181e-01, -6.86054070e-01, -7.30745632e-01, -9.64860357e-01,\n",
       "       -7.33688760e-01, -6.57106865e-01, -2.69125713e-01, -3.69120333e-01,\n",
       "       -8.02647279e-01, -3.50451990e-01, -6.86941260e-01, -2.68975414e-01,\n",
       "       -7.72664336e-01, -7.49985057e-01, -6.65414686e-01, -6.84835605e-01,\n",
       "       -6.02662415e-01, -2.27620722e-01, -9.58147101e-01, -1.85192311e-01,\n",
       "       -8.27961341e-01, -9.75071222e-01, -7.21175295e-01, -4.82486519e-01,\n",
       "       -8.79633003e-01, -5.30842285e-01, -3.45561823e-02, -1.01493445e-01,\n",
       "       -4.68965455e-01, -2.96782264e-01, -2.49434643e-01, -8.71158280e-01,\n",
       "       -4.91307408e-01, -8.81986829e-01, -5.83366152e-01, -1.69102989e-02,\n",
       "       -2.67872022e-01, -9.38690666e-01, -2.78112770e-01, -4.16276816e-01,\n",
       "       -7.49368746e-01, -7.62346226e-02, -1.92199233e-01, -6.34106773e-01,\n",
       "       -2.29830696e-02, -1.93846057e-01, -5.40147037e-02, -8.15408241e-01,\n",
       "       -3.25276199e-01, -5.86414668e-01, -8.48060530e-01, -1.90067697e-01,\n",
       "       -4.25839034e-01, -1.86032047e-01, -9.37084379e-02, -1.05125353e-01,\n",
       "       -5.34410607e-01, -7.02499983e-01, -5.59593097e-01, -6.66343857e-01,\n",
       "       -8.64219558e-02, -9.89479853e-01, -3.50110969e-01, -6.49257877e-01,\n",
       "       -5.00409624e-01, -7.19369751e-01, -7.54980521e-01, -1.76644201e-01,\n",
       "       -7.63990005e-01, -6.80825421e-01, -2.32791879e-01, -9.72996424e-01,\n",
       "       -8.67701000e-01, -7.18777783e-02, -1.98120385e-01, -9.78052764e-01,\n",
       "       -5.29735791e-01, -3.29293550e-01, -4.02909825e-01, -9.86730337e-02,\n",
       "       -3.52921374e-02, -7.49483237e-01, -2.82453915e-01, -5.49231645e-01,\n",
       "       -6.52166553e-01, -1.84332225e-02, -8.38524653e-01, -8.50599475e-01,\n",
       "       -9.67537579e-01, -1.45755155e-01, -7.02415857e-01, -5.34044862e-01,\n",
       "       -3.15327306e-01, -5.97036629e-01, -5.82418708e-01, -7.60955960e-01,\n",
       "       -7.64934078e-01, -4.81629697e-01, -6.25500145e-01, -6.67669787e-01,\n",
       "       -5.52193184e-01, -7.25524419e-01, -1.96050110e-01, -2.10860592e-01,\n",
       "       -5.31134646e-01, -5.17188530e-01, -1.66228285e-01, -3.63429073e-01,\n",
       "       -5.41461450e-01, -1.23037013e-01, -7.73308802e-01, -3.09884964e-01,\n",
       "       -5.54686627e-01, -3.80869052e-01, -8.34629113e-01, -5.30209524e-01,\n",
       "       -5.54710491e-01, -3.29107721e-01, -2.14584808e-01, -5.58001005e-01,\n",
       "       -4.58084553e-01, -7.36035972e-01, -6.06043430e-01, -5.65942516e-02,\n",
       "       -4.27961097e-01, -2.77141830e-01, -1.16213373e-01, -7.16945887e-01,\n",
       "       -4.47907225e-01, -2.82788758e-01, -3.33437352e-01, -7.45203025e-01,\n",
       "       -2.47483074e-01, -3.20833370e-01, -4.34894882e-01, -9.22930411e-01,\n",
       "       -7.77420731e-01, -5.91267937e-01, -4.16247783e-01, -7.54991607e-01,\n",
       "       -9.51259364e-01, -9.77848411e-01, -2.72801663e-01, -4.76436672e-01,\n",
       "       -6.50596200e-01, -2.04117267e-01, -9.92516916e-01, -1.03284298e-01,\n",
       "       -1.63775181e-01, -5.21157975e-01, -9.23969339e-01, -7.83605122e-01,\n",
       "       -3.68358090e-01, -2.76762297e-01, -4.60284500e-02, -4.36914887e-01,\n",
       "       -9.59002919e-01, -3.10914086e-01, -3.09460292e-01, -9.99274824e-01,\n",
       "       -4.58044528e-01, -2.60808934e-01, -8.22907113e-02, -4.44095948e-01,\n",
       "       -6.39460144e-01, -4.13444139e-01, -3.84779088e-01, -9.98212436e-01,\n",
       "       -5.78370686e-01, -2.73668421e-01, -1.84269669e-01, -7.24806454e-01,\n",
       "       -1.87546973e-01, -1.85030539e-01, -4.63045648e-01, -1.26901706e-01,\n",
       "       -4.49322899e-01, -1.36796795e-01, -8.57393855e-02, -5.71822282e-01,\n",
       "       -7.09415715e-01, -2.64014747e-01, -5.24146022e-01, -4.53510483e-01,\n",
       "       -3.15324226e-02, -3.03687454e-01, -7.75930707e-01, -4.50440932e-01,\n",
       "       -6.67826333e-01, -3.37806976e-01, -6.42916052e-01, -2.47358306e-01,\n",
       "       -5.90056366e-01, -1.42860525e-02, -2.33682374e-01, -5.68176326e-01,\n",
       "       -1.94788391e-01, -1.67300921e-01, -5.06205471e-01, -2.55135033e-01,\n",
       "       -8.59637562e-01, -4.58961705e-01, -7.00754006e-01, -2.99583875e-01,\n",
       "       -3.04714719e-01, -5.35535923e-01, -9.58452180e-01, -1.63531919e-01,\n",
       "       -6.42574536e-01, -7.18632096e-01, -1.66245964e-01, -7.80785293e-01,\n",
       "       -1.35633933e-01, -8.12838168e-01, -1.63656815e-01, -4.11078827e-01,\n",
       "       -5.34044431e-01, -8.06566709e-01, -9.30849461e-01, -1.83310476e-01,\n",
       "       -6.15307169e-01, -7.03262299e-01, -6.84530214e-01, -9.07390790e-01,\n",
       "       -4.73356503e-01, -9.76087103e-01, -8.16072352e-01, -2.64333038e-01,\n",
       "       -7.19941653e-01, -5.23232387e-01, -9.76766765e-01, -9.50108298e-03,\n",
       "       -9.72929146e-01, -3.74595308e-01, -7.99699445e-01, -4.98194455e-01,\n",
       "       -4.41737671e-01, -9.78328086e-01, -5.57547409e-01, -7.14453103e-02,\n",
       "       -5.89903594e-01, -6.14989548e-01, -5.83697435e-01, -7.61127062e-01,\n",
       "       -6.24634072e-01, -9.11706926e-01, -8.07273985e-04, -8.79350751e-01,\n",
       "       -8.96105658e-01, -9.33739699e-01, -7.61379776e-01, -3.12237862e-01,\n",
       "       -7.15603564e-01, -4.83947291e-01, -5.15670435e-01, -8.22111151e-01,\n",
       "       -8.71924898e-01, -1.23333994e-01, -5.64212052e-01, -3.98737296e-01,\n",
       "       -6.11614540e-02, -6.05835164e-01, -2.52833426e-02, -3.50951956e-01,\n",
       "       -6.67849824e-01, -1.50179683e-02, -8.48849526e-01, -3.44570476e-01,\n",
       "       -2.27375772e-02, -1.87367437e-01, -9.73317834e-01, -7.76319813e-01,\n",
       "       -4.35002264e-01, -5.53616228e-01, -4.83341348e-01, -6.79044228e-01,\n",
       "       -2.65005088e-01, -8.63069111e-01, -3.80451611e-01, -5.02439246e-01,\n",
       "       -8.20229938e-01, -5.71659226e-01, -3.08692948e-01, -8.39340014e-01,\n",
       "       -7.67566836e-02, -6.15105399e-01, -6.65343605e-01, -1.04153147e-02,\n",
       "       -8.23092040e-01, -2.66373492e-01, -4.34596959e-01, -5.96495791e-01])"
      ]
     },
     "execution_count": 34,
     "metadata": {},
     "output_type": "execute_result"
    }
   ],
   "source": [
    "np.random.uniform(-1, 0, 1000)\n"
   ]
  },
  {
   "cell_type": "markdown",
   "metadata": {},
   "source": [
    "Unlike, function np.random.rand, np.random.uniform allows us to pass as arguments the range of values to be included. \n",
    "\n"
   ]
  },
  {
   "cell_type": "code",
   "execution_count": 35,
   "metadata": {},
   "outputs": [
    {
     "data": {
      "text/plain": [
       "array([76.37215552, 36.10913377, 52.45910343, 53.4486609 , 30.52850408,\n",
       "       55.31231339, 44.41516666, 89.67992283, 13.40383723, 38.20705497,\n",
       "       61.01931199, 96.08668431, 45.63681099, 61.83090604, 19.42370813,\n",
       "       99.59336418, 72.79992945, 72.49183853, 56.00911148, 18.63578628,\n",
       "       52.1475755 , 71.46609738, 84.80856265, 60.81570642, 17.9517941 ,\n",
       "       52.75592398, 42.37608019, 77.55844556, 22.11457196, 71.35198805,\n",
       "       38.49270887, 44.97912336, 47.38547142, 53.60068769, 19.56040907,\n",
       "       42.47091578, 60.04546774, 22.92403264, 43.1512451 , 19.18227173,\n",
       "       53.18984389, 62.54327957, 32.68468097, 62.84751966, 41.19457839,\n",
       "       88.90705487, 30.16426306, 19.44431642, 16.47791678, 84.15118822,\n",
       "       47.47083562, 23.57268303, 17.43241137, 97.68509529, 93.37581087,\n",
       "       31.2682889 , 81.02882943, 41.47476035, 76.29087417, 99.96119286,\n",
       "       17.54113129, 13.59915778, 37.39943255, 46.73897754, 20.31163743,\n",
       "       96.13376556, 44.90455181, 76.32604802, 54.18899653, 89.5919563 ,\n",
       "       87.24557545, 33.7804203 , 82.5998215 , 31.26022813, 39.30621733,\n",
       "       38.79631741, 67.88878844, 51.31424489, 18.05078936, 67.35182856,\n",
       "       86.34831002, 24.3620557 , 59.44503787, 25.21873722, 44.58967963,\n",
       "       61.07508042, 29.69857501, 58.37864381, 10.36262106, 66.7386346 ,\n",
       "       77.52369071, 33.35481314, 99.73184762, 67.80534239, 87.14459213,\n",
       "       98.20068659, 37.92705947, 86.31466915, 11.42280352, 24.51763335,\n",
       "       63.28257346, 99.86626442, 66.3745647 , 38.70838512, 36.20495523,\n",
       "       93.08243402, 39.64578562, 50.93206409, 70.26763836, 38.38524042,\n",
       "       42.20394892, 45.70724222, 48.83093342, 86.72349654, 50.37688406,\n",
       "       96.77283327, 68.75462073, 88.88629163, 29.96292046, 69.32977651,\n",
       "       50.20705718, 92.30611667, 39.79882758, 61.78086359, 64.97415489,\n",
       "       65.02062056, 60.62812234, 75.8159833 , 32.43998112, 78.16640674,\n",
       "       47.76533606, 12.9915998 , 46.76419549, 31.50209182, 55.7755237 ,\n",
       "       17.489963  , 88.6510129 , 55.6481155 , 16.38291401, 67.31973675,\n",
       "       29.25513194, 63.77393921, 76.18077891, 52.13186672, 54.11816494,\n",
       "       28.4124452 , 53.9838163 , 89.57593298, 90.74721625, 13.95048411,\n",
       "       47.01309563, 28.26557833, 80.38892857, 35.82482028, 42.54456601,\n",
       "       98.11396727, 65.84100163, 78.94188622, 54.33173435, 65.21814739,\n",
       "       62.62307439, 44.77405745, 39.2433301 , 14.18474329, 61.77811928,\n",
       "       27.29460362, 27.08169105, 86.62869713, 38.17944915, 27.13770101,\n",
       "       94.60442448, 84.37049925, 60.76022909, 19.75957474, 67.85230644,\n",
       "       29.95189642, 54.04405472, 79.91049493, 44.91237585, 97.89205379,\n",
       "       54.94137348, 54.08026619, 84.20259929, 92.72798651, 31.23761784,\n",
       "       28.43933552, 87.42827642, 87.41832578, 27.51063529, 91.41900207,\n",
       "       60.03770636, 55.25739169, 15.93642476, 25.41278955, 20.7904367 ,\n",
       "       12.39065278, 19.59958451, 15.00170513, 49.32210469, 50.09287363])"
      ]
     },
     "execution_count": 35,
     "metadata": {},
     "output_type": "execute_result"
    }
   ],
   "source": [
    "x = np.random.uniform(10, 100, 200)\n",
    "\n",
    "x"
   ]
  },
  {
   "cell_type": "code",
   "execution_count": 36,
   "metadata": {},
   "outputs": [
    {
     "data": {
      "image/png": "[encoded data removed]",
      "text/plain": [
       "<Figure size 432x288 with 1 Axes>"
      ]
     },
     "metadata": {
      "needs_background": "light"
     },
     "output_type": "display_data"
    }
   ],
   "source": [
    "x = np.random.uniform(-1, 0, 1000)\n",
    "\n",
    "plt.hist(x)\n",
    "plt.show()"
   ]
  },
  {
   "cell_type": "markdown",
   "metadata": {},
   "source": [
    "## **3.2 Normal Distribution**  \n",
    "\n",
    "The NumPy normal distributions draws random samples from a normal (Gaussian) distribution (NumPy, Undatede).  The numpy.random.normal function creates a NumPy array that contains normally distributed data. Normally distributed data is shaped almost like a bell and is therefore often called the 'bell curve'.\n",
    "\n",
    "There are three parameters in the NumPy normal function: loc, scale and size. \n",
    "- the loc parameters sets the mean of the data. The default is zero.\n",
    "- the scale parameter sets the standard deviation of the data. The default is 1.\n",
    "- the size parameter determines the size and  the shape of the output.\n",
    "\n",
    "So to begin with, lets create an array with 1000 values with a mean of 50 and visualize this information."
   ]
  },
  {
   "cell_type": "code",
   "execution_count": 37,
   "metadata": {},
   "outputs": [
    {
     "data": {
      "image/png": "[encoded data removed]",
      "text/plain": [
       "<Figure size 432x288 with 1 Axes>"
      ]
     },
     "metadata": {
      "needs_background": "light"
     },
     "output_type": "display_data"
    }
   ],
   "source": [
    "x = np.random.normal(size = 1000, loc = 50)\n",
    "plt.hist(x)\n",
    "plt.show()\n"
   ]
  },
  {
   "cell_type": "markdown",
   "metadata": {},
   "source": [
    "We can see from the array created that the values center around 50.  Lets change the mean of the data from 50 to 0 by removing parameter loc = 50. NumPy will then use the fault of zero. "
   ]
  },
  {
   "cell_type": "code",
   "execution_count": 38,
   "metadata": {
    "scrolled": true
   },
   "outputs": [
    {
     "data": {
      "image/png": "[encoded data removed]",
      "text/plain": [
       "<Figure size 432x288 with 1 Axes>"
      ]
     },
     "metadata": {
      "needs_background": "light"
     },
     "output_type": "display_data"
    }
   ],
   "source": [
    "x = np.random.normal(size = 1000)\n",
    "plt.hist(x)\n",
    "plt.show()"
   ]
  },
  {
   "cell_type": "markdown",
   "metadata": {},
   "source": [
    "The data now centers around 0. Now lets change the value of the scale from the default value of 1 to 10 i.e. change the standard deviation from 1 to 10."
   ]
  },
  {
   "cell_type": "code",
   "execution_count": 39,
   "metadata": {},
   "outputs": [
    {
     "data": {
      "image/png": "[encoded data removed]",
      "text/plain": [
       "<Figure size 432x288 with 1 Axes>"
      ]
     },
     "metadata": {
      "needs_background": "light"
     },
     "output_type": "display_data"
    }
   ],
   "source": [
    "x = np.random.normal(size = 1000, scale = 10)\n",
    "plt.hist(x)\n",
    "plt.show()"
   ]
  },
  {
   "cell_type": "markdown",
   "metadata": {},
   "source": [
    "Now the data (the 1000 randomly centered numbers) centres around one with most of the data is within +10 or -10."
   ]
  },
  {
   "cell_type": "markdown",
   "metadata": {},
   "source": [
    " ## **3.3 Binomial Distribution**  \n",
    " \n",
    "Unlike a Normal Distribution, a Binomial distribution is discrete.  It is not possible to find a data value between data values. \n",
    "Samples are drawn from a binomial distribution with specified parameters, n trials and p probability of success where n an integer >= 0 and p is in the interval [0,1]. (n may be input as a float, but it is truncated to an integer in use). In other words N is the number of trials and there are only two possible outcomes in a trial.  P is probability of a sucessful/positive outcome. \n",
    "\n",
    "A Binomial Distribution must answer Yes to all of the following questions. Lets apply these questions to the example of flipping a coin.\n",
    "\n",
    "Is there a set number of trials? Yes. Represented as n below.\n",
    "Are there only two possible outcomes? Yes. Only heads/tails can result. Note the outcomes have equal probability here as they are represented as 0.5. \n",
    "Are the outcomes of one trial independent of all other trials? Yes the result of one trial has no impact on the next trial. The coin remains the same throughout the trails & tests.\n",
    "Does the probability of success remain the same throught the trail?  Yes.   \n",
    "\n",
    " \n"
   ]
  },
  {
   "cell_type": "code",
   "execution_count": 40,
   "metadata": {},
   "outputs": [
    {
     "data": {
      "image/png": "[encoded data removed]",
      "text/plain": [
       "<Figure size 432x288 with 1 Axes>"
      ]
     },
     "metadata": {
      "needs_background": "light"
     },
     "output_type": "display_data"
    }
   ],
   "source": [
    "\n",
    "\n",
    "n, p = 10, 0.5  # number of trials, probability of each trial \n",
    "s = np.random.binomial(n, p, 1000)\n",
    "# result of flipping a coin 10 times, tested 1000 times.\n",
    "plt.hist(s)\n",
    "plt.show()\n",
    "\n"
   ]
  },
  {
   "cell_type": "code",
   "execution_count": 41,
   "metadata": {},
   "outputs": [
    {
     "data": {
      "image/png": "[encoded data removed]",
      "text/plain": [
       "<Figure size 432x288 with 1 Axes>"
      ]
     },
     "metadata": {
      "needs_background": "light"
     },
     "output_type": "display_data"
    }
   ],
   "source": [
    "n, p = 10, 0.5  # number of trials, probability of each trial \n",
    "s = np.random.binomial(n, p, 20)\n",
    "# result of flipping a coin 10 times, tested 1000 times.\n",
    "plt.hist(s)\n",
    "plt.show()"
   ]
  },
  {
   "cell_type": "markdown",
   "metadata": {},
   "source": [
    " ## **3.4 random.chisquare Distribution**  \n",
    " \n",
    "'The chi-square statistical test is used to determine whether there’s a significant difference between an expected distribution and an actual distribution'(Huneycutt, 2018). The python NumPy function np.random.chisquare generates samples from the chi-squared distribution.  In the following example the function generates 10000 sample values. The parameter degree of freedom is set to 0.1 and we can see only  "
   ]
  },
  {
   "cell_type": "code",
   "execution_count": 42,
   "metadata": {},
   "outputs": [
    {
     "data": {
      "text/plain": [
       "(array([7.609e+03, 1.412e+03, 5.500e+02, 2.340e+02, 9.500e+01, 4.700e+01,\n",
       "        2.300e+01, 2.000e+01, 9.000e+00, 1.000e+00]),\n",
       " array([7.38066789e-10, 1.38142240e+00, 2.76284480e+00, 4.14426720e+00,\n",
       "        5.52568960e+00, 6.90711200e+00, 8.28853441e+00, 9.66995681e+00,\n",
       "        1.10513792e+01, 1.24328016e+01, 1.38142240e+01]),\n",
       " <a list of 10 Patch objects>)"
      ]
     },
     "execution_count": 42,
     "metadata": {},
     "output_type": "execute_result"
    },
    {
     "data": {
      "image/png": "[encoded data removed]",
      "text/plain": [
       "<Figure size 432x288 with 1 Axes>"
      ]
     },
     "metadata": {
      "needs_background": "light"
     },
     "output_type": "display_data"
    }
   ],
   "source": [
    "x = np.random.chisquare(1,10000)\n",
    "x\n",
    "plt.hist(x)\n"
   ]
  },
  {
   "cell_type": "code",
   "execution_count": 43,
   "metadata": {},
   "outputs": [
    {
     "data": {
      "text/plain": [
       "(array([4607., 3099., 1396.,  562.,  192.,   83.,   36.,   15.,    5.,\n",
       "           5.]),\n",
       " array([3.13089565e-03, 2.14336937e+00, 4.28360785e+00, 6.42384632e+00,\n",
       "        8.56408480e+00, 1.07043233e+01, 1.28445617e+01, 1.49848002e+01,\n",
       "        1.71250387e+01, 1.92652772e+01, 2.14055157e+01]),\n",
       " <a list of 10 Patch objects>)"
      ]
     },
     "execution_count": 43,
     "metadata": {},
     "output_type": "execute_result"
    },
    {
     "data": {
      "image/png": "[encoded data removed]",
      "text/plain": [
       "<Figure size 432x288 with 1 Axes>"
      ]
     },
     "metadata": {
      "needs_background": "light"
     },
     "output_type": "display_data"
    }
   ],
   "source": [
    "x = np.random.chisquare(3,10000)\n",
    "x\n",
    "plt.hist(x)"
   ]
  },
  {
   "cell_type": "markdown",
   "metadata": {},
   "source": [
    "The greater the value of parameter degree of freedom entered the further away from a chi square curve we move and the closer we move towards a normal distribution."
   ]
  },
  {
   "cell_type": "code",
   "execution_count": 44,
   "metadata": {},
   "outputs": [
    {
     "data": {
      "text/plain": [
       "(array([7.054e+03, 1.609e+03, 6.640e+02, 3.180e+02, 1.770e+02, 8.900e+01,\n",
       "        4.700e+01, 2.100e+01, 1.400e+01, 7.000e+00]),\n",
       " array([1.46559521e-08, 1.13207590e+00, 2.26415178e+00, 3.39622766e+00,\n",
       "        4.52830354e+00, 5.66037942e+00, 6.79245530e+00, 7.92453118e+00,\n",
       "        9.05660706e+00, 1.01886829e+01, 1.13207588e+01]),\n",
       " <a list of 10 Patch objects>)"
      ]
     },
     "execution_count": 44,
     "metadata": {},
     "output_type": "execute_result"
    },
    {
     "data": {
      "image/png": "[encoded data removed]",
      "text/plain": [
       "<Figure size 432x288 with 1 Axes>"
      ]
     },
     "metadata": {
      "needs_background": "light"
     },
     "output_type": "display_data"
    }
   ],
   "source": [
    "a = np.random.chisquare(0.1,10000)\n",
    "plt.hist(a)\n",
    "b = np.random.chisquare(1,10000)\n",
    "plt.hist(b)"
   ]
  },
  {
   "cell_type": "code",
   "execution_count": 45,
   "metadata": {},
   "outputs": [
    {
     "data": {
      "image/png": "[encoded data removed]",
      "text/plain": [
       "<Figure size 432x288 with 1 Axes>"
      ]
     },
     "metadata": {
      "needs_background": "light"
     },
     "output_type": "display_data"
    }
   ],
   "source": [
    "#Adapted from http://python-ds.com/python-chi-square-test\n",
    "from scipy import stats\n",
    "import matplotlib.pyplot as plt\n",
    "x = np.linspace(0, 10, 100)\n",
    "fig,ax = plt.subplots(1,1)\n",
    "linestyles = [':', '--', '-.', '-']\n",
    "deg_of_freedom = [0.1, 1, 3, 5]\n",
    "for df, ls in zip(deg_of_freedom, linestyles):\n",
    "  ax.plot(x, stats.chi2.pdf(x, df), linestyle=ls, label = df)\n",
    "\n",
    "\n",
    "plt.xlim(0, 10)\n",
    "plt.ylim(0, 0.4)\n",
    "\n",
    "plt.xlabel('Value')\n",
    "plt.ylabel('Frequency')\n",
    "plt.title('Chi-Square Distribution')\n",
    "\n",
    "plt.legend()\n",
    "plt.show()\n",
    "\n",
    "\n"
   ]
  },
  {
   "cell_type": "markdown",
   "metadata": {},
   "source": [
    " ## **3.4 another Distribution**  \n",
    "    "
   ]
  },
  {
   "cell_type": "code",
   "execution_count": null,
   "metadata": {},
   "outputs": [],
   "source": []
  },
  {
   "cell_type": "code",
   "execution_count": null,
   "metadata": {},
   "outputs": [],
   "source": []
  },
  {
   "cell_type": "code",
   "execution_count": null,
   "metadata": {},
   "outputs": [],
   "source": []
  },
  {
   "cell_type": "markdown",
   "metadata": {},
   "source": [
    "## 4. SEEDS\n",
    "This sections examines the use of seeds in generating random numbers. In section 1.2 numpy_random, we said pseudo-random number generators are completely deterministic and operate by algorithm. Moreover, numpy_random, through the use of seeds, makes code 'repeatable'(Sharpsight, Undated, Unpaged). \n",
    "\n",
    "If you use the same seed then you get the output. You can generate and use the same pseudo random numbers repeatedly. Thereby, making it possible to perform the same tests and yield the same results repeatedly. \n",
    "\n",
    "## 4.1 numpy.random.seed\n",
    "Lets get started by generating a pseudo random number using the between zero and one using the NumPy random random function (np.random.random) and using seed 0.\n"
   ]
  },
  {
   "cell_type": "code",
   "execution_count": 46,
   "metadata": {},
   "outputs": [
    {
     "data": {
      "text/plain": [
       "0.5488135039273248"
      ]
     },
     "execution_count": 46,
     "metadata": {},
     "output_type": "execute_result"
    }
   ],
   "source": [
    "np.random.seed(0)\n",
    "np.random.random()"
   ]
  },
  {
   "cell_type": "markdown",
   "metadata": {},
   "source": [
    "A float is generated. The random number is a probability. Now lets repeat the process using the same code and the same seed:"
   ]
  },
  {
   "cell_type": "code",
   "execution_count": 47,
   "metadata": {},
   "outputs": [
    {
     "data": {
      "text/plain": [
       "0.5488135039273248"
      ]
     },
     "execution_count": 47,
     "metadata": {},
     "output_type": "execute_result"
    }
   ],
   "source": [
    "np.random.seed(0)\n",
    "np.random.random()"
   ]
  },
  {
   "cell_type": "markdown",
   "metadata": {},
   "source": [
    "Notice exactly the same number is generated. Now lets change the seed to 67 and see what happens:"
   ]
  },
  {
   "cell_type": "code",
   "execution_count": 48,
   "metadata": {},
   "outputs": [
    {
     "data": {
      "text/plain": [
       "0.5458514299349786"
      ]
     },
     "execution_count": 48,
     "metadata": {},
     "output_type": "execute_result"
    }
   ],
   "source": [
    "np.random.seed(67)\n",
    "np.random.random()"
   ]
  },
  {
   "cell_type": "markdown",
   "metadata": {},
   "source": [
    "NumPy random generates a different random float and again we can repeat this output using the same code with the same seed 67 again."
   ]
  },
  {
   "cell_type": "code",
   "execution_count": 49,
   "metadata": {},
   "outputs": [
    {
     "data": {
      "text/plain": [
       "0.5458514299349786"
      ]
     },
     "execution_count": 49,
     "metadata": {},
     "output_type": "execute_result"
    }
   ],
   "source": [
    "np.random.seed(67)\n",
    "np.random.random()\n"
   ]
  },
  {
   "cell_type": "markdown",
   "metadata": {},
   "source": [
    "What happens if we do not deliberately set the seed number? :"
   ]
  },
  {
   "cell_type": "code",
   "execution_count": 50,
   "metadata": {},
   "outputs": [
    {
     "data": {
      "text/plain": [
       "0.858856610591359"
      ]
     },
     "execution_count": 50,
     "metadata": {},
     "output_type": "execute_result"
    }
   ],
   "source": [
    "np.random.random()"
   ]
  },
  {
   "cell_type": "markdown",
   "metadata": {},
   "source": [
    "NumPy random selects its own seed number and then a different float is generated. The code is then not repeatable as we cannot guarentee the same output each time. Therefore, for NumPy random code to be repeatable the seed must be set explicitly each time the code is run."
   ]
  },
  {
   "cell_type": "code",
   "execution_count": 51,
   "metadata": {},
   "outputs": [
    {
     "data": {
      "text/plain": [
       "0.6858925865665791"
      ]
     },
     "execution_count": 51,
     "metadata": {},
     "output_type": "execute_result"
    }
   ],
   "source": [
    "np.random.random()"
   ]
  },
  {
   "cell_type": "markdown",
   "metadata": {},
   "source": [
    "## 4.2 numpy.random.randomstate\n"
   ]
  },
  {
   "cell_type": "code",
   "execution_count": 52,
   "metadata": {},
   "outputs": [
    {
     "name": "stdout",
     "output_type": "stream",
     "text": [
      "('MT19937', array([4134032038, 4192882283, 1341233294, 2467549661, 1936768501,\n",
      "       2900988885, 3266535517,  278787930,  347390316, 1345937838,\n",
      "       1732753686, 1305636892, 3286404694, 3726750149, 2598757498,\n",
      "       4053872477, 4099156708, 1777156324, 2799165261,  257278888,\n",
      "       4225000707, 1690329298, 1701727430, 1921653126, 3166192904,\n",
      "        908234986,  543720576, 2624949186, 3179780581, 2547745503,\n",
      "       2415884732, 1618809235, 2514765401, 1092245127,  609653517,\n",
      "       2714169543, 2577523839,  450854763, 3027457514, 2778793448,\n",
      "        717976822, 1586374339, 1286905175,  792201208, 2125309294,\n",
      "       3634736206, 1121438392, 2412306816, 1706773404, 3322359739,\n",
      "       2400804609, 3692784513,  692139659,   99303778, 4270670017,\n",
      "       3651881875,  578126860,  544777177, 3674273821, 3715437264,\n",
      "        498605533, 2835676374,  315682353, 1756786500, 3708863652,\n",
      "        210004179, 2020940899,  360810528, 3809708048, 3983382620,\n",
      "        728599113, 3826173976, 2798355393,  563159752, 2758733654,\n",
      "        530552219, 1857446082, 1134593461, 1636803454, 1927213946,\n",
      "       2250665478,  878663049,  632636063, 4136620797,  159059698,\n",
      "       3382513689, 1720357966,  633568434,  157833259, 3285413703,\n",
      "        443785368,  878272178, 1362097858, 1231556512, 4158240704,\n",
      "        755518743, 3061302316, 1578655150, 1830408330,  200134652,\n",
      "       1172675216,  643970367, 1912108237, 2674970493, 1348885500,\n",
      "       1998105867, 1214589700, 3583417434,  195861941, 2598792648,\n",
      "       1329850789, 1617843845, 4151787690,  227097733, 1602893315,\n",
      "       2331762676, 2078525784, 3450935657, 2399882889, 1949229419,\n",
      "       4000190980, 2841131215, 3821716818, 3461662567, 2588602251,\n",
      "        506331164, 1040716611, 1604737562, 1767476075,  187723653,\n",
      "       3908521730, 3901941022, 4210158240, 1672455142, 3519212148,\n",
      "        190809494, 2367009469,  120231033, 3172508213, 2983984784,\n",
      "       1153878032, 3854559961, 3359975600, 2618846923, 4170620349,\n",
      "        645056870, 4061747740, 1808776881, 3323664788, 3161533075,\n",
      "        301556309, 3083056277, 1724131603, 3450590143,   75419824,\n",
      "       1584953770, 3153072013, 3842113681,   52124869, 3811714369,\n",
      "       2767158249,  529051911, 3964513547, 4288484787, 2219053244,\n",
      "       3445612469, 2148365990, 2211642204, 2749517898, 1263205072,\n",
      "        483482418, 3123323816, 3904311289, 1613675655, 3018946223,\n",
      "       3885219229, 3795657722, 1326756692, 4225086457, 1399553133,\n",
      "        570232495, 1660798729, 2021651328, 1587746689, 2409424677,\n",
      "       2899523654, 3541627531, 2653303982, 2684547172, 2533565380,\n",
      "       2809811690,  767061593, 3918906101, 3046712487, 3900009985,\n",
      "       2143852656, 3550291934, 3375655697, 1379366953, 2171763077,\n",
      "       2006732679, 2388170904,  140466876, 1184612651, 3052218135,\n",
      "        849387131, 1348624989,  752342124, 2250421314, 1054648422,\n",
      "       2469171028, 3934636288, 1017091865, 3262342598,  966877848,\n",
      "        310367276,  452241805, 3097223337, 1923013657, 1613344543,\n",
      "        185620793, 1358220926, 1092246100,  273769281, 3425549238,\n",
      "       3142651431, 2757250840, 2298149635, 3687272021, 3865125834,\n",
      "       1501339447, 4277166117, 3648838264,  162607745,  164264973,\n",
      "        147343781, 3070045743, 1666955163, 3496801243, 1108343595,\n",
      "       3774726608,  610758353,  548221472,  157358912, 3557693754,\n",
      "       3172772269, 2355017132, 1882569033,  461549377, 3776751927,\n",
      "       2039801808, 2299009892,  439763239, 4067721970, 3855640780,\n",
      "       1626163239, 2907445371, 1525603375, 1830799779, 2196028715,\n",
      "       2785696185,  231509573, 3552220356, 1174608032,  385924700,\n",
      "       2153643986, 2829967544,  993344992, 4052683304,  459367207,\n",
      "       4221463355, 2536649754, 1576851310, 3417492913, 3965238671,\n",
      "       2536402817, 1813650544, 3542920149,  171003594, 3548446803,\n",
      "       4242794327, 2385809029, 3946561927, 2181548023, 3068928708,\n",
      "        395414258, 2726660423, 2900712407,  920195984, 2320630606,\n",
      "        833270157, 3792482939,  661744275, 3671868473, 2944127731,\n",
      "       3346615104, 3769973643, 1114480714, 2475926026,  480473980,\n",
      "       3334140082, 2788022246, 3492033064, 2509146198, 2767215264,\n",
      "       1387435573, 1969560985, 3322699714, 4043109637, 4240893415,\n",
      "       2236235057, 3211801319, 1422984840, 3921216644,  970380843,\n",
      "       2140667581, 3438521144,  788389154, 1945644459, 1071495130,\n",
      "       1031068304,  486743479, 3704032134, 2342661956, 2015629555,\n",
      "       2326390516, 2342860811, 4167133777, 4044645951, 3455043392,\n",
      "        725175901,  336460832, 3963743142, 2937000035,  992480545,\n",
      "       1911754356, 2163487816,  921284651, 1533431527,  763932446,\n",
      "        621842705, 2501802234, 3573298741, 1587366793, 2234492934,\n",
      "       3667562906, 2840458611, 1920853048, 2947747647, 3230025485,\n",
      "       2212316447, 2232442243, 2707436827,  508786090, 1596148299,\n",
      "       1630028492, 2741449167, 3681456510, 3887992140, 2577465043,\n",
      "       2142814752, 3711198119, 4220843974, 2924935324, 1848750192,\n",
      "       1948866171, 3214906639,  321834014, 1637892664, 1283857294,\n",
      "       3759784455, 1881419914,  431517843,  255810674, 3285107710,\n",
      "       2764876389, 2154927639, 3257237602, 3678771400, 2767722608,\n",
      "       2667563453,  878282041, 2071309525, 1490276730, 1010816931,\n",
      "       3711237525, 3700300958,   45103705, 3178211669, 3201943284,\n",
      "        954084501,  893048272, 1069670036, 3382953926,  849481766,\n",
      "       2649236885,  553709279, 4219651858,  388279061, 3589914251,\n",
      "       1426945522, 1826918991, 3572958410, 1382342890, 4107893758,\n",
      "       2606705014,  136430057,   58287951, 1962388950, 2098819656,\n",
      "       2463064388,  569081912, 1340601124, 3844539883, 3597431657,\n",
      "       3827545994, 1914886656, 3949236473, 2754831318, 1474311230,\n",
      "        367578830, 2769867783, 3317805982, 3315291127, 1307057615,\n",
      "       3855393818,  229805227, 2341483104, 1108824340, 2705253419,\n",
      "       3382467275,  641211309, 1693004420,  200625490, 3387517932,\n",
      "       2835635223,  668550256, 3764648890, 2868643801, 1530372877,\n",
      "       2778852126, 4007563371, 1523196541, 1446926307,  718409778,\n",
      "       4019513507, 2125898100, 1531786123, 4230882747,  828784604,\n",
      "       1820083936, 1165544560, 2742009173, 4004648794, 1954014606,\n",
      "       4018333547, 3282213575, 3118668987, 1771797342, 1540959211,\n",
      "       1003816468, 2466352560,  426789601, 3703641614,   32816544,\n",
      "        407214969, 2125195462, 1091634706, 4207617272, 2424826964,\n",
      "       2182448893,  973472072,   39205727, 2881627138,   12410850,\n",
      "       2427409801, 4011714179, 1635983651, 1400351698, 2435895799,\n",
      "       3948146812, 4145043515, 4079843740, 1583642585, 3441131187,\n",
      "       3865160808, 3294998212, 2720701574, 3086071637, 4029854308,\n",
      "       1673902696, 3019835411,  196995275, 1034271904, 1236539432,\n",
      "       1075842917, 2604275306,  289912910, 1067633102,  946497666,\n",
      "       3440641144, 3725693895, 2377252759,  631977343,  589015688,\n",
      "       1887726182, 4081994207,  820537561, 4134084292,   82616233,\n",
      "        717244476, 2415768864,  753417301, 1843172009, 3218461406,\n",
      "        543420703,  330848764, 2338035428,  648989074, 3990797093,\n",
      "       2396626822, 3697390088, 2606668058, 2943388262, 2848944055,\n",
      "       2661874043, 2916765247, 3999509286, 3841422178, 2916426922,\n",
      "       3645655613, 4013372540, 4089208636, 1543407072, 3544379833,\n",
      "       3694878614, 3587266905, 1105132020, 3169144037,  883840437,\n",
      "       2883042537,   76205883, 1537525679, 1522200635,  733958829,\n",
      "        890212284, 3672096442,  682580733, 2453974139, 1401480733,\n",
      "       3529134523, 2145223260, 1276554129, 1445821274, 2219118178,\n",
      "       1132416519, 1502119078, 2899755716,    6815560, 2177130787,\n",
      "       4085194684, 2095979662, 3365870735, 3985175291, 1134091308,\n",
      "       3836403112, 3554786705,  478235581, 3830372842, 1971349493,\n",
      "       2784109733, 3831395742, 3694402387, 2347542047, 2134875990,\n",
      "       3103366841, 1131992876,   91049417, 2914021346, 1621459056,\n",
      "        280177779,  480461072, 2536331190, 4142149399,  239758432,\n",
      "        669814532, 2288874680, 1303323261, 2922440066, 1057861908,\n",
      "       3922508810, 1486546470, 1761840562, 3214531961, 3299163101,\n",
      "       2785061802, 1607609776, 2699287809, 4150195420, 3052982439,\n",
      "       3537243091, 1589574580, 3060846540, 2318080972, 1068798605,\n",
      "       3439146711, 1714186666, 1232365844,  983297864, 1036796852,\n",
      "       3050222516, 1145677345, 2737198081,  716359407, 4030084536,\n",
      "       2335443967, 4131172522,  195833566,  209651119, 2488439112,\n",
      "        347789337, 3138285584, 2698889026, 1513408396], dtype=uint32), 6, 0, 0.0)\n",
      "[9 3 6 9 3 7 8 5 3 6]\n"
     ]
    }
   ],
   "source": [
    "state0 = np.random.get_state()\n",
    "# draw some random numbers\n",
    "print(state0)\n",
    "print(np.random.randint(0, 10, 10))"
   ]
  },
  {
   "cell_type": "code",
   "execution_count": 53,
   "metadata": {},
   "outputs": [
    {
     "name": "stdout",
     "output_type": "stream",
     "text": [
      "[4 7 1 3 7 8 7 2 9 5]\n"
     ]
    }
   ],
   "source": [
    "print(np.random.randint(0, 10, 10))\n"
   ]
  },
  {
   "cell_type": "markdown",
   "metadata": {},
   "source": [
    "# 5. SUMMARY\n",
    "\n",
    "## KEY LEARNINGS:\n",
    "1. \n",
    "2. "
   ]
  },
  {
   "cell_type": "markdown",
   "metadata": {},
   "source": [
    "## References\n",
    "Huneycutt, J. (2018) Running Chi-Square Tests with Die Roll Data in Python, Towards Data Science https://towardsdatascience.com/running-chi-square-tests-in-python-with-die-roll-data-b9903817c51b\n",
    "NumPy (Undateda), https://numpy.org/#  \n",
    "NumPy (Undatedb), https://numpy.org/devdocs/user/quickstart.html\n",
    "Numpy (Undatedc), https://numpy.org/doc/1.15/reference/generated/numpy.random.rand.html#numpy.random.rand\n",
    "NumPy (Updatedb), NumPy User Guide, Manual 1.15, Reference https://numpy.org/doc/1.15/reference/routines.random.html\n",
    "Investopedia, (Undated) https://www.investopedia.com/terms/u/uniform-distribution.asp\n",
    "Numpy (Undatede), https://numpy.org/doc/1.15/reference/generated/numpy.random.normal.html#numpy.random.normal\n",
    "Stattreck (undated), What is a Probability Distribution? https://stattrek.com/probability/probability-distribution.aspx\n",
    "\n",
    "NumPy (Undatedf) https://numpy.org/doc/1.17/reference/random/generated/numpy.random.Generator.shuffle.html#numpy-random-generator-shuffle\n",
    "\n",
    "Sharpsight,(2019) NumPy Random Seed Explained, https://www.sharpsightlabs.com/blog/numpy-random-seed/\n",
    "Stackoverflow (How can I retrieve the current seed of NumPy's random number generator?(https://stackoverflow.com/a/32172816\n",
    "\n"
   ]
  },
  {
   "cell_type": "code",
   "execution_count": null,
   "metadata": {},
   "outputs": [],
   "source": []
  }
 ],
 "metadata": {
  "kernelspec": {
   "display_name": "Python 3",
   "language": "python",
   "name": "python3"
  },
  "language_info": {
   "codemirror_mode": {
    "name": "ipython",
    "version": 3
   },
   "file_extension": ".py",
   "mimetype": "text/x-python",
   "name": "python",
   "nbconvert_exporter": "python",
   "pygments_lexer": "ipython3",
   "version": "3.7.2"
  }
 },
 "nbformat": 4,
 "nbformat_minor": 2
}
