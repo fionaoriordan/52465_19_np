{
 "cells": [
  {
   "cell_type": "markdown",
   "metadata": {},
   "source": [
    "# Module 52465 numpy.random Assigmnent.\n",
    "## Fiona O'Riordan \n",
    "## Due Date 11th November 2019"
   ]
  },
  {
   "cell_type": "markdown",
   "metadata": {},
   "source": [
    "## 1. Introduction\n",
    "The purpose of this assignment, for Module 52465 Programming for Data Analysis, is to explain the overall purpose of Python numpy package **numpy.random** and the use of the **“Simple random data”** and **“Permutations” functions**, to provide a detailed and comprehensive exploration of five its **distributions** namely: **INSERT NAMES HERE** and lastly, use of **seeds** in generating pseudorandom numbers will be examined.\n",
    "\n",
    "\n",
    "Numpy.random is an often used and important subpackage of the Numpy package in Python as many other packages are dependent on it.  However, interacting with the package directly is rare. Instead, typically the numpy subpackage objects are used via other packages such as Pandas and SciPy. Numpy.random is used to generate random numbers according to different probabilities across different intervals. \n",
    "\n",
    "To begin with Python numpy package will be briefly outlined. Then, an indept look at the numpy subpackage numpy.random will be provided. Next, the use of the “Simple random data\" and “Permutations” functions** will be explored and then the distributions **INSERT NAMES HERE** will be examined. Finally, a summary of the key learnings will be highlighted."
   ]
  },
  {
   "cell_type": "code",
   "execution_count": null,
   "metadata": {},
   "outputs": [],
   "source": []
  },
  {
   "cell_type": "markdown",
   "metadata": {},
   "source": [
    "## 2. NumPy\n",
    "The python package NumPy is the core package for scientifc computing within Python (NumPy,Undateda). The package includes: a N-dimensional array object, an advanced broadcasting functions, the ability to integrate C/C++ and Forstran Code along with capacity for linear algebra, Fourier transform and random number generation (NumPy, Undateda). NumPy can be used not only for scientific uses but also as  an 'efficient multi-dimensional container of generic data' (NumPy, Undateda, Unpaged). Therefore, it can be easily integreated with numberous other databases (NumPy, Undateda).\n",
    "\n",
    "NumPy's primary object is the homogeneous multidimensional array . It is a table, typically containing numbers, of the same data type with a tuple non negative interger index  (NumPy, Undatedb).  In NumPy dimensions are refered to as axes (NumPy, Undatedb). Then, unlike the Standard Python Library Class array.array which can have only one dimension, the NumPy array (full name ndarray) can have multiple dimensions which are called axes. \n"
   ]
  },
  {
   "cell_type": "markdown",
   "metadata": {},
   "source": [
    "## 3. numpy.random : \n",
    "\n",
    "The numpy.random package is concerned with the creation of computer generated random numbers. The numbers generated appear to be random but in fact are pseudo random (Sharpsight, 2019). Actual random numbers are created by a physical process. Computer generated random numbers are pseudo random numbers because while they may appear to be random they are actually pre-determined (Sharpsight, 2019). Alogrithms, called pseudo random number generators, are constructed to create pseudo random numbers (Sharpsight, 2019).  \n",
    "\n",
    "The numpy.random package is therefore concerned with the creation of numbers that appear to be random but are infact deterministic. When we get to the below section on seeds this concept will be enlighted further. For the moment, we work on the assumption that numpy.random creates pseudo random numbers.\n",
    "\n",
    "\n",
    "\n",
    "### Random Numbers & Multidimensional\n",
    "\n"
   ]
  },
  {
   "cell_type": "code",
   "execution_count": null,
   "metadata": {},
   "outputs": [],
   "source": []
  },
  {
   "cell_type": "code",
   "execution_count": 1,
   "metadata": {},
   "outputs": [
    {
     "data": {
      "text/plain": [
       "array([[0.56453318, 0.36198676],\n",
       "       [0.93838895, 0.30656224],\n",
       "       [0.43529021, 0.45463317]])"
      ]
     },
     "execution_count": 1,
     "metadata": {},
     "output_type": "execute_result"
    }
   ],
   "source": [
    "import numpy as np\n",
    "np.random.rand(3,2)"
   ]
  },
  {
   "cell_type": "code",
   "execution_count": null,
   "metadata": {},
   "outputs": [],
   "source": []
  },
  {
   "cell_type": "markdown",
   "metadata": {},
   "source": [
    "Note the output generated is an array within which are 3 arrays with 2 elements in each or put simply, 3 rows and 2 columns.  Lets rerun the script again."
   ]
  },
  {
   "cell_type": "code",
   "execution_count": 2,
   "metadata": {},
   "outputs": [
    {
     "data": {
      "text/plain": [
       "array([[0.37967716, 0.80628618],\n",
       "       [0.93930333, 0.04140656],\n",
       "       [0.45127993, 0.383238  ]])"
      ]
     },
     "execution_count": 2,
     "metadata": {},
     "output_type": "execute_result"
    }
   ],
   "source": [
    "#Rerun the function \n",
    "np.random.rand(3,2)"
   ]
  },
  {
   "cell_type": "raw",
   "metadata": {},
   "source": []
  },
  {
   "cell_type": "markdown",
   "metadata": {},
   "source": [
    "Note the same script generates different different random numbers. Therefore, we now know that np.random.rand generates random numbers.  Now lets change the arguments:"
   ]
  },
  {
   "cell_type": "code",
   "execution_count": 3,
   "metadata": {},
   "outputs": [
    {
     "data": {
      "text/plain": [
       "array([[0.35365611, 0.94279936],\n",
       "       [0.04871032, 0.60167313],\n",
       "       [0.27767623, 0.22241917],\n",
       "       [0.73377233, 0.7773236 ]])"
      ]
     },
     "execution_count": 3,
     "metadata": {},
     "output_type": "execute_result"
    }
   ],
   "source": [
    "#Rerun the function with different arguments.\n",
    "np.random.rand(4,2)"
   ]
  },
  {
   "cell_type": "markdown",
   "metadata": {},
   "source": [
    "Now the array generated has 4 rows and 2 colums of random numbers. We can also generate an array with say 4 columns & just one row."
   ]
  },
  {
   "cell_type": "code",
   "execution_count": 4,
   "metadata": {},
   "outputs": [
    {
     "data": {
      "text/plain": [
       "array([[0.05817906, 0.87547815],\n",
       "       [0.11084724, 0.68507889],\n",
       "       [0.25841902, 0.45309725],\n",
       "       [0.29389885, 0.07995673]])"
      ]
     },
     "execution_count": 4,
     "metadata": {},
     "output_type": "execute_result"
    }
   ],
   "source": [
    "np.random.rand(4,2)"
   ]
  },
  {
   "cell_type": "markdown",
   "metadata": {},
   "source": [
    "Now lets generate array without any arguments passed. "
   ]
  },
  {
   "cell_type": "code",
   "execution_count": 5,
   "metadata": {},
   "outputs": [
    {
     "data": {
      "text/plain": [
       "0.5345213763074377"
      ]
     },
     "execution_count": 5,
     "metadata": {},
     "output_type": "execute_result"
    }
   ],
   "source": [
    "np.random.rand()"
   ]
  },
  {
   "cell_type": "markdown",
   "metadata": {},
   "source": [
    "Just one array with just one element is now generated.  Therefore the arguments passed are determining the shape of the arrays generated.\n",
    "\n",
    "We can also include more dimensions to create depth for example:"
   ]
  },
  {
   "cell_type": "code",
   "execution_count": 6,
   "metadata": {},
   "outputs": [
    {
     "data": {
      "text/plain": [
       "array([[[0.96237266, 0.43733169, 0.51852244],\n",
       "        [0.55457517, 0.53253844, 0.62998375]],\n",
       "\n",
       "       [[0.94482591, 0.24671691, 0.50243829],\n",
       "        [0.63961455, 0.43575401, 0.25356918]],\n",
       "\n",
       "       [[0.10609095, 0.80990483, 0.12696267],\n",
       "        [0.10957473, 0.91665794, 0.94600572]],\n",
       "\n",
       "       [[0.71697562, 0.56939164, 0.67126614],\n",
       "        [0.4068454 , 0.70423766, 0.426265  ]]])"
      ]
     },
     "execution_count": 6,
     "metadata": {},
     "output_type": "execute_result"
    }
   ],
   "source": [
    "np.random.rand(4,2,3)"
   ]
  },
  {
   "cell_type": "markdown",
   "metadata": {},
   "source": [
    "Now we have an array with 4 rows, 2 columns and a depth of 3 ie an array with 3 dimensions. We can continue on creating every more complex arrays adding more and more dimensions:"
   ]
  },
  {
   "cell_type": "code",
   "execution_count": 7,
   "metadata": {},
   "outputs": [
    {
     "data": {
      "text/plain": [
       "array([[[[0.55857059, 0.57893159, 0.17060554, 0.37960547, 0.6944639 ],\n",
       "         [0.69784308, 0.92011763, 0.35082117, 0.38163655, 0.27646711],\n",
       "         [0.19461528, 0.31701787, 0.85761106, 0.85226437, 0.91151547]],\n",
       "\n",
       "        [[0.07551387, 0.95920213, 0.40484465, 0.11498574, 0.13353151],\n",
       "         [0.85305916, 0.41573285, 0.15774667, 0.17710357, 0.69783742],\n",
       "         [0.71707703, 0.60165419, 0.41813977, 0.96571402, 0.61077247]]],\n",
       "\n",
       "\n",
       "       [[[0.07678647, 0.70351974, 0.32929626, 0.02302122, 0.00136851],\n",
       "         [0.11037727, 0.01425163, 0.12235442, 0.63795085, 0.80497265],\n",
       "         [0.77314097, 0.06974173, 0.81992282, 0.91377587, 0.61070962]],\n",
       "\n",
       "        [[0.83608816, 0.3005385 , 0.50516347, 0.73777789, 0.5165733 ],\n",
       "         [0.3402841 , 0.69547951, 0.72936256, 0.70017651, 0.59973495],\n",
       "         [0.3246212 , 0.70136531, 0.01815695, 0.856042  , 0.70226298]]],\n",
       "\n",
       "\n",
       "       [[[0.67986224, 0.96151994, 0.49869567, 0.49800868, 0.0492573 ],\n",
       "         [0.00669342, 0.43342637, 0.97296822, 0.80478431, 0.80157229],\n",
       "         [0.82119279, 0.11077049, 0.56243737, 0.38874242, 0.21205443]],\n",
       "\n",
       "        [[0.9803521 , 0.88314002, 0.75737697, 0.18413611, 0.99399133],\n",
       "         [0.49950245, 0.85975557, 0.10538246, 0.40905455, 0.15094853],\n",
       "         [0.02747055, 0.59442983, 0.80653329, 0.63710333, 0.91673109]]],\n",
       "\n",
       "\n",
       "       [[[0.77887737, 0.03816486, 0.15199665, 0.44689927, 0.73403263],\n",
       "         [0.166267  , 0.74279595, 0.5436496 , 0.85399814, 0.46968666],\n",
       "         [0.05827883, 0.07626711, 0.51407514, 0.43554442, 0.43179656]],\n",
       "\n",
       "        [[0.33388668, 0.39418548, 0.3883439 , 0.03728562, 0.13495674],\n",
       "         [0.28250427, 0.8222538 , 0.02389083, 0.757606  , 0.12595215],\n",
       "         [0.10129698, 0.3764097 , 0.45612084, 0.24436004, 0.21604186]]]])"
      ]
     },
     "execution_count": 7,
     "metadata": {},
     "output_type": "execute_result"
    }
   ],
   "source": [
    "np.random.rand(4,2,3,5)"
   ]
  },
  {
   "cell_type": "markdown",
   "metadata": {},
   "source": [
    "Now lets go back and look at the numbers generated. An array witt the shape 4 rows, 2 colums each with depth of 3 and within that 5 elements has been generated So we can see that ever more complex and multidimensional arrays can be generated with the numpy.random subpackage/function.\n",
    "We can also generate an array with just one generate an array with a specified number of random values (10000 in this case) using the following syntax:"
   ]
  },
  {
   "cell_type": "code",
   "execution_count": 8,
   "metadata": {},
   "outputs": [
    {
     "data": {
      "text/plain": [
       "array([0.91995017, 0.35791442, 0.22860229, ..., 0.08389707, 0.69170652,\n",
       "       0.3788721 ])"
      ]
     },
     "execution_count": 8,
     "metadata": {},
     "output_type": "execute_result"
    }
   ],
   "source": [
    "np.random.rand(10000)"
   ]
  },
  {
   "cell_type": "markdown",
   "metadata": {},
   "source": [
    "Using matplotlib.pyplot function we can generate a histogram to show the range of random numbers generated: \n"
   ]
  },
  {
   "cell_type": "code",
   "execution_count": 9,
   "metadata": {},
   "outputs": [
    {
     "data": {
      "image/png": "[encoded data removed]",
      "text/plain": [
       "<Figure size 432x288 with 1 Axes>"
      ]
     },
     "metadata": {
      "needs_background": "light"
     },
     "output_type": "display_data"
    }
   ],
   "source": [
    "# use the matploblib magic command to ensure the histogram is shown.\n",
    "%matplotlib inline\n",
    "# import the matplotlib pyplot libary and give it the alias plt\n",
    "import matplotlib.pyplot as plt\n",
    "\n",
    "x = np.random.rand(10000)\n",
    "plt.hist(x)\n",
    "plt.show()\n",
    "\n"
   ]
  },
  {
   "cell_type": "markdown",
   "metadata": {},
   "source": [
    "The histogram gives a visual representation of the numbers generated by random.rand above. The histogram has a continuous variable on the x axis.  The values are chopped up into a reasonable number of bins in this case 10. We can see from the diagram that the number of values generated between values 0.0 and 0.1 is just as likely as the number of values generated between values 0.7 and 0.8. This holds true for each bin displayed. Therefore the distribution is uniform ( we'll look at this in more detail in sections 5  Distributions below).\n",
    "\n",
    "The other important point to note when using np.random.rand function is that all of the numbers genereated are greater than or equal to 0 and less than 1. Therefore, while this function allows us to control shape of the data generated and the number of values generated, the range of values is limited."
   ]
  },
  {
   "cell_type": "markdown",
   "metadata": {},
   "source": [
    "## **4.“Permutations” functions**\n",
    "\n",
    "### **4.1 Shuffle**    \n",
    "The shuffle function modifies a sequence by shuffling its contents.  First, lets create a range of numbers. "
   ]
  },
  {
   "cell_type": "code",
   "execution_count": 10,
   "metadata": {},
   "outputs": [
    {
     "data": {
      "text/plain": [
       "array([0, 1, 2, 3, 4, 5, 6, 7, 8, 9])"
      ]
     },
     "execution_count": 10,
     "metadata": {},
     "output_type": "execute_result"
    }
   ],
   "source": [
    "arr = np.arange(10)\n",
    "arr\n"
   ]
  },
  {
   "cell_type": "markdown",
   "metadata": {},
   "source": [
    "Now lets use the shuffle function to randomly shuffle the contents of this array."
   ]
  },
  {
   "cell_type": "code",
   "execution_count": 11,
   "metadata": {},
   "outputs": [
    {
     "data": {
      "text/plain": [
       "array([4, 2, 7, 5, 6, 8, 9, 1, 0, 3])"
      ]
     },
     "execution_count": 11,
     "metadata": {},
     "output_type": "execute_result"
    }
   ],
   "source": [
    "np.random.shuffle(arr)\n",
    "arr"
   ]
  },
  {
   "cell_type": "markdown",
   "metadata": {},
   "source": [
    "The contents of the array are now reordered.  It is also possible to shuffle multi-dimensional arrays.  However, multi-dimensional arrays are only shuffled along the first axis. For example create an array with 3 rows and 3 columns from a range of 9."
   ]
  },
  {
   "cell_type": "code",
   "execution_count": 12,
   "metadata": {},
   "outputs": [
    {
     "data": {
      "text/plain": [
       "array([[0, 1, 2],\n",
       "       [3, 4, 5],\n",
       "       [6, 7, 8]])"
      ]
     },
     "execution_count": 12,
     "metadata": {},
     "output_type": "execute_result"
    }
   ],
   "source": [
    "arr1 = np.arange(9).reshape((3, 3))\n",
    "arr1"
   ]
  },
  {
   "cell_type": "markdown",
   "metadata": {},
   "source": [
    "Now lets shuffle the array arr1. "
   ]
  },
  {
   "cell_type": "code",
   "execution_count": 13,
   "metadata": {},
   "outputs": [
    {
     "data": {
      "text/plain": [
       "array([[6, 7, 8],\n",
       "       [0, 1, 2],\n",
       "       [3, 4, 5]])"
      ]
     },
     "execution_count": 13,
     "metadata": {},
     "output_type": "execute_result"
    }
   ],
   "source": [
    "np.random.shuffle(arr1)\n",
    "arr1"
   ]
  },
  {
   "cell_type": "markdown",
   "metadata": {},
   "source": [
    "Note, while the rows have been shuffled (ie the first axis/dimension), the columns have not been shuffled. Only the first axis is shuffled and the elements within each axis remain in place."
   ]
  },
  {
   "cell_type": "markdown",
   "metadata": {},
   "source": [
    "## **4.2 Permutation**    \n",
    "\n",
    "The random.permutation function allows us to create a new array with a single axis and with a specifc number of elements and return the elements in the resulting array in a random order.  The creation of arr2 demonstrates this:\n"
   ]
  },
  {
   "cell_type": "code",
   "execution_count": 27,
   "metadata": {
    "scrolled": true
   },
   "outputs": [
    {
     "data": {
      "text/plain": [
       "array([9, 1, 7, 2, 3, 5, 8, 0, 4, 6])"
      ]
     },
     "execution_count": 27,
     "metadata": {},
     "output_type": "execute_result"
    }
   ],
   "source": [
    "arr2 = np.random.permutation(10)\n",
    "arr2"
   ]
  },
  {
   "cell_type": "markdown",
   "metadata": {},
   "source": [
    "In adddition and similar to function random.shuffle, we can also use this function np.random.permutation() to shuffle the contents of an existing single dimensional array :"
   ]
  },
  {
   "cell_type": "code",
   "execution_count": 28,
   "metadata": {},
   "outputs": [
    {
     "data": {
      "text/plain": [
       "array([0, 6, 7, 9, 4, 8, 3, 1, 2, 5])"
      ]
     },
     "execution_count": 28,
     "metadata": {},
     "output_type": "execute_result"
    }
   ],
   "source": [
    "np.random.permutation(arr2)"
   ]
  },
  {
   "cell_type": "markdown",
   "metadata": {},
   "source": [
    "And again similiar to random.shuffle, the random.permutation function gives us the option to shuffle a multidimensional array :"
   ]
  },
  {
   "cell_type": "code",
   "execution_count": 30,
   "metadata": {},
   "outputs": [
    {
     "data": {
      "text/plain": [
       "array([[0, 1, 2],\n",
       "       [3, 4, 5],\n",
       "       [6, 7, 8]])"
      ]
     },
     "execution_count": 30,
     "metadata": {},
     "output_type": "execute_result"
    }
   ],
   "source": [
    "# first create an array with 9 elements in one axis and \n",
    "#then reshape so that the array has two dimenensions/axes one row and one colum.\n",
    "arr3 = np.arange(9).reshape((3, 3))\n",
    "arr3\n"
   ]
  },
  {
   "cell_type": "markdown",
   "metadata": {},
   "source": [
    "Now apply the random.permutation function: "
   ]
  },
  {
   "cell_type": "code",
   "execution_count": 38,
   "metadata": {},
   "outputs": [
    {
     "data": {
      "text/plain": [
       "array([[0, 1, 2],\n",
       "       [6, 7, 8],\n",
       "       [3, 4, 5]])"
      ]
     },
     "execution_count": 38,
     "metadata": {},
     "output_type": "execute_result"
    }
   ],
   "source": [
    "np.random.permutation(arr3)"
   ]
  },
  {
   "cell_type": "markdown",
   "metadata": {},
   "source": [
    "While the array has been shuffled only the x axis has been shuffled by random.permutation similar to random.shuffle. \n",
    "\n",
    "Therefore in summary both functions random.shuffle and random.permutation shuffle the contents of a single existing dimensional array and while both functions can also shuffle the contents of an existing multidimensional array only the the first axis is shuffled. The function random.permutation also allows us to **create and shuffle** a single dimensional array in one step."
   ]
  },
  {
   "cell_type": "markdown",
   "metadata": {},
   "source": [
    "## 5. Distributions  \n",
    "\n",
    "'Probability distribution is a rule or set of rules that assigns probabilities to values of random variables. \n",
    "\n"
   ]
  },
  {
   "cell_type": "markdown",
   "metadata": {},
   "source": [
    "### **5.1 Uniform Distributions**    \n",
    "Uniform distributions are probability distributions where the outcomes are equally likely (Investopedia, undated, unpaged).  There are two types of uniform distributions: discrete and continuous. An example of a discrete uniform distribution is the rolling of a dice. Each number has an equal chance of being rolled but only numbers 1,2,3,4,5 or 6 can be rolled. The number 2.7 or 3.8 cannot be rolled. In a continuous uniform distribution, again all numbers have a equal chance at being selectd but the numbers that can be selected are continuous or even infinite e.g. the numbers generated in an \"idealized random number generator\" (Investopedia, undated, unpaged).\n"
   ]
  },
  {
   "cell_type": "code",
   "execution_count": 15,
   "metadata": {},
   "outputs": [
    {
     "data": {
      "text/plain": [
       "array([-0.9732148 , -0.07253092, -0.57972275, -0.56309567, -0.72384435,\n",
       "       -0.93966331, -0.04292116, -0.43555004, -0.5757137 , -0.79233202,\n",
       "       -0.51800444, -0.73737488, -0.16241569, -0.04908469, -0.09743123,\n",
       "       -0.18324625, -0.11149758, -0.8640051 , -0.15539532, -0.25909607,\n",
       "       -0.25547849, -0.63319962, -0.72804036, -0.62630513, -0.90428391,\n",
       "       -0.37082515, -0.35923205, -0.09807489, -0.97874122, -0.37245768,\n",
       "       -0.60125938, -0.67425129, -0.47480559, -0.30935551, -0.64096884,\n",
       "       -0.01678741, -0.38591496, -0.49930057, -0.33783693, -0.77758092,\n",
       "       -0.81149354, -0.71307592, -0.71057776, -0.28944162, -0.37614473,\n",
       "       -0.77143345, -0.24452303, -0.62328148, -0.62453861, -0.31914896,\n",
       "       -0.56484174, -0.79029568, -0.4081724 , -0.57033199, -0.05202549,\n",
       "       -0.91644889, -0.40051326, -0.3266382 , -0.29845319, -0.4149051 ,\n",
       "       -0.42890998, -0.4605207 , -0.0572179 , -0.48144161, -0.63276186,\n",
       "       -0.14245559, -0.68759567, -0.3324249 , -0.70661432, -0.46684253,\n",
       "       -0.50652189, -0.64009552, -0.07018895, -0.33509126, -0.07798047,\n",
       "       -0.72336739, -0.70454267, -0.39117681, -0.6378122 , -0.36308175,\n",
       "       -0.74185175, -0.540666  , -0.67093848, -0.45418291, -0.87019103,\n",
       "       -0.80303066, -0.60069142, -0.92363887, -0.39590429, -0.03801656,\n",
       "       -0.07083072, -0.92323556, -0.47671955, -0.40198786, -0.53261213,\n",
       "       -0.36264649, -0.54505225, -0.85727185, -0.72663267, -0.89214353,\n",
       "       -0.91321735, -0.65300679, -0.28501615, -0.25575751, -0.29469743,\n",
       "       -0.62946476, -0.40842073, -0.14047643, -0.31717288, -0.60095747,\n",
       "       -0.90160247, -0.53556463, -0.56317643, -0.93602963, -0.70509294,\n",
       "       -0.29757488, -0.72399128, -0.87748757, -0.93377055, -0.35903857,\n",
       "       -0.34423838, -0.98092543, -0.20331048, -0.84626163, -0.9228313 ,\n",
       "       -0.07723509, -0.46606367, -0.2117377 , -0.20366104, -0.5477095 ,\n",
       "       -0.79398244, -0.68776274, -0.22259115, -0.40412571, -0.99817882,\n",
       "       -0.85968854, -0.01532233, -0.20156666, -0.15110485, -0.05806252,\n",
       "       -0.79978252, -0.3696458 , -0.60558192, -0.97872004, -0.27044806,\n",
       "       -0.73314079, -0.75544813, -0.44378657, -0.08948961, -0.7680962 ,\n",
       "       -0.88972116, -0.12225576, -0.51685036, -0.25600374, -0.50055604,\n",
       "       -0.99913139, -0.17010411, -0.44218176, -0.18502285, -0.25695971,\n",
       "       -0.04815676, -0.10644956, -0.3352295 , -0.88238552, -0.69389754,\n",
       "       -0.20021215, -0.10901775, -0.42610121, -0.48627963, -0.00694032,\n",
       "       -0.79411325, -0.8341757 , -0.3355205 , -0.28628159, -0.82250243,\n",
       "       -0.4736699 , -0.97510543, -0.83313151, -0.50550714, -0.74404833,\n",
       "       -0.92987624, -0.50644774, -0.8255395 , -0.3815419 , -0.93704601,\n",
       "       -0.90069929, -0.725311  , -0.72955805, -0.68026485, -0.96619993,\n",
       "       -0.67505512, -0.33554635, -0.35154597, -0.19667476, -0.77663836,\n",
       "       -0.30125892, -0.09445459, -0.13254817, -0.5371713 , -0.27460834,\n",
       "       -0.51368102, -0.20301533, -0.13783421, -0.26715111, -0.17810976,\n",
       "       -0.26607002, -0.62916405, -0.9946736 , -0.74039208, -0.73574116,\n",
       "       -0.79572092, -0.76980717, -0.50712387, -0.24790917, -0.50652388,\n",
       "       -0.13385197, -0.06860028, -0.09645953, -0.9416823 , -0.91818435,\n",
       "       -0.14094372, -0.40841408, -0.91798922, -0.21519223, -0.74350295,\n",
       "       -0.37486883, -0.1346829 , -0.05133274, -0.83206053, -0.94351696,\n",
       "       -0.78943057, -0.30579223, -0.15256771, -0.11140879, -0.64363384,\n",
       "       -0.80066999, -0.23830701, -0.34103601, -0.18534838, -0.28123028,\n",
       "       -0.08898267, -0.57420793, -0.3194348 , -0.54183323, -0.3383231 ,\n",
       "       -0.41602663, -0.69961369, -0.03863226, -0.28840866, -0.35242873,\n",
       "       -0.33436811, -0.13904692, -0.95310822, -0.23815781, -0.13393746,\n",
       "       -0.19064993, -0.10426096, -0.47896129, -0.21240148, -0.2206501 ,\n",
       "       -0.65404318, -0.22874739, -0.79710839, -0.87109411, -0.08521459,\n",
       "       -0.52235055, -0.690815  , -0.51916461, -0.33366307, -0.16935555,\n",
       "       -0.03791285, -0.229409  , -0.74851233, -0.72348899, -0.06436344,\n",
       "       -0.27327018, -0.31016054, -0.9506167 , -0.06596809, -0.92408163,\n",
       "       -0.21410675, -0.65436714, -0.82181078, -0.9036888 , -0.70562501,\n",
       "       -0.61553852, -0.37513175, -0.05686534, -0.18730429, -0.44674167,\n",
       "       -0.39055283, -0.6294521 , -0.12780342, -0.70943355, -0.91772356,\n",
       "       -0.65682094, -0.83985197, -0.19858241, -0.2479497 , -0.90841374,\n",
       "       -0.33045142, -0.34228711, -0.97166415, -0.11495413, -0.41854429,\n",
       "       -0.56654422, -0.3830268 , -0.34215537, -0.43770446, -0.56262113,\n",
       "       -0.61224958, -0.40598542, -0.79613017, -0.87910308, -0.23666179,\n",
       "       -0.66895018, -0.84701849, -0.52690134, -0.56110575, -0.20133631,\n",
       "       -0.50054858, -0.32640596, -0.98514445, -0.12776632, -0.21294156,\n",
       "       -0.77599612, -0.43137481, -0.42499546, -0.84342396, -0.28766386,\n",
       "       -0.05409111, -0.97030133, -0.44534463, -0.55536688, -0.65359323,\n",
       "       -0.65405109, -0.91374722, -0.73579659, -0.05866122, -0.42518185,\n",
       "       -0.93964532, -0.97646185, -0.72472005, -0.41642413, -0.85698562,\n",
       "       -0.2853756 , -0.24165673, -0.16715851, -0.02688651, -0.07124163,\n",
       "       -0.54977219, -0.20570244, -0.80549123, -0.01322712, -0.63629283,\n",
       "       -0.39124675, -0.64884765, -0.23999192, -0.68278418, -0.56975361,\n",
       "       -0.68314347, -0.67184587, -0.20281143, -0.54256106, -0.71042476,\n",
       "       -0.91257821, -0.6192178 , -0.20743475, -0.47024309, -0.2873281 ,\n",
       "       -0.93722281, -0.67437642, -0.34565237, -0.08883203, -0.5350953 ,\n",
       "       -0.99099988, -0.62418559, -0.23333714, -0.11626691, -0.9875542 ,\n",
       "       -0.04433628, -0.84543756, -0.92653316, -0.06897794, -0.41969208,\n",
       "       -0.20909386, -0.1803541 , -0.84356616, -0.35878008, -0.28195107,\n",
       "       -0.42336043, -0.0706027 , -0.13192215, -0.36665157, -0.94048964,\n",
       "       -0.2134567 , -0.68097019, -0.45836018, -0.4701382 , -0.55262512,\n",
       "       -0.92616471, -0.37307222, -0.31256102, -0.27676979, -0.29875595,\n",
       "       -0.98510949, -0.2353366 , -0.49640436, -0.47675758, -0.16285209,\n",
       "       -0.21094342, -0.27406258, -0.22372625, -0.24985884, -0.2001103 ,\n",
       "       -0.9915752 , -0.18859345, -0.17030932, -0.01363319, -0.74051505,\n",
       "       -0.14141393, -0.41012811, -0.0311482 , -0.45984488, -0.17587812,\n",
       "       -0.89132163, -0.3569318 , -0.99258625, -0.90501872, -0.49651617,\n",
       "       -0.75427283, -0.91416193, -0.89724672, -0.55445988, -0.98735087,\n",
       "       -0.97319875, -0.48091   , -0.97561263, -0.26718549, -0.08953799,\n",
       "       -0.04776588, -0.07768817, -0.6644613 , -0.55762778, -0.12152209,\n",
       "       -0.8111794 , -0.73801665, -0.62100504, -0.85567112, -0.68725617,\n",
       "       -0.53008768, -0.68733768, -0.63311742, -0.82486626, -0.72567374,\n",
       "       -0.70592033, -0.51688349, -0.77911067, -0.16225045, -0.98661423,\n",
       "       -0.43710876, -0.06465737, -0.1420664 , -0.26058972, -0.5415819 ,\n",
       "       -0.13367111, -0.67317736, -0.16083443, -0.4508654 , -0.5822351 ,\n",
       "       -0.03583552, -0.56443103, -0.04396146, -0.08270863, -0.38550373,\n",
       "       -0.69003711, -0.94495779, -0.1834706 , -0.99889663, -0.22599134,\n",
       "       -0.34409538, -0.34896885, -0.4953014 , -0.38201497, -0.08498363,\n",
       "       -0.95065018, -0.46485601, -0.22564728, -0.18951064, -0.76849198,\n",
       "       -0.48327387, -0.49577278, -0.26591472, -0.00750834, -0.52836473,\n",
       "       -0.71545441, -0.6565501 , -0.88063295, -0.41632609, -0.28116834,\n",
       "       -0.9732961 , -0.39506203, -0.8365766 , -0.86250053, -0.22779843,\n",
       "       -0.52023565, -0.50616133, -0.9706976 , -0.52447895, -0.53413083,\n",
       "       -0.41848653, -0.0157481 , -0.4335402 , -0.53471373, -0.34440679,\n",
       "       -0.86621412, -0.08051907, -0.50866357, -0.10587115, -0.26888232,\n",
       "       -0.74723199, -0.17076504, -0.63998974, -0.82875945, -0.43604815,\n",
       "       -0.07198855, -0.82276537, -0.01979245, -0.97038416, -0.26458477,\n",
       "       -0.51473105, -0.99496223, -0.16210472, -0.90372967, -0.3513252 ,\n",
       "       -0.96771146, -0.87496884, -0.95061433, -0.58779003, -0.48785078,\n",
       "       -0.95190881, -0.25626842, -0.98647192, -0.8728692 , -0.49746412,\n",
       "       -0.4070467 , -0.02532738, -0.94896242, -0.77033699, -0.44223722,\n",
       "       -0.23115447, -0.78318816, -0.64646045, -0.17200682, -0.5911774 ,\n",
       "       -0.11167326, -0.1814495 , -0.91573352, -0.73744292, -0.89407636,\n",
       "       -0.69211694, -0.02276632, -0.62374094, -0.22801624, -0.01334819,\n",
       "       -0.26534309, -0.33508564, -0.7007196 , -0.16929574, -0.20055958,\n",
       "       -0.9138083 , -0.03901114, -0.58951348, -0.97981031, -0.92944461,\n",
       "       -0.53410483, -0.90592259, -0.25077252, -0.80599963, -0.84069613,\n",
       "       -0.2220221 , -0.19752898, -0.62656186, -0.12044365, -0.52884138,\n",
       "       -0.12174464, -0.50904312, -0.96187253, -0.69779442, -0.20991202,\n",
       "       -0.94718486, -0.43845189, -0.58912935, -0.24342841, -0.03133169,\n",
       "       -0.3144197 , -0.61119085, -0.11483633, -0.09306456, -0.93127683,\n",
       "       -0.9336249 , -0.65794037, -0.27344055, -0.19576401, -0.9124044 ,\n",
       "       -0.58385425, -0.26084095, -0.94797897, -0.57590679, -0.77341189,\n",
       "       -0.0666801 , -0.15159783, -0.90357747, -0.6531611 , -0.21330637,\n",
       "       -0.90643114, -0.54068021, -0.94373048, -0.23599646, -0.79327178,\n",
       "       -0.09717683, -0.62271399, -0.78252715, -0.89950297, -0.79874217,\n",
       "       -0.1012486 , -0.87122296, -0.90348373, -0.82566112, -0.11243673,\n",
       "       -0.69131687, -0.86685413, -0.34572962, -0.89387339, -0.72689017,\n",
       "       -0.59821003, -0.8547112 , -0.91166649, -0.85444605, -0.39522858,\n",
       "       -0.44856667, -0.71668769, -0.15974164, -0.11833594, -0.08266481,\n",
       "       -0.7006546 , -0.25559745, -0.3564496 , -0.20190849, -0.5073508 ,\n",
       "       -0.47154694, -0.60999182, -0.75824444, -0.85986615, -0.31148544,\n",
       "       -0.20612931, -0.33642062, -0.83633049, -0.98721208, -0.32837105,\n",
       "       -0.29568986, -0.75067036, -0.37904293, -0.16174016, -0.89580224,\n",
       "       -0.15498985, -0.24124071, -0.59751046, -0.62928751, -0.38342245,\n",
       "       -0.32622902, -0.90986612, -0.90007646, -0.09702602, -0.85414395,\n",
       "       -0.81963775, -0.88856494, -0.79928763, -0.19385975, -0.5479475 ,\n",
       "       -0.87729154, -0.49898709, -0.06484427, -0.96857135, -0.64981915,\n",
       "       -0.28699778, -0.83062494, -0.15557532, -0.02739961, -0.79709603,\n",
       "       -0.87108553, -0.13085419, -0.08294007, -0.38318287, -0.54500445,\n",
       "       -0.24040909, -0.96434037, -0.93636598, -0.80129731, -0.19041462,\n",
       "       -0.43849344, -0.12025141, -0.64821321, -0.23282568, -0.59732286,\n",
       "       -0.76290396, -0.49832482, -0.27482115, -0.08485321, -0.88867399,\n",
       "       -0.67413063, -0.08508258, -0.55075364, -0.11830917, -0.3396628 ,\n",
       "       -0.89374176, -0.55141391, -0.70505154, -0.52008736, -0.68112364,\n",
       "       -0.16557122, -0.95707628, -0.12953439, -0.40295038, -0.48540371,\n",
       "       -0.51999616, -0.53042938, -0.84744408, -0.71209609, -0.87139244,\n",
       "       -0.4045578 , -0.23301036, -0.38866287, -0.86595366, -0.92647497,\n",
       "       -0.23051852, -0.08997269, -0.53926522, -0.4061137 , -0.60294191,\n",
       "       -0.4360569 , -0.89771185, -0.01036906, -0.80950015, -0.06285723,\n",
       "       -0.44048935, -0.25787698, -0.7001581 , -0.13999722, -0.46989371,\n",
       "       -0.52836539, -0.91371608, -0.19527464, -0.76512043, -0.88224589,\n",
       "       -0.06725164, -0.20161628, -0.66398943, -0.64587822, -0.04250086,\n",
       "       -0.99336796, -0.04133465, -0.29832717, -0.43575468, -0.44776393,\n",
       "       -0.63106583, -0.5008754 , -0.76279039, -0.07503735, -0.27393983,\n",
       "       -0.02060165, -0.08778462, -0.62131152, -0.05958316, -0.8774351 ,\n",
       "       -0.04473583, -0.62856534, -0.26281074, -0.54930702, -0.98456016,\n",
       "       -0.60313554, -0.08183004, -0.79885504, -0.1560297 , -0.67568828,\n",
       "       -0.62753436, -0.41441697, -0.54046602, -0.88662501, -0.32054988,\n",
       "       -0.95172102, -0.59796487, -0.55870314, -0.43076129, -0.61880604,\n",
       "       -0.08534495, -0.09138523, -0.82334949, -0.69195498, -0.47309483,\n",
       "       -0.07603092, -0.5877474 , -0.46263005, -0.19355142, -0.23043368,\n",
       "       -0.6498136 , -0.07511806, -0.48480776, -0.22473064, -0.42069566,\n",
       "       -0.4885451 , -0.54082487, -0.02968574, -0.3154167 , -0.34907686,\n",
       "       -0.71560193, -0.35952608, -0.83121351, -0.65009287, -0.79779587,\n",
       "       -0.14373557, -0.77345325, -0.1427584 , -0.79070839, -0.73259129,\n",
       "       -0.44167278, -0.06986175, -0.87072089, -0.75363106, -0.84661996,\n",
       "       -0.59692203, -0.43062358, -0.24533107, -0.71936625, -0.83533227,\n",
       "       -0.62827515, -0.10745465, -0.84239717, -0.18691944, -0.459983  ,\n",
       "       -0.90803548, -0.40774253, -0.25568913, -0.48021545, -0.79514337,\n",
       "       -0.30869567, -0.74056433, -0.65844487, -0.69438959, -0.13741343,\n",
       "       -0.22757065, -0.75807646, -0.90272846, -0.34399609, -0.20879248,\n",
       "       -0.41128761, -0.72986485, -0.65523955, -0.5680845 , -0.48439778,\n",
       "       -0.97402206, -0.37349406, -0.98170158, -0.05558983, -0.43898965,\n",
       "       -0.66869497, -0.67595475, -0.25609519, -0.73882829, -0.04657784,\n",
       "       -0.40403434, -0.1617768 , -0.86025688, -0.77718469, -0.20263316,\n",
       "       -0.05569999, -0.81655469, -0.84201759, -0.71316537, -0.59082447,\n",
       "       -0.12274063, -0.62242771, -0.93154198, -0.99033169, -0.79455876,\n",
       "       -0.41213907, -0.70717881, -0.64043359, -0.84628617, -0.09744345,\n",
       "       -0.84300042, -0.22341427, -0.84790905, -0.94681255, -0.96543824,\n",
       "       -0.31026889, -0.10595281, -0.50823889, -0.0442763 , -0.64691006,\n",
       "       -0.10378126, -0.64623672, -0.22434068, -0.51748168, -0.14559512,\n",
       "       -0.51854033, -0.30047387, -0.90225114, -0.20019285, -0.53279884,\n",
       "       -0.61466354, -0.53333585, -0.9743772 , -0.2540284 , -0.32810237,\n",
       "       -0.11908569, -0.95354508, -0.5423151 , -0.53681455, -0.75296401,\n",
       "       -0.17891591, -0.33343565, -0.02473698, -0.59504234, -0.57838459,\n",
       "       -0.70592195, -0.2898448 , -0.74411251, -0.22009984, -0.66847162,\n",
       "       -0.5464957 , -0.70729085, -0.97533329, -0.2421969 , -0.30970241,\n",
       "       -0.23317859, -0.24755202, -0.76776253, -0.40762364, -0.81338959,\n",
       "       -0.41104369, -0.2754248 , -0.11213279, -0.06149318, -0.47596856,\n",
       "       -0.21456409, -0.31371473, -0.57321073, -0.36770015, -0.41774662,\n",
       "       -0.52901424, -0.44728719, -0.10194647, -0.04507161, -0.74845959,\n",
       "       -0.89225049, -0.39238971, -0.57886489, -0.15508398, -0.23535233,\n",
       "       -0.84974355, -0.87646923, -0.21712894, -0.14460995, -0.57999037,\n",
       "       -0.24969077, -0.98575489, -0.12489849, -0.47302891, -0.40393345,\n",
       "       -0.06607455, -0.82580021, -0.99229059, -0.80881971, -0.39283348,\n",
       "       -0.6659611 , -0.73670964, -0.44385344, -0.42043879, -0.57372224,\n",
       "       -0.88863482, -0.051997  , -0.06562982, -0.68121019, -0.29526129,\n",
       "       -0.23884283, -0.7977494 , -0.33187987, -0.64705466, -0.74486426,\n",
       "       -0.09917386, -0.53030539, -0.4569225 , -0.30672064, -0.73078399,\n",
       "       -0.30495387, -0.94720976, -0.38707831, -0.91945063, -0.65061268])"
      ]
     },
     "execution_count": 15,
     "metadata": {},
     "output_type": "execute_result"
    }
   ],
   "source": [
    "np.random.uniform(-1, 0, 1000)\n"
   ]
  },
  {
   "cell_type": "markdown",
   "metadata": {},
   "source": [
    "Unlike, function np.random_rand, np.random.uniform allows us to pass as arguments the range of values to be included. \n",
    "\n"
   ]
  },
  {
   "cell_type": "code",
   "execution_count": 16,
   "metadata": {},
   "outputs": [
    {
     "data": {
      "text/plain": [
       "array([86.20793678, 87.46083093, 95.97467516, 17.29439857, 49.11833391,\n",
       "       45.12186879, 15.13107269, 92.54657898, 10.3771496 , 97.81487403,\n",
       "       40.90260583, 83.67786347, 51.3933193 , 38.98098775, 12.18997445,\n",
       "       36.86528281, 18.89107447, 83.07210653, 87.58996523, 23.26459052,\n",
       "       45.75966079, 24.91151167, 66.74784178, 79.44130409, 65.46109028,\n",
       "       52.20479959, 89.30231642, 30.98867087, 65.46199108, 16.48026222,\n",
       "       58.98392998, 90.77675608, 91.74053467, 44.83017457, 34.50509022,\n",
       "       46.97420169, 30.55255455, 46.90271387, 82.93400222, 72.96404602,\n",
       "       62.67830362, 67.90726922, 44.92649049, 52.67493653, 18.60668099,\n",
       "       71.79021228, 73.90288147, 32.44020454, 17.00742305, 39.08013045,\n",
       "       31.20234976, 74.20359521, 22.29335282, 50.19043245, 17.77796548,\n",
       "       23.1116107 , 73.92965501, 72.64865369, 35.64243907, 33.3289301 ,\n",
       "       57.70802198, 43.46749343, 87.16303422, 11.90209801, 99.25564502,\n",
       "       80.37941699, 17.53888118, 99.9618258 , 18.86620741, 94.66637096,\n",
       "       29.26904306, 84.99217889, 67.28494995, 68.83673389, 63.57857086,\n",
       "       15.85148411, 42.22072494, 12.50329133, 86.82314107, 70.05279195,\n",
       "       89.80064883, 80.31788588, 28.85075482, 70.41116335, 28.60887556,\n",
       "       32.90360542, 67.2812596 , 51.86899307, 87.86114253, 45.55932564,\n",
       "       49.65518597, 74.64612074, 40.24953839, 39.8442859 , 43.09412114,\n",
       "       91.31522689, 80.2785739 , 87.33291656, 76.19046563, 93.53883287,\n",
       "       61.83694105, 18.80193295, 87.44417459, 20.68260849, 87.96104824,\n",
       "       60.33246992, 85.02608681, 40.07649   , 15.67077132, 35.61964223,\n",
       "       60.28100309, 34.51640638, 87.94161228, 71.82448251, 60.37089722,\n",
       "       36.88127421, 77.56902495, 61.85189279, 24.43777447, 74.72122865,\n",
       "       43.6477508 , 84.62570326, 75.08163008, 50.66692287, 89.26282407,\n",
       "       91.19940501, 89.55668815, 67.23138621, 41.07898021, 40.63727276,\n",
       "       33.93834523, 47.19501834, 94.61574367, 85.48245774, 13.06481189,\n",
       "       31.71022567, 36.35033458, 82.64212771, 72.68504686, 57.66737029,\n",
       "       20.42571469, 56.47091208, 86.20865548, 37.77670761, 74.17981732,\n",
       "       97.32293772, 98.47895941, 86.94896145, 55.10226159, 47.52887905,\n",
       "       77.573225  , 11.92950184, 55.84742804, 95.94716809, 37.900215  ,\n",
       "       19.71154219, 52.7163702 , 88.80881938, 64.02570281, 99.03182664,\n",
       "       85.84621734, 57.93432629, 94.28091268, 69.98433535, 38.46514114,\n",
       "       91.21758211, 92.46944804, 73.58929605, 49.65009809, 33.37257003,\n",
       "       91.12546888, 87.2218475 , 16.73743099, 72.64263513, 95.74590767,\n",
       "       62.36854801, 17.99902456, 91.92379439, 59.40223334, 11.10146336,\n",
       "       90.55171701, 12.61247695, 98.2317606 , 18.54073149, 68.05863251,\n",
       "       60.43185744, 53.64822781, 50.60634201, 33.18387676, 32.69600137,\n",
       "       65.22676393, 61.62497403, 11.97464754, 55.36062055, 23.78695959,\n",
       "       21.33549132, 19.21885277, 44.06029441, 84.3507879 , 51.427246  ])"
      ]
     },
     "execution_count": 16,
     "metadata": {},
     "output_type": "execute_result"
    }
   ],
   "source": [
    "x = np.random.uniform(10, 100, 200)\n",
    "\n",
    "x"
   ]
  },
  {
   "cell_type": "code",
   "execution_count": 17,
   "metadata": {},
   "outputs": [
    {
     "data": {
      "image/png": "[encoded data removed]",
      "text/plain": [
       "<Figure size 432x288 with 1 Axes>"
      ]
     },
     "metadata": {
      "needs_background": "light"
     },
     "output_type": "display_data"
    }
   ],
   "source": [
    "x = np.random.uniform(-1, 0, 1000)\n",
    "\n",
    "plt.hist(x)\n",
    "plt.show()"
   ]
  },
  {
   "cell_type": "markdown",
   "metadata": {},
   "source": [
    "### **5.2 Normal Distribution**  \n",
    "\n",
    "The NumPy normal distributions draws random samples from a normal (Gaussian) distribution (NumPy, Undatede).  The numpy.random.normal function creates a NumPy array that contains normally distributed data. Normally distributed data is shaped almost like a bell and is therefore often called the 'bell curve'.\n",
    "\n",
    "There are three parameters in the NumPy normal function: loc, scale and size. \n",
    "- the loc parameters sets the mean of the data. The default is zero.\n",
    "- the scale parameter sets the standard deviation of the data. The default is 1.\n",
    "- the size parameter determines the size and  the shape of the output.\n",
    "\n",
    "So to begin with, lets create an array with 1000 values with a mean of 50 and visualize this information."
   ]
  },
  {
   "cell_type": "code",
   "execution_count": 18,
   "metadata": {},
   "outputs": [
    {
     "data": {
      "image/png": "[encoded data removed]",
      "text/plain": [
       "<Figure size 432x288 with 1 Axes>"
      ]
     },
     "metadata": {
      "needs_background": "light"
     },
     "output_type": "display_data"
    }
   ],
   "source": [
    "x = np.random.normal(size = 1000, loc = 50)\n",
    "plt.hist(x)\n",
    "plt.show()\n"
   ]
  },
  {
   "cell_type": "markdown",
   "metadata": {},
   "source": [
    "We can see from the array created that the values center around 50.  Lets change the mean of the data from 50 to 0 by removing parameter loc = 50. NumPy will then use the fault of zero. "
   ]
  },
  {
   "cell_type": "code",
   "execution_count": 19,
   "metadata": {
    "scrolled": true
   },
   "outputs": [
    {
     "data": {
      "image/png": "[encoded data removed]",
      "text/plain": [
       "<Figure size 432x288 with 1 Axes>"
      ]
     },
     "metadata": {
      "needs_background": "light"
     },
     "output_type": "display_data"
    }
   ],
   "source": [
    "x = np.random.normal(size = 1000)\n",
    "plt.hist(x)\n",
    "plt.show()"
   ]
  },
  {
   "cell_type": "markdown",
   "metadata": {},
   "source": [
    "The data now centers around 0. Now lets change the value of the scale from the default value of 1 to 10 i.e. change the standard deviation from 1 to 10."
   ]
  },
  {
   "cell_type": "code",
   "execution_count": 20,
   "metadata": {},
   "outputs": [
    {
     "data": {
      "image/png": "[encoded data removed]",
      "text/plain": [
       "<Figure size 432x288 with 1 Axes>"
      ]
     },
     "metadata": {
      "needs_background": "light"
     },
     "output_type": "display_data"
    }
   ],
   "source": [
    "x = np.random.normal(size = 1000, scale = 10)\n",
    "plt.hist(x)\n",
    "plt.show()"
   ]
  },
  {
   "cell_type": "markdown",
   "metadata": {},
   "source": [
    "Now the data (the 1000 randomly centered numbers) centres around one with most of the data is within +10 or -10."
   ]
  },
  {
   "cell_type": "markdown",
   "metadata": {},
   "source": [
    " ### **5.3 Binomial Distribution**  \n",
    " \n",
    "Unlike a Normal Distribution, a Binomial distribution is discrete.  It is not possible to find a data value between data values. \n",
    "Samples are drawn from a binomial distribution with specified parameters, n trials and p probability of success where n an integer >= 0 and p is in the interval [0,1]. (n may be input as a float, but it is truncated to an integer in use). In other words N is the number of trials and there are only two possible outcomes in a trial.  P is probability of a sucessful/positive outcome. \n",
    "\n",
    "A Binomial Distribution must answer Yes to all of the following questions. Lets apply these questions to the example of flipping a coin.\n",
    "\n",
    "Is there a set number of trials? Yes. Represented as n below.\n",
    "Are there only two possible outcomes? Yes. Only heads/tails can result. Note the outcomes have equal probability here as they are represented as 0.5. \n",
    "Are the outcomes of one trial independent of all other trials? Yes the result of one trial has no impact on the next trial. The coin remains the same throughout the trails & tests.\n",
    "Does the probability of success remain the same throught the trail?  Yes.   \n",
    "\n",
    " \n"
   ]
  },
  {
   "cell_type": "code",
   "execution_count": 21,
   "metadata": {},
   "outputs": [
    {
     "data": {
      "image/png": "[encoded data removed]",
      "text/plain": [
       "<Figure size 432x288 with 1 Axes>"
      ]
     },
     "metadata": {
      "needs_background": "light"
     },
     "output_type": "display_data"
    }
   ],
   "source": [
    "\n",
    "\n",
    "n, p = 10, 0.5  # number of trials, probability of each trial \n",
    "s = np.random.binomial(n, p, 1000)\n",
    "# result of flipping a coin 10 times, tested 1000 times.\n",
    "plt.hist(s)\n",
    "plt.show()\n",
    "\n"
   ]
  },
  {
   "cell_type": "code",
   "execution_count": 22,
   "metadata": {},
   "outputs": [
    {
     "data": {
      "image/png": "[encoded data removed]",
      "text/plain": [
       "<Figure size 432x288 with 1 Axes>"
      ]
     },
     "metadata": {
      "needs_background": "light"
     },
     "output_type": "display_data"
    }
   ],
   "source": [
    "n, p = 10, 0.5  # number of trials, probability of each trial \n",
    "s = np.random.binomial(n, p, 20)\n",
    "# result of flipping a coin 10 times, tested 1000 times.\n",
    "plt.hist(s)\n",
    "plt.show()"
   ]
  },
  {
   "cell_type": "markdown",
   "metadata": {},
   "source": [
    " ### **5.4 random.chisquare Distribution**  \n",
    " \n",
    "'The chi-square statistical test is used to determine whether there’s a significant difference between an expected distribution and an actual distribution'(Huneycutt, 2018). The python NumPy function np.random.chisquare generates samples from the chi-squared distribution.  In the following example the function generates 10000 sample values. The parameter degree of freedom is set to 0.1 and we can see only  "
   ]
  },
  {
   "cell_type": "code",
   "execution_count": 23,
   "metadata": {},
   "outputs": [
    {
     "data": {
      "text/plain": [
       "(array([7253., 1422.,  663.,  322.,  158.,   96.,   40.,   27.,   10.,\n",
       "           9.]),\n",
       " array([9.90897856e-09, 1.15735216e+00, 2.31470431e+00, 3.47205645e+00,\n",
       "        4.62940860e+00, 5.78676075e+00, 6.94411290e+00, 8.10146504e+00,\n",
       "        9.25881719e+00, 1.04161693e+01, 1.15735215e+01]),\n",
       " <a list of 10 Patch objects>)"
      ]
     },
     "execution_count": 23,
     "metadata": {},
     "output_type": "execute_result"
    },
    {
     "data": {
      "image/png": "[encoded data removed]",
      "text/plain": [
       "<Figure size 432x288 with 1 Axes>"
      ]
     },
     "metadata": {
      "needs_background": "light"
     },
     "output_type": "display_data"
    }
   ],
   "source": [
    "x = np.random.chisquare(1,10000)\n",
    "x\n",
    "plt.hist(x)\n"
   ]
  },
  {
   "cell_type": "code",
   "execution_count": 24,
   "metadata": {},
   "outputs": [
    {
     "data": {
      "text/plain": [
       "(array([5.880e+03, 2.924e+03, 8.770e+02, 2.480e+02, 5.600e+01, 7.000e+00,\n",
       "        7.000e+00, 0.000e+00, 0.000e+00, 1.000e+00]),\n",
       " array([1.80252699e-03, 2.88231830e+00, 5.76283407e+00, 8.64334985e+00,\n",
       "        1.15238656e+01, 1.44043814e+01, 1.72848972e+01, 2.01654129e+01,\n",
       "        2.30459287e+01, 2.59264445e+01, 2.88069603e+01]),\n",
       " <a list of 10 Patch objects>)"
      ]
     },
     "execution_count": 24,
     "metadata": {},
     "output_type": "execute_result"
    },
    {
     "data": {
      "image/png": "[encoded data removed]",
      "text/plain": [
       "<Figure size 432x288 with 1 Axes>"
      ]
     },
     "metadata": {
      "needs_background": "light"
     },
     "output_type": "display_data"
    }
   ],
   "source": [
    "x = np.random.chisquare(3,10000)\n",
    "x\n",
    "plt.hist(x)"
   ]
  },
  {
   "cell_type": "markdown",
   "metadata": {},
   "source": [
    "The greater the value of parameter degree of freedom entered the further away from a chi square curve we move and the closer we move towards a normal distribution."
   ]
  },
  {
   "cell_type": "code",
   "execution_count": 25,
   "metadata": {},
   "outputs": [
    {
     "data": {
      "text/plain": [
       "(array([9.110e+02, 3.419e+03, 3.103e+03, 1.656e+03, 6.270e+02, 2.000e+02,\n",
       "        6.400e+01, 1.500e+01, 4.000e+00, 1.000e+00]),\n",
       " array([ 0.92227766,  4.74956837,  8.57685909, 12.4041498 , 16.23144051,\n",
       "        20.05873123, 23.88602194, 27.71331266, 31.54060337, 35.36789409,\n",
       "        39.1951848 ]),\n",
       " <a list of 10 Patch objects>)"
      ]
     },
     "execution_count": 25,
     "metadata": {},
     "output_type": "execute_result"
    },
    {
     "data": {
      "image/png": "[encoded data removed]",
      "text/plain": [
       "<Figure size 432x288 with 1 Axes>"
      ]
     },
     "metadata": {
      "needs_background": "light"
     },
     "output_type": "display_data"
    }
   ],
   "source": [
    "x = np.random.chisquare(10,10000)\n",
    "x\n",
    "plt.hist(x)"
   ]
  },
  {
   "cell_type": "markdown",
   "metadata": {},
   "source": [
    "## 6. Seeds\n",
    "This sections examines the use of seeds in generating random numbers. In section 3 numpy_random, we said pseudo-random number generators are completely deterministic and operate by algorithm. Moreover, numpy_random, through the use of seeds, makes code 'repeatable'(Sharpsight, Undated, Unpaged). \n",
    "\n",
    "If you use the same seed then you get the output. You can generate and use the same pseudo random numbers repeatedly. Thereby, making it possible to perform the same tests and yield the same results repeatedly. \n",
    "\n",
    "### 6.1\n",
    "### numpy.random.seed\n",
    "Lets get started by generating a pseudo random number using the between zero and one using the NumPy random random function (np.random.random) and using seed 0.\n"
   ]
  },
  {
   "cell_type": "code",
   "execution_count": 55,
   "metadata": {},
   "outputs": [
    {
     "data": {
      "text/plain": [
       "0.5488135039273248"
      ]
     },
     "execution_count": 55,
     "metadata": {},
     "output_type": "execute_result"
    }
   ],
   "source": [
    "np.random.seed(0)\n",
    "np.random.random()"
   ]
  },
  {
   "cell_type": "markdown",
   "metadata": {},
   "source": [
    "A float is generated. The random number is a probability. Now lets repeat the process using the same code and the same seed:"
   ]
  },
  {
   "cell_type": "code",
   "execution_count": 56,
   "metadata": {},
   "outputs": [
    {
     "data": {
      "text/plain": [
       "0.5488135039273248"
      ]
     },
     "execution_count": 56,
     "metadata": {},
     "output_type": "execute_result"
    }
   ],
   "source": [
    "np.random.seed(0)\n",
    "np.random.random()"
   ]
  },
  {
   "cell_type": "markdown",
   "metadata": {},
   "source": [
    "Notice exactly the same number is generated. Now lets change the seed to 67 and see what happens:"
   ]
  },
  {
   "cell_type": "code",
   "execution_count": 59,
   "metadata": {},
   "outputs": [
    {
     "data": {
      "text/plain": [
       "0.5458514299349786"
      ]
     },
     "execution_count": 59,
     "metadata": {},
     "output_type": "execute_result"
    }
   ],
   "source": [
    "np.random.seed(67)\n",
    "np.random.random()"
   ]
  },
  {
   "cell_type": "markdown",
   "metadata": {},
   "source": [
    "NumPy random generates a different random float and again we can repeat this output using the same code with the same seed 67 again."
   ]
  },
  {
   "cell_type": "code",
   "execution_count": 62,
   "metadata": {},
   "outputs": [
    {
     "data": {
      "text/plain": [
       "0.5458514299349786"
      ]
     },
     "execution_count": 62,
     "metadata": {},
     "output_type": "execute_result"
    }
   ],
   "source": [
    "np.random.seed(67)\n",
    "np.random.random()\n"
   ]
  },
  {
   "cell_type": "markdown",
   "metadata": {},
   "source": [
    "What happens if we do not deliberately set the seed number? :"
   ]
  },
  {
   "cell_type": "code",
   "execution_count": 67,
   "metadata": {},
   "outputs": [
    {
     "data": {
      "text/plain": [
       "0.00011437481734488664"
      ]
     },
     "execution_count": 67,
     "metadata": {},
     "output_type": "execute_result"
    }
   ],
   "source": [
    "np.random.random()"
   ]
  },
  {
   "cell_type": "markdown",
   "metadata": {},
   "source": [
    "NumPy random selects its own seed number and then a different float is generated. The code is then not repeatable as we cannot guarentee the same output each time. Therefore, for NumPy random code to be repeatable the seed must be set explicitly each time the code is run."
   ]
  },
  {
   "cell_type": "code",
   "execution_count": 68,
   "metadata": {},
   "outputs": [
    {
     "data": {
      "text/plain": [
       "0.30233257263183977"
      ]
     },
     "execution_count": 68,
     "metadata": {},
     "output_type": "execute_result"
    }
   ],
   "source": [
    "np.random.random()"
   ]
  },
  {
   "cell_type": "markdown",
   "metadata": {},
   "source": [
    "### 6.2\n",
    "### numpy.random.randomstate\n"
   ]
  },
  {
   "cell_type": "code",
   "execution_count": null,
   "metadata": {},
   "outputs": [],
   "source": []
  },
  {
   "cell_type": "code",
   "execution_count": null,
   "metadata": {},
   "outputs": [],
   "source": []
  },
  {
   "cell_type": "markdown",
   "metadata": {},
   "source": [
    "## References\n",
    "Huneycutt, J. (2018) Running Chi-Square Tests with Die Roll Data in Python, Towards Data Science https://towardsdatascience.com/running-chi-square-tests-in-python-with-die-roll-data-b9903817c51b\n",
    "NumPy (Undateda), https://numpy.org/#  \n",
    "NumPy (Undatedb), https://numpy.org/devdocs/user/quickstart.html\n",
    "Numpy (Undatedc), https://numpy.org/doc/1.15/reference/generated/numpy.random.rand.html#numpy.random.rand\n",
    "NumPy (Updatedb), NumPy User Guide, Manual 1.15, Reference https://numpy.org/doc/1.15/reference/routines.random.html\n",
    "Investopedia, (Undated) https://www.investopedia.com/terms/u/uniform-distribution.asp\n",
    "Numpy (Undatede), https://numpy.org/doc/1.15/reference/generated/numpy.random.normal.html#numpy.random.normal\n",
    "Stattreck (undated), What is a Probability Distribution? https://stattrek.com/probability/probability-distribution.aspx\n",
    "\n",
    "NumPy (Undatedf) https://numpy.org/doc/1.17/reference/random/generated/numpy.random.Generator.shuffle.html#numpy-random-generator-shuffle\n",
    "\n",
    "Sharpsight,(2019) NumPy Random Seed Explained, https://www.sharpsightlabs.com/blog/numpy-random-seed/\n",
    "\n"
   ]
  },
  {
   "cell_type": "code",
   "execution_count": null,
   "metadata": {},
   "outputs": [],
   "source": []
  }
 ],
 "metadata": {
  "kernelspec": {
   "display_name": "Python 3",
   "language": "python",
   "name": "python3"
  },
  "language_info": {
   "codemirror_mode": {
    "name": "ipython",
    "version": 3
   },
   "file_extension": ".py",
   "mimetype": "text/x-python",
   "name": "python",
   "nbconvert_exporter": "python",
   "pygments_lexer": "ipython3",
   "version": "3.7.2"
  }
 },
 "nbformat": 4,
 "nbformat_minor": 2
}
